{
  "nbformat": 4,
  "nbformat_minor": 0,
  "metadata": {
    "colab": {
      "name": "Capstone-MJ.ipynb",
      "provenance": [],
      "collapsed_sections": []
    },
    "kernelspec": {
      "name": "python3",
      "display_name": "Python 3"
    }
  },
  "cells": [
    {
      "cell_type": "code",
      "metadata": {
        "id": "hppcTcqhoflG",
        "colab_type": "code",
        "colab": {
          "base_uri": "https://localhost:8080/",
          "height": 34
        },
        "outputId": "a41df74b-b4c1-4125-aaad-a2613c6ea25a"
      },
      "source": [
        "## Mount the google drive to read the data file \n",
        "from google.colab import drive\n",
        "drive.mount('/content/drive/')"
      ],
      "execution_count": 1,
      "outputs": [
        {
          "output_type": "stream",
          "text": [
            "Drive already mounted at /content/drive/; to attempt to forcibly remount, call drive.mount(\"/content/drive/\", force_remount=True).\n"
          ],
          "name": "stdout"
        }
      ]
    },
    {
      "cell_type": "code",
      "metadata": {
        "id": "f-thDcAXZmSZ",
        "colab_type": "code",
        "colab": {}
      },
      "source": [
        "import matplotlib.pyplot as plt"
      ],
      "execution_count": 2,
      "outputs": []
    },
    {
      "cell_type": "code",
      "metadata": {
        "id": "NF8fgmnFpByd",
        "colab_type": "code",
        "colab": {}
      },
      "source": [
        "#Set your project path \n",
        "\n",
        "import os\n",
        "project_path =  '/content/drive/My Drive/Colab Notebooks/caps/'"
      ],
      "execution_count": 3,
      "outputs": []
    },
    {
      "cell_type": "code",
      "metadata": {
        "id": "Soj8k78LpRoL",
        "colab_type": "code",
        "colab": {}
      },
      "source": [
        "os.chdir(project_path)"
      ],
      "execution_count": 4,
      "outputs": []
    },
    {
      "cell_type": "code",
      "metadata": {
        "id": "buVWOFg2pUfX",
        "colab_type": "code",
        "colab": {
          "base_uri": "https://localhost:8080/",
          "height": 34
        },
        "outputId": "903444ce-3cd7-4d4c-f9b0-9fe1b8b3c659"
      },
      "source": [
        "pwd"
      ],
      "execution_count": 5,
      "outputs": [
        {
          "output_type": "execute_result",
          "data": {
            "text/plain": [
              "'/content/drive/My Drive/Colab Notebooks/caps'"
            ]
          },
          "metadata": {
            "tags": []
          },
          "execution_count": 5
        }
      ]
    },
    {
      "cell_type": "code",
      "metadata": {
        "id": "RVlE510Hpd08",
        "colab_type": "code",
        "colab": {
          "base_uri": "https://localhost:8080/",
          "height": 272
        },
        "outputId": "09e982be-7c81-43f3-d015-8a1e75378752"
      },
      "source": [
        "ls"
      ],
      "execution_count": 6,
      "outputs": [
        {
          "output_type": "stream",
          "text": [
            "input_data.xlsx              ticketCategorization2-001.h5\n",
            "ticketCategorization-003.h5  ticketCategorization2-005.h5\n",
            "ticketCategorization-004.h5  ticketCategorization2-007.h5\n",
            "ticketCategorization-006.h5  ticketCategorization2-009.h5\n",
            "ticketCategorization-010.h5  ticketCategorization2-011.h5\n",
            "ticketCategorization-012.h5  ticketCategorization2-012.h5\n",
            "ticketCategorization-013.h5  ticketCategorization2-013.h5\n",
            "ticketCategorization-016.h5  ticketCategorization2-020.h5\n",
            "ticketCategorization-017.h5  ticketCategorizationC2-001.h5\n",
            "ticketCategorization-019.h5  ticketCategorizationC2-002.h5\n",
            "ticketCategorization-023.h5  ticketCategorizationC2-003.h5\n",
            "ticketCategorization-025.h5  ticketCategorizationC2-004.h5\n",
            "ticketCategorization-027.h5  ticketCategorizationC2-005.h5\n",
            "ticketCategorization-029.h5  ticketCategorizationC2-007.h5\n",
            "ticketCategorization-030.h5\n"
          ],
          "name": "stdout"
        }
      ]
    },
    {
      "cell_type": "code",
      "metadata": {
        "id": "mkwN0e8bpQgE",
        "colab_type": "code",
        "colab": {
          "base_uri": "https://localhost:8080/",
          "height": 413
        },
        "outputId": "6097a822-fbcb-4ab4-ac17-38c1adaada94"
      },
      "source": [
        "import pandas as pd\n",
        "import tensorflow as tf\n",
        "import matplotlib.pyplot as plt\n",
        "import seaborn as sns\n",
        "import numpy as np\n",
        "from scipy.stats import norm\n",
        "from sklearn.preprocessing import StandardScaler\n",
        "from scipy import stats\n",
        "import warnings\n",
        "warnings.filterwarnings('ignore')\n",
        "%matplotlib inline\n",
        "from pandas import read_excel\n",
        "\n",
        "### Read the input file containing the ticket records to be building the models\n",
        "df =  read_excel('./input_data.xlsx', 'Sheet1')\n",
        "df.head(10)"
      ],
      "execution_count": 7,
      "outputs": [
        {
          "output_type": "stream",
          "text": [
            "/usr/local/lib/python3.6/dist-packages/statsmodels/tools/_testing.py:19: FutureWarning: pandas.util.testing is deprecated. Use the functions in the public API at pandas.testing instead.\n",
            "  import pandas.util.testing as tm\n"
          ],
          "name": "stderr"
        },
        {
          "output_type": "execute_result",
          "data": {
            "text/html": [
              "<div>\n",
              "<style scoped>\n",
              "    .dataframe tbody tr th:only-of-type {\n",
              "        vertical-align: middle;\n",
              "    }\n",
              "\n",
              "    .dataframe tbody tr th {\n",
              "        vertical-align: top;\n",
              "    }\n",
              "\n",
              "    .dataframe thead th {\n",
              "        text-align: right;\n",
              "    }\n",
              "</style>\n",
              "<table border=\"1\" class=\"dataframe\">\n",
              "  <thead>\n",
              "    <tr style=\"text-align: right;\">\n",
              "      <th></th>\n",
              "      <th>Short description</th>\n",
              "      <th>Description</th>\n",
              "      <th>Caller</th>\n",
              "      <th>Assignment group</th>\n",
              "    </tr>\n",
              "  </thead>\n",
              "  <tbody>\n",
              "    <tr>\n",
              "      <th>0</th>\n",
              "      <td>login issue</td>\n",
              "      <td>-verified user details.(employee# &amp; manager na...</td>\n",
              "      <td>spxjnwir pjlcoqds</td>\n",
              "      <td>GRP_0</td>\n",
              "    </tr>\n",
              "    <tr>\n",
              "      <th>1</th>\n",
              "      <td>outlook</td>\n",
              "      <td>\\r\\n\\r\\nreceived from: hmjdrvpb.komuaywn@gmail...</td>\n",
              "      <td>hmjdrvpb komuaywn</td>\n",
              "      <td>GRP_0</td>\n",
              "    </tr>\n",
              "    <tr>\n",
              "      <th>2</th>\n",
              "      <td>cant log in to vpn</td>\n",
              "      <td>\\r\\n\\r\\nreceived from: eylqgodm.ybqkwiam@gmail...</td>\n",
              "      <td>eylqgodm ybqkwiam</td>\n",
              "      <td>GRP_0</td>\n",
              "    </tr>\n",
              "    <tr>\n",
              "      <th>3</th>\n",
              "      <td>unable to access hr_tool page</td>\n",
              "      <td>unable to access hr_tool page</td>\n",
              "      <td>xbkucsvz gcpydteq</td>\n",
              "      <td>GRP_0</td>\n",
              "    </tr>\n",
              "    <tr>\n",
              "      <th>4</th>\n",
              "      <td>skype error</td>\n",
              "      <td>skype error</td>\n",
              "      <td>owlgqjme qhcozdfx</td>\n",
              "      <td>GRP_0</td>\n",
              "    </tr>\n",
              "    <tr>\n",
              "      <th>5</th>\n",
              "      <td>unable to log in to engineering tool and skype</td>\n",
              "      <td>unable to log in to engineering tool and skype</td>\n",
              "      <td>eflahbxn ltdgrvkz</td>\n",
              "      <td>GRP_0</td>\n",
              "    </tr>\n",
              "    <tr>\n",
              "      <th>6</th>\n",
              "      <td>event: critical:HostName_221.company.com the v...</td>\n",
              "      <td>event: critical:HostName_221.company.com the v...</td>\n",
              "      <td>jyoqwxhz clhxsoqy</td>\n",
              "      <td>GRP_1</td>\n",
              "    </tr>\n",
              "    <tr>\n",
              "      <th>7</th>\n",
              "      <td>ticket_no1550391- employment status - new non-...</td>\n",
              "      <td>ticket_no1550391- employment status - new non-...</td>\n",
              "      <td>eqzibjhw ymebpoih</td>\n",
              "      <td>GRP_0</td>\n",
              "    </tr>\n",
              "    <tr>\n",
              "      <th>8</th>\n",
              "      <td>unable to disable add ins on outlook</td>\n",
              "      <td>unable to disable add ins on outlook</td>\n",
              "      <td>mdbegvct dbvichlg</td>\n",
              "      <td>GRP_0</td>\n",
              "    </tr>\n",
              "    <tr>\n",
              "      <th>9</th>\n",
              "      <td>ticket update on inplant_874773</td>\n",
              "      <td>ticket update on inplant_874773</td>\n",
              "      <td>fumkcsji sarmtlhy</td>\n",
              "      <td>GRP_0</td>\n",
              "    </tr>\n",
              "  </tbody>\n",
              "</table>\n",
              "</div>"
            ],
            "text/plain": [
              "                                   Short description  ... Assignment group\n",
              "0                                        login issue  ...            GRP_0\n",
              "1                                            outlook  ...            GRP_0\n",
              "2                                 cant log in to vpn  ...            GRP_0\n",
              "3                      unable to access hr_tool page  ...            GRP_0\n",
              "4                                       skype error   ...            GRP_0\n",
              "5     unable to log in to engineering tool and skype  ...            GRP_0\n",
              "6  event: critical:HostName_221.company.com the v...  ...            GRP_1\n",
              "7  ticket_no1550391- employment status - new non-...  ...            GRP_0\n",
              "8               unable to disable add ins on outlook  ...            GRP_0\n",
              "9                    ticket update on inplant_874773  ...            GRP_0\n",
              "\n",
              "[10 rows x 4 columns]"
            ]
          },
          "metadata": {
            "tags": []
          },
          "execution_count": 7
        }
      ]
    },
    {
      "cell_type": "code",
      "metadata": {
        "id": "2ionqmXBpTjd",
        "colab_type": "code",
        "colab": {}
      },
      "source": [
        "## Check the shape of the data records in the file"
      ],
      "execution_count": 8,
      "outputs": []
    },
    {
      "cell_type": "code",
      "metadata": {
        "id": "5GACtZyZqbc2",
        "colab_type": "code",
        "colab": {
          "base_uri": "https://localhost:8080/",
          "height": 34
        },
        "outputId": "9e6e45ad-126d-4323-a319-d28a326aa2bd"
      },
      "source": [
        "df.shape"
      ],
      "execution_count": 9,
      "outputs": [
        {
          "output_type": "execute_result",
          "data": {
            "text/plain": [
              "(8500, 4)"
            ]
          },
          "metadata": {
            "tags": []
          },
          "execution_count": 9
        }
      ]
    },
    {
      "cell_type": "code",
      "metadata": {
        "id": "9VjDTG3Cp3fh",
        "colab_type": "code",
        "colab": {}
      },
      "source": [
        "## Check the contents in the file"
      ],
      "execution_count": 10,
      "outputs": []
    },
    {
      "cell_type": "code",
      "metadata": {
        "id": "T-k2nqK4q9Cv",
        "colab_type": "code",
        "colab": {
          "base_uri": "https://localhost:8080/",
          "height": 204
        },
        "outputId": "56037388-7002-4dc2-f3fd-fb546dc51723"
      },
      "source": [
        "df.head()"
      ],
      "execution_count": 11,
      "outputs": [
        {
          "output_type": "execute_result",
          "data": {
            "text/html": [
              "<div>\n",
              "<style scoped>\n",
              "    .dataframe tbody tr th:only-of-type {\n",
              "        vertical-align: middle;\n",
              "    }\n",
              "\n",
              "    .dataframe tbody tr th {\n",
              "        vertical-align: top;\n",
              "    }\n",
              "\n",
              "    .dataframe thead th {\n",
              "        text-align: right;\n",
              "    }\n",
              "</style>\n",
              "<table border=\"1\" class=\"dataframe\">\n",
              "  <thead>\n",
              "    <tr style=\"text-align: right;\">\n",
              "      <th></th>\n",
              "      <th>Short description</th>\n",
              "      <th>Description</th>\n",
              "      <th>Caller</th>\n",
              "      <th>Assignment group</th>\n",
              "    </tr>\n",
              "  </thead>\n",
              "  <tbody>\n",
              "    <tr>\n",
              "      <th>0</th>\n",
              "      <td>login issue</td>\n",
              "      <td>-verified user details.(employee# &amp; manager na...</td>\n",
              "      <td>spxjnwir pjlcoqds</td>\n",
              "      <td>GRP_0</td>\n",
              "    </tr>\n",
              "    <tr>\n",
              "      <th>1</th>\n",
              "      <td>outlook</td>\n",
              "      <td>\\r\\n\\r\\nreceived from: hmjdrvpb.komuaywn@gmail...</td>\n",
              "      <td>hmjdrvpb komuaywn</td>\n",
              "      <td>GRP_0</td>\n",
              "    </tr>\n",
              "    <tr>\n",
              "      <th>2</th>\n",
              "      <td>cant log in to vpn</td>\n",
              "      <td>\\r\\n\\r\\nreceived from: eylqgodm.ybqkwiam@gmail...</td>\n",
              "      <td>eylqgodm ybqkwiam</td>\n",
              "      <td>GRP_0</td>\n",
              "    </tr>\n",
              "    <tr>\n",
              "      <th>3</th>\n",
              "      <td>unable to access hr_tool page</td>\n",
              "      <td>unable to access hr_tool page</td>\n",
              "      <td>xbkucsvz gcpydteq</td>\n",
              "      <td>GRP_0</td>\n",
              "    </tr>\n",
              "    <tr>\n",
              "      <th>4</th>\n",
              "      <td>skype error</td>\n",
              "      <td>skype error</td>\n",
              "      <td>owlgqjme qhcozdfx</td>\n",
              "      <td>GRP_0</td>\n",
              "    </tr>\n",
              "  </tbody>\n",
              "</table>\n",
              "</div>"
            ],
            "text/plain": [
              "               Short description  ... Assignment group\n",
              "0                    login issue  ...            GRP_0\n",
              "1                        outlook  ...            GRP_0\n",
              "2             cant log in to vpn  ...            GRP_0\n",
              "3  unable to access hr_tool page  ...            GRP_0\n",
              "4                   skype error   ...            GRP_0\n",
              "\n",
              "[5 rows x 4 columns]"
            ]
          },
          "metadata": {
            "tags": []
          },
          "execution_count": 11
        }
      ]
    },
    {
      "cell_type": "code",
      "metadata": {
        "id": "PSxBxJ-Vp1Zs",
        "colab_type": "code",
        "colab": {
          "base_uri": "https://localhost:8080/",
          "height": 173
        },
        "outputId": "39ba026a-fe69-40ca-8ec2-fd55598c9724"
      },
      "source": [
        "### Describe the read dataframe\n",
        "df.describe().transpose()"
      ],
      "execution_count": 12,
      "outputs": [
        {
          "output_type": "execute_result",
          "data": {
            "text/html": [
              "<div>\n",
              "<style scoped>\n",
              "    .dataframe tbody tr th:only-of-type {\n",
              "        vertical-align: middle;\n",
              "    }\n",
              "\n",
              "    .dataframe tbody tr th {\n",
              "        vertical-align: top;\n",
              "    }\n",
              "\n",
              "    .dataframe thead th {\n",
              "        text-align: right;\n",
              "    }\n",
              "</style>\n",
              "<table border=\"1\" class=\"dataframe\">\n",
              "  <thead>\n",
              "    <tr style=\"text-align: right;\">\n",
              "      <th></th>\n",
              "      <th>count</th>\n",
              "      <th>unique</th>\n",
              "      <th>top</th>\n",
              "      <th>freq</th>\n",
              "    </tr>\n",
              "  </thead>\n",
              "  <tbody>\n",
              "    <tr>\n",
              "      <th>Short description</th>\n",
              "      <td>8492</td>\n",
              "      <td>7481</td>\n",
              "      <td>password reset</td>\n",
              "      <td>38</td>\n",
              "    </tr>\n",
              "    <tr>\n",
              "      <th>Description</th>\n",
              "      <td>8499</td>\n",
              "      <td>7817</td>\n",
              "      <td>the</td>\n",
              "      <td>56</td>\n",
              "    </tr>\n",
              "    <tr>\n",
              "      <th>Caller</th>\n",
              "      <td>8500</td>\n",
              "      <td>2950</td>\n",
              "      <td>bpctwhsn kzqsbmtp</td>\n",
              "      <td>810</td>\n",
              "    </tr>\n",
              "    <tr>\n",
              "      <th>Assignment group</th>\n",
              "      <td>8500</td>\n",
              "      <td>74</td>\n",
              "      <td>GRP_0</td>\n",
              "      <td>3976</td>\n",
              "    </tr>\n",
              "  </tbody>\n",
              "</table>\n",
              "</div>"
            ],
            "text/plain": [
              "                  count unique                top  freq\n",
              "Short description  8492   7481     password reset    38\n",
              "Description        8499   7817                the    56\n",
              "Caller             8500   2950  bpctwhsn kzqsbmtp   810\n",
              "Assignment group   8500     74              GRP_0  3976"
            ]
          },
          "metadata": {
            "tags": []
          },
          "execution_count": 12
        }
      ]
    },
    {
      "cell_type": "code",
      "metadata": {
        "id": "HmM7fGgtqGep",
        "colab_type": "code",
        "colab": {
          "base_uri": "https://localhost:8080/",
          "height": 102
        },
        "outputId": "be509eb1-44af-4f71-81b8-795bfd72fb4e"
      },
      "source": [
        "## Check the data types\n",
        "df.dtypes"
      ],
      "execution_count": 13,
      "outputs": [
        {
          "output_type": "execute_result",
          "data": {
            "text/plain": [
              "Short description    object\n",
              "Description          object\n",
              "Caller               object\n",
              "Assignment group     object\n",
              "dtype: object"
            ]
          },
          "metadata": {
            "tags": []
          },
          "execution_count": 13
        }
      ]
    },
    {
      "cell_type": "code",
      "metadata": {
        "id": "FOzO4ETrqc0Z",
        "colab_type": "code",
        "colab": {
          "base_uri": "https://localhost:8080/",
          "height": 221
        },
        "outputId": "10afb5f7-81ac-41de-dda5-1ea18fee8ecf"
      },
      "source": [
        "## let us count the tickets by group\n",
        "df['Assignment group'].value_counts()"
      ],
      "execution_count": 14,
      "outputs": [
        {
          "output_type": "execute_result",
          "data": {
            "text/plain": [
              "GRP_0     3976\n",
              "GRP_8      661\n",
              "GRP_24     289\n",
              "GRP_12     257\n",
              "GRP_9      252\n",
              "          ... \n",
              "GRP_35       1\n",
              "GRP_73       1\n",
              "GRP_67       1\n",
              "GRP_64       1\n",
              "GRP_61       1\n",
              "Name: Assignment group, Length: 74, dtype: int64"
            ]
          },
          "metadata": {
            "tags": []
          },
          "execution_count": 14
        }
      ]
    },
    {
      "cell_type": "markdown",
      "metadata": {
        "id": "jVYbPfe0qVdE",
        "colab_type": "text"
      },
      "source": [
        "There are 74 categories of tickets to be classifed"
      ]
    },
    {
      "cell_type": "code",
      "metadata": {
        "id": "1899GmmQrEE5",
        "colab_type": "code",
        "colab": {
          "base_uri": "https://localhost:8080/",
          "height": 204
        },
        "outputId": "4b337272-ce83-4f2d-a074-f3a9d01171bf"
      },
      "source": [
        "## dataframe input\n",
        "df.info()"
      ],
      "execution_count": 15,
      "outputs": [
        {
          "output_type": "stream",
          "text": [
            "<class 'pandas.core.frame.DataFrame'>\n",
            "RangeIndex: 8500 entries, 0 to 8499\n",
            "Data columns (total 4 columns):\n",
            " #   Column             Non-Null Count  Dtype \n",
            "---  ------             --------------  ----- \n",
            " 0   Short description  8492 non-null   object\n",
            " 1   Description        8499 non-null   object\n",
            " 2   Caller             8500 non-null   object\n",
            " 3   Assignment group   8500 non-null   object\n",
            "dtypes: object(4)\n",
            "memory usage: 265.8+ KB\n"
          ],
          "name": "stdout"
        }
      ]
    },
    {
      "cell_type": "code",
      "metadata": {
        "id": "shkudJjdrFdb",
        "colab_type": "code",
        "colab": {
          "base_uri": "https://localhost:8080/",
          "height": 632
        },
        "outputId": "55f9c5de-8478-4c35-bf68-8a5b6812a746"
      },
      "source": [
        "# Visualize the classfication groups\n",
        "group_df = df.groupby(\"Assignment group\")\n",
        "\n",
        "plt.figure(figsize=(15,10))\n",
        "group_df.size().sort_values(ascending=False).plot.bar()\n",
        "plt.xticks(rotation=50)\n",
        "plt.xlabel(\"Group Names\")\n",
        "plt.ylabel(\"Count of Tickets\")\n",
        "plt.show()"
      ],
      "execution_count": 16,
      "outputs": [
        {
          "output_type": "display_data",
          "data": {
            "image/png": "[encoded data removed]",
            "text/plain": [
              "<Figure size 1080x720 with 1 Axes>"
            ]
          },
          "metadata": {
            "tags": [],
            "needs_background": "light"
          }
        }
      ]
    },
    {
      "cell_type": "code",
      "metadata": {
        "id": "8zC5EinRttf_",
        "colab_type": "code",
        "colab": {}
      },
      "source": [
        "## Create the copy incase of future need\n",
        "df_copy = df.copy()\n"
      ],
      "execution_count": 17,
      "outputs": []
    },
    {
      "cell_type": "markdown",
      "metadata": {
        "id": "v39-_fLcyWCG",
        "colab_type": "text"
      },
      "source": [
        "**PRE-PROCESSING STEPS**\n",
        "- Replacing Nan Values with Blank text string\n",
        "- Grouping The Groups with less than 50 Tickets to seperate group\n",
        "- Removing Duplicate Rows\n",
        "- Group Description, Short Description and Caller to one group\n",
        "- Text pre-processing on new text field"
      ]
    },
    {
      "cell_type": "code",
      "metadata": {
        "id": "8GE7zgU7zgcN",
        "colab_type": "code",
        "colab": {
          "base_uri": "https://localhost:8080/",
          "height": 173
        },
        "outputId": "6b2e7b1e-75ee-4da8-e235-5a610fe92b95"
      },
      "source": [
        "#Before Removing Nan\n",
        "df.describe().transpose()"
      ],
      "execution_count": 18,
      "outputs": [
        {
          "output_type": "execute_result",
          "data": {
            "text/html": [
              "<div>\n",
              "<style scoped>\n",
              "    .dataframe tbody tr th:only-of-type {\n",
              "        vertical-align: middle;\n",
              "    }\n",
              "\n",
              "    .dataframe tbody tr th {\n",
              "        vertical-align: top;\n",
              "    }\n",
              "\n",
              "    .dataframe thead th {\n",
              "        text-align: right;\n",
              "    }\n",
              "</style>\n",
              "<table border=\"1\" class=\"dataframe\">\n",
              "  <thead>\n",
              "    <tr style=\"text-align: right;\">\n",
              "      <th></th>\n",
              "      <th>count</th>\n",
              "      <th>unique</th>\n",
              "      <th>top</th>\n",
              "      <th>freq</th>\n",
              "    </tr>\n",
              "  </thead>\n",
              "  <tbody>\n",
              "    <tr>\n",
              "      <th>Short description</th>\n",
              "      <td>8492</td>\n",
              "      <td>7481</td>\n",
              "      <td>password reset</td>\n",
              "      <td>38</td>\n",
              "    </tr>\n",
              "    <tr>\n",
              "      <th>Description</th>\n",
              "      <td>8499</td>\n",
              "      <td>7817</td>\n",
              "      <td>the</td>\n",
              "      <td>56</td>\n",
              "    </tr>\n",
              "    <tr>\n",
              "      <th>Caller</th>\n",
              "      <td>8500</td>\n",
              "      <td>2950</td>\n",
              "      <td>bpctwhsn kzqsbmtp</td>\n",
              "      <td>810</td>\n",
              "    </tr>\n",
              "    <tr>\n",
              "      <th>Assignment group</th>\n",
              "      <td>8500</td>\n",
              "      <td>74</td>\n",
              "      <td>GRP_0</td>\n",
              "      <td>3976</td>\n",
              "    </tr>\n",
              "  </tbody>\n",
              "</table>\n",
              "</div>"
            ],
            "text/plain": [
              "                  count unique                top  freq\n",
              "Short description  8492   7481     password reset    38\n",
              "Description        8499   7817                the    56\n",
              "Caller             8500   2950  bpctwhsn kzqsbmtp   810\n",
              "Assignment group   8500     74              GRP_0  3976"
            ]
          },
          "metadata": {
            "tags": []
          },
          "execution_count": 18
        }
      ]
    },
    {
      "cell_type": "markdown",
      "metadata": {
        "id": "yI3Sf-dkrtrd",
        "colab_type": "text"
      },
      "source": [
        "There are missing values for short description and description fields"
      ]
    },
    {
      "cell_type": "code",
      "metadata": {
        "id": "UdnZusAxsmDM",
        "colab_type": "code",
        "colab": {
          "base_uri": "https://localhost:8080/",
          "height": 328
        },
        "outputId": "8e413b86-6963-4ca7-863a-4d0e89a408ea"
      },
      "source": [
        "df[df.isnull().any(axis=1)]"
      ],
      "execution_count": 19,
      "outputs": [
        {
          "output_type": "execute_result",
          "data": {
            "text/html": [
              "<div>\n",
              "<style scoped>\n",
              "    .dataframe tbody tr th:only-of-type {\n",
              "        vertical-align: middle;\n",
              "    }\n",
              "\n",
              "    .dataframe tbody tr th {\n",
              "        vertical-align: top;\n",
              "    }\n",
              "\n",
              "    .dataframe thead th {\n",
              "        text-align: right;\n",
              "    }\n",
              "</style>\n",
              "<table border=\"1\" class=\"dataframe\">\n",
              "  <thead>\n",
              "    <tr style=\"text-align: right;\">\n",
              "      <th></th>\n",
              "      <th>Short description</th>\n",
              "      <th>Description</th>\n",
              "      <th>Caller</th>\n",
              "      <th>Assignment group</th>\n",
              "    </tr>\n",
              "  </thead>\n",
              "  <tbody>\n",
              "    <tr>\n",
              "      <th>2604</th>\n",
              "      <td>NaN</td>\n",
              "      <td>\\r\\n\\r\\nreceived from: ohdrnswl.rezuibdt@gmail...</td>\n",
              "      <td>ohdrnswl rezuibdt</td>\n",
              "      <td>GRP_34</td>\n",
              "    </tr>\n",
              "    <tr>\n",
              "      <th>3383</th>\n",
              "      <td>NaN</td>\n",
              "      <td>\\r\\n-connected to the user system using teamvi...</td>\n",
              "      <td>qftpazns fxpnytmk</td>\n",
              "      <td>GRP_0</td>\n",
              "    </tr>\n",
              "    <tr>\n",
              "      <th>3906</th>\n",
              "      <td>NaN</td>\n",
              "      <td>-user unable  tologin to vpn.\\r\\n-connected to...</td>\n",
              "      <td>awpcmsey ctdiuqwe</td>\n",
              "      <td>GRP_0</td>\n",
              "    </tr>\n",
              "    <tr>\n",
              "      <th>3910</th>\n",
              "      <td>NaN</td>\n",
              "      <td>-user unable  tologin to vpn.\\r\\n-connected to...</td>\n",
              "      <td>rhwsmefo tvphyura</td>\n",
              "      <td>GRP_0</td>\n",
              "    </tr>\n",
              "    <tr>\n",
              "      <th>3915</th>\n",
              "      <td>NaN</td>\n",
              "      <td>-user unable  tologin to vpn.\\r\\n-connected to...</td>\n",
              "      <td>hxripljo efzounig</td>\n",
              "      <td>GRP_0</td>\n",
              "    </tr>\n",
              "    <tr>\n",
              "      <th>3921</th>\n",
              "      <td>NaN</td>\n",
              "      <td>-user unable  tologin to vpn.\\r\\n-connected to...</td>\n",
              "      <td>cziadygo veiosxby</td>\n",
              "      <td>GRP_0</td>\n",
              "    </tr>\n",
              "    <tr>\n",
              "      <th>3924</th>\n",
              "      <td>NaN</td>\n",
              "      <td>name:wvqgbdhm fwchqjor\\nlanguage:\\nbrowser:mic...</td>\n",
              "      <td>wvqgbdhm fwchqjor</td>\n",
              "      <td>GRP_0</td>\n",
              "    </tr>\n",
              "    <tr>\n",
              "      <th>4341</th>\n",
              "      <td>NaN</td>\n",
              "      <td>\\r\\n\\r\\nreceived from: eqmuniov.ehxkcbgj@gmail...</td>\n",
              "      <td>eqmuniov ehxkcbgj</td>\n",
              "      <td>GRP_0</td>\n",
              "    </tr>\n",
              "    <tr>\n",
              "      <th>4395</th>\n",
              "      <td>i am locked out of skype</td>\n",
              "      <td>NaN</td>\n",
              "      <td>viyglzfo ajtfzpkb</td>\n",
              "      <td>GRP_0</td>\n",
              "    </tr>\n",
              "  </tbody>\n",
              "</table>\n",
              "</div>"
            ],
            "text/plain": [
              "             Short description  ... Assignment group\n",
              "2604                       NaN  ...           GRP_34\n",
              "3383                       NaN  ...            GRP_0\n",
              "3906                       NaN  ...            GRP_0\n",
              "3910                       NaN  ...            GRP_0\n",
              "3915                       NaN  ...            GRP_0\n",
              "3921                       NaN  ...            GRP_0\n",
              "3924                       NaN  ...            GRP_0\n",
              "4341                       NaN  ...            GRP_0\n",
              "4395  i am locked out of skype  ...            GRP_0\n",
              "\n",
              "[9 rows x 4 columns]"
            ]
          },
          "metadata": {
            "tags": []
          },
          "execution_count": 19
        }
      ]
    },
    {
      "cell_type": "code",
      "metadata": {
        "id": "aWJoxqYj0o9N",
        "colab_type": "code",
        "colab": {}
      },
      "source": [
        "import numpy as np\n",
        "# Replace all Nan entries with empty string\n",
        "df = df.replace(np.nan, '', regex=True)"
      ],
      "execution_count": 20,
      "outputs": []
    },
    {
      "cell_type": "code",
      "metadata": {
        "id": "VrL5gWpMtMBW",
        "colab_type": "code",
        "colab": {
          "base_uri": "https://localhost:8080/",
          "height": 173
        },
        "outputId": "dd565f97-ba8c-435e-99ad-78558f4f640a"
      },
      "source": [
        "#After Removing Nan\n",
        "df.describe().transpose()"
      ],
      "execution_count": 21,
      "outputs": [
        {
          "output_type": "execute_result",
          "data": {
            "text/html": [
              "<div>\n",
              "<style scoped>\n",
              "    .dataframe tbody tr th:only-of-type {\n",
              "        vertical-align: middle;\n",
              "    }\n",
              "\n",
              "    .dataframe tbody tr th {\n",
              "        vertical-align: top;\n",
              "    }\n",
              "\n",
              "    .dataframe thead th {\n",
              "        text-align: right;\n",
              "    }\n",
              "</style>\n",
              "<table border=\"1\" class=\"dataframe\">\n",
              "  <thead>\n",
              "    <tr style=\"text-align: right;\">\n",
              "      <th></th>\n",
              "      <th>count</th>\n",
              "      <th>unique</th>\n",
              "      <th>top</th>\n",
              "      <th>freq</th>\n",
              "    </tr>\n",
              "  </thead>\n",
              "  <tbody>\n",
              "    <tr>\n",
              "      <th>Short description</th>\n",
              "      <td>8500</td>\n",
              "      <td>7482</td>\n",
              "      <td>password reset</td>\n",
              "      <td>38</td>\n",
              "    </tr>\n",
              "    <tr>\n",
              "      <th>Description</th>\n",
              "      <td>8500</td>\n",
              "      <td>7818</td>\n",
              "      <td>the</td>\n",
              "      <td>56</td>\n",
              "    </tr>\n",
              "    <tr>\n",
              "      <th>Caller</th>\n",
              "      <td>8500</td>\n",
              "      <td>2950</td>\n",
              "      <td>bpctwhsn kzqsbmtp</td>\n",
              "      <td>810</td>\n",
              "    </tr>\n",
              "    <tr>\n",
              "      <th>Assignment group</th>\n",
              "      <td>8500</td>\n",
              "      <td>74</td>\n",
              "      <td>GRP_0</td>\n",
              "      <td>3976</td>\n",
              "    </tr>\n",
              "  </tbody>\n",
              "</table>\n",
              "</div>"
            ],
            "text/plain": [
              "                  count unique                top  freq\n",
              "Short description  8500   7482     password reset    38\n",
              "Description        8500   7818                the    56\n",
              "Caller             8500   2950  bpctwhsn kzqsbmtp   810\n",
              "Assignment group   8500     74              GRP_0  3976"
            ]
          },
          "metadata": {
            "tags": []
          },
          "execution_count": 21
        }
      ]
    },
    {
      "cell_type": "markdown",
      "metadata": {
        "id": "fBma4yecuc3L",
        "colab_type": "text"
      },
      "source": [
        "Now all fields have equal number of records i.e. 8500"
      ]
    },
    {
      "cell_type": "code",
      "metadata": {
        "id": "jATp8CfEwfSl",
        "colab_type": "code",
        "colab": {
          "base_uri": "https://localhost:8080/",
          "height": 173
        },
        "outputId": "5ffc52af-39be-4dd8-f4c5-700e21876e29"
      },
      "source": [
        "#Combining Groups with less tickets\n",
        "## Count the number of groups with lesser tickets (samples)\n",
        "\n",
        "TICKETCOUNT = 50\n",
        "\n",
        "df[df.groupby('Assignment group')['Assignment group'].transform('size') < TICKETCOUNT].describe()\n"
      ],
      "execution_count": 22,
      "outputs": [
        {
          "output_type": "execute_result",
          "data": {
            "text/html": [
              "<div>\n",
              "<style scoped>\n",
              "    .dataframe tbody tr th:only-of-type {\n",
              "        vertical-align: middle;\n",
              "    }\n",
              "\n",
              "    .dataframe tbody tr th {\n",
              "        vertical-align: top;\n",
              "    }\n",
              "\n",
              "    .dataframe thead th {\n",
              "        text-align: right;\n",
              "    }\n",
              "</style>\n",
              "<table border=\"1\" class=\"dataframe\">\n",
              "  <thead>\n",
              "    <tr style=\"text-align: right;\">\n",
              "      <th></th>\n",
              "      <th>Short description</th>\n",
              "      <th>Description</th>\n",
              "      <th>Caller</th>\n",
              "      <th>Assignment group</th>\n",
              "    </tr>\n",
              "  </thead>\n",
              "  <tbody>\n",
              "    <tr>\n",
              "      <th>count</th>\n",
              "      <td>764</td>\n",
              "      <td>764</td>\n",
              "      <td>764</td>\n",
              "      <td>764</td>\n",
              "    </tr>\n",
              "    <tr>\n",
              "      <th>unique</th>\n",
              "      <td>746</td>\n",
              "      <td>755</td>\n",
              "      <td>471</td>\n",
              "      <td>50</td>\n",
              "    </tr>\n",
              "    <tr>\n",
              "      <th>top</th>\n",
              "      <td>msd crm</td>\n",
              "      <td>received from: monitoring_tool@company.com\\r\\n...</td>\n",
              "      <td>bpctwhsn kzqsbmtp</td>\n",
              "      <td>GRP_40</td>\n",
              "    </tr>\n",
              "    <tr>\n",
              "      <th>freq</th>\n",
              "      <td>4</td>\n",
              "      <td>3</td>\n",
              "      <td>33</td>\n",
              "      <td>45</td>\n",
              "    </tr>\n",
              "  </tbody>\n",
              "</table>\n",
              "</div>"
            ],
            "text/plain": [
              "       Short description  ... Assignment group\n",
              "count                764  ...              764\n",
              "unique               746  ...               50\n",
              "top              msd crm  ...           GRP_40\n",
              "freq                   4  ...               45\n",
              "\n",
              "[4 rows x 4 columns]"
            ]
          },
          "metadata": {
            "tags": []
          },
          "execution_count": 22
        }
      ]
    },
    {
      "cell_type": "markdown",
      "metadata": {
        "id": "3BkeUV4kvJxl",
        "colab_type": "text"
      },
      "source": [
        "There are around 764 groups with ticket samples less than TICKETCOUNT (50). Lets remove them.."
      ]
    },
    {
      "cell_type": "code",
      "metadata": {
        "id": "ZiK7FWLMwYrN",
        "colab_type": "code",
        "colab": {}
      },
      "source": [
        "df = df[df.groupby('Assignment group')['Assignment group'].transform('size') > TICKETCOUNT]"
      ],
      "execution_count": 23,
      "outputs": []
    },
    {
      "cell_type": "code",
      "metadata": {
        "id": "lzL6STXcw6a_",
        "colab_type": "code",
        "colab": {
          "base_uri": "https://localhost:8080/",
          "height": 34
        },
        "outputId": "cd92b696-aa51-480a-b9b6-5c30628d7ddf"
      },
      "source": [
        "## Check the new shape and group count\n",
        "\n",
        "df.shape"
      ],
      "execution_count": 24,
      "outputs": [
        {
          "output_type": "execute_result",
          "data": {
            "text/plain": [
              "(7736, 4)"
            ]
          },
          "metadata": {
            "tags": []
          },
          "execution_count": 24
        }
      ]
    },
    {
      "cell_type": "code",
      "metadata": {
        "id": "swVaZo9cw351",
        "colab_type": "code",
        "colab": {
          "base_uri": "https://localhost:8080/",
          "height": 442
        },
        "outputId": "06fcecc8-c7c9-4c1b-c49d-33e5c555fb1b"
      },
      "source": [
        "df['Assignment group'].value_counts()"
      ],
      "execution_count": 25,
      "outputs": [
        {
          "output_type": "execute_result",
          "data": {
            "text/plain": [
              "GRP_0     3976\n",
              "GRP_8      661\n",
              "GRP_24     289\n",
              "GRP_12     257\n",
              "GRP_9      252\n",
              "GRP_2      241\n",
              "GRP_19     215\n",
              "GRP_3      200\n",
              "GRP_6      184\n",
              "GRP_13     145\n",
              "GRP_10     140\n",
              "GRP_5      129\n",
              "GRP_14     118\n",
              "GRP_25     116\n",
              "GRP_33     107\n",
              "GRP_4      100\n",
              "GRP_29      97\n",
              "GRP_18      88\n",
              "GRP_16      85\n",
              "GRP_17      81\n",
              "GRP_31      69\n",
              "GRP_7       68\n",
              "GRP_34      62\n",
              "GRP_26      56\n",
              "Name: Assignment group, dtype: int64"
            ]
          },
          "metadata": {
            "tags": []
          },
          "execution_count": 25
        }
      ]
    },
    {
      "cell_type": "code",
      "metadata": {
        "id": "YVrTxMugxSuu",
        "colab_type": "code",
        "colab": {
          "base_uri": "https://localhost:8080/",
          "height": 173
        },
        "outputId": "49e31ad7-83a9-442d-e781-b956153fafd4"
      },
      "source": [
        "df.describe()"
      ],
      "execution_count": 26,
      "outputs": [
        {
          "output_type": "execute_result",
          "data": {
            "text/html": [
              "<div>\n",
              "<style scoped>\n",
              "    .dataframe tbody tr th:only-of-type {\n",
              "        vertical-align: middle;\n",
              "    }\n",
              "\n",
              "    .dataframe tbody tr th {\n",
              "        vertical-align: top;\n",
              "    }\n",
              "\n",
              "    .dataframe thead th {\n",
              "        text-align: right;\n",
              "    }\n",
              "</style>\n",
              "<table border=\"1\" class=\"dataframe\">\n",
              "  <thead>\n",
              "    <tr style=\"text-align: right;\">\n",
              "      <th></th>\n",
              "      <th>Short description</th>\n",
              "      <th>Description</th>\n",
              "      <th>Caller</th>\n",
              "      <th>Assignment group</th>\n",
              "    </tr>\n",
              "  </thead>\n",
              "  <tbody>\n",
              "    <tr>\n",
              "      <th>count</th>\n",
              "      <td>7736</td>\n",
              "      <td>7736</td>\n",
              "      <td>7736</td>\n",
              "      <td>7736</td>\n",
              "    </tr>\n",
              "    <tr>\n",
              "      <th>unique</th>\n",
              "      <td>6770</td>\n",
              "      <td>7070</td>\n",
              "      <td>2791</td>\n",
              "      <td>24</td>\n",
              "    </tr>\n",
              "    <tr>\n",
              "      <th>top</th>\n",
              "      <td>password reset</td>\n",
              "      <td>the</td>\n",
              "      <td>bpctwhsn kzqsbmtp</td>\n",
              "      <td>GRP_0</td>\n",
              "    </tr>\n",
              "    <tr>\n",
              "      <th>freq</th>\n",
              "      <td>38</td>\n",
              "      <td>56</td>\n",
              "      <td>777</td>\n",
              "      <td>3976</td>\n",
              "    </tr>\n",
              "  </tbody>\n",
              "</table>\n",
              "</div>"
            ],
            "text/plain": [
              "       Short description Description             Caller Assignment group\n",
              "count               7736        7736               7736             7736\n",
              "unique              6770        7070               2791               24\n",
              "top       password reset         the  bpctwhsn kzqsbmtp            GRP_0\n",
              "freq                  38          56                777             3976"
            ]
          },
          "metadata": {
            "tags": []
          },
          "execution_count": 26
        }
      ]
    },
    {
      "cell_type": "markdown",
      "metadata": {
        "id": "fb68EkSfxZKc",
        "colab_type": "text"
      },
      "source": [
        "Count the number of groups with updated dataset"
      ]
    },
    {
      "cell_type": "code",
      "metadata": {
        "id": "Sm10SQnZxhZ0",
        "colab_type": "code",
        "colab": {
          "base_uri": "https://localhost:8080/",
          "height": 34
        },
        "outputId": "390a1eff-722e-425e-92e4-5eb554b6e958"
      },
      "source": [
        "groupCount = df['Assignment group'].nunique()\n",
        "groupCount"
      ],
      "execution_count": 27,
      "outputs": [
        {
          "output_type": "execute_result",
          "data": {
            "text/plain": [
              "24"
            ]
          },
          "metadata": {
            "tags": []
          },
          "execution_count": 27
        }
      ]
    },
    {
      "cell_type": "markdown",
      "metadata": {
        "id": "RWUlO-MLyQXn",
        "colab_type": "text"
      },
      "source": [
        "Nowe we have number of ticket groups reduced from 74 to 24"
      ]
    },
    {
      "cell_type": "code",
      "metadata": {
        "id": "TVYX4OKnzQF3",
        "colab_type": "code",
        "colab": {
          "base_uri": "https://localhost:8080/",
          "height": 632
        },
        "outputId": "6e3a5913-7dda-4578-f2e7-53a696e0171e"
      },
      "source": [
        "# Visualize the classfication groups with less groups now\n",
        "group_df = df.groupby(\"Assignment group\")\n",
        "\n",
        "plt.figure(figsize=(15,10))\n",
        "group_df.size().sort_values(ascending=False).plot.bar()\n",
        "plt.xticks(rotation=50)\n",
        "plt.xlabel(\"Group Names\")\n",
        "plt.ylabel(\"Count of Tickets\")\n",
        "plt.show()"
      ],
      "execution_count": 28,
      "outputs": [
        {
          "output_type": "display_data",
          "data": {
            "image/png": "[encoded data removed]",
            "text/plain": [
              "<Figure size 1080x720 with 1 Axes>"
            ]
          },
          "metadata": {
            "tags": [],
            "needs_background": "light"
          }
        }
      ]
    },
    {
      "cell_type": "markdown",
      "metadata": {
        "id": "sEx6lYIGzVK3",
        "colab_type": "text"
      },
      "source": [
        "Looks cool !!!"
      ]
    },
    {
      "cell_type": "code",
      "metadata": {
        "id": "AWKUWlJC2-Iw",
        "colab_type": "code",
        "colab": {}
      },
      "source": [
        "#Remove Duplicate Rows\n",
        "duplicateRowsDF = df[df.duplicated()]\n",
        "duplicateRowsDF.head()\n",
        "df.drop_duplicates(keep=False,inplace=True)"
      ],
      "execution_count": 29,
      "outputs": []
    },
    {
      "cell_type": "code",
      "metadata": {
        "id": "idlDdrAK3MBg",
        "colab_type": "code",
        "colab": {
          "base_uri": "https://localhost:8080/",
          "height": 173
        },
        "outputId": "17aa3c7a-ea75-4f11-9d3a-9553d35e99dc"
      },
      "source": [
        "df.describe()"
      ],
      "execution_count": 30,
      "outputs": [
        {
          "output_type": "execute_result",
          "data": {
            "text/html": [
              "<div>\n",
              "<style scoped>\n",
              "    .dataframe tbody tr th:only-of-type {\n",
              "        vertical-align: middle;\n",
              "    }\n",
              "\n",
              "    .dataframe tbody tr th {\n",
              "        vertical-align: top;\n",
              "    }\n",
              "\n",
              "    .dataframe thead th {\n",
              "        text-align: right;\n",
              "    }\n",
              "</style>\n",
              "<table border=\"1\" class=\"dataframe\">\n",
              "  <thead>\n",
              "    <tr style=\"text-align: right;\">\n",
              "      <th></th>\n",
              "      <th>Short description</th>\n",
              "      <th>Description</th>\n",
              "      <th>Caller</th>\n",
              "      <th>Assignment group</th>\n",
              "    </tr>\n",
              "  </thead>\n",
              "  <tbody>\n",
              "    <tr>\n",
              "      <th>count</th>\n",
              "      <td>7606</td>\n",
              "      <td>7606</td>\n",
              "      <td>7606</td>\n",
              "      <td>7606</td>\n",
              "    </tr>\n",
              "    <tr>\n",
              "      <th>unique</th>\n",
              "      <td>6731</td>\n",
              "      <td>7038</td>\n",
              "      <td>2785</td>\n",
              "      <td>24</td>\n",
              "    </tr>\n",
              "    <tr>\n",
              "      <th>top</th>\n",
              "      <td>password reset</td>\n",
              "      <td>the</td>\n",
              "      <td>bpctwhsn kzqsbmtp</td>\n",
              "      <td>GRP_0</td>\n",
              "    </tr>\n",
              "    <tr>\n",
              "      <th>freq</th>\n",
              "      <td>38</td>\n",
              "      <td>34</td>\n",
              "      <td>744</td>\n",
              "      <td>3908</td>\n",
              "    </tr>\n",
              "  </tbody>\n",
              "</table>\n",
              "</div>"
            ],
            "text/plain": [
              "       Short description Description             Caller Assignment group\n",
              "count               7606        7606               7606             7606\n",
              "unique              6731        7038               2785               24\n",
              "top       password reset         the  bpctwhsn kzqsbmtp            GRP_0\n",
              "freq                  38          34                744             3908"
            ]
          },
          "metadata": {
            "tags": []
          },
          "execution_count": 30
        }
      ]
    },
    {
      "cell_type": "code",
      "metadata": {
        "id": "aQYtR_-V2qSw",
        "colab_type": "code",
        "colab": {}
      },
      "source": [
        "#Combine Text Fields\n",
        "df['Final Description'] = df['Short description'].str.cat(df['Description'],sep=\" \")\n",
        "df['Final Description'] = df['Final Description'].str.cat(df['Caller'],sep=\" \")"
      ],
      "execution_count": 31,
      "outputs": []
    },
    {
      "cell_type": "markdown",
      "metadata": {
        "id": "IKXUrJ4S_FOS",
        "colab_type": "text"
      },
      "source": [
        ""
      ]
    },
    {
      "cell_type": "code",
      "metadata": {
        "id": "TUB-RmWh3umr",
        "colab_type": "code",
        "colab": {
          "base_uri": "https://localhost:8080/",
          "height": 119
        },
        "outputId": "85de295e-df56-44d4-f309-9f7d603965a7"
      },
      "source": [
        "df['Final Description'].head()"
      ],
      "execution_count": 32,
      "outputs": [
        {
          "output_type": "execute_result",
          "data": {
            "text/plain": [
              "0    login issue -verified user details.(employee# ...\n",
              "1    outlook \\r\\n\\r\\nreceived from: hmjdrvpb.komuay...\n",
              "2    cant log in to vpn \\r\\n\\r\\nreceived from: eylq...\n",
              "3    unable to access hr_tool page unable to access...\n",
              "4          skype error  skype error  owlgqjme qhcozdfx\n",
              "Name: Final Description, dtype: object"
            ]
          },
          "metadata": {
            "tags": []
          },
          "execution_count": 32
        }
      ]
    },
    {
      "cell_type": "code",
      "metadata": {
        "id": "6pte8TMq7b7m",
        "colab_type": "code",
        "colab": {}
      },
      "source": [
        "## Decontract the words\n",
        "import re\n",
        "def decontract(text):\n",
        "    text = re.sub(r\"won\\'t\", \"will not\", text)\n",
        "    text = re.sub(r\"can\\'t\", \"can not\", text)\n",
        "    text = re.sub(r\"cant\", \"can not\", text)\n",
        "    text = re.sub(r\"n\\'t\", \" not\", text)\n",
        "    text = re.sub(r\"\\'re\", \" are\", text)\n",
        "    text = re.sub(r\"\\'s\", \" is\", text)\n",
        "    text = re.sub(r\"\\'d\", \" would\", text)\n",
        "    text = re.sub(r\"\\'ll\", \" will\", text)\n",
        "    text = re.sub(r\"\\'t\", \" not\", text)\n",
        "    text = re.sub(r\"\\'ve\", \" have\", text)\n",
        "    text = re.sub(r\"\\'m\", \" am\", text)\n",
        "    return text\n",
        "\n"
      ],
      "execution_count": 33,
      "outputs": []
    },
    {
      "cell_type": "code",
      "metadata": {
        "id": "0bLGI4qH7h_7",
        "colab_type": "code",
        "colab": {
          "base_uri": "https://localhost:8080/",
          "height": 204
        },
        "outputId": "0cc2303b-e7c3-4cb7-a9b9-b52185d4b7e6"
      },
      "source": [
        "df['Final Description'] = df['Final Description'].apply(lambda x: decontract(x))\n",
        "df.head()"
      ],
      "execution_count": 34,
      "outputs": [
        {
          "output_type": "execute_result",
          "data": {
            "text/html": [
              "<div>\n",
              "<style scoped>\n",
              "    .dataframe tbody tr th:only-of-type {\n",
              "        vertical-align: middle;\n",
              "    }\n",
              "\n",
              "    .dataframe tbody tr th {\n",
              "        vertical-align: top;\n",
              "    }\n",
              "\n",
              "    .dataframe thead th {\n",
              "        text-align: right;\n",
              "    }\n",
              "</style>\n",
              "<table border=\"1\" class=\"dataframe\">\n",
              "  <thead>\n",
              "    <tr style=\"text-align: right;\">\n",
              "      <th></th>\n",
              "      <th>Short description</th>\n",
              "      <th>Description</th>\n",
              "      <th>Caller</th>\n",
              "      <th>Assignment group</th>\n",
              "      <th>Final Description</th>\n",
              "    </tr>\n",
              "  </thead>\n",
              "  <tbody>\n",
              "    <tr>\n",
              "      <th>0</th>\n",
              "      <td>login issue</td>\n",
              "      <td>-verified user details.(employee# &amp; manager na...</td>\n",
              "      <td>spxjnwir pjlcoqds</td>\n",
              "      <td>GRP_0</td>\n",
              "      <td>login issue -verified user details.(employee# ...</td>\n",
              "    </tr>\n",
              "    <tr>\n",
              "      <th>1</th>\n",
              "      <td>outlook</td>\n",
              "      <td>\\r\\n\\r\\nreceived from: hmjdrvpb.komuaywn@gmail...</td>\n",
              "      <td>hmjdrvpb komuaywn</td>\n",
              "      <td>GRP_0</td>\n",
              "      <td>outlook \\r\\n\\r\\nreceived from: hmjdrvpb.komuay...</td>\n",
              "    </tr>\n",
              "    <tr>\n",
              "      <th>2</th>\n",
              "      <td>cant log in to vpn</td>\n",
              "      <td>\\r\\n\\r\\nreceived from: eylqgodm.ybqkwiam@gmail...</td>\n",
              "      <td>eylqgodm ybqkwiam</td>\n",
              "      <td>GRP_0</td>\n",
              "      <td>can not log in to vpn \\r\\n\\r\\nreceived from: e...</td>\n",
              "    </tr>\n",
              "    <tr>\n",
              "      <th>3</th>\n",
              "      <td>unable to access hr_tool page</td>\n",
              "      <td>unable to access hr_tool page</td>\n",
              "      <td>xbkucsvz gcpydteq</td>\n",
              "      <td>GRP_0</td>\n",
              "      <td>unable to access hr_tool page unable to access...</td>\n",
              "    </tr>\n",
              "    <tr>\n",
              "      <th>4</th>\n",
              "      <td>skype error</td>\n",
              "      <td>skype error</td>\n",
              "      <td>owlgqjme qhcozdfx</td>\n",
              "      <td>GRP_0</td>\n",
              "      <td>skype error  skype error  owlgqjme qhcozdfx</td>\n",
              "    </tr>\n",
              "  </tbody>\n",
              "</table>\n",
              "</div>"
            ],
            "text/plain": [
              "               Short description  ...                                  Final Description\n",
              "0                    login issue  ...  login issue -verified user details.(employee# ...\n",
              "1                        outlook  ...  outlook \\r\\n\\r\\nreceived from: hmjdrvpb.komuay...\n",
              "2             cant log in to vpn  ...  can not log in to vpn \\r\\n\\r\\nreceived from: e...\n",
              "3  unable to access hr_tool page  ...  unable to access hr_tool page unable to access...\n",
              "4                   skype error   ...        skype error  skype error  owlgqjme qhcozdfx\n",
              "\n",
              "[5 rows x 5 columns]"
            ]
          },
          "metadata": {
            "tags": []
          },
          "execution_count": 34
        }
      ]
    },
    {
      "cell_type": "code",
      "metadata": {
        "id": "SWepKgvXz77J",
        "colab_type": "code",
        "colab": {}
      },
      "source": [
        "## cleanup mail headers content \n",
        "\n",
        "def getMailIdRegexList():\n",
        "    regexList = []\n",
        "    regexList += ['From:(.*)\\r\\n']  # from line\n",
        "    regexList += ['Sent:(.*)\\r\\n']  # sent to line\n",
        "    regexList += ['Received:(.*)\\r\\n']  # received data line\n",
        "    regexList += ['To:(.*)\\r\\n']  # to line\n",
        "    regexList += ['CC:(.*)\\r\\n']  # cc line\n",
        "    regexList += ['Subject:']\n",
        "    regexList += ['[\\r\\n]']  # \\r\\n\n",
        "    regexList += ['[\\w\\d\\-\\_\\.]+ @ [\\w\\d\\-\\_\\.]+'] ## Email Ids\n",
        "    return regexList"
      ],
      "execution_count": 35,
      "outputs": []
    },
    {
      "cell_type": "code",
      "metadata": {
        "id": "8nUjBjoZ5bgI",
        "colab_type": "code",
        "colab": {}
      },
      "source": [
        "# Data Normalization\n",
        "import re\n",
        "def  clean_text(df, text_field, new_text_field_name):\n",
        "    #convert to lower case\n",
        "    df[new_text_field_name] = df[text_field].str.lower()\n",
        "    \n",
        "    ## clean mail headers and email ids - Note tickets have email copied.. \n",
        "    mailCleanList = getMailIdRegexList()\n",
        "    for regex in mailCleanList:\n",
        "      df[new_text_field_name] = df[new_text_field_name].str.lower().str.replace(regex.lower(), ' ')\n",
        "\n",
        "    df[new_text_field_name] = df[new_text_field_name].apply(lambda elem: re.sub(r\"(@[A-Za-z0-9]+)|([^0-9A-Za-z \\t])|(\\w+:\\/\\/\\S+)|^rt|http.+?\", \" \", elem))  \n",
        "    # remove numbers\n",
        "    df[new_text_field_name] = df[new_text_field_name].apply(lambda elem: re.sub(r\"\\d+\", \"\", elem))\n",
        "    #remove single letters\n",
        "    df[new_text_field_name] = df[new_text_field_name].apply(lambda elem: re.sub(r\"\\b[a-zA-Z]\\b\", \"\", elem))  \n",
        "\n",
        "    return df"
      ],
      "execution_count": 36,
      "outputs": []
    },
    {
      "cell_type": "code",
      "metadata": {
        "id": "DEvmMSh852Pe",
        "colab_type": "code",
        "colab": {
          "base_uri": "https://localhost:8080/",
          "height": 606
        },
        "outputId": "a931f7a4-967b-4fee-d686-cc99963ef867"
      },
      "source": [
        "df_clean = clean_text(df, 'Final Description', 'Description Clean')\n",
        "df_clean\n"
      ],
      "execution_count": 37,
      "outputs": [
        {
          "output_type": "execute_result",
          "data": {
            "text/html": [
              "<div>\n",
              "<style scoped>\n",
              "    .dataframe tbody tr th:only-of-type {\n",
              "        vertical-align: middle;\n",
              "    }\n",
              "\n",
              "    .dataframe tbody tr th {\n",
              "        vertical-align: top;\n",
              "    }\n",
              "\n",
              "    .dataframe thead th {\n",
              "        text-align: right;\n",
              "    }\n",
              "</style>\n",
              "<table border=\"1\" class=\"dataframe\">\n",
              "  <thead>\n",
              "    <tr style=\"text-align: right;\">\n",
              "      <th></th>\n",
              "      <th>Short description</th>\n",
              "      <th>Description</th>\n",
              "      <th>Caller</th>\n",
              "      <th>Assignment group</th>\n",
              "      <th>Final Description</th>\n",
              "      <th>Description Clean</th>\n",
              "    </tr>\n",
              "  </thead>\n",
              "  <tbody>\n",
              "    <tr>\n",
              "      <th>0</th>\n",
              "      <td>login issue</td>\n",
              "      <td>-verified user details.(employee# &amp; manager na...</td>\n",
              "      <td>spxjnwir pjlcoqds</td>\n",
              "      <td>GRP_0</td>\n",
              "      <td>login issue -verified user details.(employee# ...</td>\n",
              "      <td>login issue  verified user details  employee  ...</td>\n",
              "    </tr>\n",
              "    <tr>\n",
              "      <th>1</th>\n",
              "      <td>outlook</td>\n",
              "      <td>\\r\\n\\r\\nreceived from: hmjdrvpb.komuaywn@gmail...</td>\n",
              "      <td>hmjdrvpb komuaywn</td>\n",
              "      <td>GRP_0</td>\n",
              "      <td>outlook \\r\\n\\r\\nreceived from: hmjdrvpb.komuay...</td>\n",
              "      <td>outlook     received    hello team     my meet...</td>\n",
              "    </tr>\n",
              "    <tr>\n",
              "      <th>2</th>\n",
              "      <td>cant log in to vpn</td>\n",
              "      <td>\\r\\n\\r\\nreceived from: eylqgodm.ybqkwiam@gmail...</td>\n",
              "      <td>eylqgodm ybqkwiam</td>\n",
              "      <td>GRP_0</td>\n",
              "      <td>can not log in to vpn \\r\\n\\r\\nreceived from: e...</td>\n",
              "      <td>can not log in to vpn     received    hi     c...</td>\n",
              "    </tr>\n",
              "    <tr>\n",
              "      <th>3</th>\n",
              "      <td>unable to access hr_tool page</td>\n",
              "      <td>unable to access hr_tool page</td>\n",
              "      <td>xbkucsvz gcpydteq</td>\n",
              "      <td>GRP_0</td>\n",
              "      <td>unable to access hr_tool page unable to access...</td>\n",
              "      <td>unable to access hr tool page unable to access...</td>\n",
              "    </tr>\n",
              "    <tr>\n",
              "      <th>4</th>\n",
              "      <td>skype error</td>\n",
              "      <td>skype error</td>\n",
              "      <td>owlgqjme qhcozdfx</td>\n",
              "      <td>GRP_0</td>\n",
              "      <td>skype error  skype error  owlgqjme qhcozdfx</td>\n",
              "      <td>skype error  skype error  owlgqjme qhcozdfx</td>\n",
              "    </tr>\n",
              "    <tr>\n",
              "      <th>...</th>\n",
              "      <td>...</td>\n",
              "      <td>...</td>\n",
              "      <td>...</td>\n",
              "      <td>...</td>\n",
              "      <td>...</td>\n",
              "      <td>...</td>\n",
              "    </tr>\n",
              "    <tr>\n",
              "      <th>8493</th>\n",
              "      <td>erp fi  - ob09, two accounts to be added</td>\n",
              "      <td>i am sorry, i have another two accounts that n...</td>\n",
              "      <td>ipwjorsc uboapexr</td>\n",
              "      <td>GRP_10</td>\n",
              "      <td>erp fi  - ob09, two accounts to be added i am ...</td>\n",
              "      <td>erp fi    ob  two accounts to be added  am sor...</td>\n",
              "    </tr>\n",
              "    <tr>\n",
              "      <th>8494</th>\n",
              "      <td>tablet needs reimaged due to multiple issues w...</td>\n",
              "      <td>tablet needs reimaged due to multiple issues w...</td>\n",
              "      <td>cpmaidhj elbaqmtp</td>\n",
              "      <td>GRP_3</td>\n",
              "      <td>tablet needs reimaged due to multiple issues w...</td>\n",
              "      <td>tablet needs reimaged due to multiple issues w...</td>\n",
              "    </tr>\n",
              "    <tr>\n",
              "      <th>8495</th>\n",
              "      <td>emails not coming in from zz mail</td>\n",
              "      <td>\\r\\n\\r\\nreceived from: avglmrts.vhqmtiua@gmail...</td>\n",
              "      <td>avglmrts vhqmtiua</td>\n",
              "      <td>GRP_29</td>\n",
              "      <td>emails not coming in from zz mail \\r\\n\\r\\nrece...</td>\n",
              "      <td>emails not coming in from zz mail     received...</td>\n",
              "    </tr>\n",
              "    <tr>\n",
              "      <th>8496</th>\n",
              "      <td>telephony_software issue</td>\n",
              "      <td>telephony_software issue</td>\n",
              "      <td>rbozivdq gmlhrtvp</td>\n",
              "      <td>GRP_0</td>\n",
              "      <td>telephony_software issue telephony_software is...</td>\n",
              "      <td>telephony software issue telephony software is...</td>\n",
              "    </tr>\n",
              "    <tr>\n",
              "      <th>8497</th>\n",
              "      <td>vip2: windows password reset for tifpdchb pedx...</td>\n",
              "      <td>vip2: windows password reset for tifpdchb pedx...</td>\n",
              "      <td>oybwdsgx oxyhwrfz</td>\n",
              "      <td>GRP_0</td>\n",
              "      <td>vip2: windows password reset for tifpdchb pedx...</td>\n",
              "      <td>vip  windows password reset for tifpdchb pedxr...</td>\n",
              "    </tr>\n",
              "  </tbody>\n",
              "</table>\n",
              "<p>7606 rows × 6 columns</p>\n",
              "</div>"
            ],
            "text/plain": [
              "                                      Short description  ...                                  Description Clean\n",
              "0                                           login issue  ...  login issue  verified user details  employee  ...\n",
              "1                                               outlook  ...  outlook     received    hello team     my meet...\n",
              "2                                    cant log in to vpn  ...  can not log in to vpn     received    hi     c...\n",
              "3                         unable to access hr_tool page  ...  unable to access hr tool page unable to access...\n",
              "4                                          skype error   ...        skype error  skype error  owlgqjme qhcozdfx\n",
              "...                                                 ...  ...                                                ...\n",
              "8493           erp fi  - ob09, two accounts to be added  ...  erp fi    ob  two accounts to be added  am sor...\n",
              "8494  tablet needs reimaged due to multiple issues w...  ...  tablet needs reimaged due to multiple issues w...\n",
              "8495                  emails not coming in from zz mail  ...  emails not coming in from zz mail     received...\n",
              "8496                           telephony_software issue  ...  telephony software issue telephony software is...\n",
              "8497  vip2: windows password reset for tifpdchb pedx...  ...  vip  windows password reset for tifpdchb pedxr...\n",
              "\n",
              "[7606 rows x 6 columns]"
            ]
          },
          "metadata": {
            "tags": []
          },
          "execution_count": 37
        }
      ]
    },
    {
      "cell_type": "code",
      "metadata": {
        "id": "1QItutbB5T4X",
        "colab_type": "code",
        "colab": {
          "base_uri": "https://localhost:8080/",
          "height": 204
        },
        "outputId": "13f07537-bed4-40bf-929b-c9d79e487ab5"
      },
      "source": [
        "### Now let us drop all columns except cleaned ticket descriptiona and group id\n",
        "df_clean = df_clean.drop(['Short description', 'Description','Caller','Final Description'], axis=1)\n",
        "df_clean.head()"
      ],
      "execution_count": 38,
      "outputs": [
        {
          "output_type": "execute_result",
          "data": {
            "text/html": [
              "<div>\n",
              "<style scoped>\n",
              "    .dataframe tbody tr th:only-of-type {\n",
              "        vertical-align: middle;\n",
              "    }\n",
              "\n",
              "    .dataframe tbody tr th {\n",
              "        vertical-align: top;\n",
              "    }\n",
              "\n",
              "    .dataframe thead th {\n",
              "        text-align: right;\n",
              "    }\n",
              "</style>\n",
              "<table border=\"1\" class=\"dataframe\">\n",
              "  <thead>\n",
              "    <tr style=\"text-align: right;\">\n",
              "      <th></th>\n",
              "      <th>Assignment group</th>\n",
              "      <th>Description Clean</th>\n",
              "    </tr>\n",
              "  </thead>\n",
              "  <tbody>\n",
              "    <tr>\n",
              "      <th>0</th>\n",
              "      <td>GRP_0</td>\n",
              "      <td>login issue  verified user details  employee  ...</td>\n",
              "    </tr>\n",
              "    <tr>\n",
              "      <th>1</th>\n",
              "      <td>GRP_0</td>\n",
              "      <td>outlook     received    hello team     my meet...</td>\n",
              "    </tr>\n",
              "    <tr>\n",
              "      <th>2</th>\n",
              "      <td>GRP_0</td>\n",
              "      <td>can not log in to vpn     received    hi     c...</td>\n",
              "    </tr>\n",
              "    <tr>\n",
              "      <th>3</th>\n",
              "      <td>GRP_0</td>\n",
              "      <td>unable to access hr tool page unable to access...</td>\n",
              "    </tr>\n",
              "    <tr>\n",
              "      <th>4</th>\n",
              "      <td>GRP_0</td>\n",
              "      <td>skype error  skype error  owlgqjme qhcozdfx</td>\n",
              "    </tr>\n",
              "  </tbody>\n",
              "</table>\n",
              "</div>"
            ],
            "text/plain": [
              "  Assignment group                                  Description Clean\n",
              "0            GRP_0  login issue  verified user details  employee  ...\n",
              "1            GRP_0  outlook     received    hello team     my meet...\n",
              "2            GRP_0  can not log in to vpn     received    hi     c...\n",
              "3            GRP_0  unable to access hr tool page unable to access...\n",
              "4            GRP_0        skype error  skype error  owlgqjme qhcozdfx"
            ]
          },
          "metadata": {
            "tags": []
          },
          "execution_count": 38
        }
      ]
    },
    {
      "cell_type": "code",
      "metadata": {
        "id": "mls9inhj54zz",
        "colab_type": "code",
        "colab": {
          "base_uri": "https://localhost:8080/",
          "height": 238
        },
        "outputId": "b09ec460-ce3f-4591-b85a-ac509e812984"
      },
      "source": [
        "# Data Cleaning -- Removing Stop words\n",
        "import nltk.corpus\n",
        "nltk.download('stopwords')\n",
        "from nltk.corpus import stopwords\n",
        "stop = stopwords.words('english')\n",
        "newStopWords = [\"na\",\"sid\",\"cid\",\"null\",\"hi\",\"png\",\"eu\",\"hello\"]\n",
        "stop.extend(newStopWords)\n",
        "\n",
        "df_clean['Description Clean'] = df_clean['Description Clean'].apply(lambda x: ' '.join([word for word in x.split() if word not in (stop)]))\n",
        "df_clean.head()"
      ],
      "execution_count": 39,
      "outputs": [
        {
          "output_type": "stream",
          "text": [
            "[nltk_data] Downloading package stopwords to /root/nltk_data...\n",
            "[nltk_data]   Package stopwords is already up-to-date!\n"
          ],
          "name": "stdout"
        },
        {
          "output_type": "execute_result",
          "data": {
            "text/html": [
              "<div>\n",
              "<style scoped>\n",
              "    .dataframe tbody tr th:only-of-type {\n",
              "        vertical-align: middle;\n",
              "    }\n",
              "\n",
              "    .dataframe tbody tr th {\n",
              "        vertical-align: top;\n",
              "    }\n",
              "\n",
              "    .dataframe thead th {\n",
              "        text-align: right;\n",
              "    }\n",
              "</style>\n",
              "<table border=\"1\" class=\"dataframe\">\n",
              "  <thead>\n",
              "    <tr style=\"text-align: right;\">\n",
              "      <th></th>\n",
              "      <th>Assignment group</th>\n",
              "      <th>Description Clean</th>\n",
              "    </tr>\n",
              "  </thead>\n",
              "  <tbody>\n",
              "    <tr>\n",
              "      <th>0</th>\n",
              "      <td>GRP_0</td>\n",
              "      <td>login issue verified user details employee man...</td>\n",
              "    </tr>\n",
              "    <tr>\n",
              "      <th>1</th>\n",
              "      <td>GRP_0</td>\n",
              "      <td>outlook received team meetings skype meetings ...</td>\n",
              "    </tr>\n",
              "    <tr>\n",
              "      <th>2</th>\n",
              "      <td>GRP_0</td>\n",
              "      <td>log vpn received cannot log vpn best eylqgodm ...</td>\n",
              "    </tr>\n",
              "    <tr>\n",
              "      <th>3</th>\n",
              "      <td>GRP_0</td>\n",
              "      <td>unable access hr tool page unable access hr to...</td>\n",
              "    </tr>\n",
              "    <tr>\n",
              "      <th>4</th>\n",
              "      <td>GRP_0</td>\n",
              "      <td>skype error skype error owlgqjme qhcozdfx</td>\n",
              "    </tr>\n",
              "  </tbody>\n",
              "</table>\n",
              "</div>"
            ],
            "text/plain": [
              "  Assignment group                                  Description Clean\n",
              "0            GRP_0  login issue verified user details employee man...\n",
              "1            GRP_0  outlook received team meetings skype meetings ...\n",
              "2            GRP_0  log vpn received cannot log vpn best eylqgodm ...\n",
              "3            GRP_0  unable access hr tool page unable access hr to...\n",
              "4            GRP_0          skype error skype error owlgqjme qhcozdfx"
            ]
          },
          "metadata": {
            "tags": []
          },
          "execution_count": 39
        }
      ]
    },
    {
      "cell_type": "code",
      "metadata": {
        "id": "TSSb7EfK9Laf",
        "colab_type": "code",
        "colab": {
          "base_uri": "https://localhost:8080/",
          "height": 238
        },
        "outputId": "e7b6b7b5-3e5b-4c0c-e643-06f85828a01b"
      },
      "source": [
        "# Getting Word Tokens\n",
        "import nltk \n",
        "nltk.download('punkt')\n",
        "from nltk.tokenize import sent_tokenize, word_tokenize\n",
        "df_clean['Description Clean Tokens'] = df_clean['Description Clean'].apply(lambda x: word_tokenize(x))\n",
        "df_clean.head()"
      ],
      "execution_count": 40,
      "outputs": [
        {
          "output_type": "stream",
          "text": [
            "[nltk_data] Downloading package punkt to /root/nltk_data...\n",
            "[nltk_data]   Package punkt is already up-to-date!\n"
          ],
          "name": "stdout"
        },
        {
          "output_type": "execute_result",
          "data": {
            "text/html": [
              "<div>\n",
              "<style scoped>\n",
              "    .dataframe tbody tr th:only-of-type {\n",
              "        vertical-align: middle;\n",
              "    }\n",
              "\n",
              "    .dataframe tbody tr th {\n",
              "        vertical-align: top;\n",
              "    }\n",
              "\n",
              "    .dataframe thead th {\n",
              "        text-align: right;\n",
              "    }\n",
              "</style>\n",
              "<table border=\"1\" class=\"dataframe\">\n",
              "  <thead>\n",
              "    <tr style=\"text-align: right;\">\n",
              "      <th></th>\n",
              "      <th>Assignment group</th>\n",
              "      <th>Description Clean</th>\n",
              "      <th>Description Clean Tokens</th>\n",
              "    </tr>\n",
              "  </thead>\n",
              "  <tbody>\n",
              "    <tr>\n",
              "      <th>0</th>\n",
              "      <td>GRP_0</td>\n",
              "      <td>login issue verified user details employee man...</td>\n",
              "      <td>[login, issue, verified, user, details, employ...</td>\n",
              "    </tr>\n",
              "    <tr>\n",
              "      <th>1</th>\n",
              "      <td>GRP_0</td>\n",
              "      <td>outlook received team meetings skype meetings ...</td>\n",
              "      <td>[outlook, received, team, meetings, skype, mee...</td>\n",
              "    </tr>\n",
              "    <tr>\n",
              "      <th>2</th>\n",
              "      <td>GRP_0</td>\n",
              "      <td>log vpn received cannot log vpn best eylqgodm ...</td>\n",
              "      <td>[log, vpn, received, can, not, log, vpn, best,...</td>\n",
              "    </tr>\n",
              "    <tr>\n",
              "      <th>3</th>\n",
              "      <td>GRP_0</td>\n",
              "      <td>unable access hr tool page unable access hr to...</td>\n",
              "      <td>[unable, access, hr, tool, page, unable, acces...</td>\n",
              "    </tr>\n",
              "    <tr>\n",
              "      <th>4</th>\n",
              "      <td>GRP_0</td>\n",
              "      <td>skype error skype error owlgqjme qhcozdfx</td>\n",
              "      <td>[skype, error, skype, error, owlgqjme, qhcozdfx]</td>\n",
              "    </tr>\n",
              "  </tbody>\n",
              "</table>\n",
              "</div>"
            ],
            "text/plain": [
              "  Assignment group  ...                           Description Clean Tokens\n",
              "0            GRP_0  ...  [login, issue, verified, user, details, employ...\n",
              "1            GRP_0  ...  [outlook, received, team, meetings, skype, mee...\n",
              "2            GRP_0  ...  [log, vpn, received, can, not, log, vpn, best,...\n",
              "3            GRP_0  ...  [unable, access, hr, tool, page, unable, acces...\n",
              "4            GRP_0  ...   [skype, error, skype, error, owlgqjme, qhcozdfx]\n",
              "\n",
              "[5 rows x 3 columns]"
            ]
          },
          "metadata": {
            "tags": []
          },
          "execution_count": 40
        }
      ]
    },
    {
      "cell_type": "code",
      "metadata": {
        "id": "URUdCQB59xoG",
        "colab_type": "code",
        "colab": {
          "base_uri": "https://localhost:8080/",
          "height": 204
        },
        "outputId": "f3e16b7c-1a25-4e1d-9a6d-4684769a237a"
      },
      "source": [
        "#Stemming Fine word stems \n",
        "from nltk.stem.snowball import SnowballStemmer  ### Portstemmer vs snowballstemmer, Snowballstemmer is preferred over portstemmer for better results..\n",
        "\n",
        "snowStem = nltk.SnowballStemmer(\"english\")\n",
        "\n",
        "def stemming(tokenized_text):\n",
        "    text = [snowStem.stem(word) for word in tokenized_text]\n",
        "    return text\n",
        "\n",
        "df_clean['Description Clean Tokens Stemmed'] = df_clean['Description Clean Tokens'].apply(lambda x: stemming(x))\n",
        "\n",
        "df_clean.head()"
      ],
      "execution_count": 41,
      "outputs": [
        {
          "output_type": "execute_result",
          "data": {
            "text/html": [
              "<div>\n",
              "<style scoped>\n",
              "    .dataframe tbody tr th:only-of-type {\n",
              "        vertical-align: middle;\n",
              "    }\n",
              "\n",
              "    .dataframe tbody tr th {\n",
              "        vertical-align: top;\n",
              "    }\n",
              "\n",
              "    .dataframe thead th {\n",
              "        text-align: right;\n",
              "    }\n",
              "</style>\n",
              "<table border=\"1\" class=\"dataframe\">\n",
              "  <thead>\n",
              "    <tr style=\"text-align: right;\">\n",
              "      <th></th>\n",
              "      <th>Assignment group</th>\n",
              "      <th>Description Clean</th>\n",
              "      <th>Description Clean Tokens</th>\n",
              "      <th>Description Clean Tokens Stemmed</th>\n",
              "    </tr>\n",
              "  </thead>\n",
              "  <tbody>\n",
              "    <tr>\n",
              "      <th>0</th>\n",
              "      <td>GRP_0</td>\n",
              "      <td>login issue verified user details employee man...</td>\n",
              "      <td>[login, issue, verified, user, details, employ...</td>\n",
              "      <td>[login, issu, verifi, user, detail, employe, m...</td>\n",
              "    </tr>\n",
              "    <tr>\n",
              "      <th>1</th>\n",
              "      <td>GRP_0</td>\n",
              "      <td>outlook received team meetings skype meetings ...</td>\n",
              "      <td>[outlook, received, team, meetings, skype, mee...</td>\n",
              "      <td>[outlook, receiv, team, meet, skype, meet, etc...</td>\n",
              "    </tr>\n",
              "    <tr>\n",
              "      <th>2</th>\n",
              "      <td>GRP_0</td>\n",
              "      <td>log vpn received cannot log vpn best eylqgodm ...</td>\n",
              "      <td>[log, vpn, received, can, not, log, vpn, best,...</td>\n",
              "      <td>[log, vpn, receiv, can, not, log, vpn, best, e...</td>\n",
              "    </tr>\n",
              "    <tr>\n",
              "      <th>3</th>\n",
              "      <td>GRP_0</td>\n",
              "      <td>unable access hr tool page unable access hr to...</td>\n",
              "      <td>[unable, access, hr, tool, page, unable, acces...</td>\n",
              "      <td>[unabl, access, hr, tool, page, unabl, access,...</td>\n",
              "    </tr>\n",
              "    <tr>\n",
              "      <th>4</th>\n",
              "      <td>GRP_0</td>\n",
              "      <td>skype error skype error owlgqjme qhcozdfx</td>\n",
              "      <td>[skype, error, skype, error, owlgqjme, qhcozdfx]</td>\n",
              "      <td>[skype, error, skype, error, owlgqjm, qhcozdfx]</td>\n",
              "    </tr>\n",
              "  </tbody>\n",
              "</table>\n",
              "</div>"
            ],
            "text/plain": [
              "  Assignment group  ...                   Description Clean Tokens Stemmed\n",
              "0            GRP_0  ...  [login, issu, verifi, user, detail, employe, m...\n",
              "1            GRP_0  ...  [outlook, receiv, team, meet, skype, meet, etc...\n",
              "2            GRP_0  ...  [log, vpn, receiv, can, not, log, vpn, best, e...\n",
              "3            GRP_0  ...  [unabl, access, hr, tool, page, unabl, access,...\n",
              "4            GRP_0  ...    [skype, error, skype, error, owlgqjm, qhcozdfx]\n",
              "\n",
              "[5 rows x 4 columns]"
            ]
          },
          "metadata": {
            "tags": []
          },
          "execution_count": 41
        }
      ]
    },
    {
      "cell_type": "code",
      "metadata": {
        "id": "_JdIp23k-oul",
        "colab_type": "code",
        "colab": {
          "base_uri": "https://localhost:8080/",
          "height": 340
        },
        "outputId": "ca9d4bd0-cfb0-4035-85cb-09d1a4b93e53"
      },
      "source": [
        "#Lemmatization Find word Lemmas\n",
        "nltk.download('wordnet')\n",
        "from nltk.stem import WordNetLemmatizer\n",
        "def word_lemmatizer(text):\n",
        "    lem_text = [WordNetLemmatizer().lemmatize(i) for i in text]\n",
        "    return lem_text\n",
        "df_clean['Description Clean Tokens Stemmed Lemmatized'] = df_clean['Description Clean Tokens Stemmed'].apply(lambda x: word_lemmatizer(x))\n",
        "\n",
        "df_clean.head()"
      ],
      "execution_count": 42,
      "outputs": [
        {
          "output_type": "stream",
          "text": [
            "[nltk_data] Downloading package wordnet to /root/nltk_data...\n",
            "[nltk_data]   Package wordnet is already up-to-date!\n"
          ],
          "name": "stdout"
        },
        {
          "output_type": "execute_result",
          "data": {
            "text/html": [
              "<div>\n",
              "<style scoped>\n",
              "    .dataframe tbody tr th:only-of-type {\n",
              "        vertical-align: middle;\n",
              "    }\n",
              "\n",
              "    .dataframe tbody tr th {\n",
              "        vertical-align: top;\n",
              "    }\n",
              "\n",
              "    .dataframe thead th {\n",
              "        text-align: right;\n",
              "    }\n",
              "</style>\n",
              "<table border=\"1\" class=\"dataframe\">\n",
              "  <thead>\n",
              "    <tr style=\"text-align: right;\">\n",
              "      <th></th>\n",
              "      <th>Assignment group</th>\n",
              "      <th>Description Clean</th>\n",
              "      <th>Description Clean Tokens</th>\n",
              "      <th>Description Clean Tokens Stemmed</th>\n",
              "      <th>Description Clean Tokens Stemmed Lemmatized</th>\n",
              "    </tr>\n",
              "  </thead>\n",
              "  <tbody>\n",
              "    <tr>\n",
              "      <th>0</th>\n",
              "      <td>GRP_0</td>\n",
              "      <td>login issue verified user details employee man...</td>\n",
              "      <td>[login, issue, verified, user, details, employ...</td>\n",
              "      <td>[login, issu, verifi, user, detail, employe, m...</td>\n",
              "      <td>[login, issu, verifi, user, detail, employe, m...</td>\n",
              "    </tr>\n",
              "    <tr>\n",
              "      <th>1</th>\n",
              "      <td>GRP_0</td>\n",
              "      <td>outlook received team meetings skype meetings ...</td>\n",
              "      <td>[outlook, received, team, meetings, skype, mee...</td>\n",
              "      <td>[outlook, receiv, team, meet, skype, meet, etc...</td>\n",
              "      <td>[outlook, receiv, team, meet, skype, meet, etc...</td>\n",
              "    </tr>\n",
              "    <tr>\n",
              "      <th>2</th>\n",
              "      <td>GRP_0</td>\n",
              "      <td>log vpn received cannot log vpn best eylqgodm ...</td>\n",
              "      <td>[log, vpn, received, can, not, log, vpn, best,...</td>\n",
              "      <td>[log, vpn, receiv, can, not, log, vpn, best, e...</td>\n",
              "      <td>[log, vpn, receiv, can, not, log, vpn, best, e...</td>\n",
              "    </tr>\n",
              "    <tr>\n",
              "      <th>3</th>\n",
              "      <td>GRP_0</td>\n",
              "      <td>unable access hr tool page unable access hr to...</td>\n",
              "      <td>[unable, access, hr, tool, page, unable, acces...</td>\n",
              "      <td>[unabl, access, hr, tool, page, unabl, access,...</td>\n",
              "      <td>[unabl, access, hr, tool, page, unabl, access,...</td>\n",
              "    </tr>\n",
              "    <tr>\n",
              "      <th>4</th>\n",
              "      <td>GRP_0</td>\n",
              "      <td>skype error skype error owlgqjme qhcozdfx</td>\n",
              "      <td>[skype, error, skype, error, owlgqjme, qhcozdfx]</td>\n",
              "      <td>[skype, error, skype, error, owlgqjm, qhcozdfx]</td>\n",
              "      <td>[skype, error, skype, error, owlgqjm, qhcozdfx]</td>\n",
              "    </tr>\n",
              "  </tbody>\n",
              "</table>\n",
              "</div>"
            ],
            "text/plain": [
              "  Assignment group  ...        Description Clean Tokens Stemmed Lemmatized\n",
              "0            GRP_0  ...  [login, issu, verifi, user, detail, employe, m...\n",
              "1            GRP_0  ...  [outlook, receiv, team, meet, skype, meet, etc...\n",
              "2            GRP_0  ...  [log, vpn, receiv, can, not, log, vpn, best, e...\n",
              "3            GRP_0  ...  [unabl, access, hr, tool, page, unabl, access,...\n",
              "4            GRP_0  ...    [skype, error, skype, error, owlgqjm, qhcozdfx]\n",
              "\n",
              "[5 rows x 5 columns]"
            ]
          },
          "metadata": {
            "tags": []
          },
          "execution_count": 42
        }
      ]
    },
    {
      "cell_type": "code",
      "metadata": {
        "id": "L9q_5nDn54eM",
        "colab_type": "code",
        "colab": {
          "base_uri": "https://localhost:8080/",
          "height": 336
        },
        "outputId": "56da9271-0d6e-4cae-bcfb-1d638fc62424"
      },
      "source": [
        "#Showcase Word Cloud befor data cleaning and after cleaning\n",
        "from PIL import Image\n",
        "from wordcloud import WordCloud, ImageColorGenerator\n",
        "\n",
        "## Now use the original data set without any cleaning.\n",
        "# drop rows with missing values.. from the original dataset\n",
        "df_copy.dropna(inplace=True) ## We need to remove nan to wordcloud... else you will get the errors\n",
        "\n",
        "#Combine Text Fields\n",
        "df_copy['Final Description'] = df_copy['Short description'].str.cat(df_copy['Description'],sep=\" \")\n",
        "df_copy['Final Description'] = df_copy['Final Description'].str.cat(df_copy['Caller'],sep=\" \")\n",
        "text = \" \".join(review for review in df_copy['Final Description'])\n",
        "print (\"There are {} words in the combination of all review.\".format(len(text)))\n",
        "\n",
        "# Generate a word cloud image\n",
        "wordcloud = WordCloud(background_color=\"white\").generate(' '.join(df_copy['Final Description']))\n",
        "\n",
        "# Display the generated image:\n",
        "# the matplotlib way:\n",
        "plt.figure(figsize=[10,5])\n",
        "plt.imshow(wordcloud, interpolation='bilinear')\n",
        "plt.axis(\"off\")\n",
        "plt.title(\"Raw data word cloud\")\n",
        "plt.show()"
      ],
      "execution_count": 43,
      "outputs": [
        {
          "output_type": "stream",
          "text": [
            "There are 2304069 words in the combination of all review.\n"
          ],
          "name": "stdout"
        },
        {
          "output_type": "display_data",
          "data": {
            "image/png": "[encoded data removed]",
            "text/plain": [
              "<Figure size 720x360 with 1 Axes>"
            ]
          },
          "metadata": {
            "tags": [],
            "needs_background": "light"
          }
        }
      ]
    },
    {
      "cell_type": "code",
      "metadata": {
        "id": "kSK0Tzi18w2X",
        "colab_type": "code",
        "colab": {
          "base_uri": "https://localhost:8080/",
          "height": 646
        },
        "outputId": "0f21ad89-3031-40d9-96c2-ae7bd8d4cbb6"
      },
      "source": [
        "text = \" \".join(review for review in df_clean['Description Clean'])\n",
        "print (\"There are {} words in the combination of all review.\".format(len(text)))\n",
        "# Generate a word cloud image\n",
        "wordcloud = WordCloud(background_color=\"white\").generate(text)\n",
        "\n",
        "# Display the generated image:\n",
        "# the matplotlib way:\n",
        "plt.imshow(wordcloud, interpolation='bilinear')\n",
        "plt.figure(figsize=[7,7])\n",
        "plt.axis(\"off\")\n",
        "plt.title(\"Cleaned Data\")\n",
        "plt.show()"
      ],
      "execution_count": 44,
      "outputs": [
        {
          "output_type": "stream",
          "text": [
            "There are 1306823 words in the combination of all review.\n"
          ],
          "name": "stdout"
        },
        {
          "output_type": "display_data",
          "data": {
            "image/png": "[encoded data removed]",
            "text/plain": [
              "<Figure size 432x288 with 1 Axes>"
            ]
          },
          "metadata": {
            "tags": [],
            "needs_background": "light"
          }
        },
        {
          "output_type": "display_data",
          "data": {
            "image/png": "[encoded data removed]",
            "text/plain": [
              "<Figure size 504x504 with 1 Axes>"
            ]
          },
          "metadata": {
            "tags": [],
            "needs_background": "light"
          }
        }
      ]
    },
    {
      "cell_type": "markdown",
      "metadata": {
        "id": "ysiwPLPyDV11",
        "colab_type": "text"
      },
      "source": [
        "There is reducation in word count before and after data cleaning.."
      ]
    },
    {
      "cell_type": "code",
      "metadata": {
        "id": "sAUZzrBq_ORy",
        "colab_type": "code",
        "colab": {
          "base_uri": "https://localhost:8080/",
          "height": 374
        },
        "outputId": "71865d13-52e3-4e14-ae68-851f6f097864"
      },
      "source": [
        "#POS Tagging\n",
        "def word_pos_tagger(text):\n",
        "    pos_tagged_text = nltk.pos_tag(text)\n",
        "    return pos_tagged_text\n",
        "nltk.download('averaged_perceptron_tagger')\n",
        "df_clean['Description POS'] = df_clean['Description Clean Tokens'].apply(lambda x: word_pos_tagger(x))\n",
        "df_clean.head()"
      ],
      "execution_count": 45,
      "outputs": [
        {
          "output_type": "stream",
          "text": [
            "[nltk_data] Downloading package averaged_perceptron_tagger to\n",
            "[nltk_data]     /root/nltk_data...\n",
            "[nltk_data]   Package averaged_perceptron_tagger is already up-to-\n",
            "[nltk_data]       date!\n"
          ],
          "name": "stdout"
        },
        {
          "output_type": "execute_result",
          "data": {
            "text/html": [
              "<div>\n",
              "<style scoped>\n",
              "    .dataframe tbody tr th:only-of-type {\n",
              "        vertical-align: middle;\n",
              "    }\n",
              "\n",
              "    .dataframe tbody tr th {\n",
              "        vertical-align: top;\n",
              "    }\n",
              "\n",
              "    .dataframe thead th {\n",
              "        text-align: right;\n",
              "    }\n",
              "</style>\n",
              "<table border=\"1\" class=\"dataframe\">\n",
              "  <thead>\n",
              "    <tr style=\"text-align: right;\">\n",
              "      <th></th>\n",
              "      <th>Assignment group</th>\n",
              "      <th>Description Clean</th>\n",
              "      <th>Description Clean Tokens</th>\n",
              "      <th>Description Clean Tokens Stemmed</th>\n",
              "      <th>Description Clean Tokens Stemmed Lemmatized</th>\n",
              "      <th>Description POS</th>\n",
              "    </tr>\n",
              "  </thead>\n",
              "  <tbody>\n",
              "    <tr>\n",
              "      <th>0</th>\n",
              "      <td>GRP_0</td>\n",
              "      <td>login issue verified user details employee man...</td>\n",
              "      <td>[login, issue, verified, user, details, employ...</td>\n",
              "      <td>[login, issu, verifi, user, detail, employe, m...</td>\n",
              "      <td>[login, issu, verifi, user, detail, employe, m...</td>\n",
              "      <td>[(login, JJ), (issue, NN), (verified, VBD), (u...</td>\n",
              "    </tr>\n",
              "    <tr>\n",
              "      <th>1</th>\n",
              "      <td>GRP_0</td>\n",
              "      <td>outlook received team meetings skype meetings ...</td>\n",
              "      <td>[outlook, received, team, meetings, skype, mee...</td>\n",
              "      <td>[outlook, receiv, team, meet, skype, meet, etc...</td>\n",
              "      <td>[outlook, receiv, team, meet, skype, meet, etc...</td>\n",
              "      <td>[(outlook, NN), (received, VBD), (team, JJ), (...</td>\n",
              "    </tr>\n",
              "    <tr>\n",
              "      <th>2</th>\n",
              "      <td>GRP_0</td>\n",
              "      <td>log vpn received cannot log vpn best eylqgodm ...</td>\n",
              "      <td>[log, vpn, received, can, not, log, vpn, best,...</td>\n",
              "      <td>[log, vpn, receiv, can, not, log, vpn, best, e...</td>\n",
              "      <td>[log, vpn, receiv, can, not, log, vpn, best, e...</td>\n",
              "      <td>[(log, NN), (vpn, NNS), (received, VBD), (can,...</td>\n",
              "    </tr>\n",
              "    <tr>\n",
              "      <th>3</th>\n",
              "      <td>GRP_0</td>\n",
              "      <td>unable access hr tool page unable access hr to...</td>\n",
              "      <td>[unable, access, hr, tool, page, unable, acces...</td>\n",
              "      <td>[unabl, access, hr, tool, page, unabl, access,...</td>\n",
              "      <td>[unabl, access, hr, tool, page, unabl, access,...</td>\n",
              "      <td>[(unable, JJ), (access, NN), (hr, NN), (tool, ...</td>\n",
              "    </tr>\n",
              "    <tr>\n",
              "      <th>4</th>\n",
              "      <td>GRP_0</td>\n",
              "      <td>skype error skype error owlgqjme qhcozdfx</td>\n",
              "      <td>[skype, error, skype, error, owlgqjme, qhcozdfx]</td>\n",
              "      <td>[skype, error, skype, error, owlgqjm, qhcozdfx]</td>\n",
              "      <td>[skype, error, skype, error, owlgqjm, qhcozdfx]</td>\n",
              "      <td>[(skype, JJ), (error, NN), (skype, NN), (error...</td>\n",
              "    </tr>\n",
              "  </tbody>\n",
              "</table>\n",
              "</div>"
            ],
            "text/plain": [
              "  Assignment group  ...                                    Description POS\n",
              "0            GRP_0  ...  [(login, JJ), (issue, NN), (verified, VBD), (u...\n",
              "1            GRP_0  ...  [(outlook, NN), (received, VBD), (team, JJ), (...\n",
              "2            GRP_0  ...  [(log, NN), (vpn, NNS), (received, VBD), (can,...\n",
              "3            GRP_0  ...  [(unable, JJ), (access, NN), (hr, NN), (tool, ...\n",
              "4            GRP_0  ...  [(skype, JJ), (error, NN), (skype, NN), (error...\n",
              "\n",
              "[5 rows x 6 columns]"
            ]
          },
          "metadata": {
            "tags": []
          },
          "execution_count": 45
        }
      ]
    },
    {
      "cell_type": "code",
      "metadata": {
        "id": "00ObhE9oBPnX",
        "colab_type": "code",
        "colab": {}
      },
      "source": [
        ""
      ],
      "execution_count": 47,
      "outputs": []
    },
    {
      "cell_type": "markdown",
      "metadata": {
        "id": "zpNGobHFEoNn",
        "colab_type": "text"
      },
      "source": [
        "**LSTM Model#1**\n",
        "\n"
      ]
    },
    {
      "cell_type": "code",
      "metadata": {
        "id": "A_26KKlQFDpi",
        "colab_type": "code",
        "colab": {
          "base_uri": "https://localhost:8080/",
          "height": 34
        },
        "outputId": "2c92c927-5478-49f1-dab9-02806ff42bcb"
      },
      "source": [
        "## Import the libraries\n",
        "from tensorflow.keras.preprocessing.text import Tokenizer\n",
        "from tensorflow.keras.preprocessing.sequence import pad_sequences\n",
        "\n",
        "from sklearn.feature_extraction.text import CountVectorizer\n",
        "from keras.preprocessing.text import Tokenizer\n",
        "from keras.preprocessing.sequence import pad_sequences\n",
        "from keras.models import Sequential\n",
        "from keras.layers import Dense, Embedding, LSTM, SpatialDropout1D\n",
        "from sklearn.model_selection import train_test_split\n",
        "from keras.utils.np_utils import to_categorical"
      ],
      "execution_count": 48,
      "outputs": [
        {
          "output_type": "stream",
          "text": [
            "Using TensorFlow backend.\n"
          ],
          "name": "stderr"
        }
      ]
    },
    {
      "cell_type": "code",
      "metadata": {
        "id": "fn6Z2ehWFTec",
        "colab_type": "code",
        "colab": {}
      },
      "source": [
        "## Tokenize the description field and build the X and Y parameters for the model\n",
        "\n",
        "for idx,row in df.iterrows():\n",
        "    row[0] = row[0].replace('rt',' ')\n",
        "    \n",
        "vocabSize = 10000\n",
        "maxXFeatureSize = 200\n",
        "tokenizer = Tokenizer(num_words=vocabSize, split=' ')\n",
        "tokenizer.fit_on_texts(df_clean['Description Clean'].values)"
      ],
      "execution_count": 49,
      "outputs": []
    },
    {
      "cell_type": "code",
      "metadata": {
        "id": "T2NuvvBWGlEK",
        "colab_type": "code",
        "colab": {}
      },
      "source": [
        "##Extract X\n",
        "X = tokenizer.texts_to_sequences(df_clean['Description Clean'].values)\n",
        "X = pad_sequences(X, maxlen = maxXFeatureSize ) ### Add max len parameter"
      ],
      "execution_count": 50,
      "outputs": []
    },
    {
      "cell_type": "code",
      "metadata": {
        "id": "uA7DJ_sMG2Ti",
        "colab_type": "code",
        "colab": {
          "base_uri": "https://localhost:8080/",
          "height": 34
        },
        "outputId": "d9eba25f-0c61-40e2-e848-e6138cf5a225"
      },
      "source": [
        "X.shape"
      ],
      "execution_count": 51,
      "outputs": [
        {
          "output_type": "execute_result",
          "data": {
            "text/plain": [
              "(7606, 200)"
            ]
          },
          "metadata": {
            "tags": []
          },
          "execution_count": 51
        }
      ]
    },
    {
      "cell_type": "code",
      "metadata": {
        "id": "OReCTDPhHBf7",
        "colab_type": "code",
        "colab": {}
      },
      "source": [
        "##Extract Y\n",
        "from sklearn import preprocessing\n",
        "le = preprocessing.LabelEncoder()\n",
        "le.fit(df_clean['Assignment group'])\n",
        "y_enc = le.transform(df_clean['Assignment group'])\n",
        "Y = pd.get_dummies(y_enc).values"
      ],
      "execution_count": 52,
      "outputs": []
    },
    {
      "cell_type": "code",
      "metadata": {
        "id": "w2wBlsHbHNcE",
        "colab_type": "code",
        "colab": {
          "base_uri": "https://localhost:8080/",
          "height": 34
        },
        "outputId": "fd9c8c4c-8897-409f-b736-0444d4da6421"
      },
      "source": [
        "Y.shape"
      ],
      "execution_count": 53,
      "outputs": [
        {
          "output_type": "execute_result",
          "data": {
            "text/plain": [
              "(7606, 24)"
            ]
          },
          "metadata": {
            "tags": []
          },
          "execution_count": 53
        }
      ]
    },
    {
      "cell_type": "code",
      "metadata": {
        "id": "zg7bW4zdfzbY",
        "colab_type": "code",
        "colab": {
          "base_uri": "https://localhost:8080/",
          "height": 51
        },
        "outputId": "856c65d6-ab76-4137-e3b7-ee4a071f6af8"
      },
      "source": [
        "## Split the data into train and test\n",
        "X_train, X_test, Y_train, Y_test = train_test_split(X,Y, test_size = 0.30, random_state = 42)\n",
        "print(X_train.shape,Y_train.shape)\n",
        "print(X_test.shape,Y_test.shape)"
      ],
      "execution_count": 54,
      "outputs": [
        {
          "output_type": "stream",
          "text": [
            "(5324, 200) (5324, 24)\n",
            "(2282, 200) (2282, 24)\n"
          ],
          "name": "stdout"
        }
      ]
    },
    {
      "cell_type": "code",
      "metadata": {
        "id": "F8USQX60Hg3Z",
        "colab_type": "code",
        "colab": {
          "base_uri": "https://localhost:8080/",
          "height": 306
        },
        "outputId": "d867e4ef-3ac5-4b10-a22f-13d9e3f49091"
      },
      "source": [
        "## Lets try out LSTM model\n",
        "from keras.layers import Dropout\n",
        "\n",
        "embed_dim = 128\n",
        "lstm_out = 256    ### 256... 128\n",
        "\n",
        "model = Sequential()\n",
        "model.add(Embedding(vocabSize+1, embed_dim,input_length = X.shape[1]))\n",
        "model.add(SpatialDropout1D(0.5))\n",
        "model.add(LSTM(lstm_out, dropout=0.2, recurrent_dropout=0.3)) ### 0.2, 0.3\n",
        "model.add(Dense(groupCount,activation='softmax'))  ### Note that they are 24 groups to which tickets are to be assigned \n",
        "model.compile(loss = 'categorical_crossentropy', optimizer='adam',metrics = ['accuracy'])\n",
        "print(model.summary())"
      ],
      "execution_count": 55,
      "outputs": [
        {
          "output_type": "stream",
          "text": [
            "Model: \"sequential_1\"\n",
            "_________________________________________________________________\n",
            "Layer (type)                 Output Shape              Param #   \n",
            "=================================================================\n",
            "embedding_1 (Embedding)      (None, 200, 128)          1280128   \n",
            "_________________________________________________________________\n",
            "spatial_dropout1d_1 (Spatial (None, 200, 128)          0         \n",
            "_________________________________________________________________\n",
            "lstm_1 (LSTM)                (None, 256)               394240    \n",
            "_________________________________________________________________\n",
            "dense_1 (Dense)              (None, 24)                6168      \n",
            "=================================================================\n",
            "Total params: 1,680,536\n",
            "Trainable params: 1,680,536\n",
            "Non-trainable params: 0\n",
            "_________________________________________________________________\n",
            "None\n"
          ],
          "name": "stdout"
        }
      ]
    },
    {
      "cell_type": "code",
      "metadata": {
        "id": "X4BiY8X0Hp4D",
        "colab_type": "code",
        "colab": {}
      },
      "source": [
        "# Using Keras Callbacks, save the best model based on validation data loss parameter\n",
        "from keras.callbacks import ModelCheckpoint, EarlyStopping\n",
        "\n",
        "callbacks = [\n",
        "    EarlyStopping(monitor='val_loss', patience=5, verbose=0, mode='auto'),         \n",
        "    ModelCheckpoint('./ticketCategorizationC2-{epoch:03d}.h5', monitor='val_loss', verbose=1, save_best_only = True)\n",
        "]"
      ],
      "execution_count": 56,
      "outputs": []
    },
    {
      "cell_type": "code",
      "metadata": {
        "id": "ZjEvO7lUHzIb",
        "colab_type": "code",
        "colab": {
          "base_uri": "https://localhost:8080/",
          "height": 850
        },
        "outputId": "8bfce0d8-a26c-459e-8746-10595964b892"
      },
      "source": [
        "\n",
        "batch_size = 32\n",
        "EPOCHS = 50\n",
        "history = model.fit(X_train, Y_train, validation_data= (X_test, Y_test), epochs = EPOCHS, batch_size=batch_size, callbacks = callbacks,verbose = 2)  ### Add validation split.."
      ],
      "execution_count": 57,
      "outputs": [
        {
          "output_type": "stream",
          "text": [
            "Train on 5324 samples, validate on 2282 samples\n",
            "Epoch 1/50\n",
            " - 151s - loss: 1.9275 - accuracy: 0.5554 - val_loss: 1.5737 - val_accuracy: 0.6025\n",
            "\n",
            "Epoch 00001: val_loss improved from inf to 1.57373, saving model to ./ticketCategorizationC2-001.h5\n",
            "Epoch 2/50\n",
            " - 151s - loss: 1.4693 - accuracy: 0.6136 - val_loss: 1.4077 - val_accuracy: 0.6284\n",
            "\n",
            "Epoch 00002: val_loss improved from 1.57373 to 1.40770, saving model to ./ticketCategorizationC2-002.h5\n",
            "Epoch 3/50\n",
            " - 152s - loss: 1.2717 - accuracy: 0.6456 - val_loss: 1.3795 - val_accuracy: 0.6437\n",
            "\n",
            "Epoch 00003: val_loss improved from 1.40770 to 1.37949, saving model to ./ticketCategorizationC2-003.h5\n",
            "Epoch 4/50\n",
            " - 152s - loss: 1.1129 - accuracy: 0.6751 - val_loss: 1.3054 - val_accuracy: 0.6569\n",
            "\n",
            "Epoch 00004: val_loss improved from 1.37949 to 1.30536, saving model to ./ticketCategorizationC2-004.h5\n",
            "Epoch 5/50\n",
            " - 153s - loss: 0.9847 - accuracy: 0.7079 - val_loss: 1.2941 - val_accuracy: 0.6389\n",
            "\n",
            "Epoch 00005: val_loss improved from 1.30536 to 1.29410, saving model to ./ticketCategorizationC2-005.h5\n",
            "Epoch 6/50\n",
            " - 152s - loss: 0.8649 - accuracy: 0.7359 - val_loss: 1.2937 - val_accuracy: 0.6521\n",
            "\n",
            "Epoch 00006: val_loss improved from 1.29410 to 1.29369, saving model to ./ticketCategorizationC2-006.h5\n",
            "Epoch 7/50\n",
            " - 153s - loss: 0.7418 - accuracy: 0.7767 - val_loss: 1.2877 - val_accuracy: 0.6643\n",
            "\n",
            "Epoch 00007: val_loss improved from 1.29369 to 1.28769, saving model to ./ticketCategorizationC2-007.h5\n",
            "Epoch 8/50\n",
            " - 152s - loss: 0.6637 - accuracy: 0.8007 - val_loss: 1.3000 - val_accuracy: 0.6617\n",
            "\n",
            "Epoch 00008: val_loss did not improve from 1.28769\n",
            "Epoch 9/50\n",
            " - 152s - loss: 0.5723 - accuracy: 0.8233 - val_loss: 1.3390 - val_accuracy: 0.6683\n",
            "\n",
            "Epoch 00009: val_loss did not improve from 1.28769\n",
            "Epoch 10/50\n",
            " - 152s - loss: 0.4934 - accuracy: 0.8460 - val_loss: 1.4018 - val_accuracy: 0.6700\n",
            "\n",
            "Epoch 00010: val_loss did not improve from 1.28769\n",
            "Epoch 11/50\n",
            " - 152s - loss: 0.4330 - accuracy: 0.8621 - val_loss: 1.3812 - val_accuracy: 0.6871\n",
            "\n",
            "Epoch 00011: val_loss did not improve from 1.28769\n",
            "Epoch 12/50\n",
            " - 152s - loss: 0.3826 - accuracy: 0.8805 - val_loss: 1.4098 - val_accuracy: 0.6735\n",
            "\n",
            "Epoch 00012: val_loss did not improve from 1.28769\n"
          ],
          "name": "stdout"
        }
      ]
    },
    {
      "cell_type": "code",
      "metadata": {
        "id": "mu4bDJ55qgV5",
        "colab_type": "code",
        "colab": {}
      },
      "source": [
        "# It can be used to reconstruct the model identically.\n",
        "from keras.models import load_model\n",
        "\n",
        "reconstructed_model = load_model(\"./ticketCategorizationC2-007.h5\")\n"
      ],
      "execution_count": 67,
      "outputs": []
    },
    {
      "cell_type": "code",
      "metadata": {
        "id": "0vfTuYAlI0aH",
        "colab_type": "code",
        "colab": {
          "base_uri": "https://localhost:8080/",
          "height": 119
        },
        "outputId": "e653a5be-339e-4ff3-d188-bedfac110963"
      },
      "source": [
        "print('\\nModel Performance: Log Loss and Accuracy on Test data')\n",
        "testLoss, testAcc = reconstructed_model.evaluate(X_test, Y_test, batch_size = 1)\n",
        "print('\\nTesting Scores:: loss: {}, acc: {}\\n'.format(testLoss, testAcc))"
      ],
      "execution_count": 68,
      "outputs": [
        {
          "output_type": "stream",
          "text": [
            "\n",
            "Model Performance: Log Loss and Accuracy on Test data\n",
            "2282/2282 [==============================] - 58s 26ms/step\n",
            "\n",
            "Testing Scores:: loss: 1.287687792237469, acc: 0.6643295288085938\n",
            "\n"
          ],
          "name": "stdout"
        }
      ]
    },
    {
      "cell_type": "code",
      "metadata": {
        "id": "qUWxypvHgi5x",
        "colab_type": "code",
        "colab": {
          "base_uri": "https://localhost:8080/",
          "height": 544
        },
        "outputId": "8b34f1fa-bd83-463c-88e3-164114c7b643"
      },
      "source": [
        "## Confusion matrix and Classification report\n",
        "\n",
        "from sklearn.metrics import classification_report, confusion_matrix\n",
        "import numpy as np\n",
        "rounded_labels=np.argmax(Y_test, axis=1)\n",
        "y_pred = reconstructed_model.predict_classes(X_test)\n",
        "report = classification_report(rounded_labels, y_pred, target_names=df_clean['Assignment group'].unique() )\n",
        "print(report)"
      ],
      "execution_count": 69,
      "outputs": [
        {
          "output_type": "stream",
          "text": [
            "              precision    recall  f1-score   support\n",
            "\n",
            "       GRP_0       0.81      0.90      0.85      1178\n",
            "       GRP_3       0.65      0.39      0.49        44\n",
            "       GRP_4       0.70      0.61      0.65        79\n",
            "       GRP_5       0.27      0.44      0.33        41\n",
            "       GRP_6       0.24      0.22      0.23        23\n",
            "       GRP_7       0.00      0.00      0.00        25\n",
            "       GRP_8       0.89      0.64      0.74        25\n",
            "       GRP_9       0.15      0.21      0.17        19\n",
            "      GRP_10       0.12      0.21      0.15        66\n",
            "      GRP_12       0.55      0.45      0.50        69\n",
            "      GRP_13       0.93      0.76      0.84        92\n",
            "      GRP_14       0.00      0.00      0.00        24\n",
            "      GRP_16       0.00      0.00      0.00        19\n",
            "      GRP_17       0.67      0.06      0.11        32\n",
            "      GRP_18       0.35      0.38      0.36        58\n",
            "      GRP_19       1.00      0.06      0.11        18\n",
            "       GRP_2       0.26      0.36      0.30        25\n",
            "      GRP_24       0.00      0.00      0.00        17\n",
            "      GRP_25       0.50      0.22      0.30        32\n",
            "      GRP_26       0.88      0.33      0.47        43\n",
            "      GRP_29       0.50      0.12      0.19        59\n",
            "      GRP_31       0.50      0.09      0.15        22\n",
            "      GRP_33       0.54      0.89      0.67       188\n",
            "      GRP_34       0.08      0.02      0.04        84\n",
            "\n",
            "    accuracy                           0.66      2282\n",
            "   macro avg       0.44      0.31      0.32      2282\n",
            "weighted avg       0.65      0.66      0.63      2282\n",
            "\n"
          ],
          "name": "stdout"
        }
      ]
    },
    {
      "cell_type": "code",
      "metadata": {
        "id": "k84B81wEhBpu",
        "colab_type": "code",
        "colab": {
          "base_uri": "https://localhost:8080/",
          "height": 1000
        },
        "outputId": "9b344ff5-0719-4334-a481-d84e5c270ac7"
      },
      "source": [
        "cm = confusion_matrix(rounded_labels, y_pred)\n",
        "cm"
      ],
      "execution_count": 72,
      "outputs": [
        {
          "output_type": "execute_result",
          "data": {
            "text/plain": [
              "array([[1059,    3,    2,    5,    3,    2,    1,    1,   54,   13,    0,\n",
              "           4,    0,    0,   17,    0,    6,    0,    0,    0,    0,    2,\n",
              "           0,    6],\n",
              "       [   5,   17,    0,    7,    0,    0,    0,    1,    3,    0,    0,\n",
              "           0,    0,    0,    1,    0,    0,    0,    0,    0,    0,    0,\n",
              "           8,    2],\n",
              "       [  11,    0,   48,    1,    2,    0,    0,    1,    1,    4,    2,\n",
              "           2,    0,    0,    1,    0,    2,    0,    0,    0,    0,    0,\n",
              "           4,    0],\n",
              "       [  10,    1,    0,   18,    1,    0,    0,    3,    2,    0,    0,\n",
              "           0,    0,    0,    1,    0,    0,    0,    0,    0,    2,    0,\n",
              "           0,    3],\n",
              "       [  10,    0,    4,    0,    5,    0,    0,    0,    1,    0,    0,\n",
              "           1,    0,    0,    0,    0,    0,    0,    0,    0,    0,    0,\n",
              "           2,    0],\n",
              "       [  20,    0,    0,    0,    1,    0,    0,    0,    1,    0,    0,\n",
              "           0,    0,    0,    1,    0,    0,    0,    1,    0,    1,    0,\n",
              "           0,    0],\n",
              "       [   8,    0,    0,    0,    0,    0,   16,    0,    0,    1,    0,\n",
              "           0,    0,    0,    0,    0,    0,    0,    0,    0,    0,    0,\n",
              "           0,    0],\n",
              "       [   2,    0,    0,    8,    0,    0,    0,    4,    0,    0,    0,\n",
              "           0,    0,    0,    0,    0,    0,    0,    0,    0,    1,    0,\n",
              "           0,    4],\n",
              "       [  39,    0,    0,    0,    0,    3,    0,    1,   14,    1,    0,\n",
              "           1,    0,    0,    6,    0,    0,    0,    0,    0,    0,    0,\n",
              "           0,    1],\n",
              "       [  32,    0,    0,    0,    2,    0,    0,    0,    2,   31,    0,\n",
              "           1,    0,    0,    1,    0,    0,    0,    0,    0,    0,    0,\n",
              "           0,    0],\n",
              "       [   4,    0,    2,    0,    0,    0,    0,    0,    0,    0,   70,\n",
              "           2,    0,    0,    2,    0,   12,    0,    0,    0,    0,    0,\n",
              "           0,    0],\n",
              "       [   8,    1,    0,    0,    2,    0,    0,    1,    6,    0,    0,\n",
              "           0,    0,    0,    2,    0,    1,    0,    1,    0,    0,    0,\n",
              "           0,    2],\n",
              "       [  10,    0,    0,    1,    0,    0,    0,    0,    2,    0,    0,\n",
              "           1,    0,    1,    1,    0,    1,    0,    1,    0,    0,    0,\n",
              "           0,    1],\n",
              "       [   3,    2,    0,   11,    0,    0,    0,    5,    4,    0,    0,\n",
              "           0,    0,    2,    0,    0,    2,    0,    0,    0,    1,    0,\n",
              "           0,    2],\n",
              "       [  23,    0,    1,    0,    0,    0,    0,    0,    7,    4,    0,\n",
              "           0,    0,    0,   22,    0,    0,    0,    1,    0,    0,    0,\n",
              "           0,    0],\n",
              "       [  10,    0,    0,    0,    0,    0,    0,    0,    6,    0,    0,\n",
              "           0,    0,    0,    1,    1,    0,    0,    0,    0,    0,    0,\n",
              "           0,    0],\n",
              "       [   7,    0,    0,    0,    1,    0,    0,    0,    1,    0,    3,\n",
              "           0,    0,    0,    4,    0,    9,    0,    0,    0,    0,    0,\n",
              "           0,    0],\n",
              "       [  12,    0,    2,    0,    0,    0,    0,    0,    0,    1,    0,\n",
              "           0,    0,    0,    1,    0,    1,    0,    0,    0,    0,    0,\n",
              "           0,    0],\n",
              "       [   7,    0,    1,    0,    1,    0,    0,    1,    4,    1,    0,\n",
              "           0,    0,    0,    1,    0,    0,    0,    7,    0,    0,    0,\n",
              "           9,    0],\n",
              "       [   1,    0,    0,    1,    0,    0,    0,    0,    0,    0,    0,\n",
              "           0,    0,    0,    0,    0,    0,    0,    0,   14,    0,    0,\n",
              "          27,    0],\n",
              "       [   1,    0,    0,   11,    0,    0,    0,    8,    1,    0,    0,\n",
              "           0,    0,    0,    0,    0,    0,    0,    0,    0,    7,    0,\n",
              "          30,    1],\n",
              "       [  13,    0,    0,    1,    0,    0,    1,    0,    5,    0,    0,\n",
              "           0,    0,    0,    0,    0,    0,    0,    0,    0,    0,    2,\n",
              "           0,    0],\n",
              "       [   1,    1,    8,    0,    3,    0,    0,    0,    1,    0,    0,\n",
              "           0,    0,    0,    0,    0,    0,    0,    3,    2,    1,    0,\n",
              "         168,    0],\n",
              "       [   8,    1,    1,    3,    0,    0,    0,    1,    1,    0,    0,\n",
              "           1,    0,    0,    1,    0,    1,    0,    0,    0,    1,    0,\n",
              "          63,    2]])"
            ]
          },
          "metadata": {
            "tags": []
          },
          "execution_count": 72
        }
      ]
    },
    {
      "cell_type": "markdown",
      "metadata": {
        "id": "Se1tiwpSGsI8",
        "colab_type": "text"
      },
      "source": [
        "**Defining Train and Test Data for ML classifier models**"
      ]
    },
    {
      "cell_type": "code",
      "metadata": {
        "id": "7fqvQHexzR1K",
        "colab_type": "code",
        "colab": {}
      },
      "source": [
        "from sklearn.model_selection import train_test_split\n",
        "X = df_clean['Description Clean']\n",
        "y = df['Assignment group']\n"
      ],
      "execution_count": 61,
      "outputs": []
    },
    {
      "cell_type": "code",
      "metadata": {
        "id": "D86TSU4ihYEh",
        "colab_type": "code",
        "colab": {
          "base_uri": "https://localhost:8080/",
          "height": 34
        },
        "outputId": "224e0d4d-226a-4e79-f9c9-3b6db5387e0f"
      },
      "source": [
        "X.shape"
      ],
      "execution_count": 62,
      "outputs": [
        {
          "output_type": "execute_result",
          "data": {
            "text/plain": [
              "(7606,)"
            ]
          },
          "metadata": {
            "tags": []
          },
          "execution_count": 62
        }
      ]
    },
    {
      "cell_type": "code",
      "metadata": {
        "id": "H-leStRPhZ5I",
        "colab_type": "code",
        "colab": {
          "base_uri": "https://localhost:8080/",
          "height": 34
        },
        "outputId": "4e4d8bbf-ed45-41aa-a5fd-ba1244c24192"
      },
      "source": [
        "y.shape"
      ],
      "execution_count": 63,
      "outputs": [
        {
          "output_type": "execute_result",
          "data": {
            "text/plain": [
              "(7606,)"
            ]
          },
          "metadata": {
            "tags": []
          },
          "execution_count": 63
        }
      ]
    },
    {
      "cell_type": "markdown",
      "metadata": {
        "id": "HwpcJc223LS-",
        "colab_type": "text"
      },
      "source": [
        "**Using TFIDF for Model**"
      ]
    },
    {
      "cell_type": "code",
      "metadata": {
        "id": "axc2LnuDIzcA",
        "colab_type": "code",
        "colab": {}
      },
      "source": [
        ""
      ],
      "execution_count": 63,
      "outputs": []
    },
    {
      "cell_type": "code",
      "metadata": {
        "id": "omY7KSTDcQd9",
        "colab_type": "code",
        "colab": {
          "base_uri": "https://localhost:8080/",
          "height": 374
        },
        "outputId": "878904f8-5cea-4c60-e607-302599977b36"
      },
      "source": [
        "from sklearn.feature_extraction.text import TfidfVectorizer\n",
        "from sklearn.linear_model import LogisticRegression\n",
        "from sklearn.metrics import accuracy_score, recall_score\n",
        "\n",
        "tfidf_vectorizer = TfidfVectorizer()\n",
        "tfidf_vectorizer.fit(X_train)\n",
        "X_vector = tfidf_vectorizer.transform(X_train)\n",
        "X_vector_validation = tfidf_vectorizer.transform(X_validation)\n",
        "\n",
        "X_vector_train, X_vector_test, y_vector_train, y_test = train_test_split(\n",
        "    X_vector, y_train, train_size = 0.8\n",
        ")"
      ],
      "execution_count": 64,
      "outputs": [
        {
          "output_type": "error",
          "ename": "AttributeError",
          "evalue": "ignored",
          "traceback": [
            "\u001b[0;31m---------------------------------------------------------------------------\u001b[0m",
            "\u001b[0;31mAttributeError\u001b[0m                            Traceback (most recent call last)",
            "\u001b[0;32m<ipython-input-64-b79c4ec2a5df>\u001b[0m in \u001b[0;36m<module>\u001b[0;34m()\u001b[0m\n\u001b[1;32m      4\u001b[0m \u001b[0;34m\u001b[0m\u001b[0m\n\u001b[1;32m      5\u001b[0m \u001b[0mtfidf_vectorizer\u001b[0m \u001b[0;34m=\u001b[0m \u001b[0mTfidfVectorizer\u001b[0m\u001b[0;34m(\u001b[0m\u001b[0;34m)\u001b[0m\u001b[0;34m\u001b[0m\u001b[0;34m\u001b[0m\u001b[0m\n\u001b[0;32m----> 6\u001b[0;31m \u001b[0mtfidf_vectorizer\u001b[0m\u001b[0;34m.\u001b[0m\u001b[0mfit\u001b[0m\u001b[0;34m(\u001b[0m\u001b[0mX_train\u001b[0m\u001b[0;34m)\u001b[0m\u001b[0;34m\u001b[0m\u001b[0;34m\u001b[0m\u001b[0m\n\u001b[0m\u001b[1;32m      7\u001b[0m \u001b[0mX_vector\u001b[0m \u001b[0;34m=\u001b[0m \u001b[0mtfidf_vectorizer\u001b[0m\u001b[0;34m.\u001b[0m\u001b[0mtransform\u001b[0m\u001b[0;34m(\u001b[0m\u001b[0mX_train\u001b[0m\u001b[0;34m)\u001b[0m\u001b[0;34m\u001b[0m\u001b[0;34m\u001b[0m\u001b[0m\n\u001b[1;32m      8\u001b[0m \u001b[0mX_vector_validation\u001b[0m \u001b[0;34m=\u001b[0m \u001b[0mtfidf_vectorizer\u001b[0m\u001b[0;34m.\u001b[0m\u001b[0mtransform\u001b[0m\u001b[0;34m(\u001b[0m\u001b[0mX_validation\u001b[0m\u001b[0;34m)\u001b[0m\u001b[0;34m\u001b[0m\u001b[0;34m\u001b[0m\u001b[0m\n",
            "\u001b[0;32m/usr/local/lib/python3.6/dist-packages/sklearn/feature_extraction/text.py\u001b[0m in \u001b[0;36mfit\u001b[0;34m(self, raw_documents, y)\u001b[0m\n\u001b[1;32m   1834\u001b[0m         \u001b[0mself\u001b[0m\u001b[0;34m.\u001b[0m\u001b[0m_check_params\u001b[0m\u001b[0;34m(\u001b[0m\u001b[0;34m)\u001b[0m\u001b[0;34m\u001b[0m\u001b[0;34m\u001b[0m\u001b[0m\n\u001b[1;32m   1835\u001b[0m         \u001b[0mself\u001b[0m\u001b[0;34m.\u001b[0m\u001b[0m_warn_for_unused_params\u001b[0m\u001b[0;34m(\u001b[0m\u001b[0;34m)\u001b[0m\u001b[0;34m\u001b[0m\u001b[0;34m\u001b[0m\u001b[0m\n\u001b[0;32m-> 1836\u001b[0;31m         \u001b[0mX\u001b[0m \u001b[0;34m=\u001b[0m \u001b[0msuper\u001b[0m\u001b[0;34m(\u001b[0m\u001b[0;34m)\u001b[0m\u001b[0;34m.\u001b[0m\u001b[0mfit_transform\u001b[0m\u001b[0;34m(\u001b[0m\u001b[0mraw_documents\u001b[0m\u001b[0;34m)\u001b[0m\u001b[0;34m\u001b[0m\u001b[0;34m\u001b[0m\u001b[0m\n\u001b[0m\u001b[1;32m   1837\u001b[0m         \u001b[0mself\u001b[0m\u001b[0;34m.\u001b[0m\u001b[0m_tfidf\u001b[0m\u001b[0;34m.\u001b[0m\u001b[0mfit\u001b[0m\u001b[0;34m(\u001b[0m\u001b[0mX\u001b[0m\u001b[0;34m)\u001b[0m\u001b[0;34m\u001b[0m\u001b[0;34m\u001b[0m\u001b[0m\n\u001b[1;32m   1838\u001b[0m         \u001b[0;32mreturn\u001b[0m \u001b[0mself\u001b[0m\u001b[0;34m\u001b[0m\u001b[0;34m\u001b[0m\u001b[0m\n",
            "\u001b[0;32m/usr/local/lib/python3.6/dist-packages/sklearn/feature_extraction/text.py\u001b[0m in \u001b[0;36mfit_transform\u001b[0;34m(self, raw_documents, y)\u001b[0m\n\u001b[1;32m   1218\u001b[0m \u001b[0;34m\u001b[0m\u001b[0m\n\u001b[1;32m   1219\u001b[0m         vocabulary, X = self._count_vocab(raw_documents,\n\u001b[0;32m-> 1220\u001b[0;31m                                           self.fixed_vocabulary_)\n\u001b[0m\u001b[1;32m   1221\u001b[0m \u001b[0;34m\u001b[0m\u001b[0m\n\u001b[1;32m   1222\u001b[0m         \u001b[0;32mif\u001b[0m \u001b[0mself\u001b[0m\u001b[0;34m.\u001b[0m\u001b[0mbinary\u001b[0m\u001b[0;34m:\u001b[0m\u001b[0;34m\u001b[0m\u001b[0;34m\u001b[0m\u001b[0m\n",
            "\u001b[0;32m/usr/local/lib/python3.6/dist-packages/sklearn/feature_extraction/text.py\u001b[0m in \u001b[0;36m_count_vocab\u001b[0;34m(self, raw_documents, fixed_vocab)\u001b[0m\n\u001b[1;32m   1129\u001b[0m         \u001b[0;32mfor\u001b[0m \u001b[0mdoc\u001b[0m \u001b[0;32min\u001b[0m \u001b[0mraw_documents\u001b[0m\u001b[0;34m:\u001b[0m\u001b[0;34m\u001b[0m\u001b[0;34m\u001b[0m\u001b[0m\n\u001b[1;32m   1130\u001b[0m             \u001b[0mfeature_counter\u001b[0m \u001b[0;34m=\u001b[0m \u001b[0;34m{\u001b[0m\u001b[0;34m}\u001b[0m\u001b[0;34m\u001b[0m\u001b[0;34m\u001b[0m\u001b[0m\n\u001b[0;32m-> 1131\u001b[0;31m             \u001b[0;32mfor\u001b[0m \u001b[0mfeature\u001b[0m \u001b[0;32min\u001b[0m \u001b[0manalyze\u001b[0m\u001b[0;34m(\u001b[0m\u001b[0mdoc\u001b[0m\u001b[0;34m)\u001b[0m\u001b[0;34m:\u001b[0m\u001b[0;34m\u001b[0m\u001b[0;34m\u001b[0m\u001b[0m\n\u001b[0m\u001b[1;32m   1132\u001b[0m                 \u001b[0;32mtry\u001b[0m\u001b[0;34m:\u001b[0m\u001b[0;34m\u001b[0m\u001b[0;34m\u001b[0m\u001b[0m\n\u001b[1;32m   1133\u001b[0m                     \u001b[0mfeature_idx\u001b[0m \u001b[0;34m=\u001b[0m \u001b[0mvocabulary\u001b[0m\u001b[0;34m[\u001b[0m\u001b[0mfeature\u001b[0m\u001b[0;34m]\u001b[0m\u001b[0;34m\u001b[0m\u001b[0;34m\u001b[0m\u001b[0m\n",
            "\u001b[0;32m/usr/local/lib/python3.6/dist-packages/sklearn/feature_extraction/text.py\u001b[0m in \u001b[0;36m_analyze\u001b[0;34m(doc, analyzer, tokenizer, ngrams, preprocessor, decoder, stop_words)\u001b[0m\n\u001b[1;32m    101\u001b[0m     \u001b[0;32melse\u001b[0m\u001b[0;34m:\u001b[0m\u001b[0;34m\u001b[0m\u001b[0;34m\u001b[0m\u001b[0m\n\u001b[1;32m    102\u001b[0m         \u001b[0;32mif\u001b[0m \u001b[0mpreprocessor\u001b[0m \u001b[0;32mis\u001b[0m \u001b[0;32mnot\u001b[0m \u001b[0;32mNone\u001b[0m\u001b[0;34m:\u001b[0m\u001b[0;34m\u001b[0m\u001b[0;34m\u001b[0m\u001b[0m\n\u001b[0;32m--> 103\u001b[0;31m             \u001b[0mdoc\u001b[0m \u001b[0;34m=\u001b[0m \u001b[0mpreprocessor\u001b[0m\u001b[0;34m(\u001b[0m\u001b[0mdoc\u001b[0m\u001b[0;34m)\u001b[0m\u001b[0;34m\u001b[0m\u001b[0;34m\u001b[0m\u001b[0m\n\u001b[0m\u001b[1;32m    104\u001b[0m         \u001b[0;32mif\u001b[0m \u001b[0mtokenizer\u001b[0m \u001b[0;32mis\u001b[0m \u001b[0;32mnot\u001b[0m \u001b[0;32mNone\u001b[0m\u001b[0;34m:\u001b[0m\u001b[0;34m\u001b[0m\u001b[0;34m\u001b[0m\u001b[0m\n\u001b[1;32m    105\u001b[0m             \u001b[0mdoc\u001b[0m \u001b[0;34m=\u001b[0m \u001b[0mtokenizer\u001b[0m\u001b[0;34m(\u001b[0m\u001b[0mdoc\u001b[0m\u001b[0;34m)\u001b[0m\u001b[0;34m\u001b[0m\u001b[0;34m\u001b[0m\u001b[0m\n",
            "\u001b[0;32m/usr/local/lib/python3.6/dist-packages/sklearn/feature_extraction/text.py\u001b[0m in \u001b[0;36m_preprocess\u001b[0;34m(doc, accent_function, lower)\u001b[0m\n\u001b[1;32m     66\u001b[0m     \"\"\"\n\u001b[1;32m     67\u001b[0m     \u001b[0;32mif\u001b[0m \u001b[0mlower\u001b[0m\u001b[0;34m:\u001b[0m\u001b[0;34m\u001b[0m\u001b[0;34m\u001b[0m\u001b[0m\n\u001b[0;32m---> 68\u001b[0;31m         \u001b[0mdoc\u001b[0m \u001b[0;34m=\u001b[0m \u001b[0mdoc\u001b[0m\u001b[0;34m.\u001b[0m\u001b[0mlower\u001b[0m\u001b[0;34m(\u001b[0m\u001b[0;34m)\u001b[0m\u001b[0;34m\u001b[0m\u001b[0;34m\u001b[0m\u001b[0m\n\u001b[0m\u001b[1;32m     69\u001b[0m     \u001b[0;32mif\u001b[0m \u001b[0maccent_function\u001b[0m \u001b[0;32mis\u001b[0m \u001b[0;32mnot\u001b[0m \u001b[0;32mNone\u001b[0m\u001b[0;34m:\u001b[0m\u001b[0;34m\u001b[0m\u001b[0;34m\u001b[0m\u001b[0m\n\u001b[1;32m     70\u001b[0m         \u001b[0mdoc\u001b[0m \u001b[0;34m=\u001b[0m \u001b[0maccent_function\u001b[0m\u001b[0;34m(\u001b[0m\u001b[0mdoc\u001b[0m\u001b[0;34m)\u001b[0m\u001b[0;34m\u001b[0m\u001b[0;34m\u001b[0m\u001b[0m\n",
            "\u001b[0;31mAttributeError\u001b[0m: 'numpy.ndarray' object has no attribute 'lower'"
          ]
        }
      ]
    },
    {
      "cell_type": "code",
      "metadata": {
        "id": "kJhCKt8Wuif4",
        "colab_type": "code",
        "colab": {}
      },
      "source": [
        "from sklearn.model_selection import GridSearchCV   \n",
        "# defining parameter range \n",
        "param_grid = {'C': [ 0.01, 0.25, 0.5, 1, 10, 100, 1000] }  \n",
        "lr = LogisticRegression()  \n",
        "grid = GridSearchCV(lr, param_grid, refit = True ) \n",
        "  \n",
        "# fitting the model for grid search \n",
        "grid.fit(X_vector_train, y_vector_train) "
      ],
      "execution_count": null,
      "outputs": []
    },
    {
      "cell_type": "code",
      "metadata": {
        "id": "VRAtoM5dvCIM",
        "colab_type": "code",
        "colab": {}
      },
      "source": [
        "# print best parameter after tuning \n",
        "print(grid.best_params_)   \n",
        "# print how our model looks after hyper-parameter tuning \n",
        "print(grid.best_estimator_) \n",
        "\n"
      ],
      "execution_count": null,
      "outputs": []
    },
    {
      "cell_type": "code",
      "metadata": {
        "id": "ZmPrGSLjvDI4",
        "colab_type": "code",
        "colab": {}
      },
      "source": [
        "#Getting Accuracy and Recall for Train Data\n",
        "final_tfidf = LogisticRegression(C=1000)\n",
        "final_tfidf.fit(X_vector_train, y_vector_train)\n",
        "accuracy = accuracy_score(y_test, final_tfidf.predict(X_vector_test))\n",
        "recall = recall_score(y_test, final_tfidf.predict(X_vector_test),average='weighted')\n",
        "#print ('Accuracy: ',accuracy,\" Recall: \",recall)\n",
        "resultsDf = pd.DataFrame({'Method':['Logistic Regression'], 'Accuracy': accuracy, 'Recall': recall})\n",
        "resultsDf = resultsDf[['Method', 'Accuracy', 'Recall']]\n",
        "resultsDf"
      ],
      "execution_count": null,
      "outputs": []
    },
    {
      "cell_type": "code",
      "metadata": {
        "id": "RFq5k82TvKzL",
        "colab_type": "code",
        "colab": {}
      },
      "source": [
        "#Getting Classification Report for Validation Data\n",
        "from sklearn.metrics import classification_report\n",
        "grid_predictions = grid.predict(X_vector_validation) \n",
        "# print classification report \n",
        "print(classification_report(y_validation, grid_predictions)) "
      ],
      "execution_count": null,
      "outputs": []
    },
    {
      "cell_type": "markdown",
      "metadata": {
        "id": "Rzy8eGsl3yRs",
        "colab_type": "text"
      },
      "source": [
        "**Using SVM For the Model**"
      ]
    },
    {
      "cell_type": "code",
      "metadata": {
        "id": "Vva7sTNfqTfW",
        "colab_type": "code",
        "colab": {}
      },
      "source": [
        "from sklearn.feature_extraction.text import CountVectorizer\n",
        "from sklearn.svm import LinearSVC\n",
        "from sklearn.metrics import accuracy_score\n",
        "from sklearn.model_selection import train_test_split\n",
        "\n",
        "ngram_vectorizer = CountVectorizer(binary=True, ngram_range=(1, 2))\n",
        "ngram_vectorizer.fit(X_train)\n",
        "X_vector = ngram_vectorizer.transform(X_train)\n",
        "X_vector_validation = ngram_vectorizer.transform(X_validation)\n",
        "\n",
        "X_vector_train, X_vector_test, y_vector_train, y_test = train_test_split(\n",
        "    X_vector, y_train, train_size = 0.8\n",
        ")"
      ],
      "execution_count": null,
      "outputs": []
    },
    {
      "cell_type": "code",
      "metadata": {
        "id": "ArqPmK9b1qiI",
        "colab_type": "code",
        "colab": {}
      },
      "source": [
        "# defining parameter range \n",
        "param_grid = {'C': [ 0.01, 0.05, 0.25, 1, 10, 100] }  \n",
        "svm = LinearSVC()  \n",
        "grid = GridSearchCV(svm, param_grid, refit = True ) \n",
        "  \n",
        "# fitting the model for grid search \n",
        "grid.fit(X_vector_train, y_vector_train) "
      ],
      "execution_count": null,
      "outputs": []
    },
    {
      "cell_type": "code",
      "metadata": {
        "id": "ZDAjsH0A1-JY",
        "colab_type": "code",
        "colab": {}
      },
      "source": [
        "# print best parameter after tuning \n",
        "print(grid.best_params_)   \n",
        "# print how our model looks after hyper-parameter tuning \n",
        "print(grid.best_estimator_) "
      ],
      "execution_count": null,
      "outputs": []
    },
    {
      "cell_type": "code",
      "metadata": {
        "id": "IVN77p9KrwrH",
        "colab_type": "code",
        "colab": {}
      },
      "source": [
        "final_svm_ngram = LinearSVC(C=0.25)\n",
        "final_svm_ngram.fit(X_vector, y_train)\n",
        "\n",
        "accuracy = accuracy_score(y_test, final_svm_ngram.predict(X_vector_test))\n",
        "recall = recall_score(y_test, final_svm_ngram.predict(X_vector_test),average='weighted')\n"
      ],
      "execution_count": null,
      "outputs": []
    },
    {
      "cell_type": "code",
      "metadata": {
        "id": "_d3r-4IDRQbA",
        "colab_type": "code",
        "colab": {}
      },
      "source": [
        "#Store the accuracy results for each model in a dataframe for final comparison\n",
        "tempResultsDf = pd.DataFrame({'Method':['SVM'], 'Accuracy': [accuracy], 'Recall': [recall]})\n",
        "resultsDf = pd.concat([resultsDf, tempResultsDf])\n",
        "resultsDf"
      ],
      "execution_count": null,
      "outputs": []
    },
    {
      "cell_type": "code",
      "metadata": {
        "id": "7_LzmfSr2ElF",
        "colab_type": "code",
        "colab": {}
      },
      "source": [
        "#Getting Classification Report for Validation Data\n",
        "from sklearn.metrics import classification_report\n",
        "grid_predictions = grid.predict(X_vector_validation) \n",
        "# print classification report \n",
        "print(classification_report(y_validation, grid_predictions)) "
      ],
      "execution_count": null,
      "outputs": []
    },
    {
      "cell_type": "markdown",
      "metadata": {
        "id": "LVani4uuARlb",
        "colab_type": "text"
      },
      "source": [
        "**n-Grams Model**\n"
      ]
    },
    {
      "cell_type": "code",
      "metadata": {
        "id": "cAtBFKKYs8aF",
        "colab_type": "code",
        "colab": {}
      },
      "source": [
        "from sklearn.feature_extraction.text import CountVectorizer\n",
        "from sklearn.linear_model import LogisticRegression\n",
        "from sklearn.metrics import accuracy_score\n",
        "from sklearn.model_selection import train_test_split\n",
        "\n",
        "ngram_vectorizer = CountVectorizer(binary=True, ngram_range=(1, 2))\n",
        "ngram_vectorizer.fit(X_train)\n",
        "X_vector = ngram_vectorizer.transform(X_train)\n",
        "X_vector_validation = ngram_vectorizer.transform(X_validation)\n",
        "\n",
        "X_vector_train, X_vector_test, y_vector_train, y_test = train_test_split(\n",
        "    X_vector, y_train, train_size = 0.8\n",
        ")\n"
      ],
      "execution_count": null,
      "outputs": []
    },
    {
      "cell_type": "code",
      "metadata": {
        "id": "XP7_rFi22pXl",
        "colab_type": "code",
        "colab": {}
      },
      "source": [
        "# defining parameter range \n",
        "param_grid = {'C': [ 0.01, 0.5, 1, 10] }  \n",
        "lr = LogisticRegression()  \n",
        "grid = GridSearchCV(lr, param_grid ) \n",
        "  \n",
        "# fitting the model for grid search \n",
        "grid.fit(X_vector_train, y_vector_train) "
      ],
      "execution_count": null,
      "outputs": []
    },
    {
      "cell_type": "code",
      "metadata": {
        "id": "rnO4PJBx3XJt",
        "colab_type": "code",
        "colab": {}
      },
      "source": [
        "# print best parameter after tuning \n",
        "print(grid.best_params_)   \n",
        "# print how our model looks after hyper-parameter tuning \n",
        "print(grid.best_estimator_) "
      ],
      "execution_count": null,
      "outputs": []
    },
    {
      "cell_type": "code",
      "metadata": {
        "id": "g0LoXjXnRFQX",
        "colab_type": "code",
        "colab": {}
      },
      "source": [
        "final_ngram = LogisticRegression(C=10)\n",
        "final_ngram.fit(X_vector, y_train)\n",
        "\n",
        "accuracy = accuracy_score(y_test, final_ngram.predict(X_vector_test))\n",
        "recall = recall_score(y_test, final_ngram.predict(X_vector_test),average='weighted')"
      ],
      "execution_count": null,
      "outputs": []
    },
    {
      "cell_type": "code",
      "metadata": {
        "id": "-tYi6chPRMDG",
        "colab_type": "code",
        "colab": {}
      },
      "source": [
        "#Store the accuracy results for each model in a dataframe for final comparison\n",
        "tempResultsDf = pd.DataFrame({'Method':['N-Gram'], 'Accuracy': [accuracy], 'Recall': [recall]})\n",
        "resultsDf = pd.concat([resultsDf, tempResultsDf])\n",
        "resultsDf"
      ],
      "execution_count": null,
      "outputs": []
    },
    {
      "cell_type": "code",
      "metadata": {
        "id": "f7KHYQUr3hkz",
        "colab_type": "code",
        "colab": {}
      },
      "source": [
        "#Getting Classification Report for Validation Data\n",
        "from sklearn.metrics import classification_report\n",
        "grid_predictions = grid.predict(X_vector_validation) \n",
        "# print classification report \n",
        "print(classification_report(y_validation, grid_predictions)) "
      ],
      "execution_count": null,
      "outputs": []
    },
    {
      "cell_type": "markdown",
      "metadata": {
        "id": "Sm1BU9Yd4JXv",
        "colab_type": "text"
      },
      "source": [
        "**Random Forest Classifier**"
      ]
    },
    {
      "cell_type": "code",
      "metadata": {
        "id": "XsZmz9zn6h4k",
        "colab_type": "code",
        "colab": {}
      },
      "source": [
        "#Random Forest Classifier\n",
        "from sklearn.ensemble import RandomForestClassifier\n",
        "# defining parameter range \n",
        "param_grid = {'n_estimators': [ 10, 50, 100] }  \n",
        "rfcl = RandomForestClassifier() \n",
        "grid = GridSearchCV(rfcl, param_grid, refit = True ) \n",
        "# fitting the model for grid search \n",
        "grid.fit(X_vector_train, y_vector_train) "
      ],
      "execution_count": null,
      "outputs": []
    },
    {
      "cell_type": "code",
      "metadata": {
        "id": "Wfe74zqE6ycG",
        "colab_type": "code",
        "colab": {}
      },
      "source": [
        "# print best parameter after tuning \n",
        "print(grid.best_params_)   \n",
        "# print how our model looks after hyper-parameter tuning \n",
        "print(grid.best_estimator_) "
      ],
      "execution_count": null,
      "outputs": []
    },
    {
      "cell_type": "code",
      "metadata": {
        "id": "gjP7V0W0RPv4",
        "colab_type": "code",
        "colab": {}
      },
      "source": [
        "\n",
        "rfcl = RandomForestClassifier(n_estimators = 50)\n",
        "rfcl = rfcl.fit(X_vector, y_train)\n",
        "pred_RF = rfcl.predict(X_vector_test)\n",
        "accuracy = accuracy_score(y_test, pred_RF)\n",
        "recall = recall_score(y_test, pred_RF, average=\"weighted\")"
      ],
      "execution_count": null,
      "outputs": []
    },
    {
      "cell_type": "code",
      "metadata": {
        "id": "v1a3ZXpIndxk",
        "colab_type": "code",
        "colab": {}
      },
      "source": [
        "#Store the accuracy results for each model in a dataframe for final comparison\n",
        "tempResultsDf = pd.DataFrame({'Method':['Random Forest'], 'Accuracy': [accuracy], 'Recall': [recall]})\n",
        "resultsDf = pd.concat([resultsDf, tempResultsDf])\n",
        "resultsDf"
      ],
      "execution_count": null,
      "outputs": []
    },
    {
      "cell_type": "code",
      "metadata": {
        "id": "Wr-vuMZFnpOm",
        "colab_type": "code",
        "colab": {}
      },
      "source": [
        ""
      ],
      "execution_count": null,
      "outputs": []
    },
    {
      "cell_type": "markdown",
      "metadata": {
        "id": "ZwnRxSkvqOK3",
        "colab_type": "text"
      },
      "source": [
        "**LSTM **"
      ]
    },
    {
      "cell_type": "code",
      "metadata": {
        "id": "_5H-AVHEqj61",
        "colab_type": "code",
        "colab": {}
      },
      "source": [
        "from keras.preprocessing.text import Tokenizer\n",
        "from keras.preprocessing.sequence import pad_sequences\n",
        "max_features = 10000\n"
      ],
      "execution_count": null,
      "outputs": []
    },
    {
      "cell_type": "code",
      "metadata": {
        "id": "ekJ2GjHwq9LU",
        "colab_type": "code",
        "colab": {}
      },
      "source": [
        "maxlen = 0\n",
        "for row in df_clean['Description Stem']:\n",
        "  row_length = len(row)\n",
        "  if maxlen < row_length:\n",
        "    maxlen = row_length\n",
        "\n",
        "print (maxlen)"
      ],
      "execution_count": null,
      "outputs": []
    },
    {
      "cell_type": "code",
      "metadata": {
        "id": "zZVDisO_qRzh",
        "colab_type": "code",
        "colab": {}
      },
      "source": [
        "\n",
        "tokenizer = Tokenizer(num_words=max_features)\n",
        "tokenizer.fit_on_texts(df_clean['Description Stem'].values)"
      ],
      "execution_count": null,
      "outputs": []
    },
    {
      "cell_type": "code",
      "metadata": {
        "id": "GMnbV73YqhRt",
        "colab_type": "code",
        "colab": {}
      },
      "source": [
        "X = tokenizer.texts_to_sequences(df_clean['Description Stem'].values)\n",
        "X = pad_sequences(X, maxlen = maxlen)\n",
        "\n",
        "## Perform lable encoder... and convert to catagorical.. \n",
        "from sklearn import preprocessing\n",
        "le = preprocessing.LabelEncoder()\n",
        "le.fit(df_clean['Assignment group'])\n",
        "y_enc = le.transform(df_clean['Assignment group'])\n",
        "\n",
        "print(\"Number of Samples:\", len(X))\n",
        "#print(X[0])\n",
        "print(\"Number of Labels: \", len(y))\n",
        "print(y[0])"
      ],
      "execution_count": null,
      "outputs": []
    },
    {
      "cell_type": "code",
      "metadata": {
        "id": "k36Af9w8rMF1",
        "colab_type": "code",
        "colab": {}
      },
      "source": [
        "y_enc"
      ],
      "execution_count": null,
      "outputs": []
    },
    {
      "cell_type": "code",
      "metadata": {
        "id": "Uc_xivQardEX",
        "colab_type": "code",
        "colab": {}
      },
      "source": [
        "Y = pd.get_dummies(y_enc).values\n",
        "Y"
      ],
      "execution_count": null,
      "outputs": []
    },
    {
      "cell_type": "code",
      "metadata": {
        "id": "o_UznzZTriJ0",
        "colab_type": "code",
        "colab": {}
      },
      "source": [
        "Y[0].shape"
      ],
      "execution_count": null,
      "outputs": []
    },
    {
      "cell_type": "code",
      "metadata": {
        "id": "7DG1zKSbrkqx",
        "colab_type": "code",
        "colab": {}
      },
      "source": [
        "Y = pd.get_dummies(y_enc).values\n",
        "X_train, X_test, Y_train, Y_test = train_test_split(X,Y, test_size = 0.20, random_state = 42)\n",
        "print(X_train.shape,Y_train.shape)\n",
        "print(X_test.shape,Y_test.shape)"
      ],
      "execution_count": null,
      "outputs": []
    },
    {
      "cell_type": "code",
      "metadata": {
        "id": "IipZoZyGr4rx",
        "colab_type": "code",
        "colab": {}
      },
      "source": [
        "len(tokenizer.word_index)"
      ],
      "execution_count": null,
      "outputs": []
    },
    {
      "cell_type": "code",
      "metadata": {
        "id": "pB9SxMWlsV5D",
        "colab_type": "code",
        "colab": {}
      },
      "source": [
        "from tensorflow.keras.layers import Dense, Input, LSTM, Embedding, Dropout, Activation, Flatten, Bidirectional, GlobalMaxPool1D, TimeDistributed\n",
        "from tensorflow.keras.models import Model, Sequential\n"
      ],
      "execution_count": null,
      "outputs": []
    },
    {
      "cell_type": "code",
      "metadata": {
        "id": "I9SrJtKDsfCY",
        "colab_type": "code",
        "colab": {}
      },
      "source": [
        "num_words=len(tokenizer.word_index) + 1\n",
        "embedding_size = 200"
      ],
      "execution_count": null,
      "outputs": []
    },
    {
      "cell_type": "code",
      "metadata": {
        "id": "DfFgg9VAsCJe",
        "colab_type": "code",
        "colab": {}
      },
      "source": [
        "model = Sequential()\n",
        "model.add(Embedding(num_words,embedding_size,input_length=maxlen )) #10000 for vocab size, 8 for dimensionality of embedding\n",
        "model.add(Bidirectional(LSTM(64, return_sequences=True), input_shape=(5, 64)))\n",
        "model.add(TimeDistributed(Dense(100)))\n",
        "model.add(Flatten())\n",
        "model.add(Dropout(0.2))\n",
        "model.add(Dense(250, activation='relu'))\n",
        "model.add(Dense(50, activation='softmax'))\n",
        "model.compile(optimizer='adam', loss='categorical_crossentropy', metrics=['acc'])\n",
        "model.summary()"
      ],
      "execution_count": null,
      "outputs": []
    },
    {
      "cell_type": "code",
      "metadata": {
        "id": "pOwXrdSLsXKd",
        "colab_type": "code",
        "colab": {}
      },
      "source": [
        "import time\n",
        "batch_size = 50\n",
        "epochs = 10\n",
        "print('Train...')\n",
        "start = time.clock()\n",
        "model.fit(X_train, Y_train, batch_size=batch_size, epochs=epochs, validation_data=[X_test, Y_test], validation_split=0.2, verbose=1)\n",
        "end = time.clock()\n",
        "print('Time spent:', end-start)"
      ],
      "execution_count": null,
      "outputs": []
    },
    {
      "cell_type": "code",
      "metadata": {
        "id": "MMSVGUU6tfs7",
        "colab_type": "code",
        "colab": {}
      },
      "source": [
        "print('\\nModel Performance: Log Loss and Accuracy on Test data')\n",
        "testLoss, testAcc = model.evaluate(X_test, Y_test, batch_size = 1)\n",
        "print('\\nTesting Scores:: loss: {}, acc: {}\\n'.format(testLoss, testAcc))"
      ],
      "execution_count": null,
      "outputs": []
    },
    {
      "cell_type": "code",
      "metadata": {
        "id": "CiAHB2x_1Rtr",
        "colab_type": "code",
        "colab": {}
      },
      "source": [
        "\n",
        "\n",
        "trainLoss, trainAcc = model.evaluate(X_train, Y_train, batch_size = 10)\n",
        "print('\\nTraining Scores::  loss: {}, acc: {}\\n'.format(trainLoss, trainAcc))\n",
        "\n",
        "\n"
      ],
      "execution_count": null,
      "outputs": []
    },
    {
      "cell_type": "code",
      "metadata": {
        "id": "ESjJ53AsTkNQ",
        "colab_type": "code",
        "colab": {}
      },
      "source": [
        "from sklearn.metrics import classification_report, confusion_matrix\n",
        "import numpy as np\n",
        "rounded_labels=np.argmax(Y_test, axis=1)\n",
        "y_pred = model.predict_classes(X_test)\n",
        "report = classification_report(rounded_labels, y_pred, target_names=df['Assignment group'].unique() )\n",
        "print(report)\n",
        "\n"
      ],
      "execution_count": null,
      "outputs": []
    },
    {
      "cell_type": "code",
      "metadata": {
        "id": "gtiFy3ehT5ap",
        "colab_type": "code",
        "colab": {}
      },
      "source": [
        "from sklearn.metrics import confusion_matrix\n",
        "cm = confusion_matrix(rounded_labels, y_pred)\n",
        "cm"
      ],
      "execution_count": null,
      "outputs": []
    }
  ]
}