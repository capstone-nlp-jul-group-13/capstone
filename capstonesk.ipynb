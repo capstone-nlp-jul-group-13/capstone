{
  "nbformat": 4,
  "nbformat_minor": 0,
  "metadata": {
    "colab": {
      "name": "capstone.ipynb",
      "provenance": [],
      "collapsed_sections": []
    },
    "kernelspec": {
      "name": "python3",
      "display_name": "Python 3"
    }
  },
  "cells": [
    {
      "cell_type": "code",
      "metadata": {
        "id": "K7WZxQReJUcN",
        "colab_type": "code",
        "outputId": "a3093f86-1576-4fbe-8e96-201babc8a043",
        "colab": {
          "base_uri": "https://localhost:8080/",
          "height": 35
        }
      },
      "source": [
        "from google.colab import drive\n",
        "drive.mount('/content/drive/')"
      ],
      "execution_count": 42,
      "outputs": [
        {
          "output_type": "stream",
          "text": [
            "Drive already mounted at /content/drive/; to attempt to forcibly remount, call drive.mount(\"/content/drive/\", force_remount=True).\n"
          ],
          "name": "stdout"
        }
      ]
    },
    {
      "cell_type": "code",
      "metadata": {
        "id": "48uQ47kbJnwK",
        "colab_type": "code",
        "colab": {}
      },
      "source": [
        "#Set your project path \n",
        "\n",
        "import os\n",
        "project_path =  '/content/drive/My Drive/Colab Notebooks/caps/'"
      ],
      "execution_count": 0,
      "outputs": []
    },
    {
      "cell_type": "code",
      "metadata": {
        "id": "0mCpPZAXJtL1",
        "colab_type": "code",
        "colab": {}
      },
      "source": [
        "os.chdir(project_path)"
      ],
      "execution_count": 0,
      "outputs": []
    },
    {
      "cell_type": "code",
      "metadata": {
        "id": "1c8A_JoNJwTI",
        "colab_type": "code",
        "outputId": "4a969438-a5ef-48e8-b4f5-f1d0d254cf65",
        "colab": {
          "base_uri": "https://localhost:8080/",
          "height": 35
        }
      },
      "source": [
        "pwd\n"
      ],
      "execution_count": 45,
      "outputs": [
        {
          "output_type": "execute_result",
          "data": {
            "text/plain": [
              "'/content/drive/My Drive/Colab Notebooks/caps'"
            ]
          },
          "metadata": {
            "tags": []
          },
          "execution_count": 45
        }
      ]
    },
    {
      "cell_type": "code",
      "metadata": {
        "id": "GTFU34VdJ8YI",
        "colab_type": "code",
        "outputId": "8c9c2c5e-f398-4bd1-f68b-922fe81637d3",
        "colab": {
          "base_uri": "https://localhost:8080/",
          "height": 35
        }
      },
      "source": [
        "ls\n"
      ],
      "execution_count": 46,
      "outputs": [
        {
          "output_type": "stream",
          "text": [
            "input_data.xlsx\n"
          ],
          "name": "stdout"
        }
      ]
    },
    {
      "cell_type": "code",
      "metadata": {
        "id": "aSvkTBKNJ9FQ",
        "colab_type": "code",
        "outputId": "f130e9ab-5c0a-46e3-bb9b-88af16e6ae21",
        "colab": {
          "base_uri": "https://localhost:8080/",
          "height": 363
        }
      },
      "source": [
        "import pandas as pd\n",
        "import tensorflow as tf\n",
        "import matplotlib.pyplot as plt\n",
        "import seaborn as sns\n",
        "import numpy as np\n",
        "from scipy.stats import norm\n",
        "from sklearn.preprocessing import StandardScaler\n",
        "from scipy import stats\n",
        "import warnings\n",
        "warnings.filterwarnings('ignore')\n",
        "%matplotlib inline\n",
        "from pandas import read_excel\n",
        "\n",
        "df =  read_excel('./input_data.xlsx', 'Sheet1')\n",
        "df.head(10)"
      ],
      "execution_count": 47,
      "outputs": [
        {
          "output_type": "execute_result",
          "data": {
            "text/html": [
              "<div>\n",
              "<style scoped>\n",
              "    .dataframe tbody tr th:only-of-type {\n",
              "        vertical-align: middle;\n",
              "    }\n",
              "\n",
              "    .dataframe tbody tr th {\n",
              "        vertical-align: top;\n",
              "    }\n",
              "\n",
              "    .dataframe thead th {\n",
              "        text-align: right;\n",
              "    }\n",
              "</style>\n",
              "<table border=\"1\" class=\"dataframe\">\n",
              "  <thead>\n",
              "    <tr style=\"text-align: right;\">\n",
              "      <th></th>\n",
              "      <th>Short description</th>\n",
              "      <th>Description</th>\n",
              "      <th>Caller</th>\n",
              "      <th>Assignment group</th>\n",
              "    </tr>\n",
              "  </thead>\n",
              "  <tbody>\n",
              "    <tr>\n",
              "      <th>0</th>\n",
              "      <td>login issue</td>\n",
              "      <td>-verified user details.(employee# &amp; manager na...</td>\n",
              "      <td>spxjnwir pjlcoqds</td>\n",
              "      <td>GRP_0</td>\n",
              "    </tr>\n",
              "    <tr>\n",
              "      <th>1</th>\n",
              "      <td>outlook</td>\n",
              "      <td>\\r\\n\\r\\nreceived from: hmjdrvpb.komuaywn@gmail...</td>\n",
              "      <td>hmjdrvpb komuaywn</td>\n",
              "      <td>GRP_0</td>\n",
              "    </tr>\n",
              "    <tr>\n",
              "      <th>2</th>\n",
              "      <td>cant log in to vpn</td>\n",
              "      <td>\\r\\n\\r\\nreceived from: eylqgodm.ybqkwiam@gmail...</td>\n",
              "      <td>eylqgodm ybqkwiam</td>\n",
              "      <td>GRP_0</td>\n",
              "    </tr>\n",
              "    <tr>\n",
              "      <th>3</th>\n",
              "      <td>unable to access hr_tool page</td>\n",
              "      <td>unable to access hr_tool page</td>\n",
              "      <td>xbkucsvz gcpydteq</td>\n",
              "      <td>GRP_0</td>\n",
              "    </tr>\n",
              "    <tr>\n",
              "      <th>4</th>\n",
              "      <td>skype error</td>\n",
              "      <td>skype error</td>\n",
              "      <td>owlgqjme qhcozdfx</td>\n",
              "      <td>GRP_0</td>\n",
              "    </tr>\n",
              "    <tr>\n",
              "      <th>5</th>\n",
              "      <td>unable to log in to engineering tool and skype</td>\n",
              "      <td>unable to log in to engineering tool and skype</td>\n",
              "      <td>eflahbxn ltdgrvkz</td>\n",
              "      <td>GRP_0</td>\n",
              "    </tr>\n",
              "    <tr>\n",
              "      <th>6</th>\n",
              "      <td>event: critical:HostName_221.company.com the v...</td>\n",
              "      <td>event: critical:HostName_221.company.com the v...</td>\n",
              "      <td>jyoqwxhz clhxsoqy</td>\n",
              "      <td>GRP_1</td>\n",
              "    </tr>\n",
              "    <tr>\n",
              "      <th>7</th>\n",
              "      <td>ticket_no1550391- employment status - new non-...</td>\n",
              "      <td>ticket_no1550391- employment status - new non-...</td>\n",
              "      <td>eqzibjhw ymebpoih</td>\n",
              "      <td>GRP_0</td>\n",
              "    </tr>\n",
              "    <tr>\n",
              "      <th>8</th>\n",
              "      <td>unable to disable add ins on outlook</td>\n",
              "      <td>unable to disable add ins on outlook</td>\n",
              "      <td>mdbegvct dbvichlg</td>\n",
              "      <td>GRP_0</td>\n",
              "    </tr>\n",
              "    <tr>\n",
              "      <th>9</th>\n",
              "      <td>ticket update on inplant_874773</td>\n",
              "      <td>ticket update on inplant_874773</td>\n",
              "      <td>fumkcsji sarmtlhy</td>\n",
              "      <td>GRP_0</td>\n",
              "    </tr>\n",
              "  </tbody>\n",
              "</table>\n",
              "</div>"
            ],
            "text/plain": [
              "                                   Short description  ... Assignment group\n",
              "0                                        login issue  ...            GRP_0\n",
              "1                                            outlook  ...            GRP_0\n",
              "2                                 cant log in to vpn  ...            GRP_0\n",
              "3                      unable to access hr_tool page  ...            GRP_0\n",
              "4                                       skype error   ...            GRP_0\n",
              "5     unable to log in to engineering tool and skype  ...            GRP_0\n",
              "6  event: critical:HostName_221.company.com the v...  ...            GRP_1\n",
              "7  ticket_no1550391- employment status - new non-...  ...            GRP_0\n",
              "8               unable to disable add ins on outlook  ...            GRP_0\n",
              "9                    ticket update on inplant_874773  ...            GRP_0\n",
              "\n",
              "[10 rows x 4 columns]"
            ]
          },
          "metadata": {
            "tags": []
          },
          "execution_count": 47
        }
      ]
    },
    {
      "cell_type": "code",
      "metadata": {
        "id": "dprQkGYRKJsy",
        "colab_type": "code",
        "outputId": "4fa80fca-4760-4a7d-fab6-74dca02ef71c",
        "colab": {
          "base_uri": "https://localhost:8080/",
          "height": 35
        }
      },
      "source": [
        "len(df)"
      ],
      "execution_count": 48,
      "outputs": [
        {
          "output_type": "execute_result",
          "data": {
            "text/plain": [
              "8500"
            ]
          },
          "metadata": {
            "tags": []
          },
          "execution_count": 48
        }
      ]
    },
    {
      "cell_type": "code",
      "metadata": {
        "id": "mZcN0Y25MXJ2",
        "colab_type": "code",
        "outputId": "00539b48-85cf-4e58-d2bb-f84392412352",
        "colab": {
          "base_uri": "https://localhost:8080/",
          "height": 175
        }
      },
      "source": [
        "df.describe().transpose()"
      ],
      "execution_count": 49,
      "outputs": [
        {
          "output_type": "execute_result",
          "data": {
            "text/html": [
              "<div>\n",
              "<style scoped>\n",
              "    .dataframe tbody tr th:only-of-type {\n",
              "        vertical-align: middle;\n",
              "    }\n",
              "\n",
              "    .dataframe tbody tr th {\n",
              "        vertical-align: top;\n",
              "    }\n",
              "\n",
              "    .dataframe thead th {\n",
              "        text-align: right;\n",
              "    }\n",
              "</style>\n",
              "<table border=\"1\" class=\"dataframe\">\n",
              "  <thead>\n",
              "    <tr style=\"text-align: right;\">\n",
              "      <th></th>\n",
              "      <th>count</th>\n",
              "      <th>unique</th>\n",
              "      <th>top</th>\n",
              "      <th>freq</th>\n",
              "    </tr>\n",
              "  </thead>\n",
              "  <tbody>\n",
              "    <tr>\n",
              "      <th>Short description</th>\n",
              "      <td>8492</td>\n",
              "      <td>7481</td>\n",
              "      <td>password reset</td>\n",
              "      <td>38</td>\n",
              "    </tr>\n",
              "    <tr>\n",
              "      <th>Description</th>\n",
              "      <td>8499</td>\n",
              "      <td>7817</td>\n",
              "      <td>the</td>\n",
              "      <td>56</td>\n",
              "    </tr>\n",
              "    <tr>\n",
              "      <th>Caller</th>\n",
              "      <td>8500</td>\n",
              "      <td>2950</td>\n",
              "      <td>bpctwhsn kzqsbmtp</td>\n",
              "      <td>810</td>\n",
              "    </tr>\n",
              "    <tr>\n",
              "      <th>Assignment group</th>\n",
              "      <td>8500</td>\n",
              "      <td>74</td>\n",
              "      <td>GRP_0</td>\n",
              "      <td>3976</td>\n",
              "    </tr>\n",
              "  </tbody>\n",
              "</table>\n",
              "</div>"
            ],
            "text/plain": [
              "                  count unique                top  freq\n",
              "Short description  8492   7481     password reset    38\n",
              "Description        8499   7817                the    56\n",
              "Caller             8500   2950  bpctwhsn kzqsbmtp   810\n",
              "Assignment group   8500     74              GRP_0  3976"
            ]
          },
          "metadata": {
            "tags": []
          },
          "execution_count": 49
        }
      ]
    },
    {
      "cell_type": "code",
      "metadata": {
        "id": "DgSyCTeMMfKW",
        "colab_type": "code",
        "outputId": "0a4323b9-7895-49cd-8998-8e12b84ef0c8",
        "colab": {
          "base_uri": "https://localhost:8080/",
          "height": 108
        }
      },
      "source": [
        "df.dtypes"
      ],
      "execution_count": 50,
      "outputs": [
        {
          "output_type": "execute_result",
          "data": {
            "text/plain": [
              "Short description    object\n",
              "Description          object\n",
              "Caller               object\n",
              "Assignment group     object\n",
              "dtype: object"
            ]
          },
          "metadata": {
            "tags": []
          },
          "execution_count": 50
        }
      ]
    },
    {
      "cell_type": "code",
      "metadata": {
        "id": "PWdLJ7pdM1WX",
        "colab_type": "code",
        "outputId": "6728b815-b348-4dba-990e-ed8b68be428b",
        "colab": {
          "base_uri": "https://localhost:8080/",
          "height": 175
        }
      },
      "source": [
        "df.describe()"
      ],
      "execution_count": 51,
      "outputs": [
        {
          "output_type": "execute_result",
          "data": {
            "text/html": [
              "<div>\n",
              "<style scoped>\n",
              "    .dataframe tbody tr th:only-of-type {\n",
              "        vertical-align: middle;\n",
              "    }\n",
              "\n",
              "    .dataframe tbody tr th {\n",
              "        vertical-align: top;\n",
              "    }\n",
              "\n",
              "    .dataframe thead th {\n",
              "        text-align: right;\n",
              "    }\n",
              "</style>\n",
              "<table border=\"1\" class=\"dataframe\">\n",
              "  <thead>\n",
              "    <tr style=\"text-align: right;\">\n",
              "      <th></th>\n",
              "      <th>Short description</th>\n",
              "      <th>Description</th>\n",
              "      <th>Caller</th>\n",
              "      <th>Assignment group</th>\n",
              "    </tr>\n",
              "  </thead>\n",
              "  <tbody>\n",
              "    <tr>\n",
              "      <th>count</th>\n",
              "      <td>8492</td>\n",
              "      <td>8499</td>\n",
              "      <td>8500</td>\n",
              "      <td>8500</td>\n",
              "    </tr>\n",
              "    <tr>\n",
              "      <th>unique</th>\n",
              "      <td>7481</td>\n",
              "      <td>7817</td>\n",
              "      <td>2950</td>\n",
              "      <td>74</td>\n",
              "    </tr>\n",
              "    <tr>\n",
              "      <th>top</th>\n",
              "      <td>password reset</td>\n",
              "      <td>the</td>\n",
              "      <td>bpctwhsn kzqsbmtp</td>\n",
              "      <td>GRP_0</td>\n",
              "    </tr>\n",
              "    <tr>\n",
              "      <th>freq</th>\n",
              "      <td>38</td>\n",
              "      <td>56</td>\n",
              "      <td>810</td>\n",
              "      <td>3976</td>\n",
              "    </tr>\n",
              "  </tbody>\n",
              "</table>\n",
              "</div>"
            ],
            "text/plain": [
              "       Short description Description             Caller Assignment group\n",
              "count               8492        8499               8500             8500\n",
              "unique              7481        7817               2950               74\n",
              "top       password reset         the  bpctwhsn kzqsbmtp            GRP_0\n",
              "freq                  38          56                810             3976"
            ]
          },
          "metadata": {
            "tags": []
          },
          "execution_count": 51
        }
      ]
    },
    {
      "cell_type": "code",
      "metadata": {
        "id": "djs6fblbRn3V",
        "colab_type": "code",
        "colab": {
          "base_uri": "https://localhost:8080/",
          "height": 235
        },
        "outputId": "89cd05b2-6d43-4715-a7e7-5c4b87851804"
      },
      "source": [
        "## let us count the tickets by group\n",
        "\n",
        "df['Assignment group'].value_counts()"
      ],
      "execution_count": 52,
      "outputs": [
        {
          "output_type": "execute_result",
          "data": {
            "text/plain": [
              "GRP_0     3976\n",
              "GRP_8      661\n",
              "GRP_24     289\n",
              "GRP_12     257\n",
              "GRP_9      252\n",
              "          ... \n",
              "GRP_64       1\n",
              "GRP_73       1\n",
              "GRP_70       1\n",
              "GRP_67       1\n",
              "GRP_61       1\n",
              "Name: Assignment group, Length: 74, dtype: int64"
            ]
          },
          "metadata": {
            "tags": []
          },
          "execution_count": 52
        }
      ]
    },
    {
      "cell_type": "code",
      "metadata": {
        "id": "XbsHLpM0UvQb",
        "colab_type": "code",
        "colab": {
          "base_uri": "https://localhost:8080/",
          "height": 298
        },
        "outputId": "aa963759-3c2c-4add-c87d-e0fc3dd568ad"
      },
      "source": [
        "# Number of groups for overall ticker assignment using count plot\n",
        "sns.countplot('Assignment group',data = df,palette='inferno')"
      ],
      "execution_count": 53,
      "outputs": [
        {
          "output_type": "execute_result",
          "data": {
            "text/plain": [
              "<matplotlib.axes._subplots.AxesSubplot at 0x7fd39d0adb70>"
            ]
          },
          "metadata": {
            "tags": []
          },
          "execution_count": 53
        },
        {
          "output_type": "display_data",
          "data": {
            "image/png": "[encoded data removed]",
            "text/plain": [
              "<Figure size 432x288 with 1 Axes>"
            ]
          },
          "metadata": {
            "tags": [],
            "needs_background": "light"
          }
        }
      ]
    },
    {
      "cell_type": "markdown",
      "metadata": {
        "id": "CAesRMVNyadT",
        "colab_type": "text"
      },
      "source": [
        "Grp_0 has highest number of tickets assigned... "
      ]
    },
    {
      "cell_type": "code",
      "metadata": {
        "id": "I2yohg9bM7kI",
        "colab_type": "code",
        "colab": {}
      },
      "source": [
        "### Description is missing for few of the tickets.. lets remove"
      ],
      "execution_count": 0,
      "outputs": []
    },
    {
      "cell_type": "code",
      "metadata": {
        "id": "o4Eew44aUuV3",
        "colab_type": "code",
        "colab": {
          "base_uri": "https://localhost:8080/",
          "height": 35
        },
        "outputId": "5c33fbaf-9c7e-4a26-a3f4-795769d56bbd"
      },
      "source": [
        "df.isnull().values.any() ## Check for missing values"
      ],
      "execution_count": 55,
      "outputs": [
        {
          "output_type": "execute_result",
          "data": {
            "text/plain": [
              "True"
            ]
          },
          "metadata": {
            "tags": []
          },
          "execution_count": 55
        }
      ]
    },
    {
      "cell_type": "code",
      "metadata": {
        "id": "qkww5LkjVsZe",
        "colab_type": "code",
        "colab": {
          "base_uri": "https://localhost:8080/",
          "height": 108
        },
        "outputId": "af4e862a-9a0f-4af1-bb43-87b3cc372d27"
      },
      "source": [
        "df.isnull().sum()"
      ],
      "execution_count": 56,
      "outputs": [
        {
          "output_type": "execute_result",
          "data": {
            "text/plain": [
              "Short description    8\n",
              "Description          1\n",
              "Caller               0\n",
              "Assignment group     0\n",
              "dtype: int64"
            ]
          },
          "metadata": {
            "tags": []
          },
          "execution_count": 56
        }
      ]
    },
    {
      "cell_type": "code",
      "metadata": {
        "id": "HkKPHBxUykFj",
        "colab_type": "code",
        "colab": {}
      },
      "source": [
        "# drop rows with missing values\n",
        "df.dropna(inplace=True)"
      ],
      "execution_count": 0,
      "outputs": []
    },
    {
      "cell_type": "code",
      "metadata": {
        "id": "BiDTRSnA2v0h",
        "colab_type": "code",
        "colab": {
          "base_uri": "https://localhost:8080/",
          "height": 108
        },
        "outputId": "97695a39-94b4-4194-cabe-7719da9afe88"
      },
      "source": [
        "df.isnull().sum()"
      ],
      "execution_count": 58,
      "outputs": [
        {
          "output_type": "execute_result",
          "data": {
            "text/plain": [
              "Short description    0\n",
              "Description          0\n",
              "Caller               0\n",
              "Assignment group     0\n",
              "dtype: int64"
            ]
          },
          "metadata": {
            "tags": []
          },
          "execution_count": 58
        }
      ]
    },
    {
      "cell_type": "code",
      "metadata": {
        "id": "rJOfLx5Q29VI",
        "colab_type": "code",
        "colab": {
          "base_uri": "https://localhost:8080/",
          "height": 35
        },
        "outputId": "bcba1fc8-589f-406f-8d7e-bfb8cc700a68"
      },
      "source": [
        "df.shape"
      ],
      "execution_count": 59,
      "outputs": [
        {
          "output_type": "execute_result",
          "data": {
            "text/plain": [
              "(8491, 4)"
            ]
          },
          "metadata": {
            "tags": []
          },
          "execution_count": 59
        }
      ]
    },
    {
      "cell_type": "code",
      "metadata": {
        "id": "0Kn-j_oC33TU",
        "colab_type": "code",
        "colab": {}
      },
      "source": [
        "# dropping duplicate rows\n",
        "df.drop_duplicates(keep=False,inplace=True)"
      ],
      "execution_count": 0,
      "outputs": []
    },
    {
      "cell_type": "code",
      "metadata": {
        "id": "n34FlzDE4EiL",
        "colab_type": "code",
        "colab": {
          "base_uri": "https://localhost:8080/",
          "height": 35
        },
        "outputId": "8329376e-60e9-4496-a71a-9f991b443fb3"
      },
      "source": [
        "df.shape"
      ],
      "execution_count": 61,
      "outputs": [
        {
          "output_type": "execute_result",
          "data": {
            "text/plain": [
              "(8351, 4)"
            ]
          },
          "metadata": {
            "tags": []
          },
          "execution_count": 61
        }
      ]
    },
    {
      "cell_type": "code",
      "metadata": {
        "id": "pAvcQe904GCi",
        "colab_type": "code",
        "colab": {}
      },
      "source": [
        "## Lets convert the description, short description, caller and group to lower case\n",
        "\n",
        "df['Short description'] = df['Short description'].apply(lambda x: x.lower())\n",
        "df['Description'] = df['Description'].apply(lambda x: x.lower())\n",
        "df['Caller'] = df['Caller'].apply(lambda x: x.lower())\n",
        "df['Assignment group'] = df['Assignment group'].apply(lambda x: x.lower())\n"
      ],
      "execution_count": 0,
      "outputs": []
    },
    {
      "cell_type": "code",
      "metadata": {
        "id": "N19ATzZk8KqT",
        "colab_type": "code",
        "colab": {
          "base_uri": "https://localhost:8080/",
          "height": 206
        },
        "outputId": "6745018d-aa93-49d8-bfa2-7c003b2c2f24"
      },
      "source": [
        "df.head()"
      ],
      "execution_count": 63,
      "outputs": [
        {
          "output_type": "execute_result",
          "data": {
            "text/html": [
              "<div>\n",
              "<style scoped>\n",
              "    .dataframe tbody tr th:only-of-type {\n",
              "        vertical-align: middle;\n",
              "    }\n",
              "\n",
              "    .dataframe tbody tr th {\n",
              "        vertical-align: top;\n",
              "    }\n",
              "\n",
              "    .dataframe thead th {\n",
              "        text-align: right;\n",
              "    }\n",
              "</style>\n",
              "<table border=\"1\" class=\"dataframe\">\n",
              "  <thead>\n",
              "    <tr style=\"text-align: right;\">\n",
              "      <th></th>\n",
              "      <th>Short description</th>\n",
              "      <th>Description</th>\n",
              "      <th>Caller</th>\n",
              "      <th>Assignment group</th>\n",
              "    </tr>\n",
              "  </thead>\n",
              "  <tbody>\n",
              "    <tr>\n",
              "      <th>0</th>\n",
              "      <td>login issue</td>\n",
              "      <td>-verified user details.(employee# &amp; manager na...</td>\n",
              "      <td>spxjnwir pjlcoqds</td>\n",
              "      <td>grp_0</td>\n",
              "    </tr>\n",
              "    <tr>\n",
              "      <th>1</th>\n",
              "      <td>outlook</td>\n",
              "      <td>\\r\\n\\r\\nreceived from: hmjdrvpb.komuaywn@gmail...</td>\n",
              "      <td>hmjdrvpb komuaywn</td>\n",
              "      <td>grp_0</td>\n",
              "    </tr>\n",
              "    <tr>\n",
              "      <th>2</th>\n",
              "      <td>cant log in to vpn</td>\n",
              "      <td>\\r\\n\\r\\nreceived from: eylqgodm.ybqkwiam@gmail...</td>\n",
              "      <td>eylqgodm ybqkwiam</td>\n",
              "      <td>grp_0</td>\n",
              "    </tr>\n",
              "    <tr>\n",
              "      <th>3</th>\n",
              "      <td>unable to access hr_tool page</td>\n",
              "      <td>unable to access hr_tool page</td>\n",
              "      <td>xbkucsvz gcpydteq</td>\n",
              "      <td>grp_0</td>\n",
              "    </tr>\n",
              "    <tr>\n",
              "      <th>4</th>\n",
              "      <td>skype error</td>\n",
              "      <td>skype error</td>\n",
              "      <td>owlgqjme qhcozdfx</td>\n",
              "      <td>grp_0</td>\n",
              "    </tr>\n",
              "  </tbody>\n",
              "</table>\n",
              "</div>"
            ],
            "text/plain": [
              "               Short description  ... Assignment group\n",
              "0                    login issue  ...            grp_0\n",
              "1                        outlook  ...            grp_0\n",
              "2             cant log in to vpn  ...            grp_0\n",
              "3  unable to access hr_tool page  ...            grp_0\n",
              "4                   skype error   ...            grp_0\n",
              "\n",
              "[5 rows x 4 columns]"
            ]
          },
          "metadata": {
            "tags": []
          },
          "execution_count": 63
        }
      ]
    },
    {
      "cell_type": "code",
      "metadata": {
        "id": "PEzMp19Z8OK8",
        "colab_type": "code",
        "colab": {
          "base_uri": "https://localhost:8080/",
          "height": 35
        },
        "outputId": "d88cafdf-fc74-45c3-94df-26649e96c081"
      },
      "source": [
        "df.shape"
      ],
      "execution_count": 64,
      "outputs": [
        {
          "output_type": "execute_result",
          "data": {
            "text/plain": [
              "(8351, 4)"
            ]
          },
          "metadata": {
            "tags": []
          },
          "execution_count": 64
        }
      ]
    },
    {
      "cell_type": "code",
      "metadata": {
        "id": "LtSkMsqO8dVr",
        "colab_type": "code",
        "colab": {}
      },
      "source": [
        "# dropping duplicate rows.... in case case sensitive duplicates were present earlier\n",
        "df.drop_duplicates(keep=False,inplace=True)"
      ],
      "execution_count": 0,
      "outputs": []
    },
    {
      "cell_type": "code",
      "metadata": {
        "id": "Wp_6bWFL8eu-",
        "colab_type": "code",
        "colab": {
          "base_uri": "https://localhost:8080/",
          "height": 35
        },
        "outputId": "c828b019-1de5-4210-e7cc-5f85acfbbce9"
      },
      "source": [
        "df.shape"
      ],
      "execution_count": 66,
      "outputs": [
        {
          "output_type": "execute_result",
          "data": {
            "text/plain": [
              "(8351, 4)"
            ]
          },
          "metadata": {
            "tags": []
          },
          "execution_count": 66
        }
      ]
    },
    {
      "cell_type": "code",
      "metadata": {
        "id": "IwfbqNjL8TeN",
        "colab_type": "code",
        "colab": {}
      },
      "source": [
        "df_copy = df.copy()"
      ],
      "execution_count": 0,
      "outputs": []
    },
    {
      "cell_type": "code",
      "metadata": {
        "id": "24NTlgyX-QeI",
        "colab_type": "code",
        "colab": {}
      },
      "source": [
        "## Remove mail Ids from the fields\n",
        "mailId = r'\\S*@\\S*\\s?'\n",
        "df = df.replace(to_replace=mailId, value='', regex=True)"
      ],
      "execution_count": 0,
      "outputs": []
    },
    {
      "cell_type": "code",
      "metadata": {
        "id": "qSuh64q6562_",
        "colab_type": "code",
        "colab": {}
      },
      "source": [
        "## Combine short description and description\n",
        "df['TicketDescription'] = df['Short description'].str.cat(df['Description'],sep=\" \")"
      ],
      "execution_count": 0,
      "outputs": []
    },
    {
      "cell_type": "code",
      "metadata": {
        "id": "Ma1oXCht8xgk",
        "colab_type": "code",
        "colab": {}
      },
      "source": [
        "df = df.drop(['Short description', 'Description'], axis=1)"
      ],
      "execution_count": 0,
      "outputs": []
    },
    {
      "cell_type": "code",
      "metadata": {
        "id": "BJHjXJ089L6Q",
        "colab_type": "code",
        "colab": {}
      },
      "source": [
        "df = df.drop(['Caller'], axis=1) ## Delete the caller as well"
      ],
      "execution_count": 0,
      "outputs": []
    },
    {
      "cell_type": "code",
      "metadata": {
        "id": "poAoTP4E6J1Q",
        "colab_type": "code",
        "colab": {
          "base_uri": "https://localhost:8080/",
          "height": 206
        },
        "outputId": "9fa693ac-6c3a-41ea-9dc7-84b04ea3b195"
      },
      "source": [
        "df.head()"
      ],
      "execution_count": 72,
      "outputs": [
        {
          "output_type": "execute_result",
          "data": {
            "text/html": [
              "<div>\n",
              "<style scoped>\n",
              "    .dataframe tbody tr th:only-of-type {\n",
              "        vertical-align: middle;\n",
              "    }\n",
              "\n",
              "    .dataframe tbody tr th {\n",
              "        vertical-align: top;\n",
              "    }\n",
              "\n",
              "    .dataframe thead th {\n",
              "        text-align: right;\n",
              "    }\n",
              "</style>\n",
              "<table border=\"1\" class=\"dataframe\">\n",
              "  <thead>\n",
              "    <tr style=\"text-align: right;\">\n",
              "      <th></th>\n",
              "      <th>Assignment group</th>\n",
              "      <th>TicketDescription</th>\n",
              "    </tr>\n",
              "  </thead>\n",
              "  <tbody>\n",
              "    <tr>\n",
              "      <th>0</th>\n",
              "      <td>grp_0</td>\n",
              "      <td>login issue -verified user details.(employee# ...</td>\n",
              "    </tr>\n",
              "    <tr>\n",
              "      <th>1</th>\n",
              "      <td>grp_0</td>\n",
              "      <td>outlook \\r\\n\\r\\nreceived from: \\n\\r\\nhello tea...</td>\n",
              "    </tr>\n",
              "    <tr>\n",
              "      <th>2</th>\n",
              "      <td>grp_0</td>\n",
              "      <td>cant log in to vpn \\r\\n\\r\\nreceived from: \\n\\r...</td>\n",
              "    </tr>\n",
              "    <tr>\n",
              "      <th>3</th>\n",
              "      <td>grp_0</td>\n",
              "      <td>unable to access hr_tool page unable to access...</td>\n",
              "    </tr>\n",
              "    <tr>\n",
              "      <th>4</th>\n",
              "      <td>grp_0</td>\n",
              "      <td>skype error  skype error</td>\n",
              "    </tr>\n",
              "  </tbody>\n",
              "</table>\n",
              "</div>"
            ],
            "text/plain": [
              "  Assignment group                                  TicketDescription\n",
              "0            grp_0  login issue -verified user details.(employee# ...\n",
              "1            grp_0  outlook \\r\\n\\r\\nreceived from: \\n\\r\\nhello tea...\n",
              "2            grp_0  cant log in to vpn \\r\\n\\r\\nreceived from: \\n\\r...\n",
              "3            grp_0  unable to access hr_tool page unable to access...\n",
              "4            grp_0                          skype error  skype error "
            ]
          },
          "metadata": {
            "tags": []
          },
          "execution_count": 72
        }
      ]
    },
    {
      "cell_type": "code",
      "metadata": {
        "id": "vlu1piM49v9e",
        "colab_type": "code",
        "colab": {
          "base_uri": "https://localhost:8080/",
          "height": 206
        },
        "outputId": "8b248497-930a-435e-d1dd-17fd07939681"
      },
      "source": [
        "df.head()"
      ],
      "execution_count": 73,
      "outputs": [
        {
          "output_type": "execute_result",
          "data": {
            "text/html": [
              "<div>\n",
              "<style scoped>\n",
              "    .dataframe tbody tr th:only-of-type {\n",
              "        vertical-align: middle;\n",
              "    }\n",
              "\n",
              "    .dataframe tbody tr th {\n",
              "        vertical-align: top;\n",
              "    }\n",
              "\n",
              "    .dataframe thead th {\n",
              "        text-align: right;\n",
              "    }\n",
              "</style>\n",
              "<table border=\"1\" class=\"dataframe\">\n",
              "  <thead>\n",
              "    <tr style=\"text-align: right;\">\n",
              "      <th></th>\n",
              "      <th>Assignment group</th>\n",
              "      <th>TicketDescription</th>\n",
              "    </tr>\n",
              "  </thead>\n",
              "  <tbody>\n",
              "    <tr>\n",
              "      <th>0</th>\n",
              "      <td>grp_0</td>\n",
              "      <td>login issue -verified user details.(employee# ...</td>\n",
              "    </tr>\n",
              "    <tr>\n",
              "      <th>1</th>\n",
              "      <td>grp_0</td>\n",
              "      <td>outlook \\r\\n\\r\\nreceived from: \\n\\r\\nhello tea...</td>\n",
              "    </tr>\n",
              "    <tr>\n",
              "      <th>2</th>\n",
              "      <td>grp_0</td>\n",
              "      <td>cant log in to vpn \\r\\n\\r\\nreceived from: \\n\\r...</td>\n",
              "    </tr>\n",
              "    <tr>\n",
              "      <th>3</th>\n",
              "      <td>grp_0</td>\n",
              "      <td>unable to access hr_tool page unable to access...</td>\n",
              "    </tr>\n",
              "    <tr>\n",
              "      <th>4</th>\n",
              "      <td>grp_0</td>\n",
              "      <td>skype error  skype error</td>\n",
              "    </tr>\n",
              "  </tbody>\n",
              "</table>\n",
              "</div>"
            ],
            "text/plain": [
              "  Assignment group                                  TicketDescription\n",
              "0            grp_0  login issue -verified user details.(employee# ...\n",
              "1            grp_0  outlook \\r\\n\\r\\nreceived from: \\n\\r\\nhello tea...\n",
              "2            grp_0  cant log in to vpn \\r\\n\\r\\nreceived from: \\n\\r...\n",
              "3            grp_0  unable to access hr_tool page unable to access...\n",
              "4            grp_0                          skype error  skype error "
            ]
          },
          "metadata": {
            "tags": []
          },
          "execution_count": 73
        }
      ]
    },
    {
      "cell_type": "code",
      "metadata": {
        "id": "VS1Sfm11-V6P",
        "colab_type": "code",
        "colab": {}
      },
      "source": [
        "## cleanup mail headers content \n",
        "\n",
        "def getRegexList():\n",
        "    regexList = []\n",
        "    regexList += ['From:(.*)\\r\\n']  # from line\n",
        "    regexList += ['Sent:(.*)\\r\\n']  # sent to line\n",
        "    regexList += ['Received:(.*)\\r\\n']  # received data line\n",
        "    regexList += ['To:(.*)\\r\\n']  # to line\n",
        "    regexList += ['CC:(.*)\\r\\n']  # cc line\n",
        "    regexList += ['Subject:']\n",
        "    regexList += ['[\\r\\n]']  # \\r\\n\n",
        "    regexList += ['[\\w\\d\\-\\_\\.]+ @ [\\w\\d\\-\\_\\.]+'] ## Email Ids\n",
        "    return regexList"
      ],
      "execution_count": 0,
      "outputs": []
    },
    {
      "cell_type": "code",
      "metadata": {
        "id": "35XgtEtx-1LN",
        "colab_type": "code",
        "colab": {}
      },
      "source": [
        "def cleanDataset(dataset, columnsToClean, regexList):\n",
        "    for column in columnsToClean:\n",
        "        for regex in regexList:\n",
        "            dataset[column] = removeString(dataset[column], regex)\n",
        "    return dataset"
      ],
      "execution_count": 0,
      "outputs": []
    },
    {
      "cell_type": "code",
      "metadata": {
        "id": "PekkRKxD_x0n",
        "colab_type": "code",
        "colab": {}
      },
      "source": [
        "def removeString(data, regex):\n",
        "    return data.str.lower().str.replace(regex.lower(), ' ')"
      ],
      "execution_count": 0,
      "outputs": []
    },
    {
      "cell_type": "code",
      "metadata": {
        "id": "es0V9rAX_WHZ",
        "colab_type": "code",
        "colab": {}
      },
      "source": [
        "columnsToClean = ['TicketDescription']\n",
        "df = cleanDataset(df,columnsToClean, getRegexList())"
      ],
      "execution_count": 0,
      "outputs": []
    },
    {
      "cell_type": "code",
      "metadata": {
        "id": "TKMGcFSBey3g",
        "colab_type": "code",
        "colab": {}
      },
      "source": [
        "import re\n",
        "df['TicketDescription'] = df['TicketDescription'].apply((lambda x: re.sub('[^a-zA-z0-9\\s]',' ',x)))"
      ],
      "execution_count": 0,
      "outputs": []
    },
    {
      "cell_type": "code",
      "metadata": {
        "id": "Vd4ORGXNAWAc",
        "colab_type": "code",
        "colab": {
          "base_uri": "https://localhost:8080/",
          "height": 206
        },
        "outputId": "8de4b2b0-675e-4f43-badb-eff7e43f56c7"
      },
      "source": [
        "df.head()"
      ],
      "execution_count": 79,
      "outputs": [
        {
          "output_type": "execute_result",
          "data": {
            "text/html": [
              "<div>\n",
              "<style scoped>\n",
              "    .dataframe tbody tr th:only-of-type {\n",
              "        vertical-align: middle;\n",
              "    }\n",
              "\n",
              "    .dataframe tbody tr th {\n",
              "        vertical-align: top;\n",
              "    }\n",
              "\n",
              "    .dataframe thead th {\n",
              "        text-align: right;\n",
              "    }\n",
              "</style>\n",
              "<table border=\"1\" class=\"dataframe\">\n",
              "  <thead>\n",
              "    <tr style=\"text-align: right;\">\n",
              "      <th></th>\n",
              "      <th>Assignment group</th>\n",
              "      <th>TicketDescription</th>\n",
              "    </tr>\n",
              "  </thead>\n",
              "  <tbody>\n",
              "    <tr>\n",
              "      <th>0</th>\n",
              "      <td>grp_0</td>\n",
              "      <td>login issue  verified user details  employee  ...</td>\n",
              "    </tr>\n",
              "    <tr>\n",
              "      <th>1</th>\n",
              "      <td>grp_0</td>\n",
              "      <td>outlook     received from     hello team     m...</td>\n",
              "    </tr>\n",
              "    <tr>\n",
              "      <th>2</th>\n",
              "      <td>grp_0</td>\n",
              "      <td>cant log in to vpn     received from     hi   ...</td>\n",
              "    </tr>\n",
              "    <tr>\n",
              "      <th>3</th>\n",
              "      <td>grp_0</td>\n",
              "      <td>unable to access hr_tool page unable to access...</td>\n",
              "    </tr>\n",
              "    <tr>\n",
              "      <th>4</th>\n",
              "      <td>grp_0</td>\n",
              "      <td>skype error  skype error</td>\n",
              "    </tr>\n",
              "  </tbody>\n",
              "</table>\n",
              "</div>"
            ],
            "text/plain": [
              "  Assignment group                                  TicketDescription\n",
              "0            grp_0  login issue  verified user details  employee  ...\n",
              "1            grp_0  outlook     received from     hello team     m...\n",
              "2            grp_0  cant log in to vpn     received from     hi   ...\n",
              "3            grp_0  unable to access hr_tool page unable to access...\n",
              "4            grp_0                          skype error  skype error "
            ]
          },
          "metadata": {
            "tags": []
          },
          "execution_count": 79
        }
      ]
    },
    {
      "cell_type": "code",
      "metadata": {
        "id": "2tWvJ3fD8kex",
        "colab_type": "code",
        "colab": {
          "base_uri": "https://localhost:8080/",
          "height": 35
        },
        "outputId": "bd59fcb0-e135-4e8c-964d-5dece25f2a95"
      },
      "source": [
        "from tensorflow.keras.preprocessing.text import Tokenizer\n",
        "from tensorflow.keras.preprocessing.sequence import pad_sequences\n",
        "\n",
        "from sklearn.feature_extraction.text import CountVectorizer\n",
        "from keras.preprocessing.text import Tokenizer\n",
        "from keras.preprocessing.sequence import pad_sequences\n",
        "from keras.models import Sequential\n",
        "from keras.layers import Dense, Embedding, LSTM, SpatialDropout1D\n",
        "from sklearn.model_selection import train_test_split\n",
        "from keras.utils.np_utils import to_categorical"
      ],
      "execution_count": 86,
      "outputs": [
        {
          "output_type": "stream",
          "text": [
            "Using TensorFlow backend.\n"
          ],
          "name": "stderr"
        }
      ]
    },
    {
      "cell_type": "code",
      "metadata": {
        "id": "phOWclmngb7H",
        "colab_type": "code",
        "colab": {}
      },
      "source": [
        "for idx,row in df.iterrows():\n",
        "    row[0] = row[0].replace('rt',' ')\n",
        "    \n",
        "vocabSize = 20000\n",
        "tokenizer = Tokenizer(num_words=vocabSize, split=' ')\n",
        "tokenizer.fit_on_texts(df['TicketDescription'].values)\n",
        "X = tokenizer.texts_to_sequences(df['TicketDescription'].values)\n",
        "X = pad_sequences(X)"
      ],
      "execution_count": 0,
      "outputs": []
    },
    {
      "cell_type": "code",
      "metadata": {
        "id": "6rVgobTlgcIQ",
        "colab_type": "code",
        "colab": {
          "base_uri": "https://localhost:8080/",
          "height": 326
        },
        "outputId": "86be386d-940c-4e66-957a-60d3506e2711"
      },
      "source": [
        "embed_dim = 128\n",
        "lstm_out = 196\n",
        "\n",
        "model = Sequential()\n",
        "model.add(Embedding(vocabSize, embed_dim,input_length = X.shape[1]))\n",
        "model.add(SpatialDropout1D(0.4))\n",
        "model.add(LSTM(lstm_out, dropout=0.2, recurrent_dropout=0.2))\n",
        "model.add(Dense(74,activation='softmax'))  ### Note that they are 74 groups to which tickets are to be assigned\n",
        "model.compile(loss = 'categorical_crossentropy', optimizer='adam',metrics = ['accuracy'])\n",
        "print(model.summary())"
      ],
      "execution_count": 91,
      "outputs": [
        {
          "output_type": "stream",
          "text": [
            "Model: \"sequential_2\"\n",
            "_________________________________________________________________\n",
            "Layer (type)                 Output Shape              Param #   \n",
            "=================================================================\n",
            "embedding_2 (Embedding)      (None, 1603, 128)         256000    \n",
            "_________________________________________________________________\n",
            "spatial_dropout1d_2 (Spatial (None, 1603, 128)         0         \n",
            "_________________________________________________________________\n",
            "lstm_2 (LSTM)                (None, 196)               254800    \n",
            "_________________________________________________________________\n",
            "dense_2 (Dense)              (None, 74)                14578     \n",
            "=================================================================\n",
            "Total params: 525,378\n",
            "Trainable params: 525,378\n",
            "Non-trainable params: 0\n",
            "_________________________________________________________________\n",
            "None\n"
          ],
          "name": "stdout"
        }
      ]
    },
    {
      "cell_type": "code",
      "metadata": {
        "id": "dub3kCaAbWpZ",
        "colab_type": "code",
        "colab": {
          "base_uri": "https://localhost:8080/",
          "height": 53
        },
        "outputId": "f8b0d10a-fd0a-4883-893f-b87cbb84ee5e"
      },
      "source": [
        "Y = pd.get_dummies(df['Assignment group']).values\n",
        "X_train, X_test, Y_train, Y_test = train_test_split(X,Y, test_size = 0.15, random_state = 42)\n",
        "print(X_train.shape,Y_train.shape)\n",
        "print(X_test.shape,Y_test.shape)"
      ],
      "execution_count": 92,
      "outputs": [
        {
          "output_type": "stream",
          "text": [
            "(7098, 1603) (7098, 74)\n",
            "(1253, 1603) (1253, 74)\n"
          ],
          "name": "stdout"
        }
      ]
    },
    {
      "cell_type": "code",
      "metadata": {
        "id": "npD4kUWvjcmX",
        "colab_type": "code",
        "colab": {
          "base_uri": "https://localhost:8080/",
          "height": 399
        },
        "outputId": "04f13d66-6026-4158-8c85-b0a973325aeb"
      },
      "source": [
        "batch_size = 32\n",
        "model.fit(X_train, Y_train, epochs = 10, batch_size=batch_size, verbose = 2)"
      ],
      "execution_count": 93,
      "outputs": [
        {
          "output_type": "stream",
          "text": [
            "Epoch 1/10\n",
            " - 1074s - loss: 2.4016 - accuracy: 0.5017\n",
            "Epoch 2/10\n",
            " - 1115s - loss: 1.9152 - accuracy: 0.5624\n",
            "Epoch 3/10\n",
            " - 1118s - loss: 1.7588 - accuracy: 0.5768\n",
            "Epoch 4/10\n",
            " - 1068s - loss: 1.6415 - accuracy: 0.5923\n",
            "Epoch 5/10\n",
            " - 1083s - loss: 1.5407 - accuracy: 0.6121\n",
            "Epoch 6/10\n",
            " - 1129s - loss: 1.4449 - accuracy: 0.6293\n",
            "Epoch 7/10\n",
            " - 1116s - loss: 1.3463 - accuracy: 0.6498\n",
            "Epoch 8/10\n",
            " - 1118s - loss: 1.2628 - accuracy: 0.6626\n",
            "Epoch 9/10\n",
            " - 1067s - loss: 1.1825 - accuracy: 0.6753\n",
            "Epoch 10/10\n",
            " - 1062s - loss: 1.1113 - accuracy: 0.6975\n"
          ],
          "name": "stdout"
        },
        {
          "output_type": "execute_result",
          "data": {
            "text/plain": [
              "<keras.callbacks.callbacks.History at 0x7fd392c21b38>"
            ]
          },
          "metadata": {
            "tags": []
          },
          "execution_count": 93
        }
      ]
    },
    {
      "cell_type": "code",
      "metadata": {
        "id": "GH4WX2Dijrfz",
        "colab_type": "code",
        "colab": {}
      },
      "source": [
        ""
      ],
      "execution_count": 0,
      "outputs": []
    }
  ]
}