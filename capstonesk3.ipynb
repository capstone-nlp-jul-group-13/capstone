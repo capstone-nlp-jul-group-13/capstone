{
  "nbformat": 4,
  "nbformat_minor": 0,
  "metadata": {
    "colab": {
      "name": "capstonesk3.ipynb",
      "provenance": [],
      "collapsed_sections": []
    },
    "kernelspec": {
      "name": "python3",
      "display_name": "Python 3"
    }
  },
  "cells": [
    {
      "cell_type": "code",
      "metadata": {
        "id": "K7WZxQReJUcN",
        "colab_type": "code",
        "outputId": "cac1e2f9-977d-46a5-b67c-89f7a789ee0b",
        "colab": {
          "base_uri": "https://localhost:8080/",
          "height": 34
        }
      },
      "source": [
        "from google.colab import drive\n",
        "drive.mount('/content/drive/')"
      ],
      "execution_count": 65,
      "outputs": [
        {
          "output_type": "stream",
          "text": [
            "Drive already mounted at /content/drive/; to attempt to forcibly remount, call drive.mount(\"/content/drive/\", force_remount=True).\n"
          ],
          "name": "stdout"
        }
      ]
    },
    {
      "cell_type": "code",
      "metadata": {
        "id": "48uQ47kbJnwK",
        "colab_type": "code",
        "colab": {}
      },
      "source": [
        "#Set your project path \n",
        "\n",
        "import os\n",
        "project_path =  '/content/drive/My Drive/Colab Notebooks/caps/'"
      ],
      "execution_count": 0,
      "outputs": []
    },
    {
      "cell_type": "code",
      "metadata": {
        "id": "0mCpPZAXJtL1",
        "colab_type": "code",
        "colab": {}
      },
      "source": [
        "os.chdir(project_path)"
      ],
      "execution_count": 0,
      "outputs": []
    },
    {
      "cell_type": "code",
      "metadata": {
        "id": "1c8A_JoNJwTI",
        "colab_type": "code",
        "outputId": "eb42e2c5-6c4c-4c89-8232-1006c2557626",
        "colab": {
          "base_uri": "https://localhost:8080/",
          "height": 34
        }
      },
      "source": [
        "pwd\n"
      ],
      "execution_count": 68,
      "outputs": [
        {
          "output_type": "execute_result",
          "data": {
            "text/plain": [
              "'/content/drive/My Drive/Colab Notebooks/caps'"
            ]
          },
          "metadata": {
            "tags": []
          },
          "execution_count": 68
        }
      ]
    },
    {
      "cell_type": "code",
      "metadata": {
        "id": "GTFU34VdJ8YI",
        "colab_type": "code",
        "outputId": "dbe4a2a6-a8a5-40a7-a38c-68eb6350817e",
        "colab": {
          "base_uri": "https://localhost:8080/",
          "height": 544
        }
      },
      "source": [
        "ls\n"
      ],
      "execution_count": 69,
      "outputs": [
        {
          "output_type": "stream",
          "text": [
            "input_data.xlsx              ticketCategorization2-001.h5\n",
            "ticketCategorization-001.h5  ticketCategorization2-002.h5\n",
            "ticketCategorization-002.h5  ticketCategorization2-003.h5\n",
            "ticketCategorization-003.h5  ticketCategorization2-004.h5\n",
            "ticketCategorization-004.h5  ticketCategorization2-005.h5\n",
            "ticketCategorization-005.h5  ticketCategorization2-006.h5\n",
            "ticketCategorization-006.h5  ticketCategorization2-007.h5\n",
            "ticketCategorization-007.h5  ticketCategorization2-008.h5\n",
            "ticketCategorization-008.h5  ticketCategorization2-009.h5\n",
            "ticketCategorization-009.h5  ticketCategorization2-010.h5\n",
            "ticketCategorization-010.h5  ticketCategorization2-011.h5\n",
            "ticketCategorization-011.h5  ticketCategorization2-012.h5\n",
            "ticketCategorization-012.h5  ticketCategorization2-013.h5\n",
            "ticketCategorization-013.h5  ticketCategorization2-014.h5\n",
            "ticketCategorization-014.h5  ticketCategorization2-015.h5\n",
            "ticketCategorization-015.h5  ticketCategorization2-016.h5\n",
            "ticketCategorization-016.h5  ticketCategorization2-017.h5\n",
            "ticketCategorization-017.h5  ticketCategorization2-018.h5\n",
            "ticketCategorization-018.h5  ticketCategorization2-019.h5\n",
            "ticketCategorization-019.h5  ticketCategorization2-020.h5\n",
            "ticketCategorization-020.h5  ticketCategorization2-021.h5\n",
            "ticketCategorization-021.h5  ticketCategorization2-022.h5\n",
            "ticketCategorization-022.h5  ticketCategorization2-023.h5\n",
            "ticketCategorization-023.h5  ticketCategorization2-024.h5\n",
            "ticketCategorization-024.h5  ticketCategorization2-025.h5\n",
            "ticketCategorization-025.h5  ticketCategorization2-026.h5\n",
            "ticketCategorization-026.h5  ticketCategorization2-027.h5\n",
            "ticketCategorization-027.h5  ticketCategorization2-028.h5\n",
            "ticketCategorization-028.h5  ticketCategorization2-029.h5\n",
            "ticketCategorization-029.h5  ticketCategorization2-030.h5\n",
            "ticketCategorization-030.h5\n"
          ],
          "name": "stdout"
        }
      ]
    },
    {
      "cell_type": "code",
      "metadata": {
        "id": "aSvkTBKNJ9FQ",
        "colab_type": "code",
        "outputId": "4d42283e-38af-4939-961e-08cd3cb29a6a",
        "colab": {
          "base_uri": "https://localhost:8080/",
          "height": 359
        }
      },
      "source": [
        "import pandas as pd\n",
        "import tensorflow as tf\n",
        "import matplotlib.pyplot as plt\n",
        "import seaborn as sns\n",
        "import numpy as np\n",
        "from scipy.stats import norm\n",
        "from sklearn.preprocessing import StandardScaler\n",
        "from scipy import stats\n",
        "import warnings\n",
        "warnings.filterwarnings('ignore')\n",
        "%matplotlib inline\n",
        "from pandas import read_excel\n",
        "\n",
        "df =  read_excel('./input_data.xlsx', 'Sheet1')\n",
        "df.head(10)"
      ],
      "execution_count": 70,
      "outputs": [
        {
          "output_type": "execute_result",
          "data": {
            "text/html": [
              "<div>\n",
              "<style scoped>\n",
              "    .dataframe tbody tr th:only-of-type {\n",
              "        vertical-align: middle;\n",
              "    }\n",
              "\n",
              "    .dataframe tbody tr th {\n",
              "        vertical-align: top;\n",
              "    }\n",
              "\n",
              "    .dataframe thead th {\n",
              "        text-align: right;\n",
              "    }\n",
              "</style>\n",
              "<table border=\"1\" class=\"dataframe\">\n",
              "  <thead>\n",
              "    <tr style=\"text-align: right;\">\n",
              "      <th></th>\n",
              "      <th>Short description</th>\n",
              "      <th>Description</th>\n",
              "      <th>Caller</th>\n",
              "      <th>Assignment group</th>\n",
              "    </tr>\n",
              "  </thead>\n",
              "  <tbody>\n",
              "    <tr>\n",
              "      <th>0</th>\n",
              "      <td>login issue</td>\n",
              "      <td>-verified user details.(employee# &amp; manager na...</td>\n",
              "      <td>spxjnwir pjlcoqds</td>\n",
              "      <td>GRP_0</td>\n",
              "    </tr>\n",
              "    <tr>\n",
              "      <th>1</th>\n",
              "      <td>outlook</td>\n",
              "      <td>\\r\\n\\r\\nreceived from: hmjdrvpb.komuaywn@gmail...</td>\n",
              "      <td>hmjdrvpb komuaywn</td>\n",
              "      <td>GRP_0</td>\n",
              "    </tr>\n",
              "    <tr>\n",
              "      <th>2</th>\n",
              "      <td>cant log in to vpn</td>\n",
              "      <td>\\r\\n\\r\\nreceived from: eylqgodm.ybqkwiam@gmail...</td>\n",
              "      <td>eylqgodm ybqkwiam</td>\n",
              "      <td>GRP_0</td>\n",
              "    </tr>\n",
              "    <tr>\n",
              "      <th>3</th>\n",
              "      <td>unable to access hr_tool page</td>\n",
              "      <td>unable to access hr_tool page</td>\n",
              "      <td>xbkucsvz gcpydteq</td>\n",
              "      <td>GRP_0</td>\n",
              "    </tr>\n",
              "    <tr>\n",
              "      <th>4</th>\n",
              "      <td>skype error</td>\n",
              "      <td>skype error</td>\n",
              "      <td>owlgqjme qhcozdfx</td>\n",
              "      <td>GRP_0</td>\n",
              "    </tr>\n",
              "    <tr>\n",
              "      <th>5</th>\n",
              "      <td>unable to log in to engineering tool and skype</td>\n",
              "      <td>unable to log in to engineering tool and skype</td>\n",
              "      <td>eflahbxn ltdgrvkz</td>\n",
              "      <td>GRP_0</td>\n",
              "    </tr>\n",
              "    <tr>\n",
              "      <th>6</th>\n",
              "      <td>event: critical:HostName_221.company.com the v...</td>\n",
              "      <td>event: critical:HostName_221.company.com the v...</td>\n",
              "      <td>jyoqwxhz clhxsoqy</td>\n",
              "      <td>GRP_1</td>\n",
              "    </tr>\n",
              "    <tr>\n",
              "      <th>7</th>\n",
              "      <td>ticket_no1550391- employment status - new non-...</td>\n",
              "      <td>ticket_no1550391- employment status - new non-...</td>\n",
              "      <td>eqzibjhw ymebpoih</td>\n",
              "      <td>GRP_0</td>\n",
              "    </tr>\n",
              "    <tr>\n",
              "      <th>8</th>\n",
              "      <td>unable to disable add ins on outlook</td>\n",
              "      <td>unable to disable add ins on outlook</td>\n",
              "      <td>mdbegvct dbvichlg</td>\n",
              "      <td>GRP_0</td>\n",
              "    </tr>\n",
              "    <tr>\n",
              "      <th>9</th>\n",
              "      <td>ticket update on inplant_874773</td>\n",
              "      <td>ticket update on inplant_874773</td>\n",
              "      <td>fumkcsji sarmtlhy</td>\n",
              "      <td>GRP_0</td>\n",
              "    </tr>\n",
              "  </tbody>\n",
              "</table>\n",
              "</div>"
            ],
            "text/plain": [
              "                                   Short description  ... Assignment group\n",
              "0                                        login issue  ...            GRP_0\n",
              "1                                            outlook  ...            GRP_0\n",
              "2                                 cant log in to vpn  ...            GRP_0\n",
              "3                      unable to access hr_tool page  ...            GRP_0\n",
              "4                                       skype error   ...            GRP_0\n",
              "5     unable to log in to engineering tool and skype  ...            GRP_0\n",
              "6  event: critical:HostName_221.company.com the v...  ...            GRP_1\n",
              "7  ticket_no1550391- employment status - new non-...  ...            GRP_0\n",
              "8               unable to disable add ins on outlook  ...            GRP_0\n",
              "9                    ticket update on inplant_874773  ...            GRP_0\n",
              "\n",
              "[10 rows x 4 columns]"
            ]
          },
          "metadata": {
            "tags": []
          },
          "execution_count": 70
        }
      ]
    },
    {
      "cell_type": "code",
      "metadata": {
        "id": "dprQkGYRKJsy",
        "colab_type": "code",
        "outputId": "b6567d11-8b5d-4717-ba49-75e2ef0baa25",
        "colab": {
          "base_uri": "https://localhost:8080/",
          "height": 34
        }
      },
      "source": [
        "len(df)"
      ],
      "execution_count": 71,
      "outputs": [
        {
          "output_type": "execute_result",
          "data": {
            "text/plain": [
              "8500"
            ]
          },
          "metadata": {
            "tags": []
          },
          "execution_count": 71
        }
      ]
    },
    {
      "cell_type": "code",
      "metadata": {
        "id": "mZcN0Y25MXJ2",
        "colab_type": "code",
        "outputId": "611557aa-fa41-4871-9d51-1370ecb7ba40",
        "colab": {
          "base_uri": "https://localhost:8080/",
          "height": 173
        }
      },
      "source": [
        "df.describe().transpose()"
      ],
      "execution_count": 72,
      "outputs": [
        {
          "output_type": "execute_result",
          "data": {
            "text/html": [
              "<div>\n",
              "<style scoped>\n",
              "    .dataframe tbody tr th:only-of-type {\n",
              "        vertical-align: middle;\n",
              "    }\n",
              "\n",
              "    .dataframe tbody tr th {\n",
              "        vertical-align: top;\n",
              "    }\n",
              "\n",
              "    .dataframe thead th {\n",
              "        text-align: right;\n",
              "    }\n",
              "</style>\n",
              "<table border=\"1\" class=\"dataframe\">\n",
              "  <thead>\n",
              "    <tr style=\"text-align: right;\">\n",
              "      <th></th>\n",
              "      <th>count</th>\n",
              "      <th>unique</th>\n",
              "      <th>top</th>\n",
              "      <th>freq</th>\n",
              "    </tr>\n",
              "  </thead>\n",
              "  <tbody>\n",
              "    <tr>\n",
              "      <th>Short description</th>\n",
              "      <td>8492</td>\n",
              "      <td>7481</td>\n",
              "      <td>password reset</td>\n",
              "      <td>38</td>\n",
              "    </tr>\n",
              "    <tr>\n",
              "      <th>Description</th>\n",
              "      <td>8499</td>\n",
              "      <td>7817</td>\n",
              "      <td>the</td>\n",
              "      <td>56</td>\n",
              "    </tr>\n",
              "    <tr>\n",
              "      <th>Caller</th>\n",
              "      <td>8500</td>\n",
              "      <td>2950</td>\n",
              "      <td>bpctwhsn kzqsbmtp</td>\n",
              "      <td>810</td>\n",
              "    </tr>\n",
              "    <tr>\n",
              "      <th>Assignment group</th>\n",
              "      <td>8500</td>\n",
              "      <td>74</td>\n",
              "      <td>GRP_0</td>\n",
              "      <td>3976</td>\n",
              "    </tr>\n",
              "  </tbody>\n",
              "</table>\n",
              "</div>"
            ],
            "text/plain": [
              "                  count unique                top  freq\n",
              "Short description  8492   7481     password reset    38\n",
              "Description        8499   7817                the    56\n",
              "Caller             8500   2950  bpctwhsn kzqsbmtp   810\n",
              "Assignment group   8500     74              GRP_0  3976"
            ]
          },
          "metadata": {
            "tags": []
          },
          "execution_count": 72
        }
      ]
    },
    {
      "cell_type": "code",
      "metadata": {
        "id": "DgSyCTeMMfKW",
        "colab_type": "code",
        "outputId": "0bd62880-b638-4be5-e81c-248c0980d918",
        "colab": {
          "base_uri": "https://localhost:8080/",
          "height": 102
        }
      },
      "source": [
        "df.dtypes"
      ],
      "execution_count": 73,
      "outputs": [
        {
          "output_type": "execute_result",
          "data": {
            "text/plain": [
              "Short description    object\n",
              "Description          object\n",
              "Caller               object\n",
              "Assignment group     object\n",
              "dtype: object"
            ]
          },
          "metadata": {
            "tags": []
          },
          "execution_count": 73
        }
      ]
    },
    {
      "cell_type": "code",
      "metadata": {
        "id": "PWdLJ7pdM1WX",
        "colab_type": "code",
        "outputId": "9cffd938-6a16-42a9-f48d-c04c89423457",
        "colab": {
          "base_uri": "https://localhost:8080/",
          "height": 173
        }
      },
      "source": [
        "df.describe()"
      ],
      "execution_count": 74,
      "outputs": [
        {
          "output_type": "execute_result",
          "data": {
            "text/html": [
              "<div>\n",
              "<style scoped>\n",
              "    .dataframe tbody tr th:only-of-type {\n",
              "        vertical-align: middle;\n",
              "    }\n",
              "\n",
              "    .dataframe tbody tr th {\n",
              "        vertical-align: top;\n",
              "    }\n",
              "\n",
              "    .dataframe thead th {\n",
              "        text-align: right;\n",
              "    }\n",
              "</style>\n",
              "<table border=\"1\" class=\"dataframe\">\n",
              "  <thead>\n",
              "    <tr style=\"text-align: right;\">\n",
              "      <th></th>\n",
              "      <th>Short description</th>\n",
              "      <th>Description</th>\n",
              "      <th>Caller</th>\n",
              "      <th>Assignment group</th>\n",
              "    </tr>\n",
              "  </thead>\n",
              "  <tbody>\n",
              "    <tr>\n",
              "      <th>count</th>\n",
              "      <td>8492</td>\n",
              "      <td>8499</td>\n",
              "      <td>8500</td>\n",
              "      <td>8500</td>\n",
              "    </tr>\n",
              "    <tr>\n",
              "      <th>unique</th>\n",
              "      <td>7481</td>\n",
              "      <td>7817</td>\n",
              "      <td>2950</td>\n",
              "      <td>74</td>\n",
              "    </tr>\n",
              "    <tr>\n",
              "      <th>top</th>\n",
              "      <td>password reset</td>\n",
              "      <td>the</td>\n",
              "      <td>bpctwhsn kzqsbmtp</td>\n",
              "      <td>GRP_0</td>\n",
              "    </tr>\n",
              "    <tr>\n",
              "      <th>freq</th>\n",
              "      <td>38</td>\n",
              "      <td>56</td>\n",
              "      <td>810</td>\n",
              "      <td>3976</td>\n",
              "    </tr>\n",
              "  </tbody>\n",
              "</table>\n",
              "</div>"
            ],
            "text/plain": [
              "       Short description Description             Caller Assignment group\n",
              "count               8492        8499               8500             8500\n",
              "unique              7481        7817               2950               74\n",
              "top       password reset         the  bpctwhsn kzqsbmtp            GRP_0\n",
              "freq                  38          56                810             3976"
            ]
          },
          "metadata": {
            "tags": []
          },
          "execution_count": 74
        }
      ]
    },
    {
      "cell_type": "code",
      "metadata": {
        "id": "djs6fblbRn3V",
        "colab_type": "code",
        "outputId": "7861a505-e36e-4d81-defc-0d1cf1aa7051",
        "colab": {
          "base_uri": "https://localhost:8080/",
          "height": 221
        }
      },
      "source": [
        "## let us count the tickets by group\n",
        "\n",
        "df['Assignment group'].value_counts()"
      ],
      "execution_count": 75,
      "outputs": [
        {
          "output_type": "execute_result",
          "data": {
            "text/plain": [
              "GRP_0     3976\n",
              "GRP_8      661\n",
              "GRP_24     289\n",
              "GRP_12     257\n",
              "GRP_9      252\n",
              "          ... \n",
              "GRP_73       1\n",
              "GRP_64       1\n",
              "GRP_61       1\n",
              "GRP_35       1\n",
              "GRP_70       1\n",
              "Name: Assignment group, Length: 74, dtype: int64"
            ]
          },
          "metadata": {
            "tags": []
          },
          "execution_count": 75
        }
      ]
    },
    {
      "cell_type": "code",
      "metadata": {
        "id": "XbsHLpM0UvQb",
        "colab_type": "code",
        "outputId": "e4bbecfb-09a8-4fc9-d73a-14765e939a89",
        "colab": {
          "base_uri": "https://localhost:8080/",
          "height": 297
        }
      },
      "source": [
        "# Number of groups for overall ticker assignment using count plot\n",
        "sns.countplot('Assignment group',data = df,palette='inferno')"
      ],
      "execution_count": 76,
      "outputs": [
        {
          "output_type": "execute_result",
          "data": {
            "text/plain": [
              "<matplotlib.axes._subplots.AxesSubplot at 0x7f8297a853c8>"
            ]
          },
          "metadata": {
            "tags": []
          },
          "execution_count": 76
        },
        {
          "output_type": "display_data",
          "data": {
            "image/png": "[encoded data removed]",
            "text/plain": [
              "<Figure size 432x288 with 1 Axes>"
            ]
          },
          "metadata": {
            "tags": [],
            "needs_background": "light"
          }
        }
      ]
    },
    {
      "cell_type": "code",
      "metadata": {
        "id": "2dsR4HJLkt1L",
        "colab_type": "code",
        "colab": {}
      },
      "source": [
        ""
      ],
      "execution_count": 0,
      "outputs": []
    },
    {
      "cell_type": "markdown",
      "metadata": {
        "id": "CAesRMVNyadT",
        "colab_type": "text"
      },
      "source": [
        "Grp_0 has highest number of tickets assigned. Lot of fields with lower values.. lets figure out how many groups are there with samples < 10 \n",
        "\n",
        "\n",
        "\n"
      ]
    },
    {
      "cell_type": "code",
      "metadata": {
        "id": "XtyPodXHoKmX",
        "colab_type": "code",
        "colab": {}
      },
      "source": [
        "df.loc[df.groupby('Assignment group')['Assignment group'].transform('size') < 10 , 'Assignment group'] =  'SUBGROUP-X'"
      ],
      "execution_count": 0,
      "outputs": []
    },
    {
      "cell_type": "code",
      "metadata": {
        "id": "J6Q9NZhgmeT5",
        "colab_type": "code",
        "outputId": "8c0fe867-cafc-41ba-c354-a3ef4be28d94",
        "colab": {
          "base_uri": "https://localhost:8080/",
          "height": 884
        }
      },
      "source": [
        "df['Assignment group'].value_counts()"
      ],
      "execution_count": 78,
      "outputs": [
        {
          "output_type": "execute_result",
          "data": {
            "text/plain": [
              "GRP_0         3976\n",
              "GRP_8          661\n",
              "GRP_24         289\n",
              "GRP_12         257\n",
              "GRP_9          252\n",
              "GRP_2          241\n",
              "GRP_19         215\n",
              "GRP_3          200\n",
              "GRP_6          184\n",
              "GRP_13         145\n",
              "GRP_10         140\n",
              "GRP_5          129\n",
              "GRP_14         118\n",
              "GRP_25         116\n",
              "GRP_33         107\n",
              "GRP_4          100\n",
              "GRP_29          97\n",
              "GRP_18          88\n",
              "SUBGROUP-X      87\n",
              "GRP_16          85\n",
              "GRP_17          81\n",
              "GRP_31          69\n",
              "GRP_7           68\n",
              "GRP_34          62\n",
              "GRP_26          56\n",
              "GRP_40          45\n",
              "GRP_28          44\n",
              "GRP_41          40\n",
              "GRP_15          39\n",
              "GRP_30          39\n",
              "GRP_42          37\n",
              "GRP_20          36\n",
              "GRP_45          35\n",
              "GRP_1           31\n",
              "GRP_22          31\n",
              "GRP_11          30\n",
              "GRP_21          29\n",
              "GRP_47          27\n",
              "GRP_23          25\n",
              "GRP_62          25\n",
              "GRP_48          25\n",
              "GRP_60          20\n",
              "GRP_39          19\n",
              "GRP_27          18\n",
              "GRP_37          16\n",
              "GRP_36          15\n",
              "GRP_44          15\n",
              "GRP_50          14\n",
              "GRP_65          11\n",
              "GRP_53          11\n",
              "Name: Assignment group, dtype: int64"
            ]
          },
          "metadata": {
            "tags": []
          },
          "execution_count": 78
        }
      ]
    },
    {
      "cell_type": "code",
      "metadata": {
        "id": "pdpfpQZhmkAv",
        "colab_type": "code",
        "outputId": "fa135622-0a50-4458-b1a2-46ecc013a38f",
        "colab": {
          "base_uri": "https://localhost:8080/",
          "height": 297
        }
      },
      "source": [
        "sns.countplot('Assignment group',data = df,palette='inferno')"
      ],
      "execution_count": 79,
      "outputs": [
        {
          "output_type": "execute_result",
          "data": {
            "text/plain": [
              "<matplotlib.axes._subplots.AxesSubplot at 0x7f828b9bde80>"
            ]
          },
          "metadata": {
            "tags": []
          },
          "execution_count": 79
        },
        {
          "output_type": "display_data",
          "data": {
            "image/png": "[encoded data removed]",
            "text/plain": [
              "<Figure size 432x288 with 1 Axes>"
            ]
          },
          "metadata": {
            "tags": [],
            "needs_background": "light"
          }
        }
      ]
    },
    {
      "cell_type": "code",
      "metadata": {
        "id": "I2yohg9bM7kI",
        "colab_type": "code",
        "colab": {}
      },
      "source": [
        "### Description is missing for few of the tickets.. lets remove"
      ],
      "execution_count": 0,
      "outputs": []
    },
    {
      "cell_type": "code",
      "metadata": {
        "id": "o4Eew44aUuV3",
        "colab_type": "code",
        "outputId": "63c22155-3f24-403a-f542-a795d0dd0898",
        "colab": {
          "base_uri": "https://localhost:8080/",
          "height": 34
        }
      },
      "source": [
        "df.isnull().values.any() ## Check for missing values"
      ],
      "execution_count": 81,
      "outputs": [
        {
          "output_type": "execute_result",
          "data": {
            "text/plain": [
              "True"
            ]
          },
          "metadata": {
            "tags": []
          },
          "execution_count": 81
        }
      ]
    },
    {
      "cell_type": "code",
      "metadata": {
        "id": "qkww5LkjVsZe",
        "colab_type": "code",
        "outputId": "5893e1d2-b5ba-409a-9469-23eb79f8698b",
        "colab": {
          "base_uri": "https://localhost:8080/",
          "height": 102
        }
      },
      "source": [
        "df.isnull().sum()"
      ],
      "execution_count": 82,
      "outputs": [
        {
          "output_type": "execute_result",
          "data": {
            "text/plain": [
              "Short description    8\n",
              "Description          1\n",
              "Caller               0\n",
              "Assignment group     0\n",
              "dtype: int64"
            ]
          },
          "metadata": {
            "tags": []
          },
          "execution_count": 82
        }
      ]
    },
    {
      "cell_type": "code",
      "metadata": {
        "id": "HkKPHBxUykFj",
        "colab_type": "code",
        "colab": {}
      },
      "source": [
        "# drop rows with missing values\n",
        "df.dropna(inplace=True)"
      ],
      "execution_count": 0,
      "outputs": []
    },
    {
      "cell_type": "code",
      "metadata": {
        "id": "BiDTRSnA2v0h",
        "colab_type": "code",
        "outputId": "aec81b43-d3c9-4ca7-a2c7-f899329d94ac",
        "colab": {
          "base_uri": "https://localhost:8080/",
          "height": 102
        }
      },
      "source": [
        "df.isnull().sum()"
      ],
      "execution_count": 84,
      "outputs": [
        {
          "output_type": "execute_result",
          "data": {
            "text/plain": [
              "Short description    0\n",
              "Description          0\n",
              "Caller               0\n",
              "Assignment group     0\n",
              "dtype: int64"
            ]
          },
          "metadata": {
            "tags": []
          },
          "execution_count": 84
        }
      ]
    },
    {
      "cell_type": "code",
      "metadata": {
        "id": "rJOfLx5Q29VI",
        "colab_type": "code",
        "outputId": "f5f08d0f-7958-4b98-a5d1-c731f8f2a996",
        "colab": {
          "base_uri": "https://localhost:8080/",
          "height": 34
        }
      },
      "source": [
        "df.shape"
      ],
      "execution_count": 85,
      "outputs": [
        {
          "output_type": "execute_result",
          "data": {
            "text/plain": [
              "(8491, 4)"
            ]
          },
          "metadata": {
            "tags": []
          },
          "execution_count": 85
        }
      ]
    },
    {
      "cell_type": "code",
      "metadata": {
        "id": "0Kn-j_oC33TU",
        "colab_type": "code",
        "colab": {}
      },
      "source": [
        "# dropping duplicate rows\n",
        "df.drop_duplicates(keep=False,inplace=True)"
      ],
      "execution_count": 0,
      "outputs": []
    },
    {
      "cell_type": "code",
      "metadata": {
        "id": "n34FlzDE4EiL",
        "colab_type": "code",
        "outputId": "43c3b17f-3147-4e46-a67e-3811ad596448",
        "colab": {
          "base_uri": "https://localhost:8080/",
          "height": 34
        }
      },
      "source": [
        "df.shape"
      ],
      "execution_count": 87,
      "outputs": [
        {
          "output_type": "execute_result",
          "data": {
            "text/plain": [
              "(8351, 4)"
            ]
          },
          "metadata": {
            "tags": []
          },
          "execution_count": 87
        }
      ]
    },
    {
      "cell_type": "code",
      "metadata": {
        "id": "pAvcQe904GCi",
        "colab_type": "code",
        "colab": {}
      },
      "source": [
        "## Lets convert the description, short description, caller and group to lower case\n",
        "\n",
        "df['Short description'] = df['Short description'].apply(lambda x: x.lower())\n",
        "df['Description'] = df['Description'].apply(lambda x: x.lower())\n",
        "df['Caller'] = df['Caller'].apply(lambda x: x.lower())\n",
        "df['Assignment group'] = df['Assignment group'].apply(lambda x: x.lower())\n"
      ],
      "execution_count": 0,
      "outputs": []
    },
    {
      "cell_type": "code",
      "metadata": {
        "id": "N19ATzZk8KqT",
        "colab_type": "code",
        "outputId": "31ac7268-905b-4bb3-a125-43fdc0785c7a",
        "colab": {
          "base_uri": "https://localhost:8080/",
          "height": 204
        }
      },
      "source": [
        "df.head()"
      ],
      "execution_count": 89,
      "outputs": [
        {
          "output_type": "execute_result",
          "data": {
            "text/html": [
              "<div>\n",
              "<style scoped>\n",
              "    .dataframe tbody tr th:only-of-type {\n",
              "        vertical-align: middle;\n",
              "    }\n",
              "\n",
              "    .dataframe tbody tr th {\n",
              "        vertical-align: top;\n",
              "    }\n",
              "\n",
              "    .dataframe thead th {\n",
              "        text-align: right;\n",
              "    }\n",
              "</style>\n",
              "<table border=\"1\" class=\"dataframe\">\n",
              "  <thead>\n",
              "    <tr style=\"text-align: right;\">\n",
              "      <th></th>\n",
              "      <th>Short description</th>\n",
              "      <th>Description</th>\n",
              "      <th>Caller</th>\n",
              "      <th>Assignment group</th>\n",
              "    </tr>\n",
              "  </thead>\n",
              "  <tbody>\n",
              "    <tr>\n",
              "      <th>0</th>\n",
              "      <td>login issue</td>\n",
              "      <td>-verified user details.(employee# &amp; manager na...</td>\n",
              "      <td>spxjnwir pjlcoqds</td>\n",
              "      <td>grp_0</td>\n",
              "    </tr>\n",
              "    <tr>\n",
              "      <th>1</th>\n",
              "      <td>outlook</td>\n",
              "      <td>\\r\\n\\r\\nreceived from: hmjdrvpb.komuaywn@gmail...</td>\n",
              "      <td>hmjdrvpb komuaywn</td>\n",
              "      <td>grp_0</td>\n",
              "    </tr>\n",
              "    <tr>\n",
              "      <th>2</th>\n",
              "      <td>cant log in to vpn</td>\n",
              "      <td>\\r\\n\\r\\nreceived from: eylqgodm.ybqkwiam@gmail...</td>\n",
              "      <td>eylqgodm ybqkwiam</td>\n",
              "      <td>grp_0</td>\n",
              "    </tr>\n",
              "    <tr>\n",
              "      <th>3</th>\n",
              "      <td>unable to access hr_tool page</td>\n",
              "      <td>unable to access hr_tool page</td>\n",
              "      <td>xbkucsvz gcpydteq</td>\n",
              "      <td>grp_0</td>\n",
              "    </tr>\n",
              "    <tr>\n",
              "      <th>4</th>\n",
              "      <td>skype error</td>\n",
              "      <td>skype error</td>\n",
              "      <td>owlgqjme qhcozdfx</td>\n",
              "      <td>grp_0</td>\n",
              "    </tr>\n",
              "  </tbody>\n",
              "</table>\n",
              "</div>"
            ],
            "text/plain": [
              "               Short description  ... Assignment group\n",
              "0                    login issue  ...            grp_0\n",
              "1                        outlook  ...            grp_0\n",
              "2             cant log in to vpn  ...            grp_0\n",
              "3  unable to access hr_tool page  ...            grp_0\n",
              "4                   skype error   ...            grp_0\n",
              "\n",
              "[5 rows x 4 columns]"
            ]
          },
          "metadata": {
            "tags": []
          },
          "execution_count": 89
        }
      ]
    },
    {
      "cell_type": "code",
      "metadata": {
        "id": "PEzMp19Z8OK8",
        "colab_type": "code",
        "outputId": "e8a7cd73-f75c-4fbd-a086-d9ef76920156",
        "colab": {
          "base_uri": "https://localhost:8080/",
          "height": 34
        }
      },
      "source": [
        "df.shape"
      ],
      "execution_count": 90,
      "outputs": [
        {
          "output_type": "execute_result",
          "data": {
            "text/plain": [
              "(8351, 4)"
            ]
          },
          "metadata": {
            "tags": []
          },
          "execution_count": 90
        }
      ]
    },
    {
      "cell_type": "code",
      "metadata": {
        "id": "LtSkMsqO8dVr",
        "colab_type": "code",
        "colab": {}
      },
      "source": [
        "# dropping duplicate rows.... in case case sensitive duplicates were present earlier\n",
        "df.drop_duplicates(keep=False,inplace=True)"
      ],
      "execution_count": 0,
      "outputs": []
    },
    {
      "cell_type": "code",
      "metadata": {
        "id": "Wp_6bWFL8eu-",
        "colab_type": "code",
        "outputId": "3568ec0b-6e92-428b-b347-1f527ff2ba10",
        "colab": {
          "base_uri": "https://localhost:8080/",
          "height": 34
        }
      },
      "source": [
        "df.shape"
      ],
      "execution_count": 92,
      "outputs": [
        {
          "output_type": "execute_result",
          "data": {
            "text/plain": [
              "(8351, 4)"
            ]
          },
          "metadata": {
            "tags": []
          },
          "execution_count": 92
        }
      ]
    },
    {
      "cell_type": "code",
      "metadata": {
        "id": "IwfbqNjL8TeN",
        "colab_type": "code",
        "colab": {}
      },
      "source": [
        "df_copy = df.copy()"
      ],
      "execution_count": 0,
      "outputs": []
    },
    {
      "cell_type": "code",
      "metadata": {
        "id": "24NTlgyX-QeI",
        "colab_type": "code",
        "colab": {}
      },
      "source": [
        "## Remove mail Ids from the fields\n",
        "mailId = r'\\S*@\\S*\\s?'\n",
        "df = df.replace(to_replace=mailId, value='', regex=True)"
      ],
      "execution_count": 0,
      "outputs": []
    },
    {
      "cell_type": "code",
      "metadata": {
        "id": "qSuh64q6562_",
        "colab_type": "code",
        "colab": {}
      },
      "source": [
        "## Combine short description and description\n",
        "df['TicketDescription'] = df['Short description'].str.cat(df['Description'],sep=\" \")"
      ],
      "execution_count": 0,
      "outputs": []
    },
    {
      "cell_type": "code",
      "metadata": {
        "colab_type": "code",
        "id": "Pn6xg2rW4gEs",
        "colab": {}
      },
      "source": [
        "## Combine caller\n",
        "df['TicketDescription'] = df['TicketDescription'].str.cat(df['Caller'],sep=\" \")"
      ],
      "execution_count": 0,
      "outputs": []
    },
    {
      "cell_type": "code",
      "metadata": {
        "id": "Ma1oXCht8xgk",
        "colab_type": "code",
        "colab": {}
      },
      "source": [
        "df = df.drop(['Short description', 'Description'], axis=1)"
      ],
      "execution_count": 0,
      "outputs": []
    },
    {
      "cell_type": "code",
      "metadata": {
        "id": "BJHjXJ089L6Q",
        "colab_type": "code",
        "colab": {}
      },
      "source": [
        "df = df.drop(['Caller'], axis=1) ## Delete the caller as well"
      ],
      "execution_count": 0,
      "outputs": []
    },
    {
      "cell_type": "code",
      "metadata": {
        "id": "poAoTP4E6J1Q",
        "colab_type": "code",
        "outputId": "323142cc-c82a-4cc9-e11e-d72bba73f8c0",
        "colab": {
          "base_uri": "https://localhost:8080/",
          "height": 204
        }
      },
      "source": [
        "df.head()"
      ],
      "execution_count": 99,
      "outputs": [
        {
          "output_type": "execute_result",
          "data": {
            "text/html": [
              "<div>\n",
              "<style scoped>\n",
              "    .dataframe tbody tr th:only-of-type {\n",
              "        vertical-align: middle;\n",
              "    }\n",
              "\n",
              "    .dataframe tbody tr th {\n",
              "        vertical-align: top;\n",
              "    }\n",
              "\n",
              "    .dataframe thead th {\n",
              "        text-align: right;\n",
              "    }\n",
              "</style>\n",
              "<table border=\"1\" class=\"dataframe\">\n",
              "  <thead>\n",
              "    <tr style=\"text-align: right;\">\n",
              "      <th></th>\n",
              "      <th>Assignment group</th>\n",
              "      <th>TicketDescription</th>\n",
              "    </tr>\n",
              "  </thead>\n",
              "  <tbody>\n",
              "    <tr>\n",
              "      <th>0</th>\n",
              "      <td>grp_0</td>\n",
              "      <td>login issue -verified user details.(employee# ...</td>\n",
              "    </tr>\n",
              "    <tr>\n",
              "      <th>1</th>\n",
              "      <td>grp_0</td>\n",
              "      <td>outlook \\r\\n\\r\\nreceived from: \\n\\r\\nhello tea...</td>\n",
              "    </tr>\n",
              "    <tr>\n",
              "      <th>2</th>\n",
              "      <td>grp_0</td>\n",
              "      <td>cant log in to vpn \\r\\n\\r\\nreceived from: \\n\\r...</td>\n",
              "    </tr>\n",
              "    <tr>\n",
              "      <th>3</th>\n",
              "      <td>grp_0</td>\n",
              "      <td>unable to access hr_tool page unable to access...</td>\n",
              "    </tr>\n",
              "    <tr>\n",
              "      <th>4</th>\n",
              "      <td>grp_0</td>\n",
              "      <td>skype error  skype error  owlgqjme qhcozdfx</td>\n",
              "    </tr>\n",
              "  </tbody>\n",
              "</table>\n",
              "</div>"
            ],
            "text/plain": [
              "  Assignment group                                  TicketDescription\n",
              "0            grp_0  login issue -verified user details.(employee# ...\n",
              "1            grp_0  outlook \\r\\n\\r\\nreceived from: \\n\\r\\nhello tea...\n",
              "2            grp_0  cant log in to vpn \\r\\n\\r\\nreceived from: \\n\\r...\n",
              "3            grp_0  unable to access hr_tool page unable to access...\n",
              "4            grp_0        skype error  skype error  owlgqjme qhcozdfx"
            ]
          },
          "metadata": {
            "tags": []
          },
          "execution_count": 99
        }
      ]
    },
    {
      "cell_type": "code",
      "metadata": {
        "id": "vlu1piM49v9e",
        "colab_type": "code",
        "outputId": "9b52bcd0-04cd-46b3-abab-c132885dc68d",
        "colab": {
          "base_uri": "https://localhost:8080/",
          "height": 204
        }
      },
      "source": [
        "df.head()"
      ],
      "execution_count": 100,
      "outputs": [
        {
          "output_type": "execute_result",
          "data": {
            "text/html": [
              "<div>\n",
              "<style scoped>\n",
              "    .dataframe tbody tr th:only-of-type {\n",
              "        vertical-align: middle;\n",
              "    }\n",
              "\n",
              "    .dataframe tbody tr th {\n",
              "        vertical-align: top;\n",
              "    }\n",
              "\n",
              "    .dataframe thead th {\n",
              "        text-align: right;\n",
              "    }\n",
              "</style>\n",
              "<table border=\"1\" class=\"dataframe\">\n",
              "  <thead>\n",
              "    <tr style=\"text-align: right;\">\n",
              "      <th></th>\n",
              "      <th>Assignment group</th>\n",
              "      <th>TicketDescription</th>\n",
              "    </tr>\n",
              "  </thead>\n",
              "  <tbody>\n",
              "    <tr>\n",
              "      <th>0</th>\n",
              "      <td>grp_0</td>\n",
              "      <td>login issue -verified user details.(employee# ...</td>\n",
              "    </tr>\n",
              "    <tr>\n",
              "      <th>1</th>\n",
              "      <td>grp_0</td>\n",
              "      <td>outlook \\r\\n\\r\\nreceived from: \\n\\r\\nhello tea...</td>\n",
              "    </tr>\n",
              "    <tr>\n",
              "      <th>2</th>\n",
              "      <td>grp_0</td>\n",
              "      <td>cant log in to vpn \\r\\n\\r\\nreceived from: \\n\\r...</td>\n",
              "    </tr>\n",
              "    <tr>\n",
              "      <th>3</th>\n",
              "      <td>grp_0</td>\n",
              "      <td>unable to access hr_tool page unable to access...</td>\n",
              "    </tr>\n",
              "    <tr>\n",
              "      <th>4</th>\n",
              "      <td>grp_0</td>\n",
              "      <td>skype error  skype error  owlgqjme qhcozdfx</td>\n",
              "    </tr>\n",
              "  </tbody>\n",
              "</table>\n",
              "</div>"
            ],
            "text/plain": [
              "  Assignment group                                  TicketDescription\n",
              "0            grp_0  login issue -verified user details.(employee# ...\n",
              "1            grp_0  outlook \\r\\n\\r\\nreceived from: \\n\\r\\nhello tea...\n",
              "2            grp_0  cant log in to vpn \\r\\n\\r\\nreceived from: \\n\\r...\n",
              "3            grp_0  unable to access hr_tool page unable to access...\n",
              "4            grp_0        skype error  skype error  owlgqjme qhcozdfx"
            ]
          },
          "metadata": {
            "tags": []
          },
          "execution_count": 100
        }
      ]
    },
    {
      "cell_type": "code",
      "metadata": {
        "id": "WPHZazInxzZa",
        "colab_type": "code",
        "colab": {}
      },
      "source": [
        "## Decontract the words\n",
        "import re\n",
        "def decontract(text):\n",
        "    text = re.sub(r\"won\\'t\", \"will not\", text)\n",
        "    text = re.sub(r\"can\\'t\", \"can not\", text)\n",
        "    text = re.sub(r\"n\\'t\", \" not\", text)\n",
        "    text = re.sub(r\"\\'re\", \" are\", text)\n",
        "    text = re.sub(r\"\\'s\", \" is\", text)\n",
        "    text = re.sub(r\"\\'d\", \" would\", text)\n",
        "    text = re.sub(r\"\\'ll\", \" will\", text)\n",
        "    text = re.sub(r\"\\'t\", \" not\", text)\n",
        "    text = re.sub(r\"\\'ve\", \" have\", text)\n",
        "    text = re.sub(r\"\\'m\", \" am\", text)\n",
        "    return text"
      ],
      "execution_count": 0,
      "outputs": []
    },
    {
      "cell_type": "code",
      "metadata": {
        "id": "xv9KvIdGqq36",
        "colab_type": "code",
        "outputId": "7a545c5d-da96-475b-ac0e-07a12bd82b82",
        "colab": {
          "base_uri": "https://localhost:8080/",
          "height": 204
        }
      },
      "source": [
        " \n",
        "df['TicketDescription'] = df['TicketDescription'].apply(lambda x: decontract(x))\n",
        "df.head()"
      ],
      "execution_count": 102,
      "outputs": [
        {
          "output_type": "execute_result",
          "data": {
            "text/html": [
              "<div>\n",
              "<style scoped>\n",
              "    .dataframe tbody tr th:only-of-type {\n",
              "        vertical-align: middle;\n",
              "    }\n",
              "\n",
              "    .dataframe tbody tr th {\n",
              "        vertical-align: top;\n",
              "    }\n",
              "\n",
              "    .dataframe thead th {\n",
              "        text-align: right;\n",
              "    }\n",
              "</style>\n",
              "<table border=\"1\" class=\"dataframe\">\n",
              "  <thead>\n",
              "    <tr style=\"text-align: right;\">\n",
              "      <th></th>\n",
              "      <th>Assignment group</th>\n",
              "      <th>TicketDescription</th>\n",
              "    </tr>\n",
              "  </thead>\n",
              "  <tbody>\n",
              "    <tr>\n",
              "      <th>0</th>\n",
              "      <td>grp_0</td>\n",
              "      <td>login issue -verified user details.(employee# ...</td>\n",
              "    </tr>\n",
              "    <tr>\n",
              "      <th>1</th>\n",
              "      <td>grp_0</td>\n",
              "      <td>outlook \\r\\n\\r\\nreceived from: \\n\\r\\nhello tea...</td>\n",
              "    </tr>\n",
              "    <tr>\n",
              "      <th>2</th>\n",
              "      <td>grp_0</td>\n",
              "      <td>cant log in to vpn \\r\\n\\r\\nreceived from: \\n\\r...</td>\n",
              "    </tr>\n",
              "    <tr>\n",
              "      <th>3</th>\n",
              "      <td>grp_0</td>\n",
              "      <td>unable to access hr_tool page unable to access...</td>\n",
              "    </tr>\n",
              "    <tr>\n",
              "      <th>4</th>\n",
              "      <td>grp_0</td>\n",
              "      <td>skype error  skype error  owlgqjme qhcozdfx</td>\n",
              "    </tr>\n",
              "  </tbody>\n",
              "</table>\n",
              "</div>"
            ],
            "text/plain": [
              "  Assignment group                                  TicketDescription\n",
              "0            grp_0  login issue -verified user details.(employee# ...\n",
              "1            grp_0  outlook \\r\\n\\r\\nreceived from: \\n\\r\\nhello tea...\n",
              "2            grp_0  cant log in to vpn \\r\\n\\r\\nreceived from: \\n\\r...\n",
              "3            grp_0  unable to access hr_tool page unable to access...\n",
              "4            grp_0        skype error  skype error  owlgqjme qhcozdfx"
            ]
          },
          "metadata": {
            "tags": []
          },
          "execution_count": 102
        }
      ]
    },
    {
      "cell_type": "code",
      "metadata": {
        "id": "VS1Sfm11-V6P",
        "colab_type": "code",
        "colab": {}
      },
      "source": [
        "## cleanup mail headers content \n",
        "\n",
        "def getRegexList():\n",
        "    regexList = []\n",
        "    regexList += ['From:(.*)\\r\\n']  # from line\n",
        "    regexList += ['Sent:(.*)\\r\\n']  # sent to line\n",
        "    regexList += ['Received:(.*)\\r\\n']  # received data line\n",
        "    regexList += ['To:(.*)\\r\\n']  # to line\n",
        "    regexList += ['CC:(.*)\\r\\n']  # cc line\n",
        "    regexList += ['Subject:']\n",
        "    regexList += ['[\\r\\n]']  # \\r\\n\n",
        "    regexList += ['[\\w\\d\\-\\_\\.]+ @ [\\w\\d\\-\\_\\.]+'] ## Email Ids\n",
        "    return regexList"
      ],
      "execution_count": 0,
      "outputs": []
    },
    {
      "cell_type": "code",
      "metadata": {
        "id": "35XgtEtx-1LN",
        "colab_type": "code",
        "colab": {}
      },
      "source": [
        "def cleanDataset(dataset, columnsToClean, regexList):\n",
        "    for column in columnsToClean:\n",
        "        for regex in regexList:\n",
        "            dataset[column] = removeString(dataset[column], regex)\n",
        "    return dataset"
      ],
      "execution_count": 0,
      "outputs": []
    },
    {
      "cell_type": "code",
      "metadata": {
        "id": "PekkRKxD_x0n",
        "colab_type": "code",
        "colab": {}
      },
      "source": [
        "def removeString(data, regex):\n",
        "    return data.str.lower().str.replace(regex.lower(), ' ')"
      ],
      "execution_count": 0,
      "outputs": []
    },
    {
      "cell_type": "code",
      "metadata": {
        "id": "es0V9rAX_WHZ",
        "colab_type": "code",
        "colab": {}
      },
      "source": [
        "columnsToClean = ['TicketDescription']\n",
        "df = cleanDataset(df,columnsToClean, getRegexList())"
      ],
      "execution_count": 0,
      "outputs": []
    },
    {
      "cell_type": "code",
      "metadata": {
        "id": "TKMGcFSBey3g",
        "colab_type": "code",
        "colab": {}
      },
      "source": [
        "df['TicketDescription'] = df['TicketDescription'].apply((lambda x: re.sub('[^a-zA-z0-9\\s]',' ',x)))"
      ],
      "execution_count": 0,
      "outputs": []
    },
    {
      "cell_type": "code",
      "metadata": {
        "id": "AOqHV2X_55ML",
        "colab_type": "code",
        "outputId": "4b5a3161-2b5e-4aa0-abe9-cd65e5a37853",
        "colab": {
          "base_uri": "https://localhost:8080/",
          "height": 204
        }
      },
      "source": [
        "df.head()"
      ],
      "execution_count": 108,
      "outputs": [
        {
          "output_type": "execute_result",
          "data": {
            "text/html": [
              "<div>\n",
              "<style scoped>\n",
              "    .dataframe tbody tr th:only-of-type {\n",
              "        vertical-align: middle;\n",
              "    }\n",
              "\n",
              "    .dataframe tbody tr th {\n",
              "        vertical-align: top;\n",
              "    }\n",
              "\n",
              "    .dataframe thead th {\n",
              "        text-align: right;\n",
              "    }\n",
              "</style>\n",
              "<table border=\"1\" class=\"dataframe\">\n",
              "  <thead>\n",
              "    <tr style=\"text-align: right;\">\n",
              "      <th></th>\n",
              "      <th>Assignment group</th>\n",
              "      <th>TicketDescription</th>\n",
              "    </tr>\n",
              "  </thead>\n",
              "  <tbody>\n",
              "    <tr>\n",
              "      <th>0</th>\n",
              "      <td>grp_0</td>\n",
              "      <td>login issue  verified user details  employee  ...</td>\n",
              "    </tr>\n",
              "    <tr>\n",
              "      <th>1</th>\n",
              "      <td>grp_0</td>\n",
              "      <td>outlook     received from     hello team     m...</td>\n",
              "    </tr>\n",
              "    <tr>\n",
              "      <th>2</th>\n",
              "      <td>grp_0</td>\n",
              "      <td>cant log in to vpn     received from     hi   ...</td>\n",
              "    </tr>\n",
              "    <tr>\n",
              "      <th>3</th>\n",
              "      <td>grp_0</td>\n",
              "      <td>unable to access hr_tool page unable to access...</td>\n",
              "    </tr>\n",
              "    <tr>\n",
              "      <th>4</th>\n",
              "      <td>grp_0</td>\n",
              "      <td>skype error  skype error  owlgqjme qhcozdfx</td>\n",
              "    </tr>\n",
              "  </tbody>\n",
              "</table>\n",
              "</div>"
            ],
            "text/plain": [
              "  Assignment group                                  TicketDescription\n",
              "0            grp_0  login issue  verified user details  employee  ...\n",
              "1            grp_0  outlook     received from     hello team     m...\n",
              "2            grp_0  cant log in to vpn     received from     hi   ...\n",
              "3            grp_0  unable to access hr_tool page unable to access...\n",
              "4            grp_0        skype error  skype error  owlgqjme qhcozdfx"
            ]
          },
          "metadata": {
            "tags": []
          },
          "execution_count": 108
        }
      ]
    },
    {
      "cell_type": "code",
      "metadata": {
        "id": "PDQA6A6MxzdV",
        "colab_type": "code",
        "outputId": "682862e0-5391-43c9-c54f-02971232db07",
        "colab": {
          "base_uri": "https://localhost:8080/",
          "height": 68
        }
      },
      "source": [
        "## Clean stopwords and punctuations\n",
        "\n",
        "import nltk\n",
        "import string\n",
        "import re\n",
        "nltk.download(\"stopwords\")"
      ],
      "execution_count": 109,
      "outputs": [
        {
          "output_type": "stream",
          "text": [
            "[nltk_data] Downloading package stopwords to /root/nltk_data...\n",
            "[nltk_data]   Package stopwords is already up-to-date!\n"
          ],
          "name": "stdout"
        },
        {
          "output_type": "execute_result",
          "data": {
            "text/plain": [
              "True"
            ]
          },
          "metadata": {
            "tags": []
          },
          "execution_count": 109
        }
      ]
    },
    {
      "cell_type": "code",
      "metadata": {
        "id": "DjIFLQAb3Yi8",
        "colab_type": "code",
        "outputId": "880cd089-33ae-4f85-e145-c0d54fc5b811",
        "colab": {
          "base_uri": "https://localhost:8080/",
          "height": 204
        }
      },
      "source": [
        "stopwords = nltk.corpus.stopwords.words('english')\n",
        "\n",
        "def removeStopWordsPunctuations(text):\n",
        "    text = \"\".join([word for word in text if word not in string.punctuation])\n",
        "    tokens = re.split('\\W+', text)\n",
        "    text = [word for word in tokens if word not in stopwords]\n",
        "    return text\n",
        "\n",
        "df['TicketDescription'] = df['TicketDescription'].apply(lambda x: removeStopWordsPunctuations(x.lower()))\n",
        "\n",
        "df.head()"
      ],
      "execution_count": 110,
      "outputs": [
        {
          "output_type": "execute_result",
          "data": {
            "text/html": [
              "<div>\n",
              "<style scoped>\n",
              "    .dataframe tbody tr th:only-of-type {\n",
              "        vertical-align: middle;\n",
              "    }\n",
              "\n",
              "    .dataframe tbody tr th {\n",
              "        vertical-align: top;\n",
              "    }\n",
              "\n",
              "    .dataframe thead th {\n",
              "        text-align: right;\n",
              "    }\n",
              "</style>\n",
              "<table border=\"1\" class=\"dataframe\">\n",
              "  <thead>\n",
              "    <tr style=\"text-align: right;\">\n",
              "      <th></th>\n",
              "      <th>Assignment group</th>\n",
              "      <th>TicketDescription</th>\n",
              "    </tr>\n",
              "  </thead>\n",
              "  <tbody>\n",
              "    <tr>\n",
              "      <th>0</th>\n",
              "      <td>grp_0</td>\n",
              "      <td>[login, issue, verified, user, details, employ...</td>\n",
              "    </tr>\n",
              "    <tr>\n",
              "      <th>1</th>\n",
              "      <td>grp_0</td>\n",
              "      <td>[outlook, received, hello, team, meetings, sky...</td>\n",
              "    </tr>\n",
              "    <tr>\n",
              "      <th>2</th>\n",
              "      <td>grp_0</td>\n",
              "      <td>[cant, log, vpn, received, hi, cannot, log, vp...</td>\n",
              "    </tr>\n",
              "    <tr>\n",
              "      <th>3</th>\n",
              "      <td>grp_0</td>\n",
              "      <td>[unable, access, hrtool, page, unable, access,...</td>\n",
              "    </tr>\n",
              "    <tr>\n",
              "      <th>4</th>\n",
              "      <td>grp_0</td>\n",
              "      <td>[skype, error, skype, error, owlgqjme, qhcozdfx]</td>\n",
              "    </tr>\n",
              "  </tbody>\n",
              "</table>\n",
              "</div>"
            ],
            "text/plain": [
              "  Assignment group                                  TicketDescription\n",
              "0            grp_0  [login, issue, verified, user, details, employ...\n",
              "1            grp_0  [outlook, received, hello, team, meetings, sky...\n",
              "2            grp_0  [cant, log, vpn, received, hi, cannot, log, vp...\n",
              "3            grp_0  [unable, access, hrtool, page, unable, access,...\n",
              "4            grp_0   [skype, error, skype, error, owlgqjme, qhcozdfx]"
            ]
          },
          "metadata": {
            "tags": []
          },
          "execution_count": 110
        }
      ]
    },
    {
      "cell_type": "code",
      "metadata": {
        "id": "Vd4ORGXNAWAc",
        "colab_type": "code",
        "outputId": "716a68d1-a96d-4660-d72e-a24e07dc54d8",
        "colab": {
          "base_uri": "https://localhost:8080/",
          "height": 204
        }
      },
      "source": [
        "df.head()"
      ],
      "execution_count": 111,
      "outputs": [
        {
          "output_type": "execute_result",
          "data": {
            "text/html": [
              "<div>\n",
              "<style scoped>\n",
              "    .dataframe tbody tr th:only-of-type {\n",
              "        vertical-align: middle;\n",
              "    }\n",
              "\n",
              "    .dataframe tbody tr th {\n",
              "        vertical-align: top;\n",
              "    }\n",
              "\n",
              "    .dataframe thead th {\n",
              "        text-align: right;\n",
              "    }\n",
              "</style>\n",
              "<table border=\"1\" class=\"dataframe\">\n",
              "  <thead>\n",
              "    <tr style=\"text-align: right;\">\n",
              "      <th></th>\n",
              "      <th>Assignment group</th>\n",
              "      <th>TicketDescription</th>\n",
              "    </tr>\n",
              "  </thead>\n",
              "  <tbody>\n",
              "    <tr>\n",
              "      <th>0</th>\n",
              "      <td>grp_0</td>\n",
              "      <td>[login, issue, verified, user, details, employ...</td>\n",
              "    </tr>\n",
              "    <tr>\n",
              "      <th>1</th>\n",
              "      <td>grp_0</td>\n",
              "      <td>[outlook, received, hello, team, meetings, sky...</td>\n",
              "    </tr>\n",
              "    <tr>\n",
              "      <th>2</th>\n",
              "      <td>grp_0</td>\n",
              "      <td>[cant, log, vpn, received, hi, cannot, log, vp...</td>\n",
              "    </tr>\n",
              "    <tr>\n",
              "      <th>3</th>\n",
              "      <td>grp_0</td>\n",
              "      <td>[unable, access, hrtool, page, unable, access,...</td>\n",
              "    </tr>\n",
              "    <tr>\n",
              "      <th>4</th>\n",
              "      <td>grp_0</td>\n",
              "      <td>[skype, error, skype, error, owlgqjme, qhcozdfx]</td>\n",
              "    </tr>\n",
              "  </tbody>\n",
              "</table>\n",
              "</div>"
            ],
            "text/plain": [
              "  Assignment group                                  TicketDescription\n",
              "0            grp_0  [login, issue, verified, user, details, employ...\n",
              "1            grp_0  [outlook, received, hello, team, meetings, sky...\n",
              "2            grp_0  [cant, log, vpn, received, hi, cannot, log, vp...\n",
              "3            grp_0  [unable, access, hrtool, page, unable, access,...\n",
              "4            grp_0   [skype, error, skype, error, owlgqjme, qhcozdfx]"
            ]
          },
          "metadata": {
            "tags": []
          },
          "execution_count": 111
        }
      ]
    },
    {
      "cell_type": "code",
      "metadata": {
        "id": "_fCjEMkB6WYl",
        "colab_type": "code",
        "colab": {}
      },
      "source": [
        "from nltk.stem.snowball import SnowballStemmer  ### Portstemmer vs snowballstemmer ... ?   Snowballstemmer is preferred over portstemmer for better results.."
      ],
      "execution_count": 0,
      "outputs": []
    },
    {
      "cell_type": "code",
      "metadata": {
        "id": "FFH3i9W76VBI",
        "colab_type": "code",
        "colab": {}
      },
      "source": [
        "snowStem = nltk.SnowballStemmer(\"english\")"
      ],
      "execution_count": 0,
      "outputs": []
    },
    {
      "cell_type": "code",
      "metadata": {
        "id": "Bl15Pav26GTj",
        "colab_type": "code",
        "outputId": "bcd32b73-e540-472b-9724-bd34fa5937b5",
        "colab": {
          "base_uri": "https://localhost:8080/",
          "height": 204
        }
      },
      "source": [
        "def stemming(tokenized_text):\n",
        "    text = [snowStem.stem(word) for word in tokenized_text]\n",
        "    return text\n",
        "\n",
        "df['TicketDescription'] = df['TicketDescription'].apply(lambda x: stemming(x))\n",
        "\n",
        "df.head()"
      ],
      "execution_count": 114,
      "outputs": [
        {
          "output_type": "execute_result",
          "data": {
            "text/html": [
              "<div>\n",
              "<style scoped>\n",
              "    .dataframe tbody tr th:only-of-type {\n",
              "        vertical-align: middle;\n",
              "    }\n",
              "\n",
              "    .dataframe tbody tr th {\n",
              "        vertical-align: top;\n",
              "    }\n",
              "\n",
              "    .dataframe thead th {\n",
              "        text-align: right;\n",
              "    }\n",
              "</style>\n",
              "<table border=\"1\" class=\"dataframe\">\n",
              "  <thead>\n",
              "    <tr style=\"text-align: right;\">\n",
              "      <th></th>\n",
              "      <th>Assignment group</th>\n",
              "      <th>TicketDescription</th>\n",
              "    </tr>\n",
              "  </thead>\n",
              "  <tbody>\n",
              "    <tr>\n",
              "      <th>0</th>\n",
              "      <td>grp_0</td>\n",
              "      <td>[login, issu, verifi, user, detail, employe, m...</td>\n",
              "    </tr>\n",
              "    <tr>\n",
              "      <th>1</th>\n",
              "      <td>grp_0</td>\n",
              "      <td>[outlook, receiv, hello, team, meet, skype, me...</td>\n",
              "    </tr>\n",
              "    <tr>\n",
              "      <th>2</th>\n",
              "      <td>grp_0</td>\n",
              "      <td>[cant, log, vpn, receiv, hi, cannot, log, vpn,...</td>\n",
              "    </tr>\n",
              "    <tr>\n",
              "      <th>3</th>\n",
              "      <td>grp_0</td>\n",
              "      <td>[unabl, access, hrtool, page, unabl, access, h...</td>\n",
              "    </tr>\n",
              "    <tr>\n",
              "      <th>4</th>\n",
              "      <td>grp_0</td>\n",
              "      <td>[skype, error, skype, error, owlgqjm, qhcozdfx]</td>\n",
              "    </tr>\n",
              "  </tbody>\n",
              "</table>\n",
              "</div>"
            ],
            "text/plain": [
              "  Assignment group                                  TicketDescription\n",
              "0            grp_0  [login, issu, verifi, user, detail, employe, m...\n",
              "1            grp_0  [outlook, receiv, hello, team, meet, skype, me...\n",
              "2            grp_0  [cant, log, vpn, receiv, hi, cannot, log, vpn,...\n",
              "3            grp_0  [unabl, access, hrtool, page, unabl, access, h...\n",
              "4            grp_0    [skype, error, skype, error, owlgqjm, qhcozdfx]"
            ]
          },
          "metadata": {
            "tags": []
          },
          "execution_count": 114
        }
      ]
    },
    {
      "cell_type": "code",
      "metadata": {
        "id": "E1WqDzMY7pwD",
        "colab_type": "code",
        "colab": {}
      },
      "source": [
        "## Lematizer to be tried out... Not sure if we need to do this... People prefere to do just stemming vs lemmatization... \n",
        "from nltk.corpus import wordnet\n",
        "from nltk.stem.wordnet import WordNetLemmatizer\n",
        "\n",
        "lemmatizer = WordNetLemmatizer()\n",
        "\n",
        "def lematize_text(text):\n",
        "  text = [lemmatizer.lemmatize(token, \"v\") for token in text] #Lemmatization\n",
        "  return text"
      ],
      "execution_count": 0,
      "outputs": []
    },
    {
      "cell_type": "code",
      "metadata": {
        "id": "N7RH8IN4tOYB",
        "colab_type": "code",
        "colab": {}
      },
      "source": [
        "##df['TicketDescription'] = df['TicketDescription'].apply(lambda x: WordNetLemmatizer(x))\n",
        "##df.head()"
      ],
      "execution_count": 0,
      "outputs": []
    },
    {
      "cell_type": "code",
      "metadata": {
        "id": "2tWvJ3fD8kex",
        "colab_type": "code",
        "colab": {}
      },
      "source": [
        "from tensorflow.keras.preprocessing.text import Tokenizer\n",
        "from tensorflow.keras.preprocessing.sequence import pad_sequences\n",
        "\n",
        "from sklearn.feature_extraction.text import CountVectorizer\n",
        "from keras.preprocessing.text import Tokenizer\n",
        "from keras.preprocessing.sequence import pad_sequences\n",
        "from keras.models import Sequential\n",
        "from keras.layers import Dense, Embedding, LSTM, SpatialDropout1D\n",
        "from sklearn.model_selection import train_test_split\n",
        "from keras.utils.np_utils import to_categorical"
      ],
      "execution_count": 0,
      "outputs": []
    },
    {
      "cell_type": "code",
      "metadata": {
        "id": "phOWclmngb7H",
        "colab_type": "code",
        "colab": {}
      },
      "source": [
        "for idx,row in df.iterrows():\n",
        "    row[0] = row[0].replace('rt',' ')\n",
        "    \n",
        "vocabSize = 10000\n",
        "maxXFeatureSize = 200\n",
        "tokenizer = Tokenizer(num_words=vocabSize, split=' ')\n",
        "tokenizer.fit_on_texts(df['TicketDescription'].values)\n",
        "X = tokenizer.texts_to_sequences(df['TicketDescription'].values)\n",
        "X = pad_sequences(X, maxlen = maxXFeatureSize ) ### Add max len parameter"
      ],
      "execution_count": 0,
      "outputs": []
    },
    {
      "cell_type": "code",
      "metadata": {
        "id": "T5sCxNL8y7As",
        "colab_type": "code",
        "colab": {}
      },
      "source": [
        "## Perform lable encoder... and convert to catagorical.. \n",
        "from sklearn import preprocessing\n",
        "le = preprocessing.LabelEncoder()\n",
        "le.fit(df['Assignment group'])\n",
        "y_enc = le.transform(df['Assignment group'])"
      ],
      "execution_count": 0,
      "outputs": []
    },
    {
      "cell_type": "code",
      "metadata": {
        "id": "wpPtsibJ665b",
        "colab_type": "code",
        "outputId": "aae2856a-bbc6-42c9-f6af-9ba368e44eae",
        "colab": {
          "base_uri": "https://localhost:8080/",
          "height": 34
        }
      },
      "source": [
        "#le.inverse_transform([0, 0, 44, 2])\n",
        "Y = pd.get_dummies(y_enc).values\n",
        "\n",
        "Y[0].shape"
      ],
      "execution_count": 120,
      "outputs": [
        {
          "output_type": "execute_result",
          "data": {
            "text/plain": [
              "(50,)"
            ]
          },
          "metadata": {
            "tags": []
          },
          "execution_count": 120
        }
      ]
    },
    {
      "cell_type": "code",
      "metadata": {
        "id": "dub3kCaAbWpZ",
        "colab_type": "code",
        "outputId": "555338ce-f25c-4033-f9ab-183ddb12eeb4",
        "colab": {
          "base_uri": "https://localhost:8080/",
          "height": 51
        }
      },
      "source": [
        "\n",
        "#Y = pd.get_dummies(df['Assignment group']).values\n",
        "Y = pd.get_dummies(y_enc).values\n",
        "X_train, X_test, Y_train, Y_test = train_test_split(X,Y, test_size = 0.20, random_state = 42)\n",
        "print(X_train.shape,Y_train.shape)\n",
        "print(X_test.shape,Y_test.shape)"
      ],
      "execution_count": 121,
      "outputs": [
        {
          "output_type": "stream",
          "text": [
            "(6680, 200) (6680, 50)\n",
            "(1671, 200) (1671, 50)\n"
          ],
          "name": "stdout"
        }
      ]
    },
    {
      "cell_type": "code",
      "metadata": {
        "id": "UUncpS-ty8PQ",
        "colab_type": "code",
        "outputId": "76b3372f-b8e9-4c4b-a704-338d5a5bb30f",
        "colab": {
          "base_uri": "https://localhost:8080/",
          "height": 68
        }
      },
      "source": [
        "Y[1]\n"
      ],
      "execution_count": 122,
      "outputs": [
        {
          "output_type": "execute_result",
          "data": {
            "text/plain": [
              "array([1, 0, 0, 0, 0, 0, 0, 0, 0, 0, 0, 0, 0, 0, 0, 0, 0, 0, 0, 0, 0, 0,\n",
              "       0, 0, 0, 0, 0, 0, 0, 0, 0, 0, 0, 0, 0, 0, 0, 0, 0, 0, 0, 0, 0, 0,\n",
              "       0, 0, 0, 0, 0, 0], dtype=uint8)"
            ]
          },
          "metadata": {
            "tags": []
          },
          "execution_count": 122
        }
      ]
    },
    {
      "cell_type": "code",
      "metadata": {
        "id": "uR45DaLc7r5S",
        "colab_type": "code",
        "colab": {}
      },
      "source": [
        "from imblearn.over_sampling import SMOTE\n",
        "smote = SMOTE('minority')\n",
        "##X1, Y2 = smote.fit_sample(X,Y)"
      ],
      "execution_count": 0,
      "outputs": []
    },
    {
      "cell_type": "code",
      "metadata": {
        "id": "67LAQ0S0lGzg",
        "colab_type": "code",
        "outputId": "994027dc-a252-4285-c67b-372099a0e54e",
        "colab": {
          "base_uri": "https://localhost:8080/",
          "height": 68
        }
      },
      "source": [
        "np.unique(np.argmax(Y_train, axis=1))"
      ],
      "execution_count": 124,
      "outputs": [
        {
          "output_type": "execute_result",
          "data": {
            "text/plain": [
              "array([ 0,  1,  2,  3,  4,  5,  6,  7,  8,  9, 10, 11, 12, 13, 14, 15, 16,\n",
              "       17, 18, 19, 20, 21, 22, 23, 24, 25, 26, 27, 28, 29, 30, 31, 32, 33,\n",
              "       34, 35, 36, 37, 38, 39, 40, 41, 42, 43, 44, 45, 46, 47, 48, 49])"
            ]
          },
          "metadata": {
            "tags": []
          },
          "execution_count": 124
        }
      ]
    },
    {
      "cell_type": "code",
      "metadata": {
        "id": "89mAqd4vHAP5",
        "colab_type": "code",
        "colab": {}
      },
      "source": [
        "from sklearn.utils import class_weight\n",
        "\n",
        "#class_weigth = class_weight.compute_class_weight('balanced', np.unique(np.argmax(Y_train, axis=1)),Y_train)\n",
        "\n",
        "##class_weigth = class_weight.compute_class_weight('balanced', np.uniquY_train.argmax(),Y_train)\n"
      ],
      "execution_count": 0,
      "outputs": []
    },
    {
      "cell_type": "code",
      "metadata": {
        "id": "6rVgobTlgcIQ",
        "colab_type": "code",
        "outputId": "c72a81d0-6f2d-4452-ea81-d598183b7bdb",
        "colab": {
          "base_uri": "https://localhost:8080/",
          "height": 306
        }
      },
      "source": [
        "## Lets try out LSTM model\n",
        "from keras.layers import Dropout\n",
        "\n",
        "embed_dim = 128\n",
        "lstm_out = 256    ### 256... 128\n",
        "\n",
        "model = Sequential()\n",
        "model.add(Embedding(vocabSize+1, embed_dim,input_length = X.shape[1]))\n",
        "model.add(SpatialDropout1D(0.5))\n",
        "model.add(LSTM(lstm_out, dropout=0.2, recurrent_dropout=0.3)) ### 0.2, 0.3\n",
        "#model.add(Dense(148,activation='relu'))\n",
        "#model.add(Dropout(0.4))\n",
        "model.add(Dense(50,activation='softmax'))  ### Note that they are 74 groups to which tickets are to be assigned ## Avpid hardcoding of 74\n",
        "model.compile(loss = 'categorical_crossentropy', optimizer='adam',metrics = ['accuracy'])\n",
        "print(model.summary())"
      ],
      "execution_count": 126,
      "outputs": [
        {
          "output_type": "stream",
          "text": [
            "Model: \"sequential_2\"\n",
            "_________________________________________________________________\n",
            "Layer (type)                 Output Shape              Param #   \n",
            "=================================================================\n",
            "embedding_2 (Embedding)      (None, 200, 128)          1280128   \n",
            "_________________________________________________________________\n",
            "spatial_dropout1d_2 (Spatial (None, 200, 128)          0         \n",
            "_________________________________________________________________\n",
            "lstm_2 (LSTM)                (None, 256)               394240    \n",
            "_________________________________________________________________\n",
            "dense_2 (Dense)              (None, 50)                12850     \n",
            "=================================================================\n",
            "Total params: 1,687,218\n",
            "Trainable params: 1,687,218\n",
            "Non-trainable params: 0\n",
            "_________________________________________________________________\n",
            "None\n"
          ],
          "name": "stdout"
        }
      ]
    },
    {
      "cell_type": "code",
      "metadata": {
        "id": "bL5ji-AJzZWu",
        "colab_type": "code",
        "colab": {}
      },
      "source": [
        "# Using Keras Callbacks, save the model after every epoch\n",
        "# Stop the training using early stopping if the validation loss does not improve for 12 epochs\n",
        "\n",
        "from keras.callbacks import ModelCheckpoint\n",
        "\n",
        "callbacks = [\n",
        "    #EarlyStopping(monitor='val_loss', min_delta=0.0001, patience=5, verbose=0, mode='auto'),\n",
        "    ModelCheckpoint('./ticketCategorizationC2-{epoch:03d}.h5', monitor='val_loss', verbose=1, save_best_only = True)\n",
        "]"
      ],
      "execution_count": 0,
      "outputs": []
    },
    {
      "cell_type": "code",
      "metadata": {
        "id": "npD4kUWvjcmX",
        "colab_type": "code",
        "outputId": "963d1213-0cca-4384-fd3f-87345bc91965",
        "colab": {
          "base_uri": "https://localhost:8080/",
          "height": 1000
        }
      },
      "source": [
        "batch_size = 32\n",
        "EPOCHS = 50\n",
        "history = model.fit(X_train, Y_train, validation_split = 0.2, epochs = EPOCHS, batch_size=batch_size, callbacks = callbacks,verbose = 2)  ### Add validation split.."
      ],
      "execution_count": 128,
      "outputs": [
        {
          "output_type": "stream",
          "text": [
            "Train on 5344 samples, validate on 1336 samples\n",
            "Epoch 1/50\n",
            " - 153s - loss: 2.4132 - accuracy: 0.4927 - val_loss: 2.0180 - val_accuracy: 0.5584\n",
            "\n",
            "Epoch 00001: val_loss improved from inf to 2.01800, saving model to ./ticketCategorizationC2-001.h5\n",
            "Epoch 2/50\n",
            " - 152s - loss: 1.9248 - accuracy: 0.5488 - val_loss: 1.8560 - val_accuracy: 0.5778\n",
            "\n",
            "Epoch 00002: val_loss improved from 2.01800 to 1.85596, saving model to ./ticketCategorizationC2-002.h5\n",
            "Epoch 3/50\n",
            " - 154s - loss: 1.7100 - accuracy: 0.5801 - val_loss: 1.7612 - val_accuracy: 0.5943\n",
            "\n",
            "Epoch 00003: val_loss improved from 1.85596 to 1.76124, saving model to ./ticketCategorizationC2-003.h5\n",
            "Epoch 4/50\n",
            " - 157s - loss: 1.5309 - accuracy: 0.6044 - val_loss: 1.7578 - val_accuracy: 0.5749\n",
            "\n",
            "Epoch 00004: val_loss improved from 1.76124 to 1.75779, saving model to ./ticketCategorizationC2-004.h5\n",
            "Epoch 5/50\n",
            " - 165s - loss: 1.3785 - accuracy: 0.6291 - val_loss: 1.6861 - val_accuracy: 0.5966\n",
            "\n",
            "Epoch 00005: val_loss improved from 1.75779 to 1.68611, saving model to ./ticketCategorizationC2-005.h5\n",
            "Epoch 6/50\n",
            " - 158s - loss: 1.2216 - accuracy: 0.6609 - val_loss: 1.7189 - val_accuracy: 0.5846\n",
            "\n",
            "Epoch 00006: val_loss did not improve from 1.68611\n",
            "Epoch 7/50\n",
            " - 155s - loss: 1.0999 - accuracy: 0.6924 - val_loss: 1.7036 - val_accuracy: 0.5913\n",
            "\n",
            "Epoch 00007: val_loss did not improve from 1.68611\n",
            "Epoch 8/50\n",
            " - 155s - loss: 0.9820 - accuracy: 0.7244 - val_loss: 1.6888 - val_accuracy: 0.5936\n",
            "\n",
            "Epoch 00008: val_loss did not improve from 1.68611\n",
            "Epoch 9/50\n",
            " - 163s - loss: 0.8710 - accuracy: 0.7610 - val_loss: 1.7034 - val_accuracy: 0.6085\n",
            "\n",
            "Epoch 00009: val_loss did not improve from 1.68611\n",
            "Epoch 10/50\n",
            " - 158s - loss: 0.7629 - accuracy: 0.7814 - val_loss: 1.7298 - val_accuracy: 0.6093\n",
            "\n",
            "Epoch 00010: val_loss did not improve from 1.68611\n",
            "Epoch 11/50\n",
            " - 158s - loss: 0.6868 - accuracy: 0.8078 - val_loss: 1.7659 - val_accuracy: 0.6220\n",
            "\n",
            "Epoch 00011: val_loss did not improve from 1.68611\n",
            "Epoch 12/50\n",
            " - 158s - loss: 0.6079 - accuracy: 0.8278 - val_loss: 1.8095 - val_accuracy: 0.6145\n",
            "\n",
            "Epoch 00012: val_loss did not improve from 1.68611\n",
            "Epoch 13/50\n",
            " - 163s - loss: 0.5432 - accuracy: 0.8466 - val_loss: 1.8950 - val_accuracy: 0.6272\n",
            "\n",
            "Epoch 00013: val_loss did not improve from 1.68611\n",
            "Epoch 14/50\n",
            " - 157s - loss: 0.4773 - accuracy: 0.8673 - val_loss: 1.8746 - val_accuracy: 0.6213\n",
            "\n",
            "Epoch 00014: val_loss did not improve from 1.68611\n",
            "Epoch 15/50\n",
            " - 159s - loss: 0.4352 - accuracy: 0.8782 - val_loss: 1.9385 - val_accuracy: 0.6400\n",
            "\n",
            "Epoch 00015: val_loss did not improve from 1.68611\n",
            "Epoch 16/50\n",
            " - 161s - loss: 0.3755 - accuracy: 0.8917 - val_loss: 1.9518 - val_accuracy: 0.6370\n",
            "\n",
            "Epoch 00016: val_loss did not improve from 1.68611\n",
            "Epoch 17/50\n",
            " - 167s - loss: 0.3395 - accuracy: 0.9061 - val_loss: 1.9564 - val_accuracy: 0.6347\n",
            "\n",
            "Epoch 00017: val_loss did not improve from 1.68611\n",
            "Epoch 18/50\n",
            " - 159s - loss: 0.3028 - accuracy: 0.9137 - val_loss: 2.0329 - val_accuracy: 0.6340\n",
            "\n",
            "Epoch 00018: val_loss did not improve from 1.68611\n",
            "Epoch 19/50\n",
            " - 162s - loss: 0.2797 - accuracy: 0.9212 - val_loss: 2.0374 - val_accuracy: 0.6362\n",
            "\n",
            "Epoch 00019: val_loss did not improve from 1.68611\n",
            "Epoch 20/50\n",
            " - 166s - loss: 0.2473 - accuracy: 0.9311 - val_loss: 2.0921 - val_accuracy: 0.6243\n",
            "\n",
            "Epoch 00020: val_loss did not improve from 1.68611\n",
            "Epoch 21/50\n",
            " - 157s - loss: 0.2334 - accuracy: 0.9330 - val_loss: 2.0542 - val_accuracy: 0.6407\n",
            "\n",
            "Epoch 00021: val_loss did not improve from 1.68611\n",
            "Epoch 22/50\n",
            " - 157s - loss: 0.2174 - accuracy: 0.9354 - val_loss: 2.1230 - val_accuracy: 0.6295\n",
            "\n",
            "Epoch 00022: val_loss did not improve from 1.68611\n",
            "Epoch 23/50\n",
            " - 161s - loss: 0.1931 - accuracy: 0.9465 - val_loss: 2.2014 - val_accuracy: 0.6437\n",
            "\n",
            "Epoch 00023: val_loss did not improve from 1.68611\n",
            "Epoch 24/50\n",
            " - 165s - loss: 0.1831 - accuracy: 0.9478 - val_loss: 2.2241 - val_accuracy: 0.6385\n",
            "\n",
            "Epoch 00024: val_loss did not improve from 1.68611\n",
            "Epoch 25/50\n",
            " - 158s - loss: 0.1771 - accuracy: 0.9499 - val_loss: 2.2156 - val_accuracy: 0.6280\n",
            "\n",
            "Epoch 00025: val_loss did not improve from 1.68611\n",
            "Epoch 26/50\n",
            " - 157s - loss: 0.1489 - accuracy: 0.9560 - val_loss: 2.2741 - val_accuracy: 0.6317\n",
            "\n",
            "Epoch 00026: val_loss did not improve from 1.68611\n",
            "Epoch 27/50\n",
            " - 160s - loss: 0.1527 - accuracy: 0.9557 - val_loss: 2.3098 - val_accuracy: 0.6392\n",
            "\n",
            "Epoch 00027: val_loss did not improve from 1.68611\n",
            "Epoch 28/50\n",
            " - 166s - loss: 0.1225 - accuracy: 0.9635 - val_loss: 2.3221 - val_accuracy: 0.6534\n",
            "\n",
            "Epoch 00028: val_loss did not improve from 1.68611\n",
            "Epoch 29/50\n",
            " - 159s - loss: 0.1210 - accuracy: 0.9656 - val_loss: 2.3238 - val_accuracy: 0.6430\n",
            "\n",
            "Epoch 00029: val_loss did not improve from 1.68611\n",
            "Epoch 30/50\n",
            " - 156s - loss: 0.1309 - accuracy: 0.9613 - val_loss: 2.3108 - val_accuracy: 0.6362\n",
            "\n",
            "Epoch 00030: val_loss did not improve from 1.68611\n",
            "Epoch 31/50\n",
            " - 157s - loss: 0.1241 - accuracy: 0.9618 - val_loss: 2.3496 - val_accuracy: 0.6490\n",
            "\n",
            "Epoch 00031: val_loss did not improve from 1.68611\n",
            "Epoch 32/50\n",
            " - 163s - loss: 0.1178 - accuracy: 0.9648 - val_loss: 2.3799 - val_accuracy: 0.6400\n",
            "\n",
            "Epoch 00032: val_loss did not improve from 1.68611\n",
            "Epoch 33/50\n",
            " - 159s - loss: 0.1090 - accuracy: 0.9671 - val_loss: 2.4106 - val_accuracy: 0.6310\n",
            "\n",
            "Epoch 00033: val_loss did not improve from 1.68611\n",
            "Epoch 34/50\n",
            " - 159s - loss: 0.0977 - accuracy: 0.9688 - val_loss: 2.4231 - val_accuracy: 0.6370\n",
            "\n",
            "Epoch 00034: val_loss did not improve from 1.68611\n",
            "Epoch 35/50\n",
            " - 160s - loss: 0.0991 - accuracy: 0.9689 - val_loss: 2.4149 - val_accuracy: 0.6430\n",
            "\n",
            "Epoch 00035: val_loss did not improve from 1.68611\n",
            "Epoch 36/50\n",
            " - 165s - loss: 0.0906 - accuracy: 0.9710 - val_loss: 2.4335 - val_accuracy: 0.6400\n",
            "\n",
            "Epoch 00036: val_loss did not improve from 1.68611\n",
            "Epoch 37/50\n",
            " - 158s - loss: 0.0885 - accuracy: 0.9753 - val_loss: 2.4802 - val_accuracy: 0.6407\n",
            "\n",
            "Epoch 00037: val_loss did not improve from 1.68611\n",
            "Epoch 38/50\n",
            " - 163s - loss: 0.0969 - accuracy: 0.9702 - val_loss: 2.4645 - val_accuracy: 0.6370\n",
            "\n",
            "Epoch 00038: val_loss did not improve from 1.68611\n",
            "Epoch 39/50\n",
            " - 164s - loss: 0.0788 - accuracy: 0.9753 - val_loss: 2.5062 - val_accuracy: 0.6370\n",
            "\n",
            "Epoch 00039: val_loss did not improve from 1.68611\n",
            "Epoch 40/50\n",
            " - 175s - loss: 0.0782 - accuracy: 0.9759 - val_loss: 2.5224 - val_accuracy: 0.6452\n",
            "\n",
            "Epoch 00040: val_loss did not improve from 1.68611\n",
            "Epoch 41/50\n",
            " - 163s - loss: 0.0765 - accuracy: 0.9770 - val_loss: 2.5738 - val_accuracy: 0.6400\n",
            "\n",
            "Epoch 00041: val_loss did not improve from 1.68611\n",
            "Epoch 42/50\n",
            " - 164s - loss: 0.0738 - accuracy: 0.9759 - val_loss: 2.5786 - val_accuracy: 0.6512\n",
            "\n",
            "Epoch 00042: val_loss did not improve from 1.68611\n",
            "Epoch 43/50\n",
            " - 170s - loss: 0.0674 - accuracy: 0.9779 - val_loss: 2.5830 - val_accuracy: 0.6422\n",
            "\n",
            "Epoch 00043: val_loss did not improve from 1.68611\n",
            "Epoch 44/50\n",
            " - 160s - loss: 0.0637 - accuracy: 0.9783 - val_loss: 2.6684 - val_accuracy: 0.6467\n",
            "\n",
            "Epoch 00044: val_loss did not improve from 1.68611\n",
            "Epoch 45/50\n",
            " - 162s - loss: 0.0641 - accuracy: 0.9807 - val_loss: 2.6067 - val_accuracy: 0.6549\n",
            "\n",
            "Epoch 00045: val_loss did not improve from 1.68611\n",
            "Epoch 46/50\n",
            " - 162s - loss: 0.0650 - accuracy: 0.9787 - val_loss: 2.6570 - val_accuracy: 0.6347\n",
            "\n",
            "Epoch 00046: val_loss did not improve from 1.68611\n",
            "Epoch 47/50\n",
            " - 169s - loss: 0.0599 - accuracy: 0.9809 - val_loss: 2.6195 - val_accuracy: 0.6377\n",
            "\n",
            "Epoch 00047: val_loss did not improve from 1.68611\n",
            "Epoch 48/50\n",
            " - 161s - loss: 0.0645 - accuracy: 0.9772 - val_loss: 2.5956 - val_accuracy: 0.6377\n",
            "\n",
            "Epoch 00048: val_loss did not improve from 1.68611\n",
            "Epoch 49/50\n",
            " - 160s - loss: 0.0527 - accuracy: 0.9832 - val_loss: 2.6040 - val_accuracy: 0.6460\n",
            "\n",
            "Epoch 00049: val_loss did not improve from 1.68611\n",
            "Epoch 50/50\n",
            " - 164s - loss: 0.0573 - accuracy: 0.9811 - val_loss: 2.6600 - val_accuracy: 0.6407\n",
            "\n",
            "Epoch 00050: val_loss did not improve from 1.68611\n"
          ],
          "name": "stdout"
        }
      ]
    },
    {
      "cell_type": "code",
      "metadata": {
        "id": "GH4WX2Dijrfz",
        "colab_type": "code",
        "colab": {
          "base_uri": "https://localhost:8080/",
          "height": 119
        },
        "outputId": "dbb06872-4500-4a5c-9580-8fcaba28d7ec"
      },
      "source": [
        "\n",
        "print('\\nModel Performance: Log Loss and Accuracy on Test data')\n",
        "testLoss, testAcc = model.evaluate(X_test, Y_test, batch_size = 1)\n",
        "print('\\nTesting Scores:: loss: {}, acc: {}\\n'.format(testLoss, testAcc))"
      ],
      "execution_count": 129,
      "outputs": [
        {
          "output_type": "stream",
          "text": [
            "\n",
            "Model Performance: Log Loss and Accuracy on Test data\n",
            "1671/1671 [==============================] - 49s 29ms/step\n",
            "\n",
            "Testing Scores:: loss: 2.8026934808051043, acc: 0.6163973808288574\n",
            "\n"
          ],
          "name": "stdout"
        }
      ]
    },
    {
      "cell_type": "code",
      "metadata": {
        "id": "fzQy5gSn4MRw",
        "colab_type": "code",
        "colab": {
          "base_uri": "https://localhost:8080/",
          "height": 34
        },
        "outputId": "13312a84-e0dc-4864-bcf5-094829da2cd3"
      },
      "source": [
        "trainLoss, trainAcc = model.evaluate(X_train, Y_train, batch_size = 10)\n"
      ],
      "execution_count": 130,
      "outputs": [
        {
          "output_type": "stream",
          "text": [
            "6680/6680 [==============================] - 63s 10ms/step\n"
          ],
          "name": "stdout"
        }
      ]
    },
    {
      "cell_type": "code",
      "metadata": {
        "id": "j3bjZAJb4V7C",
        "colab_type": "code",
        "colab": {
          "base_uri": "https://localhost:8080/",
          "height": 68
        },
        "outputId": "90356ecb-29a7-4a7f-9bbd-11274df05547"
      },
      "source": [
        "print('\\nTraining Scores::  loss: {}, acc: {}\\n'.format(trainLoss, trainAcc))"
      ],
      "execution_count": 131,
      "outputs": [
        {
          "output_type": "stream",
          "text": [
            "\n",
            "Training Scores::  loss: 0.5462641252835181, acc: 0.9233533143997192\n",
            "\n"
          ],
          "name": "stdout"
        }
      ]
    },
    {
      "cell_type": "code",
      "metadata": {
        "id": "EKJtLOgE4eg5",
        "colab_type": "code",
        "colab": {}
      },
      "source": [
        "#y_pred = model.evaluate(X_test, Y_test, batch_size = 1)\n",
        "from sklearn.metrics import classification_report, confusion_matrix\n"
      ],
      "execution_count": 0,
      "outputs": []
    },
    {
      "cell_type": "code",
      "metadata": {
        "id": "y7WcDi3XAA9_",
        "colab_type": "code",
        "colab": {}
      },
      "source": [
        "import numpy as np\n",
        "rounded_labels=np.argmax(Y_test, axis=1)"
      ],
      "execution_count": 0,
      "outputs": []
    },
    {
      "cell_type": "code",
      "metadata": {
        "id": "yM-satyS-bU3",
        "colab_type": "code",
        "colab": {}
      },
      "source": [
        "y_pred = model.predict_classes(X_test)\n"
      ],
      "execution_count": 0,
      "outputs": []
    },
    {
      "cell_type": "code",
      "metadata": {
        "id": "0wfDMFrD849m",
        "colab_type": "code",
        "colab": {
          "base_uri": "https://localhost:8080/",
          "height": 986
        },
        "outputId": "a4c4c02d-9eb2-4d12-be02-9c8d839e66ff"
      },
      "source": [
        "report = classification_report(rounded_labels, y_pred, target_names=df['Assignment group'].unique() )\n",
        "print(report)"
      ],
      "execution_count": 145,
      "outputs": [
        {
          "output_type": "stream",
          "text": [
            "              precision    recall  f1-score   support\n",
            "\n",
            "       grp_0       0.80      0.83      0.82       786\n",
            "       grp_1       0.20      0.17      0.18         6\n",
            "       grp_3       0.50      0.46      0.48        26\n",
            "       grp_4       0.00      0.00      0.00         5\n",
            "       grp_5       0.36      0.51      0.43        39\n",
            "       grp_6       0.50      0.27      0.35        30\n",
            "       grp_7       0.40      0.33      0.36        24\n",
            "       grp_8       0.21      0.57      0.31         7\n",
            "       grp_9       0.33      0.28      0.30        18\n",
            "      grp_10       1.00      0.83      0.91        12\n",
            "      grp_11       0.50      0.53      0.51        17\n",
            "      grp_12       0.35      0.32      0.33        41\n",
            "      grp_13       0.46      0.33      0.38        49\n",
            "      grp_14       0.11      0.10      0.11        10\n",
            "      grp_15       0.50      0.40      0.44         5\n",
            "      grp_16       0.00      0.00      0.00         3\n",
            "      grp_17       0.00      0.00      0.00         6\n",
            "      grp_18       0.92      0.66      0.77        53\n",
            "      grp_19       0.25      0.14      0.18        35\n",
            "       grp_2       0.00      0.00      0.00        14\n",
            "      grp_20       0.00      0.00      0.00         4\n",
            "      grp_21       0.40      0.36      0.38        11\n",
            "      grp_22       0.40      0.26      0.32        23\n",
            "      grp_23       0.24      0.29      0.27        41\n",
            "      grp_24       0.11      0.17      0.13         6\n",
            "      grp_25       0.42      0.26      0.32        19\n",
            "      grp_26       0.45      0.46      0.46        28\n",
            "      grp_27       0.18      0.17      0.17        12\n",
            "      grp_28       0.00      0.00      0.00         2\n",
            "      grp_29       0.00      0.00      0.00         0\n",
            "      grp_30       0.20      0.50      0.29         2\n",
            "      grp_31       0.30      0.21      0.25        14\n",
            "      grp_33       0.30      0.60      0.40         5\n",
            "      grp_34       0.80      0.67      0.73         6\n",
            "  subgroup-x       0.27      0.40      0.32        10\n",
            "      grp_36       0.17      1.00      0.29         1\n",
            "      grp_37       0.00      0.00      0.00         8\n",
            "      grp_39       0.33      0.25      0.29         8\n",
            "      grp_40       0.67      0.67      0.67         3\n",
            "      grp_41       0.45      0.30      0.36        33\n",
            "      grp_42       0.00      0.00      0.00         5\n",
            "      grp_44       0.00      0.00      0.00         0\n",
            "      grp_45       0.41      0.73      0.53        33\n",
            "      grp_47       0.17      0.50      0.25         2\n",
            "      grp_48       0.00      0.00      0.00         5\n",
            "      grp_50       0.00      0.00      0.00         2\n",
            "      grp_53       0.43      0.38      0.40         8\n",
            "      grp_60       0.66      0.73      0.69       123\n",
            "      grp_62       0.87      0.64      0.74        53\n",
            "      grp_65       0.14      0.17      0.15        18\n",
            "\n",
            "    accuracy                           0.62      1671\n",
            "   macro avg       0.32      0.33      0.31      1671\n",
            "weighted avg       0.62      0.62      0.61      1671\n",
            "\n"
          ],
          "name": "stdout"
        }
      ]
    },
    {
      "cell_type": "code",
      "metadata": {
        "id": "drGVVzU19uv_",
        "colab_type": "code",
        "colab": {
          "base_uri": "https://localhost:8080/",
          "height": 136
        },
        "outputId": "63e5750d-b0b3-4990-c04c-dc5e48181cae"
      },
      "source": [
        "from sklearn.metrics import confusion_matrix\n",
        "cm = confusion_matrix(rounded_labels, y_pred)\n",
        "cm"
      ],
      "execution_count": 136,
      "outputs": [
        {
          "output_type": "execute_result",
          "data": {
            "text/plain": [
              "array([[653,   0,   4, ...,   0,   3,   5],\n",
              "       [  2,   1,   0, ...,   1,   0,   0],\n",
              "       [  3,   0,  12, ...,   3,   0,   0],\n",
              "       ...,\n",
              "       [  0,   1,   1, ...,  90,   1,   0],\n",
              "       [  4,   0,   0, ...,   2,  34,   1],\n",
              "       [  6,   0,   1, ...,   0,   0,   3]])"
            ]
          },
          "metadata": {
            "tags": []
          },
          "execution_count": 136
        }
      ]
    },
    {
      "cell_type": "code",
      "metadata": {
        "id": "DRWxG6LglEKv",
        "colab_type": "code",
        "colab": {}
      },
      "source": [
        "### TBD\n",
        "from sklearn import metrics\n",
        "\n",
        "# Print the confusion matrix\n",
        "##print(metrics.confusion_matrix(Y_test, y_pred))\n",
        "\n",
        "# Print the precision and recall, among other metrics\n",
        "##print(metrics.classification_report(Y_test, y_pred, digits=3))"
      ],
      "execution_count": 0,
      "outputs": []
    },
    {
      "cell_type": "code",
      "metadata": {
        "id": "uBZ0MeI24UxY",
        "colab_type": "code",
        "colab": {}
      },
      "source": [
        ""
      ],
      "execution_count": 0,
      "outputs": []
    }
  ]
}