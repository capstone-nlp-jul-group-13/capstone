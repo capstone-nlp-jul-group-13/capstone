{
  "nbformat": 4,
  "nbformat_minor": 0,
  "metadata": {
    "colab": {
      "name": "capstone.ipynb",
      "provenance": [],
      "collapsed_sections": []
    },
    "kernelspec": {
      "name": "python3",
      "display_name": "Python 3"
    }
  },
  "cells": [
    {
      "cell_type": "code",
      "metadata": {
        "id": "K7WZxQReJUcN",
        "colab_type": "code",
        "outputId": "a324f428-7b8e-452b-d4de-220f430cdac1",
        "colab": {
          "base_uri": "https://localhost:8080/",
          "height": 35
        }
      },
      "source": [
        "from google.colab import drive\n",
        "drive.mount('/content/drive/')"
      ],
      "execution_count": 0,
      "outputs": [
        {
          "output_type": "stream",
          "text": [
            "Drive already mounted at /content/drive/; to attempt to forcibly remount, call drive.mount(\"/content/drive/\", force_remount=True).\n"
          ],
          "name": "stdout"
        }
      ]
    },
    {
      "cell_type": "code",
      "metadata": {
        "id": "48uQ47kbJnwK",
        "colab_type": "code",
        "colab": {}
      },
      "source": [
        "#Set your project path \n",
        "\n",
        "import os\n",
        "project_path =  '/content/drive/My Drive/Colab Notebooks/caps/'"
      ],
      "execution_count": 0,
      "outputs": []
    },
    {
      "cell_type": "code",
      "metadata": {
        "id": "0mCpPZAXJtL1",
        "colab_type": "code",
        "colab": {}
      },
      "source": [
        "os.chdir(project_path)"
      ],
      "execution_count": 0,
      "outputs": []
    },
    {
      "cell_type": "code",
      "metadata": {
        "id": "1c8A_JoNJwTI",
        "colab_type": "code",
        "outputId": "c8567c00-65f5-4aaa-a71b-d80be468ee2e",
        "colab": {
          "base_uri": "https://localhost:8080/",
          "height": 35
        }
      },
      "source": [
        "pwd\n"
      ],
      "execution_count": 0,
      "outputs": [
        {
          "output_type": "execute_result",
          "data": {
            "text/plain": [
              "'/content/drive/My Drive/Colab Notebooks/caps'"
            ]
          },
          "metadata": {
            "tags": []
          },
          "execution_count": 184
        }
      ]
    },
    {
      "cell_type": "code",
      "metadata": {
        "id": "GTFU34VdJ8YI",
        "colab_type": "code",
        "outputId": "779a0e60-3f2b-4209-9fa2-587a249c80bb",
        "colab": {
          "base_uri": "https://localhost:8080/",
          "height": 35
        }
      },
      "source": [
        "ls\n"
      ],
      "execution_count": 0,
      "outputs": [
        {
          "output_type": "stream",
          "text": [
            "input_data.xlsx\n"
          ],
          "name": "stdout"
        }
      ]
    },
    {
      "cell_type": "code",
      "metadata": {
        "id": "aSvkTBKNJ9FQ",
        "colab_type": "code",
        "outputId": "5f63bf2a-0b81-4f7e-8895-4d24c2612430",
        "colab": {
          "base_uri": "https://localhost:8080/",
          "height": 363
        }
      },
      "source": [
        "import pandas as pd\n",
        "import tensorflow as tf\n",
        "import matplotlib.pyplot as plt\n",
        "import seaborn as sns\n",
        "import numpy as np\n",
        "from scipy.stats import norm\n",
        "from sklearn.preprocessing import StandardScaler\n",
        "from scipy import stats\n",
        "import warnings\n",
        "warnings.filterwarnings('ignore')\n",
        "%matplotlib inline\n",
        "from pandas import read_excel\n",
        "\n",
        "df =  read_excel('./input_data.xlsx', 'Sheet1')\n",
        "df.head(10)"
      ],
      "execution_count": 0,
      "outputs": [
        {
          "output_type": "execute_result",
          "data": {
            "text/html": [
              "<div>\n",
              "<style scoped>\n",
              "    .dataframe tbody tr th:only-of-type {\n",
              "        vertical-align: middle;\n",
              "    }\n",
              "\n",
              "    .dataframe tbody tr th {\n",
              "        vertical-align: top;\n",
              "    }\n",
              "\n",
              "    .dataframe thead th {\n",
              "        text-align: right;\n",
              "    }\n",
              "</style>\n",
              "<table border=\"1\" class=\"dataframe\">\n",
              "  <thead>\n",
              "    <tr style=\"text-align: right;\">\n",
              "      <th></th>\n",
              "      <th>Short description</th>\n",
              "      <th>Description</th>\n",
              "      <th>Caller</th>\n",
              "      <th>Assignment group</th>\n",
              "    </tr>\n",
              "  </thead>\n",
              "  <tbody>\n",
              "    <tr>\n",
              "      <th>0</th>\n",
              "      <td>login issue</td>\n",
              "      <td>-verified user details.(employee# &amp; manager na...</td>\n",
              "      <td>spxjnwir pjlcoqds</td>\n",
              "      <td>GRP_0</td>\n",
              "    </tr>\n",
              "    <tr>\n",
              "      <th>1</th>\n",
              "      <td>outlook</td>\n",
              "      <td>\\r\\n\\r\\nreceived from: hmjdrvpb.komuaywn@gmail...</td>\n",
              "      <td>hmjdrvpb komuaywn</td>\n",
              "      <td>GRP_0</td>\n",
              "    </tr>\n",
              "    <tr>\n",
              "      <th>2</th>\n",
              "      <td>cant log in to vpn</td>\n",
              "      <td>\\r\\n\\r\\nreceived from: eylqgodm.ybqkwiam@gmail...</td>\n",
              "      <td>eylqgodm ybqkwiam</td>\n",
              "      <td>GRP_0</td>\n",
              "    </tr>\n",
              "    <tr>\n",
              "      <th>3</th>\n",
              "      <td>unable to access hr_tool page</td>\n",
              "      <td>unable to access hr_tool page</td>\n",
              "      <td>xbkucsvz gcpydteq</td>\n",
              "      <td>GRP_0</td>\n",
              "    </tr>\n",
              "    <tr>\n",
              "      <th>4</th>\n",
              "      <td>skype error</td>\n",
              "      <td>skype error</td>\n",
              "      <td>owlgqjme qhcozdfx</td>\n",
              "      <td>GRP_0</td>\n",
              "    </tr>\n",
              "    <tr>\n",
              "      <th>5</th>\n",
              "      <td>unable to log in to engineering tool and skype</td>\n",
              "      <td>unable to log in to engineering tool and skype</td>\n",
              "      <td>eflahbxn ltdgrvkz</td>\n",
              "      <td>GRP_0</td>\n",
              "    </tr>\n",
              "    <tr>\n",
              "      <th>6</th>\n",
              "      <td>event: critical:HostName_221.company.com the v...</td>\n",
              "      <td>event: critical:HostName_221.company.com the v...</td>\n",
              "      <td>jyoqwxhz clhxsoqy</td>\n",
              "      <td>GRP_1</td>\n",
              "    </tr>\n",
              "    <tr>\n",
              "      <th>7</th>\n",
              "      <td>ticket_no1550391- employment status - new non-...</td>\n",
              "      <td>ticket_no1550391- employment status - new non-...</td>\n",
              "      <td>eqzibjhw ymebpoih</td>\n",
              "      <td>GRP_0</td>\n",
              "    </tr>\n",
              "    <tr>\n",
              "      <th>8</th>\n",
              "      <td>unable to disable add ins on outlook</td>\n",
              "      <td>unable to disable add ins on outlook</td>\n",
              "      <td>mdbegvct dbvichlg</td>\n",
              "      <td>GRP_0</td>\n",
              "    </tr>\n",
              "    <tr>\n",
              "      <th>9</th>\n",
              "      <td>ticket update on inplant_874773</td>\n",
              "      <td>ticket update on inplant_874773</td>\n",
              "      <td>fumkcsji sarmtlhy</td>\n",
              "      <td>GRP_0</td>\n",
              "    </tr>\n",
              "  </tbody>\n",
              "</table>\n",
              "</div>"
            ],
            "text/plain": [
              "                                   Short description  ... Assignment group\n",
              "0                                        login issue  ...            GRP_0\n",
              "1                                            outlook  ...            GRP_0\n",
              "2                                 cant log in to vpn  ...            GRP_0\n",
              "3                      unable to access hr_tool page  ...            GRP_0\n",
              "4                                       skype error   ...            GRP_0\n",
              "5     unable to log in to engineering tool and skype  ...            GRP_0\n",
              "6  event: critical:HostName_221.company.com the v...  ...            GRP_1\n",
              "7  ticket_no1550391- employment status - new non-...  ...            GRP_0\n",
              "8               unable to disable add ins on outlook  ...            GRP_0\n",
              "9                    ticket update on inplant_874773  ...            GRP_0\n",
              "\n",
              "[10 rows x 4 columns]"
            ]
          },
          "metadata": {
            "tags": []
          },
          "execution_count": 186
        }
      ]
    },
    {
      "cell_type": "code",
      "metadata": {
        "id": "dprQkGYRKJsy",
        "colab_type": "code",
        "outputId": "e3dcd44e-3050-4c6b-ef47-9ddaa22271bb",
        "colab": {
          "base_uri": "https://localhost:8080/",
          "height": 35
        }
      },
      "source": [
        "len(df)"
      ],
      "execution_count": 0,
      "outputs": [
        {
          "output_type": "execute_result",
          "data": {
            "text/plain": [
              "8500"
            ]
          },
          "metadata": {
            "tags": []
          },
          "execution_count": 187
        }
      ]
    },
    {
      "cell_type": "code",
      "metadata": {
        "id": "mZcN0Y25MXJ2",
        "colab_type": "code",
        "outputId": "4936db68-4e15-42d2-d06d-a7124657ff5a",
        "colab": {
          "base_uri": "https://localhost:8080/",
          "height": 175
        }
      },
      "source": [
        "df.describe().transpose()"
      ],
      "execution_count": 0,
      "outputs": [
        {
          "output_type": "execute_result",
          "data": {
            "text/html": [
              "<div>\n",
              "<style scoped>\n",
              "    .dataframe tbody tr th:only-of-type {\n",
              "        vertical-align: middle;\n",
              "    }\n",
              "\n",
              "    .dataframe tbody tr th {\n",
              "        vertical-align: top;\n",
              "    }\n",
              "\n",
              "    .dataframe thead th {\n",
              "        text-align: right;\n",
              "    }\n",
              "</style>\n",
              "<table border=\"1\" class=\"dataframe\">\n",
              "  <thead>\n",
              "    <tr style=\"text-align: right;\">\n",
              "      <th></th>\n",
              "      <th>count</th>\n",
              "      <th>unique</th>\n",
              "      <th>top</th>\n",
              "      <th>freq</th>\n",
              "    </tr>\n",
              "  </thead>\n",
              "  <tbody>\n",
              "    <tr>\n",
              "      <th>Short description</th>\n",
              "      <td>8492</td>\n",
              "      <td>7481</td>\n",
              "      <td>password reset</td>\n",
              "      <td>38</td>\n",
              "    </tr>\n",
              "    <tr>\n",
              "      <th>Description</th>\n",
              "      <td>8499</td>\n",
              "      <td>7817</td>\n",
              "      <td>the</td>\n",
              "      <td>56</td>\n",
              "    </tr>\n",
              "    <tr>\n",
              "      <th>Caller</th>\n",
              "      <td>8500</td>\n",
              "      <td>2950</td>\n",
              "      <td>bpctwhsn kzqsbmtp</td>\n",
              "      <td>810</td>\n",
              "    </tr>\n",
              "    <tr>\n",
              "      <th>Assignment group</th>\n",
              "      <td>8500</td>\n",
              "      <td>74</td>\n",
              "      <td>GRP_0</td>\n",
              "      <td>3976</td>\n",
              "    </tr>\n",
              "  </tbody>\n",
              "</table>\n",
              "</div>"
            ],
            "text/plain": [
              "                  count unique                top  freq\n",
              "Short description  8492   7481     password reset    38\n",
              "Description        8499   7817                the    56\n",
              "Caller             8500   2950  bpctwhsn kzqsbmtp   810\n",
              "Assignment group   8500     74              GRP_0  3976"
            ]
          },
          "metadata": {
            "tags": []
          },
          "execution_count": 188
        }
      ]
    },
    {
      "cell_type": "code",
      "metadata": {
        "id": "DgSyCTeMMfKW",
        "colab_type": "code",
        "outputId": "50033476-3428-45f2-c1eb-d153d45e493d",
        "colab": {
          "base_uri": "https://localhost:8080/",
          "height": 108
        }
      },
      "source": [
        "df.dtypes"
      ],
      "execution_count": 0,
      "outputs": [
        {
          "output_type": "execute_result",
          "data": {
            "text/plain": [
              "Short description    object\n",
              "Description          object\n",
              "Caller               object\n",
              "Assignment group     object\n",
              "dtype: object"
            ]
          },
          "metadata": {
            "tags": []
          },
          "execution_count": 189
        }
      ]
    },
    {
      "cell_type": "code",
      "metadata": {
        "id": "PWdLJ7pdM1WX",
        "colab_type": "code",
        "outputId": "ec9aa9f1-f599-4af7-8227-b0a251590ec2",
        "colab": {
          "base_uri": "https://localhost:8080/",
          "height": 175
        }
      },
      "source": [
        "df.describe()"
      ],
      "execution_count": 0,
      "outputs": [
        {
          "output_type": "execute_result",
          "data": {
            "text/html": [
              "<div>\n",
              "<style scoped>\n",
              "    .dataframe tbody tr th:only-of-type {\n",
              "        vertical-align: middle;\n",
              "    }\n",
              "\n",
              "    .dataframe tbody tr th {\n",
              "        vertical-align: top;\n",
              "    }\n",
              "\n",
              "    .dataframe thead th {\n",
              "        text-align: right;\n",
              "    }\n",
              "</style>\n",
              "<table border=\"1\" class=\"dataframe\">\n",
              "  <thead>\n",
              "    <tr style=\"text-align: right;\">\n",
              "      <th></th>\n",
              "      <th>Short description</th>\n",
              "      <th>Description</th>\n",
              "      <th>Caller</th>\n",
              "      <th>Assignment group</th>\n",
              "    </tr>\n",
              "  </thead>\n",
              "  <tbody>\n",
              "    <tr>\n",
              "      <th>count</th>\n",
              "      <td>8492</td>\n",
              "      <td>8499</td>\n",
              "      <td>8500</td>\n",
              "      <td>8500</td>\n",
              "    </tr>\n",
              "    <tr>\n",
              "      <th>unique</th>\n",
              "      <td>7481</td>\n",
              "      <td>7817</td>\n",
              "      <td>2950</td>\n",
              "      <td>74</td>\n",
              "    </tr>\n",
              "    <tr>\n",
              "      <th>top</th>\n",
              "      <td>password reset</td>\n",
              "      <td>the</td>\n",
              "      <td>bpctwhsn kzqsbmtp</td>\n",
              "      <td>GRP_0</td>\n",
              "    </tr>\n",
              "    <tr>\n",
              "      <th>freq</th>\n",
              "      <td>38</td>\n",
              "      <td>56</td>\n",
              "      <td>810</td>\n",
              "      <td>3976</td>\n",
              "    </tr>\n",
              "  </tbody>\n",
              "</table>\n",
              "</div>"
            ],
            "text/plain": [
              "       Short description Description             Caller Assignment group\n",
              "count               8492        8499               8500             8500\n",
              "unique              7481        7817               2950               74\n",
              "top       password reset         the  bpctwhsn kzqsbmtp            GRP_0\n",
              "freq                  38          56                810             3976"
            ]
          },
          "metadata": {
            "tags": []
          },
          "execution_count": 190
        }
      ]
    },
    {
      "cell_type": "code",
      "metadata": {
        "id": "djs6fblbRn3V",
        "colab_type": "code",
        "outputId": "7119e1ef-5e28-4098-e494-aa04baac265b",
        "colab": {
          "base_uri": "https://localhost:8080/",
          "height": 235
        }
      },
      "source": [
        "## let us count the tickets by group\n",
        "\n",
        "df['Assignment group'].value_counts()"
      ],
      "execution_count": 0,
      "outputs": [
        {
          "output_type": "execute_result",
          "data": {
            "text/plain": [
              "GRP_0     3976\n",
              "GRP_8      661\n",
              "GRP_24     289\n",
              "GRP_12     257\n",
              "GRP_9      252\n",
              "          ... \n",
              "GRP_64       1\n",
              "GRP_73       1\n",
              "GRP_67       1\n",
              "GRP_70       1\n",
              "GRP_61       1\n",
              "Name: Assignment group, Length: 74, dtype: int64"
            ]
          },
          "metadata": {
            "tags": []
          },
          "execution_count": 191
        }
      ]
    },
    {
      "cell_type": "code",
      "metadata": {
        "id": "XbsHLpM0UvQb",
        "colab_type": "code",
        "outputId": "2ddf4f69-2f70-40b9-c64a-1cb6ebbbd17d",
        "colab": {
          "base_uri": "https://localhost:8080/",
          "height": 298
        }
      },
      "source": [
        "# Number of groups for overall ticker assignment using count plot\n",
        "sns.countplot('Assignment group',data = df,palette='inferno')"
      ],
      "execution_count": 0,
      "outputs": [
        {
          "output_type": "execute_result",
          "data": {
            "text/plain": [
              "<matplotlib.axes._subplots.AxesSubplot at 0x7f0bbf478828>"
            ]
          },
          "metadata": {
            "tags": []
          },
          "execution_count": 192
        },
        {
          "output_type": "display_data",
          "data": {
            "image/png": "[encoded data removed]",
            "text/plain": [
              "<Figure size 432x288 with 1 Axes>"
            ]
          },
          "metadata": {
            "tags": [],
            "needs_background": "light"
          }
        }
      ]
    },
    {
      "cell_type": "markdown",
      "metadata": {
        "id": "CAesRMVNyadT",
        "colab_type": "text"
      },
      "source": [
        "Grp_0 has highest number of tickets assigned... "
      ]
    },
    {
      "cell_type": "code",
      "metadata": {
        "id": "I2yohg9bM7kI",
        "colab_type": "code",
        "colab": {}
      },
      "source": [
        "### Description is missing for few of the tickets.. lets remove"
      ],
      "execution_count": 0,
      "outputs": []
    },
    {
      "cell_type": "code",
      "metadata": {
        "id": "o4Eew44aUuV3",
        "colab_type": "code",
        "outputId": "15aa1f2b-3a3f-4243-a4a6-e3bd7d5636cf",
        "colab": {
          "base_uri": "https://localhost:8080/",
          "height": 35
        }
      },
      "source": [
        "df.isnull().values.any() ## Check for missing values"
      ],
      "execution_count": 0,
      "outputs": [
        {
          "output_type": "execute_result",
          "data": {
            "text/plain": [
              "True"
            ]
          },
          "metadata": {
            "tags": []
          },
          "execution_count": 194
        }
      ]
    },
    {
      "cell_type": "code",
      "metadata": {
        "id": "qkww5LkjVsZe",
        "colab_type": "code",
        "outputId": "738e0df0-9b30-436b-fdfd-0fdab76901a8",
        "colab": {
          "base_uri": "https://localhost:8080/",
          "height": 108
        }
      },
      "source": [
        "df.isnull().sum()"
      ],
      "execution_count": 0,
      "outputs": [
        {
          "output_type": "execute_result",
          "data": {
            "text/plain": [
              "Short description    8\n",
              "Description          1\n",
              "Caller               0\n",
              "Assignment group     0\n",
              "dtype: int64"
            ]
          },
          "metadata": {
            "tags": []
          },
          "execution_count": 195
        }
      ]
    },
    {
      "cell_type": "code",
      "metadata": {
        "id": "HkKPHBxUykFj",
        "colab_type": "code",
        "colab": {}
      },
      "source": [
        "# drop rows with missing values\n",
        "df.dropna(inplace=True)"
      ],
      "execution_count": 0,
      "outputs": []
    },
    {
      "cell_type": "code",
      "metadata": {
        "id": "BiDTRSnA2v0h",
        "colab_type": "code",
        "outputId": "20c8c8e9-864e-4acc-e951-2883630ab608",
        "colab": {
          "base_uri": "https://localhost:8080/",
          "height": 108
        }
      },
      "source": [
        "df.isnull().sum()"
      ],
      "execution_count": 0,
      "outputs": [
        {
          "output_type": "execute_result",
          "data": {
            "text/plain": [
              "Short description    0\n",
              "Description          0\n",
              "Caller               0\n",
              "Assignment group     0\n",
              "dtype: int64"
            ]
          },
          "metadata": {
            "tags": []
          },
          "execution_count": 197
        }
      ]
    },
    {
      "cell_type": "code",
      "metadata": {
        "id": "rJOfLx5Q29VI",
        "colab_type": "code",
        "outputId": "09983f8f-532a-44ce-d361-68ae5473fe8f",
        "colab": {
          "base_uri": "https://localhost:8080/",
          "height": 35
        }
      },
      "source": [
        "df.shape"
      ],
      "execution_count": 0,
      "outputs": [
        {
          "output_type": "execute_result",
          "data": {
            "text/plain": [
              "(8491, 4)"
            ]
          },
          "metadata": {
            "tags": []
          },
          "execution_count": 198
        }
      ]
    },
    {
      "cell_type": "code",
      "metadata": {
        "id": "0Kn-j_oC33TU",
        "colab_type": "code",
        "colab": {}
      },
      "source": [
        "# dropping duplicate rows\n",
        "df.drop_duplicates(keep=False,inplace=True)"
      ],
      "execution_count": 0,
      "outputs": []
    },
    {
      "cell_type": "code",
      "metadata": {
        "id": "n34FlzDE4EiL",
        "colab_type": "code",
        "outputId": "6aa5f8e7-dc47-494d-a7f3-cd4835acb36e",
        "colab": {
          "base_uri": "https://localhost:8080/",
          "height": 35
        }
      },
      "source": [
        "df.shape"
      ],
      "execution_count": 0,
      "outputs": [
        {
          "output_type": "execute_result",
          "data": {
            "text/plain": [
              "(8351, 4)"
            ]
          },
          "metadata": {
            "tags": []
          },
          "execution_count": 200
        }
      ]
    },
    {
      "cell_type": "code",
      "metadata": {
        "id": "pAvcQe904GCi",
        "colab_type": "code",
        "colab": {}
      },
      "source": [
        "## Lets convert the description, short description, caller and group to lower case\n",
        "\n",
        "df['Short description'] = df['Short description'].apply(lambda x: x.lower())\n",
        "df['Description'] = df['Description'].apply(lambda x: x.lower())\n",
        "df['Caller'] = df['Caller'].apply(lambda x: x.lower())\n",
        "df['Assignment group'] = df['Assignment group'].apply(lambda x: x.lower())\n"
      ],
      "execution_count": 0,
      "outputs": []
    },
    {
      "cell_type": "code",
      "metadata": {
        "id": "N19ATzZk8KqT",
        "colab_type": "code",
        "outputId": "c9227928-8e22-4a3f-f5b3-b5e1fa174fe0",
        "colab": {
          "base_uri": "https://localhost:8080/",
          "height": 206
        }
      },
      "source": [
        "df.head()"
      ],
      "execution_count": 0,
      "outputs": [
        {
          "output_type": "execute_result",
          "data": {
            "text/html": [
              "<div>\n",
              "<style scoped>\n",
              "    .dataframe tbody tr th:only-of-type {\n",
              "        vertical-align: middle;\n",
              "    }\n",
              "\n",
              "    .dataframe tbody tr th {\n",
              "        vertical-align: top;\n",
              "    }\n",
              "\n",
              "    .dataframe thead th {\n",
              "        text-align: right;\n",
              "    }\n",
              "</style>\n",
              "<table border=\"1\" class=\"dataframe\">\n",
              "  <thead>\n",
              "    <tr style=\"text-align: right;\">\n",
              "      <th></th>\n",
              "      <th>Short description</th>\n",
              "      <th>Description</th>\n",
              "      <th>Caller</th>\n",
              "      <th>Assignment group</th>\n",
              "    </tr>\n",
              "  </thead>\n",
              "  <tbody>\n",
              "    <tr>\n",
              "      <th>0</th>\n",
              "      <td>login issue</td>\n",
              "      <td>-verified user details.(employee# &amp; manager na...</td>\n",
              "      <td>spxjnwir pjlcoqds</td>\n",
              "      <td>grp_0</td>\n",
              "    </tr>\n",
              "    <tr>\n",
              "      <th>1</th>\n",
              "      <td>outlook</td>\n",
              "      <td>\\r\\n\\r\\nreceived from: hmjdrvpb.komuaywn@gmail...</td>\n",
              "      <td>hmjdrvpb komuaywn</td>\n",
              "      <td>grp_0</td>\n",
              "    </tr>\n",
              "    <tr>\n",
              "      <th>2</th>\n",
              "      <td>cant log in to vpn</td>\n",
              "      <td>\\r\\n\\r\\nreceived from: eylqgodm.ybqkwiam@gmail...</td>\n",
              "      <td>eylqgodm ybqkwiam</td>\n",
              "      <td>grp_0</td>\n",
              "    </tr>\n",
              "    <tr>\n",
              "      <th>3</th>\n",
              "      <td>unable to access hr_tool page</td>\n",
              "      <td>unable to access hr_tool page</td>\n",
              "      <td>xbkucsvz gcpydteq</td>\n",
              "      <td>grp_0</td>\n",
              "    </tr>\n",
              "    <tr>\n",
              "      <th>4</th>\n",
              "      <td>skype error</td>\n",
              "      <td>skype error</td>\n",
              "      <td>owlgqjme qhcozdfx</td>\n",
              "      <td>grp_0</td>\n",
              "    </tr>\n",
              "  </tbody>\n",
              "</table>\n",
              "</div>"
            ],
            "text/plain": [
              "               Short description  ... Assignment group\n",
              "0                    login issue  ...            grp_0\n",
              "1                        outlook  ...            grp_0\n",
              "2             cant log in to vpn  ...            grp_0\n",
              "3  unable to access hr_tool page  ...            grp_0\n",
              "4                   skype error   ...            grp_0\n",
              "\n",
              "[5 rows x 4 columns]"
            ]
          },
          "metadata": {
            "tags": []
          },
          "execution_count": 202
        }
      ]
    },
    {
      "cell_type": "code",
      "metadata": {
        "id": "PEzMp19Z8OK8",
        "colab_type": "code",
        "outputId": "f3f2d8a8-55d3-45ee-897c-30c3b3e423c3",
        "colab": {
          "base_uri": "https://localhost:8080/",
          "height": 35
        }
      },
      "source": [
        "df.shape"
      ],
      "execution_count": 0,
      "outputs": [
        {
          "output_type": "execute_result",
          "data": {
            "text/plain": [
              "(8351, 4)"
            ]
          },
          "metadata": {
            "tags": []
          },
          "execution_count": 203
        }
      ]
    },
    {
      "cell_type": "code",
      "metadata": {
        "id": "LtSkMsqO8dVr",
        "colab_type": "code",
        "colab": {}
      },
      "source": [
        "# dropping duplicate rows.... in case case sensitive duplicates were present earlier\n",
        "df.drop_duplicates(keep=False,inplace=True)"
      ],
      "execution_count": 0,
      "outputs": []
    },
    {
      "cell_type": "code",
      "metadata": {
        "id": "Wp_6bWFL8eu-",
        "colab_type": "code",
        "outputId": "dc11a76e-65f8-492c-f4c6-88c191baa120",
        "colab": {
          "base_uri": "https://localhost:8080/",
          "height": 35
        }
      },
      "source": [
        "df.shape"
      ],
      "execution_count": 0,
      "outputs": [
        {
          "output_type": "execute_result",
          "data": {
            "text/plain": [
              "(8351, 4)"
            ]
          },
          "metadata": {
            "tags": []
          },
          "execution_count": 205
        }
      ]
    },
    {
      "cell_type": "code",
      "metadata": {
        "id": "IwfbqNjL8TeN",
        "colab_type": "code",
        "colab": {}
      },
      "source": [
        "df_copy = df.copy()"
      ],
      "execution_count": 0,
      "outputs": []
    },
    {
      "cell_type": "code",
      "metadata": {
        "id": "24NTlgyX-QeI",
        "colab_type": "code",
        "colab": {}
      },
      "source": [
        "## Remove mail Ids from the fields\n",
        "mailId = r'\\S*@\\S*\\s?'\n",
        "df = df.replace(to_replace=mailId, value='', regex=True)"
      ],
      "execution_count": 0,
      "outputs": []
    },
    {
      "cell_type": "code",
      "metadata": {
        "id": "qSuh64q6562_",
        "colab_type": "code",
        "colab": {}
      },
      "source": [
        "## Combine short description and description\n",
        "df['TicketDescription'] = df['Short description'].str.cat(df['Description'],sep=\" \")"
      ],
      "execution_count": 0,
      "outputs": []
    },
    {
      "cell_type": "code",
      "metadata": {
        "id": "Ma1oXCht8xgk",
        "colab_type": "code",
        "colab": {}
      },
      "source": [
        "df = df.drop(['Short description', 'Description'], axis=1)"
      ],
      "execution_count": 0,
      "outputs": []
    },
    {
      "cell_type": "code",
      "metadata": {
        "id": "BJHjXJ089L6Q",
        "colab_type": "code",
        "colab": {}
      },
      "source": [
        "df = df.drop(['Caller'], axis=1) ## Delete the caller as well"
      ],
      "execution_count": 0,
      "outputs": []
    },
    {
      "cell_type": "code",
      "metadata": {
        "id": "poAoTP4E6J1Q",
        "colab_type": "code",
        "outputId": "f18c7e28-5378-40c1-92ff-fa12992e1978",
        "colab": {
          "base_uri": "https://localhost:8080/",
          "height": 206
        }
      },
      "source": [
        "df.head()"
      ],
      "execution_count": 0,
      "outputs": [
        {
          "output_type": "execute_result",
          "data": {
            "text/html": [
              "<div>\n",
              "<style scoped>\n",
              "    .dataframe tbody tr th:only-of-type {\n",
              "        vertical-align: middle;\n",
              "    }\n",
              "\n",
              "    .dataframe tbody tr th {\n",
              "        vertical-align: top;\n",
              "    }\n",
              "\n",
              "    .dataframe thead th {\n",
              "        text-align: right;\n",
              "    }\n",
              "</style>\n",
              "<table border=\"1\" class=\"dataframe\">\n",
              "  <thead>\n",
              "    <tr style=\"text-align: right;\">\n",
              "      <th></th>\n",
              "      <th>Assignment group</th>\n",
              "      <th>TicketDescription</th>\n",
              "    </tr>\n",
              "  </thead>\n",
              "  <tbody>\n",
              "    <tr>\n",
              "      <th>0</th>\n",
              "      <td>grp_0</td>\n",
              "      <td>login issue -verified user details.(employee# ...</td>\n",
              "    </tr>\n",
              "    <tr>\n",
              "      <th>1</th>\n",
              "      <td>grp_0</td>\n",
              "      <td>outlook \\r\\n\\r\\nreceived from: \\n\\r\\nhello tea...</td>\n",
              "    </tr>\n",
              "    <tr>\n",
              "      <th>2</th>\n",
              "      <td>grp_0</td>\n",
              "      <td>cant log in to vpn \\r\\n\\r\\nreceived from: \\n\\r...</td>\n",
              "    </tr>\n",
              "    <tr>\n",
              "      <th>3</th>\n",
              "      <td>grp_0</td>\n",
              "      <td>unable to access hr_tool page unable to access...</td>\n",
              "    </tr>\n",
              "    <tr>\n",
              "      <th>4</th>\n",
              "      <td>grp_0</td>\n",
              "      <td>skype error  skype error</td>\n",
              "    </tr>\n",
              "  </tbody>\n",
              "</table>\n",
              "</div>"
            ],
            "text/plain": [
              "  Assignment group                                  TicketDescription\n",
              "0            grp_0  login issue -verified user details.(employee# ...\n",
              "1            grp_0  outlook \\r\\n\\r\\nreceived from: \\n\\r\\nhello tea...\n",
              "2            grp_0  cant log in to vpn \\r\\n\\r\\nreceived from: \\n\\r...\n",
              "3            grp_0  unable to access hr_tool page unable to access...\n",
              "4            grp_0                          skype error  skype error "
            ]
          },
          "metadata": {
            "tags": []
          },
          "execution_count": 211
        }
      ]
    },
    {
      "cell_type": "code",
      "metadata": {
        "id": "vlu1piM49v9e",
        "colab_type": "code",
        "outputId": "882e23ae-b663-4d36-c50e-327184a395a1",
        "colab": {
          "base_uri": "https://localhost:8080/",
          "height": 206
        }
      },
      "source": [
        "df.head()"
      ],
      "execution_count": 0,
      "outputs": [
        {
          "output_type": "execute_result",
          "data": {
            "text/html": [
              "<div>\n",
              "<style scoped>\n",
              "    .dataframe tbody tr th:only-of-type {\n",
              "        vertical-align: middle;\n",
              "    }\n",
              "\n",
              "    .dataframe tbody tr th {\n",
              "        vertical-align: top;\n",
              "    }\n",
              "\n",
              "    .dataframe thead th {\n",
              "        text-align: right;\n",
              "    }\n",
              "</style>\n",
              "<table border=\"1\" class=\"dataframe\">\n",
              "  <thead>\n",
              "    <tr style=\"text-align: right;\">\n",
              "      <th></th>\n",
              "      <th>Assignment group</th>\n",
              "      <th>TicketDescription</th>\n",
              "    </tr>\n",
              "  </thead>\n",
              "  <tbody>\n",
              "    <tr>\n",
              "      <th>0</th>\n",
              "      <td>grp_0</td>\n",
              "      <td>login issue -verified user details.(employee# ...</td>\n",
              "    </tr>\n",
              "    <tr>\n",
              "      <th>1</th>\n",
              "      <td>grp_0</td>\n",
              "      <td>outlook \\r\\n\\r\\nreceived from: \\n\\r\\nhello tea...</td>\n",
              "    </tr>\n",
              "    <tr>\n",
              "      <th>2</th>\n",
              "      <td>grp_0</td>\n",
              "      <td>cant log in to vpn \\r\\n\\r\\nreceived from: \\n\\r...</td>\n",
              "    </tr>\n",
              "    <tr>\n",
              "      <th>3</th>\n",
              "      <td>grp_0</td>\n",
              "      <td>unable to access hr_tool page unable to access...</td>\n",
              "    </tr>\n",
              "    <tr>\n",
              "      <th>4</th>\n",
              "      <td>grp_0</td>\n",
              "      <td>skype error  skype error</td>\n",
              "    </tr>\n",
              "  </tbody>\n",
              "</table>\n",
              "</div>"
            ],
            "text/plain": [
              "  Assignment group                                  TicketDescription\n",
              "0            grp_0  login issue -verified user details.(employee# ...\n",
              "1            grp_0  outlook \\r\\n\\r\\nreceived from: \\n\\r\\nhello tea...\n",
              "2            grp_0  cant log in to vpn \\r\\n\\r\\nreceived from: \\n\\r...\n",
              "3            grp_0  unable to access hr_tool page unable to access...\n",
              "4            grp_0                          skype error  skype error "
            ]
          },
          "metadata": {
            "tags": []
          },
          "execution_count": 212
        }
      ]
    },
    {
      "cell_type": "code",
      "metadata": {
        "id": "WPHZazInxzZa",
        "colab_type": "code",
        "colab": {}
      },
      "source": [
        "## Decontract the words\n",
        "import re\n",
        "def decontract(text):\n",
        "    text = re.sub(r\"won\\'t\", \"will not\", text)\n",
        "    text = re.sub(r\"can\\'t\", \"can not\", text)\n",
        "    text = re.sub(r\"n\\'t\", \" not\", text)\n",
        "    text = re.sub(r\"\\'re\", \" are\", text)\n",
        "    text = re.sub(r\"\\'s\", \" is\", text)\n",
        "    text = re.sub(r\"\\'d\", \" would\", text)\n",
        "    text = re.sub(r\"\\'ll\", \" will\", text)\n",
        "    text = re.sub(r\"\\'t\", \" not\", text)\n",
        "    text = re.sub(r\"\\'ve\", \" have\", text)\n",
        "    text = re.sub(r\"\\'m\", \" am\", text)\n",
        "    return text"
      ],
      "execution_count": 0,
      "outputs": []
    },
    {
      "cell_type": "code",
      "metadata": {
        "id": "xv9KvIdGqq36",
        "colab_type": "code",
        "colab": {}
      },
      "source": [
        "## To be tried out in next iternation... \n",
        "##df['TicketDescription'] = df['TicketDescription'].apply(lambda x: decontract(x))\n",
        "## df.head()"
      ],
      "execution_count": 0,
      "outputs": []
    },
    {
      "cell_type": "code",
      "metadata": {
        "id": "VS1Sfm11-V6P",
        "colab_type": "code",
        "colab": {}
      },
      "source": [
        "## cleanup mail headers content \n",
        "\n",
        "def getRegexList():\n",
        "    regexList = []\n",
        "    regexList += ['From:(.*)\\r\\n']  # from line\n",
        "    regexList += ['Sent:(.*)\\r\\n']  # sent to line\n",
        "    regexList += ['Received:(.*)\\r\\n']  # received data line\n",
        "    regexList += ['To:(.*)\\r\\n']  # to line\n",
        "    regexList += ['CC:(.*)\\r\\n']  # cc line\n",
        "    regexList += ['Subject:']\n",
        "    regexList += ['[\\r\\n]']  # \\r\\n\n",
        "    regexList += ['[\\w\\d\\-\\_\\.]+ @ [\\w\\d\\-\\_\\.]+'] ## Email Ids\n",
        "    return regexList"
      ],
      "execution_count": 0,
      "outputs": []
    },
    {
      "cell_type": "code",
      "metadata": {
        "id": "35XgtEtx-1LN",
        "colab_type": "code",
        "colab": {}
      },
      "source": [
        "def cleanDataset(dataset, columnsToClean, regexList):\n",
        "    for column in columnsToClean:\n",
        "        for regex in regexList:\n",
        "            dataset[column] = removeString(dataset[column], regex)\n",
        "    return dataset"
      ],
      "execution_count": 0,
      "outputs": []
    },
    {
      "cell_type": "code",
      "metadata": {
        "id": "PekkRKxD_x0n",
        "colab_type": "code",
        "colab": {}
      },
      "source": [
        "def removeString(data, regex):\n",
        "    return data.str.lower().str.replace(regex.lower(), ' ')"
      ],
      "execution_count": 0,
      "outputs": []
    },
    {
      "cell_type": "code",
      "metadata": {
        "id": "es0V9rAX_WHZ",
        "colab_type": "code",
        "colab": {}
      },
      "source": [
        "columnsToClean = ['TicketDescription']\n",
        "df = cleanDataset(df,columnsToClean, getRegexList())"
      ],
      "execution_count": 0,
      "outputs": []
    },
    {
      "cell_type": "code",
      "metadata": {
        "id": "TKMGcFSBey3g",
        "colab_type": "code",
        "colab": {}
      },
      "source": [
        "df['TicketDescription'] = df['TicketDescription'].apply((lambda x: re.sub('[^a-zA-z0-9\\s]',' ',x)))"
      ],
      "execution_count": 0,
      "outputs": []
    },
    {
      "cell_type": "code",
      "metadata": {
        "id": "AOqHV2X_55ML",
        "colab_type": "code",
        "outputId": "5d2847e3-d21c-4a87-e77f-e798cc86ad0d",
        "colab": {
          "base_uri": "https://localhost:8080/",
          "height": 206
        }
      },
      "source": [
        "df.head()"
      ],
      "execution_count": 0,
      "outputs": [
        {
          "output_type": "execute_result",
          "data": {
            "text/html": [
              "<div>\n",
              "<style scoped>\n",
              "    .dataframe tbody tr th:only-of-type {\n",
              "        vertical-align: middle;\n",
              "    }\n",
              "\n",
              "    .dataframe tbody tr th {\n",
              "        vertical-align: top;\n",
              "    }\n",
              "\n",
              "    .dataframe thead th {\n",
              "        text-align: right;\n",
              "    }\n",
              "</style>\n",
              "<table border=\"1\" class=\"dataframe\">\n",
              "  <thead>\n",
              "    <tr style=\"text-align: right;\">\n",
              "      <th></th>\n",
              "      <th>Assignment group</th>\n",
              "      <th>TicketDescription</th>\n",
              "    </tr>\n",
              "  </thead>\n",
              "  <tbody>\n",
              "    <tr>\n",
              "      <th>0</th>\n",
              "      <td>grp_0</td>\n",
              "      <td>login issue  verified user details  employee  ...</td>\n",
              "    </tr>\n",
              "    <tr>\n",
              "      <th>1</th>\n",
              "      <td>grp_0</td>\n",
              "      <td>outlook     received from     hello team     m...</td>\n",
              "    </tr>\n",
              "    <tr>\n",
              "      <th>2</th>\n",
              "      <td>grp_0</td>\n",
              "      <td>cant log in to vpn     received from     hi   ...</td>\n",
              "    </tr>\n",
              "    <tr>\n",
              "      <th>3</th>\n",
              "      <td>grp_0</td>\n",
              "      <td>unable to access hr_tool page unable to access...</td>\n",
              "    </tr>\n",
              "    <tr>\n",
              "      <th>4</th>\n",
              "      <td>grp_0</td>\n",
              "      <td>skype error  skype error</td>\n",
              "    </tr>\n",
              "  </tbody>\n",
              "</table>\n",
              "</div>"
            ],
            "text/plain": [
              "  Assignment group                                  TicketDescription\n",
              "0            grp_0  login issue  verified user details  employee  ...\n",
              "1            grp_0  outlook     received from     hello team     m...\n",
              "2            grp_0  cant log in to vpn     received from     hi   ...\n",
              "3            grp_0  unable to access hr_tool page unable to access...\n",
              "4            grp_0                          skype error  skype error "
            ]
          },
          "metadata": {
            "tags": []
          },
          "execution_count": 218
        }
      ]
    },
    {
      "cell_type": "code",
      "metadata": {
        "id": "PDQA6A6MxzdV",
        "colab_type": "code",
        "colab": {}
      },
      "source": [
        "## Clean stopwords and punctuations\n",
        "\n",
        "import nltk\n",
        "import string\n",
        "import re"
      ],
      "execution_count": 0,
      "outputs": []
    },
    {
      "cell_type": "code",
      "metadata": {
        "id": "DjIFLQAb3Yi8",
        "colab_type": "code",
        "outputId": "66905e53-3929-4557-a7d9-8ea98905a1f7",
        "colab": {
          "base_uri": "https://localhost:8080/",
          "height": 206
        }
      },
      "source": [
        "stopwords = nltk.corpus.stopwords.words('english')\n",
        "\n",
        "def removeStopWordsPunctuations(text):\n",
        "    text = \"\".join([word for word in text if word not in string.punctuation])\n",
        "    tokens = re.split('\\W+', text)\n",
        "    text = [word for word in tokens if word not in stopwords]\n",
        "    return text\n",
        "\n",
        "df['TicketDescription'] = df['TicketDescription'].apply(lambda x: removeStopWordsPunctuations(x.lower()))\n",
        "\n",
        "df.head()"
      ],
      "execution_count": 0,
      "outputs": [
        {
          "output_type": "execute_result",
          "data": {
            "text/html": [
              "<div>\n",
              "<style scoped>\n",
              "    .dataframe tbody tr th:only-of-type {\n",
              "        vertical-align: middle;\n",
              "    }\n",
              "\n",
              "    .dataframe tbody tr th {\n",
              "        vertical-align: top;\n",
              "    }\n",
              "\n",
              "    .dataframe thead th {\n",
              "        text-align: right;\n",
              "    }\n",
              "</style>\n",
              "<table border=\"1\" class=\"dataframe\">\n",
              "  <thead>\n",
              "    <tr style=\"text-align: right;\">\n",
              "      <th></th>\n",
              "      <th>Assignment group</th>\n",
              "      <th>TicketDescription</th>\n",
              "    </tr>\n",
              "  </thead>\n",
              "  <tbody>\n",
              "    <tr>\n",
              "      <th>0</th>\n",
              "      <td>grp_0</td>\n",
              "      <td>[login, issue, verified, user, details, employ...</td>\n",
              "    </tr>\n",
              "    <tr>\n",
              "      <th>1</th>\n",
              "      <td>grp_0</td>\n",
              "      <td>[outlook, received, hello, team, meetings, sky...</td>\n",
              "    </tr>\n",
              "    <tr>\n",
              "      <th>2</th>\n",
              "      <td>grp_0</td>\n",
              "      <td>[cant, log, vpn, received, hi, cannot, log, vp...</td>\n",
              "    </tr>\n",
              "    <tr>\n",
              "      <th>3</th>\n",
              "      <td>grp_0</td>\n",
              "      <td>[unable, access, hrtool, page, unable, access,...</td>\n",
              "    </tr>\n",
              "    <tr>\n",
              "      <th>4</th>\n",
              "      <td>grp_0</td>\n",
              "      <td>[skype, error, skype, error, ]</td>\n",
              "    </tr>\n",
              "  </tbody>\n",
              "</table>\n",
              "</div>"
            ],
            "text/plain": [
              "  Assignment group                                  TicketDescription\n",
              "0            grp_0  [login, issue, verified, user, details, employ...\n",
              "1            grp_0  [outlook, received, hello, team, meetings, sky...\n",
              "2            grp_0  [cant, log, vpn, received, hi, cannot, log, vp...\n",
              "3            grp_0  [unable, access, hrtool, page, unable, access,...\n",
              "4            grp_0                     [skype, error, skype, error, ]"
            ]
          },
          "metadata": {
            "tags": []
          },
          "execution_count": 220
        }
      ]
    },
    {
      "cell_type": "code",
      "metadata": {
        "id": "Vd4ORGXNAWAc",
        "colab_type": "code",
        "outputId": "10cf812c-6809-4c6d-8717-bc9d288ecbf3",
        "colab": {
          "base_uri": "https://localhost:8080/",
          "height": 206
        }
      },
      "source": [
        "df.head()"
      ],
      "execution_count": 0,
      "outputs": [
        {
          "output_type": "execute_result",
          "data": {
            "text/html": [
              "<div>\n",
              "<style scoped>\n",
              "    .dataframe tbody tr th:only-of-type {\n",
              "        vertical-align: middle;\n",
              "    }\n",
              "\n",
              "    .dataframe tbody tr th {\n",
              "        vertical-align: top;\n",
              "    }\n",
              "\n",
              "    .dataframe thead th {\n",
              "        text-align: right;\n",
              "    }\n",
              "</style>\n",
              "<table border=\"1\" class=\"dataframe\">\n",
              "  <thead>\n",
              "    <tr style=\"text-align: right;\">\n",
              "      <th></th>\n",
              "      <th>Assignment group</th>\n",
              "      <th>TicketDescription</th>\n",
              "    </tr>\n",
              "  </thead>\n",
              "  <tbody>\n",
              "    <tr>\n",
              "      <th>0</th>\n",
              "      <td>grp_0</td>\n",
              "      <td>[login, issue, verified, user, details, employ...</td>\n",
              "    </tr>\n",
              "    <tr>\n",
              "      <th>1</th>\n",
              "      <td>grp_0</td>\n",
              "      <td>[outlook, received, hello, team, meetings, sky...</td>\n",
              "    </tr>\n",
              "    <tr>\n",
              "      <th>2</th>\n",
              "      <td>grp_0</td>\n",
              "      <td>[cant, log, vpn, received, hi, cannot, log, vp...</td>\n",
              "    </tr>\n",
              "    <tr>\n",
              "      <th>3</th>\n",
              "      <td>grp_0</td>\n",
              "      <td>[unable, access, hrtool, page, unable, access,...</td>\n",
              "    </tr>\n",
              "    <tr>\n",
              "      <th>4</th>\n",
              "      <td>grp_0</td>\n",
              "      <td>[skype, error, skype, error, ]</td>\n",
              "    </tr>\n",
              "  </tbody>\n",
              "</table>\n",
              "</div>"
            ],
            "text/plain": [
              "  Assignment group                                  TicketDescription\n",
              "0            grp_0  [login, issue, verified, user, details, employ...\n",
              "1            grp_0  [outlook, received, hello, team, meetings, sky...\n",
              "2            grp_0  [cant, log, vpn, received, hi, cannot, log, vp...\n",
              "3            grp_0  [unable, access, hrtool, page, unable, access,...\n",
              "4            grp_0                     [skype, error, skype, error, ]"
            ]
          },
          "metadata": {
            "tags": []
          },
          "execution_count": 221
        }
      ]
    },
    {
      "cell_type": "code",
      "metadata": {
        "id": "_fCjEMkB6WYl",
        "colab_type": "code",
        "colab": {}
      },
      "source": [
        "from nltk.stem.snowball import SnowballStemmer  ### Portstemmer vs snowballstemmer ... ?   Snowballstemmer is preferred over portstemmer for better results.."
      ],
      "execution_count": 0,
      "outputs": []
    },
    {
      "cell_type": "code",
      "metadata": {
        "id": "FFH3i9W76VBI",
        "colab_type": "code",
        "colab": {}
      },
      "source": [
        "snowStem = nltk.SnowballStemmer(\"english\")"
      ],
      "execution_count": 0,
      "outputs": []
    },
    {
      "cell_type": "code",
      "metadata": {
        "id": "Bl15Pav26GTj",
        "colab_type": "code",
        "outputId": "b9401591-7c22-4298-9629-70708cb8ee45",
        "colab": {
          "base_uri": "https://localhost:8080/",
          "height": 206
        }
      },
      "source": [
        "def stemming(tokenized_text):\n",
        "    text = [snowStem.stem(word) for word in tokenized_text]\n",
        "    return text\n",
        "\n",
        "df['TicketDescription'] = df['TicketDescription'].apply(lambda x: stemming(x))\n",
        "\n",
        "df.head()"
      ],
      "execution_count": 0,
      "outputs": [
        {
          "output_type": "execute_result",
          "data": {
            "text/html": [
              "<div>\n",
              "<style scoped>\n",
              "    .dataframe tbody tr th:only-of-type {\n",
              "        vertical-align: middle;\n",
              "    }\n",
              "\n",
              "    .dataframe tbody tr th {\n",
              "        vertical-align: top;\n",
              "    }\n",
              "\n",
              "    .dataframe thead th {\n",
              "        text-align: right;\n",
              "    }\n",
              "</style>\n",
              "<table border=\"1\" class=\"dataframe\">\n",
              "  <thead>\n",
              "    <tr style=\"text-align: right;\">\n",
              "      <th></th>\n",
              "      <th>Assignment group</th>\n",
              "      <th>TicketDescription</th>\n",
              "    </tr>\n",
              "  </thead>\n",
              "  <tbody>\n",
              "    <tr>\n",
              "      <th>0</th>\n",
              "      <td>grp_0</td>\n",
              "      <td>[login, issu, verifi, user, detail, employe, m...</td>\n",
              "    </tr>\n",
              "    <tr>\n",
              "      <th>1</th>\n",
              "      <td>grp_0</td>\n",
              "      <td>[outlook, receiv, hello, team, meet, skype, me...</td>\n",
              "    </tr>\n",
              "    <tr>\n",
              "      <th>2</th>\n",
              "      <td>grp_0</td>\n",
              "      <td>[cant, log, vpn, receiv, hi, cannot, log, vpn,...</td>\n",
              "    </tr>\n",
              "    <tr>\n",
              "      <th>3</th>\n",
              "      <td>grp_0</td>\n",
              "      <td>[unabl, access, hrtool, page, unabl, access, h...</td>\n",
              "    </tr>\n",
              "    <tr>\n",
              "      <th>4</th>\n",
              "      <td>grp_0</td>\n",
              "      <td>[skype, error, skype, error, ]</td>\n",
              "    </tr>\n",
              "  </tbody>\n",
              "</table>\n",
              "</div>"
            ],
            "text/plain": [
              "  Assignment group                                  TicketDescription\n",
              "0            grp_0  [login, issu, verifi, user, detail, employe, m...\n",
              "1            grp_0  [outlook, receiv, hello, team, meet, skype, me...\n",
              "2            grp_0  [cant, log, vpn, receiv, hi, cannot, log, vpn,...\n",
              "3            grp_0  [unabl, access, hrtool, page, unabl, access, h...\n",
              "4            grp_0                     [skype, error, skype, error, ]"
            ]
          },
          "metadata": {
            "tags": []
          },
          "execution_count": 224
        }
      ]
    },
    {
      "cell_type": "code",
      "metadata": {
        "id": "E1WqDzMY7pwD",
        "colab_type": "code",
        "colab": {}
      },
      "source": [
        "## Lematizer to be tried out... Not sure if we need to do this... People prefere to do just stemming vs lemmatization... \n",
        "lemmatizer = WordNetLemmatizer()\n",
        "\n",
        "def lematize_text(text):\n",
        "  text = [lemmatizer.lemmatize(token, \"v\") for token in text] #Lemmatization\n",
        "  return text"
      ],
      "execution_count": 0,
      "outputs": []
    },
    {
      "cell_type": "code",
      "metadata": {
        "id": "N7RH8IN4tOYB",
        "colab_type": "code",
        "colab": {}
      },
      "source": [
        "##df['TicketDescription'] = df['TicketDescription'].apply(lambda x: WordNetLemmatizer(x))\n",
        "##df.head()"
      ],
      "execution_count": 0,
      "outputs": []
    },
    {
      "cell_type": "code",
      "metadata": {
        "id": "2tWvJ3fD8kex",
        "colab_type": "code",
        "colab": {}
      },
      "source": [
        "from tensorflow.keras.preprocessing.text import Tokenizer\n",
        "from tensorflow.keras.preprocessing.sequence import pad_sequences\n",
        "\n",
        "from sklearn.feature_extraction.text import CountVectorizer\n",
        "from keras.preprocessing.text import Tokenizer\n",
        "from keras.preprocessing.sequence import pad_sequences\n",
        "from keras.models import Sequential\n",
        "from keras.layers import Dense, Embedding, LSTM, SpatialDropout1D\n",
        "from sklearn.model_selection import train_test_split\n",
        "from keras.utils.np_utils import to_categorical"
      ],
      "execution_count": 0,
      "outputs": []
    },
    {
      "cell_type": "code",
      "metadata": {
        "id": "phOWclmngb7H",
        "colab_type": "code",
        "colab": {}
      },
      "source": [
        "for idx,row in df.iterrows():\n",
        "    row[0] = row[0].replace('rt',' ')\n",
        "    \n",
        "vocabSize = 20000\n",
        "tokenizer = Tokenizer(num_words=vocabSize, split=' ')\n",
        "tokenizer.fit_on_texts(df['TicketDescription'].values)\n",
        "X = tokenizer.texts_to_sequences(df['TicketDescription'].values)\n",
        "X = pad_sequences(X)"
      ],
      "execution_count": 0,
      "outputs": []
    },
    {
      "cell_type": "code",
      "metadata": {
        "id": "dub3kCaAbWpZ",
        "colab_type": "code",
        "outputId": "7dd6e865-0068-4978-ce8a-a9b5940adad6",
        "colab": {
          "base_uri": "https://localhost:8080/",
          "height": 53
        }
      },
      "source": [
        "Y = pd.get_dummies(df['Assignment group']).values\n",
        "X_train, X_test, Y_train, Y_test = train_test_split(X,Y, test_size = 0.15, random_state = 42)\n",
        "print(X_train.shape,Y_train.shape)\n",
        "print(X_test.shape,Y_test.shape)"
      ],
      "execution_count": 0,
      "outputs": [
        {
          "output_type": "stream",
          "text": [
            "(7098, 1790) (7098, 74)\n",
            "(1253, 1790) (1253, 74)\n"
          ],
          "name": "stdout"
        }
      ]
    },
    {
      "cell_type": "code",
      "metadata": {
        "id": "6rVgobTlgcIQ",
        "colab_type": "code",
        "outputId": "8819f139-68d3-4c87-9632-377fc4795734",
        "colab": {
          "base_uri": "https://localhost:8080/",
          "height": 326
        }
      },
      "source": [
        "## Lets try out LSTM model\n",
        "\n",
        "embed_dim = 128\n",
        "lstm_out = 196\n",
        "\n",
        "model = Sequential()\n",
        "model.add(Embedding(vocabSize, embed_dim,input_length = X.shape[1]))\n",
        "model.add(SpatialDropout1D(0.4))\n",
        "model.add(LSTM(lstm_out, dropout=0.2, recurrent_dropout=0.2))\n",
        "model.add(Dense(74,activation='softmax'))  ### Note that they are 74 groups to which tickets are to be assigned\n",
        "model.compile(loss = 'categorical_crossentropy', optimizer='adam',metrics = ['accuracy'])\n",
        "print(model.summary())"
      ],
      "execution_count": 0,
      "outputs": [
        {
          "output_type": "stream",
          "text": [
            "Model: \"sequential_1\"\n",
            "_________________________________________________________________\n",
            "Layer (type)                 Output Shape              Param #   \n",
            "=================================================================\n",
            "embedding_1 (Embedding)      (None, 1790, 128)         2560000   \n",
            "_________________________________________________________________\n",
            "spatial_dropout1d_1 (Spatial (None, 1790, 128)         0         \n",
            "_________________________________________________________________\n",
            "lstm_1 (LSTM)                (None, 196)               254800    \n",
            "_________________________________________________________________\n",
            "dense_1 (Dense)              (None, 74)                14578     \n",
            "=================================================================\n",
            "Total params: 2,829,378\n",
            "Trainable params: 2,829,378\n",
            "Non-trainable params: 0\n",
            "_________________________________________________________________\n",
            "None\n"
          ],
          "name": "stdout"
        }
      ]
    },
    {
      "cell_type": "code",
      "metadata": {
        "id": "npD4kUWvjcmX",
        "colab_type": "code",
        "outputId": "9880d3b6-5ecb-43d9-f343-fd85dee84d54",
        "colab": {
          "base_uri": "https://localhost:8080/",
          "height": 762
        }
      },
      "source": [
        "batch_size = 32\n",
        "model.fit(X_train, Y_train, epochs = 20, batch_size=batch_size, verbose = 2)"
      ],
      "execution_count": 0,
      "outputs": [
        {
          "output_type": "stream",
          "text": [
            "Epoch 1/20\n",
            " - 1261s - loss: 2.4601 - accuracy: 0.4939\n",
            "Epoch 2/20\n",
            " - 1251s - loss: 1.9476 - accuracy: 0.5579\n",
            "Epoch 3/20\n",
            " - 1272s - loss: 1.7633 - accuracy: 0.5796\n",
            "Epoch 4/20\n",
            " - 1286s - loss: 1.5909 - accuracy: 0.6078\n",
            "Epoch 5/20\n",
            " - 1299s - loss: 1.4167 - accuracy: 0.6388\n",
            "Epoch 6/20\n",
            " - 1305s - loss: 1.2675 - accuracy: 0.6669\n",
            "Epoch 7/20\n",
            " - 1309s - loss: 1.1418 - accuracy: 0.6939\n",
            "Epoch 8/20\n",
            " - 1313s - loss: 1.0242 - accuracy: 0.7175\n",
            "Epoch 9/20\n",
            " - 1301s - loss: 0.9309 - accuracy: 0.7494\n",
            "Epoch 10/20\n",
            " - 1307s - loss: 0.8386 - accuracy: 0.7706\n",
            "Epoch 11/20\n",
            " - 1384s - loss: 0.7306 - accuracy: 0.7981\n",
            "Epoch 12/20\n",
            " - 1358s - loss: 0.6590 - accuracy: 0.8221\n",
            "Epoch 13/20\n",
            " - 1336s - loss: 0.5915 - accuracy: 0.8433\n",
            "Epoch 14/20\n",
            " - 1358s - loss: 0.5311 - accuracy: 0.8566\n",
            "Epoch 15/20\n",
            " - 1352s - loss: 0.4816 - accuracy: 0.8702\n",
            "Epoch 16/20\n",
            " - 1361s - loss: 0.4293 - accuracy: 0.8812\n",
            "Epoch 17/20\n",
            " - 1370s - loss: 0.3951 - accuracy: 0.8938\n",
            "Epoch 18/20\n",
            " - 1373s - loss: 0.3551 - accuracy: 0.9032\n",
            "Epoch 19/20\n",
            " - 1411s - loss: 0.3183 - accuracy: 0.9146\n",
            "Epoch 20/20\n",
            " - 1435s - loss: 0.2806 - accuracy: 0.9243\n"
          ],
          "name": "stdout"
        },
        {
          "output_type": "execute_result",
          "data": {
            "text/plain": [
              "<keras.callbacks.callbacks.History at 0x7f0bbd558ac8>"
            ]
          },
          "metadata": {
            "tags": []
          },
          "execution_count": 229
        }
      ]
    },
    {
      "cell_type": "code",
      "metadata": {
        "id": "GH4WX2Dijrfz",
        "colab_type": "code",
        "outputId": "8ee2dfb2-9bbd-4ef1-b782-f80740008a54",
        "colab": {
          "base_uri": "https://localhost:8080/",
          "height": 90
        }
      },
      "source": [
        "print('\\nModel Performance: Log Loss and Accuracy on Test data')\n",
        "print(model.evaluate(X_test, Y_test, batch_size = 1))"
      ],
      "execution_count": 0,
      "outputs": [
        {
          "output_type": "stream",
          "text": [
            "\n",
            "Model Performance: Log Loss and Accuracy on Test data\n",
            "1253/1253 [==============================] - 214s 171ms/step\n",
            "[1.9674391687932988, 0.6217079162597656]\n"
          ],
          "name": "stdout"
        }
      ]
    },
    {
      "cell_type": "code",
      "metadata": {
        "id": "DRWxG6LglEKv",
        "colab_type": "code",
        "colab": {}
      },
      "source": [
        "### TBD\n",
        "from sklearn import metrics\n",
        "\n",
        "# Print the confusion matrix\n",
        "##print(metrics.confusion_matrix(Y_test, y_pred))\n",
        "\n",
        "# Print the precision and recall, among other metrics\n",
        "##print(metrics.classification_report(Y_test, y_pred, digits=3))"
      ],
      "execution_count": 0,
      "outputs": []
    }
  ]
}