{
  "nbformat": 4,
  "nbformat_minor": 0,
  "metadata": {
    "colab": {
      "name": "Capstone-MJ.ipynb",
      "provenance": []
    },
    "kernelspec": {
      "name": "python3",
      "display_name": "Python 3"
    }
  },
  "cells": [
    {
      "cell_type": "code",
      "metadata": {
        "id": "hppcTcqhoflG",
        "colab_type": "code",
        "outputId": "438b65e9-72ed-4f3a-8b1b-9a8083cf7ee7",
        "colab": {
          "base_uri": "https://localhost:8080/",
          "height": 122
        }
      },
      "source": [
        "from google.colab import drive\n",
        "drive.mount('/content/drive/')"
      ],
      "execution_count": 2,
      "outputs": [
        {
          "output_type": "stream",
          "text": [
            "Go to this URL in a browser: https://accounts.google.com/o/oauth2/auth?client_id=947318989803-6bn6qk8qdgf4n4g3pfee6491hc0brc4i.apps.googleusercontent.com&redirect_uri=urn%3aietf%3awg%3aoauth%3a2.0%3aoob&response_type=code&scope=email%20https%3a%2f%2fwww.googleapis.com%2fauth%2fdocs.test%20https%3a%2f%2fwww.googleapis.com%2fauth%2fdrive%20https%3a%2f%2fwww.googleapis.com%2fauth%2fdrive.photos.readonly%20https%3a%2f%2fwww.googleapis.com%2fauth%2fpeopleapi.readonly\n",
            "\n",
            "Enter your authorization code:\n",
            "··········\n",
            "Mounted at /content/drive/\n"
          ],
          "name": "stdout"
        }
      ]
    },
    {
      "cell_type": "code",
      "metadata": {
        "id": "NF8fgmnFpByd",
        "colab_type": "code",
        "outputId": "cde8f551-b202-4bc4-d136-3f89fac1b730",
        "colab": {
          "base_uri": "https://localhost:8080/",
          "height": 238
        }
      },
      "source": [
        "import os\n",
        "%cd drive/My\\ Drive\n",
        "!ls"
      ],
      "execution_count": 3,
      "outputs": [
        {
          "output_type": "stream",
          "text": [
            "/content/drive/My Drive\n",
            "'Colab Notebooks'\n",
            "'Getting started.pdf'\n",
            " glove.6B.100d.txt\n",
            " glove.6B.200d.txt\n",
            " glove.6B.300d.txt\n",
            " glove.6B.50d.txt\n",
            " glove.6B.zip\n",
            " input_data.xlsx\n",
            " Mahima-07-05-2020.wav\n",
            "'Mahima Sehgal Automation Deliverable - QA Test Writing.gsheet'\n",
            " Sarcasm_Headlines_Dataset.json\n",
            " testrail-import-trial_proj-2020-05-22.cfg\n"
          ],
          "name": "stdout"
        }
      ]
    },
    {
      "cell_type": "code",
      "metadata": {
        "id": "mkwN0e8bpQgE",
        "colab_type": "code",
        "outputId": "db799a98-2474-4478-9bda-3af992dc0624",
        "colab": {
          "base_uri": "https://localhost:8080/",
          "height": 255
        }
      },
      "source": [
        "import pandas as pd\n",
        "df = pd.read_excel (r'input_data.xlsx')\n",
        "print (df)"
      ],
      "execution_count": 11,
      "outputs": [
        {
          "output_type": "stream",
          "text": [
            "                                      Short description  ... Assignment group\n",
            "0                                           login issue  ...            GRP_0\n",
            "1                                               outlook  ...            GRP_0\n",
            "2                                    cant log in to vpn  ...            GRP_0\n",
            "3                         unable to access hr_tool page  ...            GRP_0\n",
            "4                                          skype error   ...            GRP_0\n",
            "...                                                 ...  ...              ...\n",
            "8495                  emails not coming in from zz mail  ...           GRP_29\n",
            "8496                           telephony_software issue  ...            GRP_0\n",
            "8497  vip2: windows password reset for tifpdchb pedx...  ...            GRP_0\n",
            "8498                     machine nÃ£o estÃ¡ funcionando  ...           GRP_62\n",
            "8499  an mehreren pc`s lassen sich verschiedene prgr...  ...           GRP_49\n",
            "\n",
            "[8500 rows x 4 columns]\n"
          ],
          "name": "stdout"
        }
      ]
    },
    {
      "cell_type": "code",
      "metadata": {
        "id": "5GACtZyZqbc2",
        "colab_type": "code",
        "outputId": "71e6c885-30a1-4c4a-c3e5-39dd04b002b1",
        "colab": {
          "base_uri": "https://localhost:8080/",
          "height": 34
        }
      },
      "source": [
        "df.shape"
      ],
      "execution_count": 145,
      "outputs": [
        {
          "output_type": "execute_result",
          "data": {
            "text/plain": [
              "(8360, 6)"
            ]
          },
          "metadata": {
            "tags": []
          },
          "execution_count": 145
        }
      ]
    },
    {
      "cell_type": "code",
      "metadata": {
        "id": "T-k2nqK4q9Cv",
        "colab_type": "code",
        "outputId": "0d889447-e5bd-44d4-cfb6-e772323eff0a",
        "colab": {
          "base_uri": "https://localhost:8080/",
          "height": 204
        }
      },
      "source": [
        "df.head()"
      ],
      "execution_count": 5,
      "outputs": [
        {
          "output_type": "execute_result",
          "data": {
            "text/html": [
              "<div>\n",
              "<style scoped>\n",
              "    .dataframe tbody tr th:only-of-type {\n",
              "        vertical-align: middle;\n",
              "    }\n",
              "\n",
              "    .dataframe tbody tr th {\n",
              "        vertical-align: top;\n",
              "    }\n",
              "\n",
              "    .dataframe thead th {\n",
              "        text-align: right;\n",
              "    }\n",
              "</style>\n",
              "<table border=\"1\" class=\"dataframe\">\n",
              "  <thead>\n",
              "    <tr style=\"text-align: right;\">\n",
              "      <th></th>\n",
              "      <th>Short description</th>\n",
              "      <th>Description</th>\n",
              "      <th>Caller</th>\n",
              "      <th>Assignment group</th>\n",
              "    </tr>\n",
              "  </thead>\n",
              "  <tbody>\n",
              "    <tr>\n",
              "      <th>0</th>\n",
              "      <td>login issue</td>\n",
              "      <td>-verified user details.(employee# &amp; manager na...</td>\n",
              "      <td>spxjnwir pjlcoqds</td>\n",
              "      <td>GRP_0</td>\n",
              "    </tr>\n",
              "    <tr>\n",
              "      <th>1</th>\n",
              "      <td>outlook</td>\n",
              "      <td>\\r\\n\\r\\nreceived from: hmjdrvpb.komuaywn@gmail...</td>\n",
              "      <td>hmjdrvpb komuaywn</td>\n",
              "      <td>GRP_0</td>\n",
              "    </tr>\n",
              "    <tr>\n",
              "      <th>2</th>\n",
              "      <td>cant log in to vpn</td>\n",
              "      <td>\\r\\n\\r\\nreceived from: eylqgodm.ybqkwiam@gmail...</td>\n",
              "      <td>eylqgodm ybqkwiam</td>\n",
              "      <td>GRP_0</td>\n",
              "    </tr>\n",
              "    <tr>\n",
              "      <th>3</th>\n",
              "      <td>unable to access hr_tool page</td>\n",
              "      <td>unable to access hr_tool page</td>\n",
              "      <td>xbkucsvz gcpydteq</td>\n",
              "      <td>GRP_0</td>\n",
              "    </tr>\n",
              "    <tr>\n",
              "      <th>4</th>\n",
              "      <td>skype error</td>\n",
              "      <td>skype error</td>\n",
              "      <td>owlgqjme qhcozdfx</td>\n",
              "      <td>GRP_0</td>\n",
              "    </tr>\n",
              "  </tbody>\n",
              "</table>\n",
              "</div>"
            ],
            "text/plain": [
              "               Short description  ... Assignment group\n",
              "0                    login issue  ...            GRP_0\n",
              "1                        outlook  ...            GRP_0\n",
              "2             cant log in to vpn  ...            GRP_0\n",
              "3  unable to access hr_tool page  ...            GRP_0\n",
              "4                   skype error   ...            GRP_0\n",
              "\n",
              "[5 rows x 4 columns]"
            ]
          },
          "metadata": {
            "tags": []
          },
          "execution_count": 5
        }
      ]
    },
    {
      "cell_type": "code",
      "metadata": {
        "id": "FOzO4ETrqc0Z",
        "colab_type": "code",
        "outputId": "f05438bc-fd78-401b-bc46-c24aab41dedc",
        "colab": {
          "base_uri": "https://localhost:8080/",
          "height": 221
        }
      },
      "source": [
        "df['Assignment group'].value_counts()"
      ],
      "execution_count": 6,
      "outputs": [
        {
          "output_type": "execute_result",
          "data": {
            "text/plain": [
              "GRP_0     3976\n",
              "GRP_8      661\n",
              "GRP_24     289\n",
              "GRP_12     257\n",
              "GRP_9      252\n",
              "          ... \n",
              "GRP_35       1\n",
              "GRP_67       1\n",
              "GRP_70       1\n",
              "GRP_64       1\n",
              "GRP_73       1\n",
              "Name: Assignment group, Length: 74, dtype: int64"
            ]
          },
          "metadata": {
            "tags": []
          },
          "execution_count": 6
        }
      ]
    },
    {
      "cell_type": "code",
      "metadata": {
        "id": "1899GmmQrEE5",
        "colab_type": "code",
        "outputId": "0f2d12d0-4c24-47d7-ee93-0039e5df1ba0",
        "colab": {
          "base_uri": "https://localhost:8080/",
          "height": 204
        }
      },
      "source": [
        "df.info()"
      ],
      "execution_count": 0,
      "outputs": [
        {
          "output_type": "stream",
          "text": [
            "<class 'pandas.core.frame.DataFrame'>\n",
            "RangeIndex: 8500 entries, 0 to 8499\n",
            "Data columns (total 4 columns):\n",
            " #   Column             Non-Null Count  Dtype \n",
            "---  ------             --------------  ----- \n",
            " 0   Short description  8492 non-null   object\n",
            " 1   Description        8499 non-null   object\n",
            " 2   Caller             8500 non-null   object\n",
            " 3   Assignment group   8500 non-null   object\n",
            "dtypes: object(4)\n",
            "memory usage: 265.8+ KB\n"
          ],
          "name": "stdout"
        }
      ]
    },
    {
      "cell_type": "markdown",
      "metadata": {
        "id": "v39-_fLcyWCG",
        "colab_type": "text"
      },
      "source": [
        "**PRE-PROCESSING STEPS**\n",
        "- Replacing Nan Values with Blank text string\n",
        "- Grouping The Groups with less than 20 Tickets to seperate group\n",
        "- Removing Duplicate Rows\n",
        "- Group Description, Short Description and Caller to one group\n",
        "- Text pre-processing on new text field"
      ]
    },
    {
      "cell_type": "code",
      "metadata": {
        "id": "8GE7zgU7zgcN",
        "colab_type": "code",
        "colab": {
          "base_uri": "https://localhost:8080/",
          "height": 173
        },
        "outputId": "8f941bd1-b450-4f27-fbad-f5c309613fc4"
      },
      "source": [
        "#Before Removing Nan\n",
        "df.describe().transpose()"
      ],
      "execution_count": 12,
      "outputs": [
        {
          "output_type": "execute_result",
          "data": {
            "text/html": [
              "<div>\n",
              "<style scoped>\n",
              "    .dataframe tbody tr th:only-of-type {\n",
              "        vertical-align: middle;\n",
              "    }\n",
              "\n",
              "    .dataframe tbody tr th {\n",
              "        vertical-align: top;\n",
              "    }\n",
              "\n",
              "    .dataframe thead th {\n",
              "        text-align: right;\n",
              "    }\n",
              "</style>\n",
              "<table border=\"1\" class=\"dataframe\">\n",
              "  <thead>\n",
              "    <tr style=\"text-align: right;\">\n",
              "      <th></th>\n",
              "      <th>count</th>\n",
              "      <th>unique</th>\n",
              "      <th>top</th>\n",
              "      <th>freq</th>\n",
              "    </tr>\n",
              "  </thead>\n",
              "  <tbody>\n",
              "    <tr>\n",
              "      <th>Short description</th>\n",
              "      <td>8492</td>\n",
              "      <td>7481</td>\n",
              "      <td>password reset</td>\n",
              "      <td>38</td>\n",
              "    </tr>\n",
              "    <tr>\n",
              "      <th>Description</th>\n",
              "      <td>8499</td>\n",
              "      <td>7817</td>\n",
              "      <td>the</td>\n",
              "      <td>56</td>\n",
              "    </tr>\n",
              "    <tr>\n",
              "      <th>Caller</th>\n",
              "      <td>8500</td>\n",
              "      <td>2950</td>\n",
              "      <td>bpctwhsn kzqsbmtp</td>\n",
              "      <td>810</td>\n",
              "    </tr>\n",
              "    <tr>\n",
              "      <th>Assignment group</th>\n",
              "      <td>8500</td>\n",
              "      <td>74</td>\n",
              "      <td>GRP_0</td>\n",
              "      <td>3976</td>\n",
              "    </tr>\n",
              "  </tbody>\n",
              "</table>\n",
              "</div>"
            ],
            "text/plain": [
              "                  count unique                top  freq\n",
              "Short description  8492   7481     password reset    38\n",
              "Description        8499   7817                the    56\n",
              "Caller             8500   2950  bpctwhsn kzqsbmtp   810\n",
              "Assignment group   8500     74              GRP_0  3976"
            ]
          },
          "metadata": {
            "tags": []
          },
          "execution_count": 12
        }
      ]
    },
    {
      "cell_type": "code",
      "metadata": {
        "id": "UdnZusAxsmDM",
        "colab_type": "code",
        "outputId": "1b1ce9e4-ac3c-459c-ef76-c8f6baa49889",
        "colab": {
          "base_uri": "https://localhost:8080/",
          "height": 328
        }
      },
      "source": [
        "df[df.isnull().any(axis=1)]"
      ],
      "execution_count": 13,
      "outputs": [
        {
          "output_type": "execute_result",
          "data": {
            "text/html": [
              "<div>\n",
              "<style scoped>\n",
              "    .dataframe tbody tr th:only-of-type {\n",
              "        vertical-align: middle;\n",
              "    }\n",
              "\n",
              "    .dataframe tbody tr th {\n",
              "        vertical-align: top;\n",
              "    }\n",
              "\n",
              "    .dataframe thead th {\n",
              "        text-align: right;\n",
              "    }\n",
              "</style>\n",
              "<table border=\"1\" class=\"dataframe\">\n",
              "  <thead>\n",
              "    <tr style=\"text-align: right;\">\n",
              "      <th></th>\n",
              "      <th>Short description</th>\n",
              "      <th>Description</th>\n",
              "      <th>Caller</th>\n",
              "      <th>Assignment group</th>\n",
              "    </tr>\n",
              "  </thead>\n",
              "  <tbody>\n",
              "    <tr>\n",
              "      <th>2604</th>\n",
              "      <td>NaN</td>\n",
              "      <td>\\r\\n\\r\\nreceived from: ohdrnswl.rezuibdt@gmail...</td>\n",
              "      <td>ohdrnswl rezuibdt</td>\n",
              "      <td>GRP_34</td>\n",
              "    </tr>\n",
              "    <tr>\n",
              "      <th>3383</th>\n",
              "      <td>NaN</td>\n",
              "      <td>\\r\\n-connected to the user system using teamvi...</td>\n",
              "      <td>qftpazns fxpnytmk</td>\n",
              "      <td>GRP_0</td>\n",
              "    </tr>\n",
              "    <tr>\n",
              "      <th>3906</th>\n",
              "      <td>NaN</td>\n",
              "      <td>-user unable  tologin to vpn.\\r\\n-connected to...</td>\n",
              "      <td>awpcmsey ctdiuqwe</td>\n",
              "      <td>GRP_0</td>\n",
              "    </tr>\n",
              "    <tr>\n",
              "      <th>3910</th>\n",
              "      <td>NaN</td>\n",
              "      <td>-user unable  tologin to vpn.\\r\\n-connected to...</td>\n",
              "      <td>rhwsmefo tvphyura</td>\n",
              "      <td>GRP_0</td>\n",
              "    </tr>\n",
              "    <tr>\n",
              "      <th>3915</th>\n",
              "      <td>NaN</td>\n",
              "      <td>-user unable  tologin to vpn.\\r\\n-connected to...</td>\n",
              "      <td>hxripljo efzounig</td>\n",
              "      <td>GRP_0</td>\n",
              "    </tr>\n",
              "    <tr>\n",
              "      <th>3921</th>\n",
              "      <td>NaN</td>\n",
              "      <td>-user unable  tologin to vpn.\\r\\n-connected to...</td>\n",
              "      <td>cziadygo veiosxby</td>\n",
              "      <td>GRP_0</td>\n",
              "    </tr>\n",
              "    <tr>\n",
              "      <th>3924</th>\n",
              "      <td>NaN</td>\n",
              "      <td>name:wvqgbdhm fwchqjor\\nlanguage:\\nbrowser:mic...</td>\n",
              "      <td>wvqgbdhm fwchqjor</td>\n",
              "      <td>GRP_0</td>\n",
              "    </tr>\n",
              "    <tr>\n",
              "      <th>4341</th>\n",
              "      <td>NaN</td>\n",
              "      <td>\\r\\n\\r\\nreceived from: eqmuniov.ehxkcbgj@gmail...</td>\n",
              "      <td>eqmuniov ehxkcbgj</td>\n",
              "      <td>GRP_0</td>\n",
              "    </tr>\n",
              "    <tr>\n",
              "      <th>4395</th>\n",
              "      <td>i am locked out of skype</td>\n",
              "      <td>NaN</td>\n",
              "      <td>viyglzfo ajtfzpkb</td>\n",
              "      <td>GRP_0</td>\n",
              "    </tr>\n",
              "  </tbody>\n",
              "</table>\n",
              "</div>"
            ],
            "text/plain": [
              "             Short description  ... Assignment group\n",
              "2604                       NaN  ...           GRP_34\n",
              "3383                       NaN  ...            GRP_0\n",
              "3906                       NaN  ...            GRP_0\n",
              "3910                       NaN  ...            GRP_0\n",
              "3915                       NaN  ...            GRP_0\n",
              "3921                       NaN  ...            GRP_0\n",
              "3924                       NaN  ...            GRP_0\n",
              "4341                       NaN  ...            GRP_0\n",
              "4395  i am locked out of skype  ...            GRP_0\n",
              "\n",
              "[9 rows x 4 columns]"
            ]
          },
          "metadata": {
            "tags": []
          },
          "execution_count": 13
        }
      ]
    },
    {
      "cell_type": "code",
      "metadata": {
        "id": "aWJoxqYj0o9N",
        "colab_type": "code",
        "colab": {}
      },
      "source": [
        "import numpy as np\n",
        "# Replace all Nan entries with empty string\n",
        "df = df.replace(np.nan, '', regex=True)"
      ],
      "execution_count": 0,
      "outputs": []
    },
    {
      "cell_type": "code",
      "metadata": {
        "id": "VrL5gWpMtMBW",
        "colab_type": "code",
        "outputId": "1b6f112b-0211-4a97-ef29-aeca56a663a3",
        "colab": {
          "base_uri": "https://localhost:8080/",
          "height": 173
        }
      },
      "source": [
        "#After Removing Nan\n",
        "df.describe().transpose()"
      ],
      "execution_count": 15,
      "outputs": [
        {
          "output_type": "execute_result",
          "data": {
            "text/html": [
              "<div>\n",
              "<style scoped>\n",
              "    .dataframe tbody tr th:only-of-type {\n",
              "        vertical-align: middle;\n",
              "    }\n",
              "\n",
              "    .dataframe tbody tr th {\n",
              "        vertical-align: top;\n",
              "    }\n",
              "\n",
              "    .dataframe thead th {\n",
              "        text-align: right;\n",
              "    }\n",
              "</style>\n",
              "<table border=\"1\" class=\"dataframe\">\n",
              "  <thead>\n",
              "    <tr style=\"text-align: right;\">\n",
              "      <th></th>\n",
              "      <th>count</th>\n",
              "      <th>unique</th>\n",
              "      <th>top</th>\n",
              "      <th>freq</th>\n",
              "    </tr>\n",
              "  </thead>\n",
              "  <tbody>\n",
              "    <tr>\n",
              "      <th>Short description</th>\n",
              "      <td>8500</td>\n",
              "      <td>7482</td>\n",
              "      <td>password reset</td>\n",
              "      <td>38</td>\n",
              "    </tr>\n",
              "    <tr>\n",
              "      <th>Description</th>\n",
              "      <td>8500</td>\n",
              "      <td>7818</td>\n",
              "      <td>the</td>\n",
              "      <td>56</td>\n",
              "    </tr>\n",
              "    <tr>\n",
              "      <th>Caller</th>\n",
              "      <td>8500</td>\n",
              "      <td>2950</td>\n",
              "      <td>bpctwhsn kzqsbmtp</td>\n",
              "      <td>810</td>\n",
              "    </tr>\n",
              "    <tr>\n",
              "      <th>Assignment group</th>\n",
              "      <td>8500</td>\n",
              "      <td>74</td>\n",
              "      <td>GRP_0</td>\n",
              "      <td>3976</td>\n",
              "    </tr>\n",
              "  </tbody>\n",
              "</table>\n",
              "</div>"
            ],
            "text/plain": [
              "                  count unique                top  freq\n",
              "Short description  8500   7482     password reset    38\n",
              "Description        8500   7818                the    56\n",
              "Caller             8500   2950  bpctwhsn kzqsbmtp   810\n",
              "Assignment group   8500     74              GRP_0  3976"
            ]
          },
          "metadata": {
            "tags": []
          },
          "execution_count": 15
        }
      ]
    },
    {
      "cell_type": "code",
      "metadata": {
        "id": "G1ivYQKetT86",
        "colab_type": "code",
        "colab": {
          "base_uri": "https://localhost:8080/",
          "height": 632
        },
        "outputId": "92c44e78-4a30-49fc-f077-a3ddb9243a2f"
      },
      "source": [
        "# Groupby by Group ID\n",
        "group_df = df.groupby(\"Assignment group\")\n",
        "import matplotlib.pyplot as plt\n",
        "plt.figure(figsize=(15,10))\n",
        "group_df.size().sort_values(ascending=False).plot.bar()\n",
        "plt.xticks(rotation=50)\n",
        "plt.xlabel(\"Group Names\")\n",
        "plt.ylabel(\"Count of Tickets\")\n",
        "plt.show()"
      ],
      "execution_count": 23,
      "outputs": [
        {
          "output_type": "display_data",
          "data": {
            "image/png": "[encoded data removed]",
            "text/plain": [
              "<Figure size 1080x720 with 1 Axes>"
            ]
          },
          "metadata": {
            "tags": [],
            "needs_background": "light"
          }
        }
      ]
    },
    {
      "cell_type": "code",
      "metadata": {
        "id": "jATp8CfEwfSl",
        "colab_type": "code",
        "outputId": "d6cf03d2-83d5-4e02-d8d3-2bf82011d8cd",
        "colab": {
          "base_uri": "https://localhost:8080/",
          "height": 173
        }
      },
      "source": [
        "#Combining Groups with less tickets\n",
        "small_df = df[df.groupby('Assignment group')['Assignment group'].transform('size') < 10]\n",
        "small_df.describe()\n"
      ],
      "execution_count": 17,
      "outputs": [
        {
          "output_type": "execute_result",
          "data": {
            "text/html": [
              "<div>\n",
              "<style scoped>\n",
              "    .dataframe tbody tr th:only-of-type {\n",
              "        vertical-align: middle;\n",
              "    }\n",
              "\n",
              "    .dataframe tbody tr th {\n",
              "        vertical-align: top;\n",
              "    }\n",
              "\n",
              "    .dataframe thead th {\n",
              "        text-align: right;\n",
              "    }\n",
              "</style>\n",
              "<table border=\"1\" class=\"dataframe\">\n",
              "  <thead>\n",
              "    <tr style=\"text-align: right;\">\n",
              "      <th></th>\n",
              "      <th>Short description</th>\n",
              "      <th>Description</th>\n",
              "      <th>Caller</th>\n",
              "      <th>Assignment group</th>\n",
              "    </tr>\n",
              "  </thead>\n",
              "  <tbody>\n",
              "    <tr>\n",
              "      <th>count</th>\n",
              "      <td>87</td>\n",
              "      <td>87</td>\n",
              "      <td>87</td>\n",
              "      <td>87</td>\n",
              "    </tr>\n",
              "    <tr>\n",
              "      <th>unique</th>\n",
              "      <td>86</td>\n",
              "      <td>86</td>\n",
              "      <td>73</td>\n",
              "      <td>25</td>\n",
              "    </tr>\n",
              "    <tr>\n",
              "      <th>top</th>\n",
              "      <td>product selector not working</td>\n",
              "      <td>update cutview to lauacyltoe hxgaycze version ...</td>\n",
              "      <td>lenxvcbq vwnhjtoi</td>\n",
              "      <td>GRP_52</td>\n",
              "    </tr>\n",
              "    <tr>\n",
              "      <th>freq</th>\n",
              "      <td>2</td>\n",
              "      <td>2</td>\n",
              "      <td>5</td>\n",
              "      <td>9</td>\n",
              "    </tr>\n",
              "  </tbody>\n",
              "</table>\n",
              "</div>"
            ],
            "text/plain": [
              "                   Short description  ... Assignment group\n",
              "count                             87  ...               87\n",
              "unique                            86  ...               25\n",
              "top     product selector not working  ...           GRP_52\n",
              "freq                               2  ...                9\n",
              "\n",
              "[4 rows x 4 columns]"
            ]
          },
          "metadata": {
            "tags": []
          },
          "execution_count": 17
        }
      ]
    },
    {
      "cell_type": "code",
      "metadata": {
        "id": "VygLqTlT1PFh",
        "colab_type": "code",
        "colab": {
          "base_uri": "https://localhost:8080/",
          "height": 204
        },
        "outputId": "a2ee6ee9-0540-4045-a484-ef11e83a8dfa"
      },
      "source": [
        ""
      ],
      "execution_count": 20,
      "outputs": [
        {
          "output_type": "execute_result",
          "data": {
            "text/html": [
              "<div>\n",
              "<style scoped>\n",
              "    .dataframe tbody tr th:only-of-type {\n",
              "        vertical-align: middle;\n",
              "    }\n",
              "\n",
              "    .dataframe tbody tr th {\n",
              "        vertical-align: top;\n",
              "    }\n",
              "\n",
              "    .dataframe thead th {\n",
              "        text-align: right;\n",
              "    }\n",
              "</style>\n",
              "<table border=\"1\" class=\"dataframe\">\n",
              "  <thead>\n",
              "    <tr style=\"text-align: right;\">\n",
              "      <th></th>\n",
              "      <th>Short description</th>\n",
              "      <th>Description</th>\n",
              "      <th>Caller</th>\n",
              "      <th>Assignment group</th>\n",
              "    </tr>\n",
              "  </thead>\n",
              "  <tbody>\n",
              "    <tr>\n",
              "      <th>401</th>\n",
              "      <td>need access to erp kp06789</td>\n",
              "      <td>need access to kp06789 to enter forecast for i...</td>\n",
              "      <td>etvendormhd xpslzunb</td>\n",
              "      <td>GRP_35</td>\n",
              "    </tr>\n",
              "    <tr>\n",
              "      <th>461</th>\n",
              "      <td>hpqc delivers error message: \"user is not main...</td>\n",
              "      <td>my user id: thrydksd'\\niÂ´m involved in uat ua...</td>\n",
              "      <td>iavozegx jpcudyfi</td>\n",
              "      <td>GRP_38</td>\n",
              "    </tr>\n",
              "    <tr>\n",
              "      <th>626</th>\n",
              "      <td>production order number issue</td>\n",
              "      <td>\\n\\nreceived from: zuxcfonv.nyhpkrbe@gmail.com...</td>\n",
              "      <td>zuxcfonv nyhpkrbe</td>\n",
              "      <td>GRP_43</td>\n",
              "    </tr>\n",
              "    <tr>\n",
              "      <th>841</th>\n",
              "      <td>error with customization (engineering tool) - ...</td>\n",
              "      <td>hi team, \\n\\ni need your help with two error t...</td>\n",
              "      <td>qasdhyzm yuglsrwx</td>\n",
              "      <td>GRP_46</td>\n",
              "    </tr>\n",
              "    <tr>\n",
              "      <th>1143</th>\n",
              "      <td>please redirect to local it: word document 134...</td>\n",
              "      <td>das folgende word-dokument kann nicht mehr bea...</td>\n",
              "      <td>cwtrgeup nxctkmzo</td>\n",
              "      <td>GRP_49</td>\n",
              "    </tr>\n",
              "  </tbody>\n",
              "</table>\n",
              "</div>"
            ],
            "text/plain": [
              "                                      Short description  ... Assignment group\n",
              "401                          need access to erp kp06789  ...           GRP_35\n",
              "461   hpqc delivers error message: \"user is not main...  ...           GRP_38\n",
              "626                      production order number issue   ...           GRP_43\n",
              "841   error with customization (engineering tool) - ...  ...           GRP_46\n",
              "1143  please redirect to local it: word document 134...  ...           GRP_49\n",
              "\n",
              "[5 rows x 4 columns]"
            ]
          },
          "metadata": {
            "tags": []
          },
          "execution_count": 20
        }
      ]
    },
    {
      "cell_type": "code",
      "metadata": {
        "id": "szDcQnp64UpV",
        "colab_type": "code",
        "colab": {}
      },
      "source": [
        "#Assigining these to a seperate group altogether\n",
        "df.loc[df.groupby('Assignment group')['Assignment group'].transform('size') < 15 , 'Assignment group'] =  'SUBGROUP-X'"
      ],
      "execution_count": 0,
      "outputs": []
    },
    {
      "cell_type": "code",
      "metadata": {
        "id": "1k7RAzvG2SbE",
        "colab_type": "code",
        "colab": {
          "base_uri": "https://localhost:8080/",
          "height": 652
        },
        "outputId": "a19533d6-f529-44db-e75a-ffbfc402353c"
      },
      "source": [
        "# Groupby by Group ID\n",
        "group_df = df.groupby(\"Assignment group\")\n",
        "plt.figure(figsize=(15,10))\n",
        "group_df.size().sort_values(ascending=False).plot.bar()\n",
        "plt.xticks(rotation=50)\n",
        "plt.xlabel(\"Group Names\")\n",
        "plt.ylabel(\"Count of Tickets\")\n",
        "plt.show()"
      ],
      "execution_count": 26,
      "outputs": [
        {
          "output_type": "display_data",
          "data": {
            "image/png": "[encoded data removed]",
            "text/plain": [
              "<Figure size 1080x720 with 1 Axes>"
            ]
          },
          "metadata": {
            "tags": [],
            "needs_background": "light"
          }
        }
      ]
    },
    {
      "cell_type": "code",
      "metadata": {
        "id": "AWKUWlJC2-Iw",
        "colab_type": "code",
        "colab": {}
      },
      "source": [
        "#Remove Duplicate Rows\n",
        "duplicateRowsDF = df[df.duplicated()]\n",
        "duplicateRowsDF.head()\n",
        "df.drop_duplicates(keep=False,inplace=True)"
      ],
      "execution_count": 0,
      "outputs": []
    },
    {
      "cell_type": "code",
      "metadata": {
        "id": "idlDdrAK3MBg",
        "colab_type": "code",
        "colab": {
          "base_uri": "https://localhost:8080/",
          "height": 173
        },
        "outputId": "4d15d385-c2bf-43e0-f1cc-bf4b9ed36ce8"
      },
      "source": [
        "df.describe()"
      ],
      "execution_count": 29,
      "outputs": [
        {
          "output_type": "execute_result",
          "data": {
            "text/html": [
              "<div>\n",
              "<style scoped>\n",
              "    .dataframe tbody tr th:only-of-type {\n",
              "        vertical-align: middle;\n",
              "    }\n",
              "\n",
              "    .dataframe tbody tr th {\n",
              "        vertical-align: top;\n",
              "    }\n",
              "\n",
              "    .dataframe thead th {\n",
              "        text-align: right;\n",
              "    }\n",
              "</style>\n",
              "<table border=\"1\" class=\"dataframe\">\n",
              "  <thead>\n",
              "    <tr style=\"text-align: right;\">\n",
              "      <th></th>\n",
              "      <th>Short description</th>\n",
              "      <th>Description</th>\n",
              "      <th>Caller</th>\n",
              "      <th>Assignment group</th>\n",
              "    </tr>\n",
              "  </thead>\n",
              "  <tbody>\n",
              "    <tr>\n",
              "      <th>count</th>\n",
              "      <td>8360</td>\n",
              "      <td>8360</td>\n",
              "      <td>8360</td>\n",
              "      <td>8360</td>\n",
              "    </tr>\n",
              "    <tr>\n",
              "      <th>unique</th>\n",
              "      <td>7440</td>\n",
              "      <td>7783</td>\n",
              "      <td>2944</td>\n",
              "      <td>47</td>\n",
              "    </tr>\n",
              "    <tr>\n",
              "      <th>top</th>\n",
              "      <td>password reset</td>\n",
              "      <td>the</td>\n",
              "      <td>bpctwhsn kzqsbmtp</td>\n",
              "      <td>GRP_0</td>\n",
              "    </tr>\n",
              "    <tr>\n",
              "      <th>freq</th>\n",
              "      <td>38</td>\n",
              "      <td>34</td>\n",
              "      <td>771</td>\n",
              "      <td>3908</td>\n",
              "    </tr>\n",
              "  </tbody>\n",
              "</table>\n",
              "</div>"
            ],
            "text/plain": [
              "       Short description Description             Caller Assignment group\n",
              "count               8360        8360               8360             8360\n",
              "unique              7440        7783               2944               47\n",
              "top       password reset         the  bpctwhsn kzqsbmtp            GRP_0\n",
              "freq                  38          34                771             3908"
            ]
          },
          "metadata": {
            "tags": []
          },
          "execution_count": 29
        }
      ]
    },
    {
      "cell_type": "code",
      "metadata": {
        "id": "aQYtR_-V2qSw",
        "colab_type": "code",
        "colab": {}
      },
      "source": [
        "#Combine Text Fields\n",
        "df['Final Description'] = df['Short description'].str.cat(df['Description'],sep=\" \")\n",
        "df['Final Description'] = df['Final Description'].str.cat(df['Caller'],sep=\" \")"
      ],
      "execution_count": 0,
      "outputs": []
    },
    {
      "cell_type": "code",
      "metadata": {
        "id": "TUB-RmWh3umr",
        "colab_type": "code",
        "colab": {
          "base_uri": "https://localhost:8080/",
          "height": 119
        },
        "outputId": "5b49d2f4-a129-4185-fa37-a60d63d62410"
      },
      "source": [
        "df['Final Description'].head()"
      ],
      "execution_count": 79,
      "outputs": [
        {
          "output_type": "execute_result",
          "data": {
            "text/plain": [
              "0    login issue -verified user details.(employee# ...\n",
              "1    outlook \\r\\n\\r\\nreceived from: hmjdrvpb.komuay...\n",
              "2    cant log in to vpn \\r\\n\\r\\nreceived from: eylq...\n",
              "3    unable to access hr_tool page unable to access...\n",
              "4          skype error  skype error  owlgqjme qhcozdfx\n",
              "Name: Final Description, dtype: object"
            ]
          },
          "metadata": {
            "tags": []
          },
          "execution_count": 79
        }
      ]
    },
    {
      "cell_type": "code",
      "metadata": {
        "id": "6pte8TMq7b7m",
        "colab_type": "code",
        "colab": {}
      },
      "source": [
        "## Decontract the words\n",
        "import re\n",
        "def decontract(text):\n",
        "    text = re.sub(r\"won\\'t\", \"will not\", text)\n",
        "    text = re.sub(r\"can\\'t\", \"can not\", text)\n",
        "    text = re.sub(r\"cant\", \"can not\", text)\n",
        "    text = re.sub(r\"n\\'t\", \" not\", text)\n",
        "    text = re.sub(r\"\\'re\", \" are\", text)\n",
        "    text = re.sub(r\"\\'s\", \" is\", text)\n",
        "    text = re.sub(r\"\\'d\", \" would\", text)\n",
        "    text = re.sub(r\"\\'ll\", \" will\", text)\n",
        "    text = re.sub(r\"\\'t\", \" not\", text)\n",
        "    text = re.sub(r\"\\'ve\", \" have\", text)\n",
        "    text = re.sub(r\"\\'m\", \" am\", text)\n",
        "    return text\n",
        "\n"
      ],
      "execution_count": 0,
      "outputs": []
    },
    {
      "cell_type": "code",
      "metadata": {
        "id": "0bLGI4qH7h_7",
        "colab_type": "code",
        "colab": {
          "base_uri": "https://localhost:8080/",
          "height": 306
        },
        "outputId": "92af1893-195b-4a33-fb0c-1aa90ef22ee9"
      },
      "source": [
        "df['Final Description'] = df['Final Description'].apply(lambda x: decontract(x))\n",
        "df.head()"
      ],
      "execution_count": 80,
      "outputs": [
        {
          "output_type": "execute_result",
          "data": {
            "text/html": [
              "<div>\n",
              "<style scoped>\n",
              "    .dataframe tbody tr th:only-of-type {\n",
              "        vertical-align: middle;\n",
              "    }\n",
              "\n",
              "    .dataframe tbody tr th {\n",
              "        vertical-align: top;\n",
              "    }\n",
              "\n",
              "    .dataframe thead th {\n",
              "        text-align: right;\n",
              "    }\n",
              "</style>\n",
              "<table border=\"1\" class=\"dataframe\">\n",
              "  <thead>\n",
              "    <tr style=\"text-align: right;\">\n",
              "      <th></th>\n",
              "      <th>Short description</th>\n",
              "      <th>Description</th>\n",
              "      <th>Caller</th>\n",
              "      <th>Assignment group</th>\n",
              "      <th>Final Description</th>\n",
              "      <th>Description Clean</th>\n",
              "    </tr>\n",
              "  </thead>\n",
              "  <tbody>\n",
              "    <tr>\n",
              "      <th>0</th>\n",
              "      <td>login issue</td>\n",
              "      <td>-verified user details.(employee# &amp; manager na...</td>\n",
              "      <td>spxjnwir pjlcoqds</td>\n",
              "      <td>GRP_0</td>\n",
              "      <td>login issue -verified user details.(employee# ...</td>\n",
              "      <td>login issue  verified user details  employee  ...</td>\n",
              "    </tr>\n",
              "    <tr>\n",
              "      <th>1</th>\n",
              "      <td>outlook</td>\n",
              "      <td>\\r\\n\\r\\nreceived from: hmjdrvpb.komuaywn@gmail...</td>\n",
              "      <td>hmjdrvpb komuaywn</td>\n",
              "      <td>GRP_0</td>\n",
              "      <td>outlook \\r\\n\\r\\nreceived from: hmjdrvpb.komuay...</td>\n",
              "      <td>outlook     received from  hmjdrvpb komuaywn  ...</td>\n",
              "    </tr>\n",
              "    <tr>\n",
              "      <th>2</th>\n",
              "      <td>cant log in to vpn</td>\n",
              "      <td>\\r\\n\\r\\nreceived from: eylqgodm.ybqkwiam@gmail...</td>\n",
              "      <td>eylqgodm ybqkwiam</td>\n",
              "      <td>GRP_0</td>\n",
              "      <td>can not log in to vpn \\r\\n\\r\\nreceived from: e...</td>\n",
              "      <td>cant log in to vpn     received from  eylqgodm...</td>\n",
              "    </tr>\n",
              "    <tr>\n",
              "      <th>3</th>\n",
              "      <td>unable to access hr_tool page</td>\n",
              "      <td>unable to access hr_tool page</td>\n",
              "      <td>xbkucsvz gcpydteq</td>\n",
              "      <td>GRP_0</td>\n",
              "      <td>unable to access hr_tool page unable to access...</td>\n",
              "      <td>unable to access hr tool page unable to access...</td>\n",
              "    </tr>\n",
              "    <tr>\n",
              "      <th>4</th>\n",
              "      <td>skype error</td>\n",
              "      <td>skype error</td>\n",
              "      <td>owlgqjme qhcozdfx</td>\n",
              "      <td>GRP_0</td>\n",
              "      <td>skype error  skype error  owlgqjme qhcozdfx</td>\n",
              "      <td>skype error  skype error  owlgqjme qhcozdfx</td>\n",
              "    </tr>\n",
              "  </tbody>\n",
              "</table>\n",
              "</div>"
            ],
            "text/plain": [
              "               Short description  ...                                  Description Clean\n",
              "0                    login issue  ...  login issue  verified user details  employee  ...\n",
              "1                        outlook  ...  outlook     received from  hmjdrvpb komuaywn  ...\n",
              "2             cant log in to vpn  ...  cant log in to vpn     received from  eylqgodm...\n",
              "3  unable to access hr_tool page  ...  unable to access hr tool page unable to access...\n",
              "4                   skype error   ...        skype error  skype error  owlgqjme qhcozdfx\n",
              "\n",
              "[5 rows x 6 columns]"
            ]
          },
          "metadata": {
            "tags": []
          },
          "execution_count": 80
        }
      ]
    },
    {
      "cell_type": "code",
      "metadata": {
        "id": "8nUjBjoZ5bgI",
        "colab_type": "code",
        "colab": {}
      },
      "source": [
        "# Data Normalization\n",
        "import re\n",
        "def  clean_text(df, text_field, new_text_field_name):\n",
        "    #convert to lower case\n",
        "    df[new_text_field_name] = df[text_field].str.lower()\n",
        "    df[new_text_field_name] = df[new_text_field_name].apply(lambda elem: re.sub(r\"(@[A-Za-z0-9]+)|([^0-9A-Za-z \\t])|(\\w+:\\/\\/\\S+)|^rt|http.+?\", \" \", elem))  \n",
        "    # remove numbers\n",
        "    df[new_text_field_name] = df[new_text_field_name].apply(lambda elem: re.sub(r\"\\d+\", \"\", elem))\n",
        "    #remove single letters\n",
        "    df[new_text_field_name] = df[new_text_field_name].apply(lambda elem: re.sub(r\"\\b[a-zA-Z]\\b\", \"\", elem))  \n",
        "    return df"
      ],
      "execution_count": 0,
      "outputs": []
    },
    {
      "cell_type": "code",
      "metadata": {
        "id": "DEvmMSh852Pe",
        "colab_type": "code",
        "outputId": "ff6a41bb-f1b8-43c7-e538-342c68115286",
        "colab": {
          "base_uri": "https://localhost:8080/",
          "height": 606
        }
      },
      "source": [
        "df_clean = clean_text(df, 'Final Description', 'Description Clean')\n",
        "df_clean\n"
      ],
      "execution_count": 81,
      "outputs": [
        {
          "output_type": "execute_result",
          "data": {
            "text/html": [
              "<div>\n",
              "<style scoped>\n",
              "    .dataframe tbody tr th:only-of-type {\n",
              "        vertical-align: middle;\n",
              "    }\n",
              "\n",
              "    .dataframe tbody tr th {\n",
              "        vertical-align: top;\n",
              "    }\n",
              "\n",
              "    .dataframe thead th {\n",
              "        text-align: right;\n",
              "    }\n",
              "</style>\n",
              "<table border=\"1\" class=\"dataframe\">\n",
              "  <thead>\n",
              "    <tr style=\"text-align: right;\">\n",
              "      <th></th>\n",
              "      <th>Short description</th>\n",
              "      <th>Description</th>\n",
              "      <th>Caller</th>\n",
              "      <th>Assignment group</th>\n",
              "      <th>Final Description</th>\n",
              "      <th>Description Clean</th>\n",
              "    </tr>\n",
              "  </thead>\n",
              "  <tbody>\n",
              "    <tr>\n",
              "      <th>0</th>\n",
              "      <td>login issue</td>\n",
              "      <td>-verified user details.(employee# &amp; manager na...</td>\n",
              "      <td>spxjnwir pjlcoqds</td>\n",
              "      <td>GRP_0</td>\n",
              "      <td>login issue -verified user details.(employee# ...</td>\n",
              "      <td>login issue  verified user details  employee  ...</td>\n",
              "    </tr>\n",
              "    <tr>\n",
              "      <th>1</th>\n",
              "      <td>outlook</td>\n",
              "      <td>\\r\\n\\r\\nreceived from: hmjdrvpb.komuaywn@gmail...</td>\n",
              "      <td>hmjdrvpb komuaywn</td>\n",
              "      <td>GRP_0</td>\n",
              "      <td>outlook \\r\\n\\r\\nreceived from: hmjdrvpb.komuay...</td>\n",
              "      <td>outlook     received from  hmjdrvpb komuaywn  ...</td>\n",
              "    </tr>\n",
              "    <tr>\n",
              "      <th>2</th>\n",
              "      <td>cant log in to vpn</td>\n",
              "      <td>\\r\\n\\r\\nreceived from: eylqgodm.ybqkwiam@gmail...</td>\n",
              "      <td>eylqgodm ybqkwiam</td>\n",
              "      <td>GRP_0</td>\n",
              "      <td>can not log in to vpn \\r\\n\\r\\nreceived from: e...</td>\n",
              "      <td>can not log in to vpn     received from  eylqg...</td>\n",
              "    </tr>\n",
              "    <tr>\n",
              "      <th>3</th>\n",
              "      <td>unable to access hr_tool page</td>\n",
              "      <td>unable to access hr_tool page</td>\n",
              "      <td>xbkucsvz gcpydteq</td>\n",
              "      <td>GRP_0</td>\n",
              "      <td>unable to access hr_tool page unable to access...</td>\n",
              "      <td>unable to access hr tool page unable to access...</td>\n",
              "    </tr>\n",
              "    <tr>\n",
              "      <th>4</th>\n",
              "      <td>skype error</td>\n",
              "      <td>skype error</td>\n",
              "      <td>owlgqjme qhcozdfx</td>\n",
              "      <td>GRP_0</td>\n",
              "      <td>skype error  skype error  owlgqjme qhcozdfx</td>\n",
              "      <td>skype error  skype error  owlgqjme qhcozdfx</td>\n",
              "    </tr>\n",
              "    <tr>\n",
              "      <th>...</th>\n",
              "      <td>...</td>\n",
              "      <td>...</td>\n",
              "      <td>...</td>\n",
              "      <td>...</td>\n",
              "      <td>...</td>\n",
              "      <td>...</td>\n",
              "    </tr>\n",
              "    <tr>\n",
              "      <th>8495</th>\n",
              "      <td>emails not coming in from zz mail</td>\n",
              "      <td>\\r\\n\\r\\nreceived from: avglmrts.vhqmtiua@gmail...</td>\n",
              "      <td>avglmrts vhqmtiua</td>\n",
              "      <td>GRP_29</td>\n",
              "      <td>emails not coming in from zz mail \\r\\n\\r\\nrece...</td>\n",
              "      <td>emails not coming in from zz mail     received...</td>\n",
              "    </tr>\n",
              "    <tr>\n",
              "      <th>8496</th>\n",
              "      <td>telephony_software issue</td>\n",
              "      <td>telephony_software issue</td>\n",
              "      <td>rbozivdq gmlhrtvp</td>\n",
              "      <td>GRP_0</td>\n",
              "      <td>telephony_software issue telephony_software is...</td>\n",
              "      <td>telephony software issue telephony software is...</td>\n",
              "    </tr>\n",
              "    <tr>\n",
              "      <th>8497</th>\n",
              "      <td>vip2: windows password reset for tifpdchb pedx...</td>\n",
              "      <td>vip2: windows password reset for tifpdchb pedx...</td>\n",
              "      <td>oybwdsgx oxyhwrfz</td>\n",
              "      <td>GRP_0</td>\n",
              "      <td>vip2: windows password reset for tifpdchb pedx...</td>\n",
              "      <td>vip  windows password reset for tifpdchb pedxr...</td>\n",
              "    </tr>\n",
              "    <tr>\n",
              "      <th>8498</th>\n",
              "      <td>machine nÃ£o estÃ¡ funcionando</td>\n",
              "      <td>i am unable to access the machine utilities to...</td>\n",
              "      <td>ufawcgob aowhxjky</td>\n",
              "      <td>GRP_62</td>\n",
              "      <td>machine nÃ£o estÃ¡ funcionando i am unable to ...</td>\n",
              "      <td>machine    est   funcionando  am unable to acc...</td>\n",
              "    </tr>\n",
              "    <tr>\n",
              "      <th>8499</th>\n",
              "      <td>an mehreren pc`s lassen sich verschiedene prgr...</td>\n",
              "      <td>an mehreren pc`s lassen sich verschiedene prgr...</td>\n",
              "      <td>kqvbrspl jyzoklfx</td>\n",
              "      <td>SUBGROUP-X</td>\n",
              "      <td>an mehreren pc`s lassen sich verschiedene prgr...</td>\n",
              "      <td>an mehreren pc  lassen sich verschiedene prgra...</td>\n",
              "    </tr>\n",
              "  </tbody>\n",
              "</table>\n",
              "<p>8360 rows × 6 columns</p>\n",
              "</div>"
            ],
            "text/plain": [
              "                                      Short description  ...                                  Description Clean\n",
              "0                                           login issue  ...  login issue  verified user details  employee  ...\n",
              "1                                               outlook  ...  outlook     received from  hmjdrvpb komuaywn  ...\n",
              "2                                    cant log in to vpn  ...  can not log in to vpn     received from  eylqg...\n",
              "3                         unable to access hr_tool page  ...  unable to access hr tool page unable to access...\n",
              "4                                          skype error   ...        skype error  skype error  owlgqjme qhcozdfx\n",
              "...                                                 ...  ...                                                ...\n",
              "8495                  emails not coming in from zz mail  ...  emails not coming in from zz mail     received...\n",
              "8496                           telephony_software issue  ...  telephony software issue telephony software is...\n",
              "8497  vip2: windows password reset for tifpdchb pedx...  ...  vip  windows password reset for tifpdchb pedxr...\n",
              "8498                     machine nÃ£o estÃ¡ funcionando  ...  machine    est   funcionando  am unable to acc...\n",
              "8499  an mehreren pc`s lassen sich verschiedene prgr...  ...  an mehreren pc  lassen sich verschiedene prgra...\n",
              "\n",
              "[8360 rows x 6 columns]"
            ]
          },
          "metadata": {
            "tags": []
          },
          "execution_count": 81
        }
      ]
    },
    {
      "cell_type": "code",
      "metadata": {
        "id": "1QItutbB5T4X",
        "colab_type": "code",
        "colab": {
          "base_uri": "https://localhost:8080/",
          "height": 204
        },
        "outputId": "f6c6a0f1-c153-4530-ad38-b8735c259211"
      },
      "source": [
        "df_clean = df_clean.drop(['Short description', 'Description','Caller','Final Description'], axis=1)\n",
        "df_clean.head()"
      ],
      "execution_count": 82,
      "outputs": [
        {
          "output_type": "execute_result",
          "data": {
            "text/html": [
              "<div>\n",
              "<style scoped>\n",
              "    .dataframe tbody tr th:only-of-type {\n",
              "        vertical-align: middle;\n",
              "    }\n",
              "\n",
              "    .dataframe tbody tr th {\n",
              "        vertical-align: top;\n",
              "    }\n",
              "\n",
              "    .dataframe thead th {\n",
              "        text-align: right;\n",
              "    }\n",
              "</style>\n",
              "<table border=\"1\" class=\"dataframe\">\n",
              "  <thead>\n",
              "    <tr style=\"text-align: right;\">\n",
              "      <th></th>\n",
              "      <th>Assignment group</th>\n",
              "      <th>Description Clean</th>\n",
              "    </tr>\n",
              "  </thead>\n",
              "  <tbody>\n",
              "    <tr>\n",
              "      <th>0</th>\n",
              "      <td>GRP_0</td>\n",
              "      <td>login issue  verified user details  employee  ...</td>\n",
              "    </tr>\n",
              "    <tr>\n",
              "      <th>1</th>\n",
              "      <td>GRP_0</td>\n",
              "      <td>outlook     received from  hmjdrvpb komuaywn  ...</td>\n",
              "    </tr>\n",
              "    <tr>\n",
              "      <th>2</th>\n",
              "      <td>GRP_0</td>\n",
              "      <td>can not log in to vpn     received from  eylqg...</td>\n",
              "    </tr>\n",
              "    <tr>\n",
              "      <th>3</th>\n",
              "      <td>GRP_0</td>\n",
              "      <td>unable to access hr tool page unable to access...</td>\n",
              "    </tr>\n",
              "    <tr>\n",
              "      <th>4</th>\n",
              "      <td>GRP_0</td>\n",
              "      <td>skype error  skype error  owlgqjme qhcozdfx</td>\n",
              "    </tr>\n",
              "  </tbody>\n",
              "</table>\n",
              "</div>"
            ],
            "text/plain": [
              "  Assignment group                                  Description Clean\n",
              "0            GRP_0  login issue  verified user details  employee  ...\n",
              "1            GRP_0  outlook     received from  hmjdrvpb komuaywn  ...\n",
              "2            GRP_0  can not log in to vpn     received from  eylqg...\n",
              "3            GRP_0  unable to access hr tool page unable to access...\n",
              "4            GRP_0        skype error  skype error  owlgqjme qhcozdfx"
            ]
          },
          "metadata": {
            "tags": []
          },
          "execution_count": 82
        }
      ]
    },
    {
      "cell_type": "code",
      "metadata": {
        "id": "L9q_5nDn54eM",
        "colab_type": "code",
        "colab": {
          "base_uri": "https://localhost:8080/",
          "height": 215
        },
        "outputId": "45d4a937-0b22-45c3-d205-e0fedcabac2a"
      },
      "source": [
        "#Showcase Word Cloud\n",
        "from PIL import Image\n",
        "from wordcloud import WordCloud, ImageColorGenerator\n",
        "\n",
        "\n",
        "text = \" \".join(review for review in df_clean['Description Clean'])\n",
        "print (\"There are {} words in the combination of all review.\".format(len(text)))\n",
        "# Generate a word cloud image\n",
        "wordcloud = WordCloud(background_color=\"white\").generate(text)\n",
        "\n",
        "# Display the generated image:\n",
        "# the matplotlib way:\n",
        "plt.imshow(wordcloud, interpolation='bilinear')\n",
        "plt.axis(\"off\")\n",
        "plt.show()"
      ],
      "execution_count": 83,
      "outputs": [
        {
          "output_type": "stream",
          "text": [
            "There are 2112476 words in the combination of all review.\n"
          ],
          "name": "stdout"
        },
        {
          "output_type": "display_data",
          "data": {
            "image/png": "[encoded data removed]",
            "text/plain": [
              "<Figure size 432x288 with 1 Axes>"
            ]
          },
          "metadata": {
            "tags": [],
            "needs_background": "light"
          }
        }
      ]
    },
    {
      "cell_type": "code",
      "metadata": {
        "id": "mls9inhj54zz",
        "colab_type": "code",
        "outputId": "dec5ff2e-5c9f-4ab5-e521-c4cd34b43d22",
        "colab": {
          "base_uri": "https://localhost:8080/",
          "height": 238
        }
      },
      "source": [
        "# Data Cleaning -- Removing Stop words\n",
        "import nltk.corpus\n",
        "nltk.download('stopwords')\n",
        "from nltk.corpus import stopwords\n",
        "stop = stopwords.words('english')\n",
        "newStopWords = [\"na\",\"sid\",\"cid\",\"null\",\"hi\",\"png\",\"eu\",\"hello\"]\n",
        "stop.extend(newStopWords)\n",
        "\n",
        "df_clean['Description Clean'] = df_clean['Description Clean'].apply(lambda x: ' '.join([word for word in x.split() if word not in (stop)]))\n",
        "df_clean.head()"
      ],
      "execution_count": 109,
      "outputs": [
        {
          "output_type": "stream",
          "text": [
            "[nltk_data] Downloading package stopwords to /root/nltk_data...\n",
            "[nltk_data]   Package stopwords is already up-to-date!\n"
          ],
          "name": "stdout"
        },
        {
          "output_type": "execute_result",
          "data": {
            "text/html": [
              "<div>\n",
              "<style scoped>\n",
              "    .dataframe tbody tr th:only-of-type {\n",
              "        vertical-align: middle;\n",
              "    }\n",
              "\n",
              "    .dataframe tbody tr th {\n",
              "        vertical-align: top;\n",
              "    }\n",
              "\n",
              "    .dataframe thead th {\n",
              "        text-align: right;\n",
              "    }\n",
              "</style>\n",
              "<table border=\"1\" class=\"dataframe\">\n",
              "  <thead>\n",
              "    <tr style=\"text-align: right;\">\n",
              "      <th></th>\n",
              "      <th>Assignment group</th>\n",
              "      <th>Description Clean</th>\n",
              "    </tr>\n",
              "  </thead>\n",
              "  <tbody>\n",
              "    <tr>\n",
              "      <th>0</th>\n",
              "      <td>GRP_0</td>\n",
              "      <td>login issue verified user details employee man...</td>\n",
              "    </tr>\n",
              "    <tr>\n",
              "      <th>1</th>\n",
              "      <td>GRP_0</td>\n",
              "      <td>outlook received hmjdrvpb komuaywn com team me...</td>\n",
              "    </tr>\n",
              "    <tr>\n",
              "      <th>2</th>\n",
              "      <td>GRP_0</td>\n",
              "      <td>log vpn received eylqgodm ybqkwiam com cannot ...</td>\n",
              "    </tr>\n",
              "    <tr>\n",
              "      <th>3</th>\n",
              "      <td>GRP_0</td>\n",
              "      <td>unable access hr tool page unable access hr to...</td>\n",
              "    </tr>\n",
              "    <tr>\n",
              "      <th>4</th>\n",
              "      <td>GRP_0</td>\n",
              "      <td>skype error skype error owlgqjme qhcozdfx</td>\n",
              "    </tr>\n",
              "  </tbody>\n",
              "</table>\n",
              "</div>"
            ],
            "text/plain": [
              "  Assignment group                                  Description Clean\n",
              "0            GRP_0  login issue verified user details employee man...\n",
              "1            GRP_0  outlook received hmjdrvpb komuaywn com team me...\n",
              "2            GRP_0  log vpn received eylqgodm ybqkwiam com cannot ...\n",
              "3            GRP_0  unable access hr tool page unable access hr to...\n",
              "4            GRP_0          skype error skype error owlgqjme qhcozdfx"
            ]
          },
          "metadata": {
            "tags": []
          },
          "execution_count": 109
        }
      ]
    },
    {
      "cell_type": "code",
      "metadata": {
        "id": "kSK0Tzi18w2X",
        "colab_type": "code",
        "outputId": "8a4c0f5f-8441-4b4c-ac55-6245014f685b",
        "colab": {
          "base_uri": "https://localhost:8080/",
          "height": 215
        }
      },
      "source": [
        "text = \" \".join(review for review in df_clean['Description Clean'])\n",
        "print (\"There are {} words in the combination of all review.\".format(len(text)))\n",
        "# Generate a word cloud image\n",
        "wordcloud = WordCloud(background_color=\"white\").generate(text)\n",
        "\n",
        "# Display the generated image:\n",
        "# the matplotlib way:\n",
        "plt.imshow(wordcloud, interpolation='bilinear')\n",
        "plt.axis(\"off\")\n",
        "plt.show()"
      ],
      "execution_count": 108,
      "outputs": [
        {
          "output_type": "stream",
          "text": [
            "There are 1528328 words in the combination of all review.\n"
          ],
          "name": "stdout"
        },
        {
          "output_type": "display_data",
          "data": {
            "image/png": "[encoded data removed]",
            "text/plain": [
              "<Figure size 432x288 with 1 Axes>"
            ]
          },
          "metadata": {
            "tags": [],
            "needs_background": "light"
          }
        }
      ]
    },
    {
      "cell_type": "code",
      "metadata": {
        "id": "TSSb7EfK9Laf",
        "colab_type": "code",
        "outputId": "dacff86f-6669-46aa-8438-ba6564efec26",
        "colab": {
          "base_uri": "https://localhost:8080/",
          "height": 238
        }
      },
      "source": [
        "# Getting Word Tokens\n",
        "import nltk \n",
        "nltk.download('punkt')\n",
        "from nltk.tokenize import sent_tokenize, word_tokenize\n",
        "df_clean['Description Clean Tokens'] = df_clean['Description Clean'].apply(lambda x: word_tokenize(x))\n",
        "df_clean.head()"
      ],
      "execution_count": 110,
      "outputs": [
        {
          "output_type": "stream",
          "text": [
            "[nltk_data] Downloading package punkt to /root/nltk_data...\n",
            "[nltk_data]   Package punkt is already up-to-date!\n"
          ],
          "name": "stdout"
        },
        {
          "output_type": "execute_result",
          "data": {
            "text/html": [
              "<div>\n",
              "<style scoped>\n",
              "    .dataframe tbody tr th:only-of-type {\n",
              "        vertical-align: middle;\n",
              "    }\n",
              "\n",
              "    .dataframe tbody tr th {\n",
              "        vertical-align: top;\n",
              "    }\n",
              "\n",
              "    .dataframe thead th {\n",
              "        text-align: right;\n",
              "    }\n",
              "</style>\n",
              "<table border=\"1\" class=\"dataframe\">\n",
              "  <thead>\n",
              "    <tr style=\"text-align: right;\">\n",
              "      <th></th>\n",
              "      <th>Assignment group</th>\n",
              "      <th>Description Clean</th>\n",
              "      <th>Description Clean Tokens</th>\n",
              "    </tr>\n",
              "  </thead>\n",
              "  <tbody>\n",
              "    <tr>\n",
              "      <th>0</th>\n",
              "      <td>GRP_0</td>\n",
              "      <td>login issue verified user details employee man...</td>\n",
              "      <td>[login, issue, verified, user, details, employ...</td>\n",
              "    </tr>\n",
              "    <tr>\n",
              "      <th>1</th>\n",
              "      <td>GRP_0</td>\n",
              "      <td>outlook received hmjdrvpb komuaywn com team me...</td>\n",
              "      <td>[outlook, received, hmjdrvpb, komuaywn, com, t...</td>\n",
              "    </tr>\n",
              "    <tr>\n",
              "      <th>2</th>\n",
              "      <td>GRP_0</td>\n",
              "      <td>log vpn received eylqgodm ybqkwiam com cannot ...</td>\n",
              "      <td>[log, vpn, received, eylqgodm, ybqkwiam, com, ...</td>\n",
              "    </tr>\n",
              "    <tr>\n",
              "      <th>3</th>\n",
              "      <td>GRP_0</td>\n",
              "      <td>unable access hr tool page unable access hr to...</td>\n",
              "      <td>[unable, access, hr, tool, page, unable, acces...</td>\n",
              "    </tr>\n",
              "    <tr>\n",
              "      <th>4</th>\n",
              "      <td>GRP_0</td>\n",
              "      <td>skype error skype error owlgqjme qhcozdfx</td>\n",
              "      <td>[skype, error, skype, error, owlgqjme, qhcozdfx]</td>\n",
              "    </tr>\n",
              "  </tbody>\n",
              "</table>\n",
              "</div>"
            ],
            "text/plain": [
              "  Assignment group  ...                           Description Clean Tokens\n",
              "0            GRP_0  ...  [login, issue, verified, user, details, employ...\n",
              "1            GRP_0  ...  [outlook, received, hmjdrvpb, komuaywn, com, t...\n",
              "2            GRP_0  ...  [log, vpn, received, eylqgodm, ybqkwiam, com, ...\n",
              "3            GRP_0  ...  [unable, access, hr, tool, page, unable, acces...\n",
              "4            GRP_0  ...   [skype, error, skype, error, owlgqjme, qhcozdfx]\n",
              "\n",
              "[5 rows x 3 columns]"
            ]
          },
          "metadata": {
            "tags": []
          },
          "execution_count": 110
        }
      ]
    },
    {
      "cell_type": "code",
      "metadata": {
        "id": "URUdCQB59xoG",
        "colab_type": "code",
        "colab": {}
      },
      "source": [
        "#Stemming Fine word stems \n",
        "from nltk.stem import PorterStemmer\n",
        "def word_stemmer(text):\n",
        "    stem_text = [PorterStemmer().stem(i) for i in text]\n",
        "    return stem_text\n",
        "df_clean['Description Stem'] = df_clean['Description Clean Tokens'].apply(lambda x: word_stemmer(x))\n"
      ],
      "execution_count": 0,
      "outputs": []
    },
    {
      "cell_type": "code",
      "metadata": {
        "id": "_JdIp23k-oul",
        "colab_type": "code",
        "outputId": "858df70f-2a45-4bba-831c-05d363f90b54",
        "colab": {
          "base_uri": "https://localhost:8080/",
          "height": 51
        }
      },
      "source": [
        "#Lemmatization Find word Lemmas\n",
        "nltk.download('wordnet')\n",
        "from nltk.stem import WordNetLemmatizer\n",
        "def word_lemmatizer(text):\n",
        "    lem_text = [WordNetLemmatizer().lemmatize(i) for i in text]\n",
        "    return lem_text\n",
        "df_clean['Description lemma'] = df_clean['Description Stem'].apply(lambda x: word_lemmatizer(x))\n"
      ],
      "execution_count": 113,
      "outputs": [
        {
          "output_type": "stream",
          "text": [
            "[nltk_data] Downloading package wordnet to /root/nltk_data...\n",
            "[nltk_data]   Package wordnet is already up-to-date!\n"
          ],
          "name": "stdout"
        }
      ]
    },
    {
      "cell_type": "code",
      "metadata": {
        "id": "sAUZzrBq_ORy",
        "colab_type": "code",
        "outputId": "159fcab8-9b7f-4e33-b293-e4310025ee0f",
        "colab": {
          "base_uri": "https://localhost:8080/",
          "height": 374
        }
      },
      "source": [
        "#POS Tagging\n",
        "def word_pos_tagger(text):\n",
        "    pos_tagged_text = nltk.pos_tag(text)\n",
        "    return pos_tagged_text\n",
        "nltk.download('averaged_perceptron_tagger')\n",
        "df_clean['Description POS'] = df_clean['Description Clean Tokens'].apply(lambda x: word_pos_tagger(x))\n",
        "df_clean.head()"
      ],
      "execution_count": 115,
      "outputs": [
        {
          "output_type": "stream",
          "text": [
            "[nltk_data] Downloading package averaged_perceptron_tagger to\n",
            "[nltk_data]     /root/nltk_data...\n",
            "[nltk_data]   Package averaged_perceptron_tagger is already up-to-\n",
            "[nltk_data]       date!\n"
          ],
          "name": "stdout"
        },
        {
          "output_type": "execute_result",
          "data": {
            "text/html": [
              "<div>\n",
              "<style scoped>\n",
              "    .dataframe tbody tr th:only-of-type {\n",
              "        vertical-align: middle;\n",
              "    }\n",
              "\n",
              "    .dataframe tbody tr th {\n",
              "        vertical-align: top;\n",
              "    }\n",
              "\n",
              "    .dataframe thead th {\n",
              "        text-align: right;\n",
              "    }\n",
              "</style>\n",
              "<table border=\"1\" class=\"dataframe\">\n",
              "  <thead>\n",
              "    <tr style=\"text-align: right;\">\n",
              "      <th></th>\n",
              "      <th>Assignment group</th>\n",
              "      <th>Description Clean</th>\n",
              "      <th>Description Clean Tokens</th>\n",
              "      <th>Description Stem</th>\n",
              "      <th>Description lemma</th>\n",
              "      <th>Description POS</th>\n",
              "    </tr>\n",
              "  </thead>\n",
              "  <tbody>\n",
              "    <tr>\n",
              "      <th>0</th>\n",
              "      <td>GRP_0</td>\n",
              "      <td>login issue verified user details employee man...</td>\n",
              "      <td>[login, issue, verified, user, details, employ...</td>\n",
              "      <td>[login, issu, verifi, user, detail, employe, m...</td>\n",
              "      <td>[login, issu, verifi, user, detail, employe, m...</td>\n",
              "      <td>[(login, JJ), (issue, NN), (verified, VBD), (u...</td>\n",
              "    </tr>\n",
              "    <tr>\n",
              "      <th>1</th>\n",
              "      <td>GRP_0</td>\n",
              "      <td>outlook received hmjdrvpb komuaywn com team me...</td>\n",
              "      <td>[outlook, received, hmjdrvpb, komuaywn, com, t...</td>\n",
              "      <td>[outlook, receiv, hmjdrvpb, komuaywn, com, tea...</td>\n",
              "      <td>[outlook, receiv, hmjdrvpb, komuaywn, com, tea...</td>\n",
              "      <td>[(outlook, NN), (received, VBD), (hmjdrvpb, JJ...</td>\n",
              "    </tr>\n",
              "    <tr>\n",
              "      <th>2</th>\n",
              "      <td>GRP_0</td>\n",
              "      <td>log vpn received eylqgodm ybqkwiam com cannot ...</td>\n",
              "      <td>[log, vpn, received, eylqgodm, ybqkwiam, com, ...</td>\n",
              "      <td>[log, vpn, receiv, eylqgodm, ybqkwiam, com, ca...</td>\n",
              "      <td>[log, vpn, receiv, eylqgodm, ybqkwiam, com, ca...</td>\n",
              "      <td>[(log, NN), (vpn, NN), (received, VBD), (eylqg...</td>\n",
              "    </tr>\n",
              "    <tr>\n",
              "      <th>3</th>\n",
              "      <td>GRP_0</td>\n",
              "      <td>unable access hr tool page unable access hr to...</td>\n",
              "      <td>[unable, access, hr, tool, page, unable, acces...</td>\n",
              "      <td>[unabl, access, hr, tool, page, unabl, access,...</td>\n",
              "      <td>[unabl, access, hr, tool, page, unabl, access,...</td>\n",
              "      <td>[(unable, JJ), (access, NN), (hr, NN), (tool, ...</td>\n",
              "    </tr>\n",
              "    <tr>\n",
              "      <th>4</th>\n",
              "      <td>GRP_0</td>\n",
              "      <td>skype error skype error owlgqjme qhcozdfx</td>\n",
              "      <td>[skype, error, skype, error, owlgqjme, qhcozdfx]</td>\n",
              "      <td>[skype, error, skype, error, owlgqjm, qhcozdfx]</td>\n",
              "      <td>[skype, error, skype, error, owlgqjm, qhcozdfx]</td>\n",
              "      <td>[(skype, JJ), (error, NN), (skype, NN), (error...</td>\n",
              "    </tr>\n",
              "  </tbody>\n",
              "</table>\n",
              "</div>"
            ],
            "text/plain": [
              "  Assignment group  ...                                    Description POS\n",
              "0            GRP_0  ...  [(login, JJ), (issue, NN), (verified, VBD), (u...\n",
              "1            GRP_0  ...  [(outlook, NN), (received, VBD), (hmjdrvpb, JJ...\n",
              "2            GRP_0  ...  [(log, NN), (vpn, NN), (received, VBD), (eylqg...\n",
              "3            GRP_0  ...  [(unable, JJ), (access, NN), (hr, NN), (tool, ...\n",
              "4            GRP_0  ...  [(skype, JJ), (error, NN), (skype, NN), (error...\n",
              "\n",
              "[5 rows x 6 columns]"
            ]
          },
          "metadata": {
            "tags": []
          },
          "execution_count": 115
        }
      ]
    },
    {
      "cell_type": "code",
      "metadata": {
        "id": "00ObhE9oBPnX",
        "colab_type": "code",
        "colab": {}
      },
      "source": [
        ""
      ],
      "execution_count": 0,
      "outputs": []
    },
    {
      "cell_type": "markdown",
      "metadata": {
        "id": "Se1tiwpSGsI8",
        "colab_type": "text"
      },
      "source": [
        "**Defining Train and Test Data**"
      ]
    },
    {
      "cell_type": "code",
      "metadata": {
        "id": "7fqvQHexzR1K",
        "colab_type": "code",
        "colab": {}
      },
      "source": [
        "\n",
        "from sklearn.model_selection import train_test_split\n",
        "X = df_clean['Description Clean']\n",
        "y = df['Assignment group']\n",
        "X_train, X_test, y_train, y_test = train_test_split(X,y, test_size = 0.2, random_state = 10)\n",
        "\n"
      ],
      "execution_count": 0,
      "outputs": []
    },
    {
      "cell_type": "markdown",
      "metadata": {
        "id": "HwpcJc223LS-",
        "colab_type": "text"
      },
      "source": [
        "**Using TFIDF for Model**"
      ]
    },
    {
      "cell_type": "code",
      "metadata": {
        "id": "Ko9cD1IxyRrL",
        "colab_type": "code",
        "outputId": "ce0bb4ba-03aa-4a75-d5f0-f152b04a4dec",
        "colab": {
          "base_uri": "https://localhost:8080/",
          "height": 102
        }
      },
      "source": [
        "from sklearn.feature_extraction.text import TfidfVectorizer\n",
        "from sklearn.linear_model import LogisticRegression\n",
        "from sklearn.metrics import accuracy_score, recall_score\n",
        "\n",
        "\n",
        "tfidf_vectorizer = TfidfVectorizer()\n",
        "tfidf_vectorizer.fit(X_train)\n",
        "X_vector = tfidf_vectorizer.transform(X_train)\n",
        "X_vector_test = tfidf_vectorizer.transform(X_test)\n",
        "\n",
        "X_vector_train, X_val, y_vector_train, y_val = train_test_split(\n",
        "    X_vector, y_train, train_size = 0.75\n",
        ")\n",
        "\n",
        "for c in [0.01, 0.05, 0.25, 0.5, 1]:\n",
        "    \n",
        "    lr = LogisticRegression(C=c)\n",
        "    lr.fit(X_vector_train, y_vector_train)\n",
        "    print (\"Accuracy for C=%s: %s\" \n",
        "           % (c, accuracy_score(y_val, lr.predict(X_val))))\n"
      ],
      "execution_count": 118,
      "outputs": [
        {
          "output_type": "stream",
          "text": [
            "Accuracy for C=0.01: 0.4988038277511962\n",
            "Accuracy for C=0.05: 0.5328947368421053\n",
            "Accuracy for C=0.25: 0.5520334928229665\n",
            "Accuracy for C=0.5: 0.5879186602870813\n",
            "Accuracy for C=1: 0.6208133971291866\n"
          ],
          "name": "stdout"
        }
      ]
    },
    {
      "cell_type": "code",
      "metadata": {
        "id": "W3hLJbCL1UUM",
        "colab_type": "code",
        "outputId": "1daaefde-5482-4aae-ec84-4943808fab6e",
        "colab": {
          "base_uri": "https://localhost:8080/",
          "height": 216
        }
      },
      "source": [
        "final_tfidf = LogisticRegression(C=1)\n",
        "final_tfidf.fit(X_vector, y_train)\n",
        "#print (\"Final Accuracy: %s\" \n",
        "#       % accuracy_score(y_test, final_tfidf.predict(X_vector_test)))\n",
        "accuracy = accuracy_score(y_test, final_tfidf.predict(X_vector_test))\n",
        "recall = recall_score(y_test, final_tfidf.predict(X_vector_test),average='weighted')\n",
        "#Store the accuracy results for each model in a dataframe for final comparison\n",
        "resultsDf = pd.DataFrame({'Method':['Logistic Regression'], 'Accuracy': accuracy, 'Recall': recall})\n",
        "resultsDf = resultsDf[['Method', 'Accuracy', 'Recall']]\n",
        "resultsDf"
      ],
      "execution_count": 146,
      "outputs": [
        {
          "output_type": "stream",
          "text": [
            "/usr/local/lib/python3.6/dist-packages/sklearn/linear_model/_logistic.py:940: ConvergenceWarning: lbfgs failed to converge (status=1):\n",
            "STOP: TOTAL NO. of ITERATIONS REACHED LIMIT.\n",
            "\n",
            "Increase the number of iterations (max_iter) or scale the data as shown in:\n",
            "    https://scikit-learn.org/stable/modules/preprocessing.html\n",
            "Please also refer to the documentation for alternative solver options:\n",
            "    https://scikit-learn.org/stable/modules/linear_model.html#logistic-regression\n",
            "  extra_warning_msg=_LOGISTIC_SOLVER_CONVERGENCE_MSG)\n"
          ],
          "name": "stderr"
        },
        {
          "output_type": "execute_result",
          "data": {
            "text/html": [
              "<div>\n",
              "<style scoped>\n",
              "    .dataframe tbody tr th:only-of-type {\n",
              "        vertical-align: middle;\n",
              "    }\n",
              "\n",
              "    .dataframe tbody tr th {\n",
              "        vertical-align: top;\n",
              "    }\n",
              "\n",
              "    .dataframe thead th {\n",
              "        text-align: right;\n",
              "    }\n",
              "</style>\n",
              "<table border=\"1\" class=\"dataframe\">\n",
              "  <thead>\n",
              "    <tr style=\"text-align: right;\">\n",
              "      <th></th>\n",
              "      <th>Method</th>\n",
              "      <th>Accuracy</th>\n",
              "      <th>Recall</th>\n",
              "    </tr>\n",
              "  </thead>\n",
              "  <tbody>\n",
              "    <tr>\n",
              "      <th>0</th>\n",
              "      <td>Logistic Regression</td>\n",
              "      <td>0.686005</td>\n",
              "      <td>0.686005</td>\n",
              "    </tr>\n",
              "  </tbody>\n",
              "</table>\n",
              "</div>"
            ],
            "text/plain": [
              "                Method  Accuracy    Recall\n",
              "0  Logistic Regression  0.686005  0.686005"
            ]
          },
          "metadata": {
            "tags": []
          },
          "execution_count": 146
        }
      ]
    },
    {
      "cell_type": "markdown",
      "metadata": {
        "id": "Rzy8eGsl3yRs",
        "colab_type": "text"
      },
      "source": [
        "**Using SVM For the Model**"
      ]
    },
    {
      "cell_type": "code",
      "metadata": {
        "id": "Vva7sTNfqTfW",
        "colab_type": "code",
        "outputId": "68070257-9794-41ad-9487-a9f7938db120",
        "colab": {
          "base_uri": "https://localhost:8080/",
          "height": 136
        }
      },
      "source": [
        "from sklearn.feature_extraction.text import CountVectorizer\n",
        "from sklearn.svm import LinearSVC\n",
        "from sklearn.metrics import accuracy_score\n",
        "from sklearn.model_selection import train_test_split\n",
        "\n",
        "ngram_vectorizer = CountVectorizer(binary=True, ngram_range=(1, 2))\n",
        "ngram_vectorizer.fit(X_train)\n",
        "X_vector = ngram_vectorizer.transform(X_train)\n",
        "X_vector_test = ngram_vectorizer.transform(X_test)\n",
        "\n",
        "X_vector_train, X_val, y_vector_train, y_val = train_test_split(\n",
        "    X_vector, y_train, train_size = 0.75\n",
        ")\n",
        "\n",
        "for c in [0.01, 0.05, 0.25, 0.5, 1]:\n",
        "    \n",
        "    svm = LinearSVC(C=c)\n",
        "    svm.fit(X_vector_train, y_vector_train)\n",
        "    print (\"Accuracy for C=%s: %s\" \n",
        "           % (c, accuracy_score(y_val, svm.predict(X_val))))\n"
      ],
      "execution_count": 147,
      "outputs": [
        {
          "output_type": "stream",
          "text": [
            "Accuracy for C=0.01: 0.6273923444976076\n",
            "Accuracy for C=0.05: 0.6650717703349283\n"
          ],
          "name": "stdout"
        },
        {
          "output_type": "stream",
          "text": [
            "/usr/local/lib/python3.6/dist-packages/sklearn/svm/_base.py:947: ConvergenceWarning: Liblinear failed to converge, increase the number of iterations.\n",
            "  \"the number of iterations.\", ConvergenceWarning)\n"
          ],
          "name": "stderr"
        },
        {
          "output_type": "stream",
          "text": [
            "Accuracy for C=0.25: 0.6680622009569378\n",
            "Accuracy for C=0.5: 0.6686602870813397\n",
            "Accuracy for C=1: 0.6680622009569378\n"
          ],
          "name": "stdout"
        }
      ]
    },
    {
      "cell_type": "code",
      "metadata": {
        "id": "IVN77p9KrwrH",
        "colab_type": "code",
        "outputId": "7d63080c-9924-47b6-b917-3d592b608fdb",
        "colab": {
          "base_uri": "https://localhost:8080/",
          "height": 51
        }
      },
      "source": [
        "final_svm_ngram = LinearSVC(C=0.25)\n",
        "final_svm_ngram.fit(X_vector, y_train)\n",
        "\n",
        "#print (\"Final Accuracy: %s\" \n",
        "#       % accuracy_score(y_test, final_svm_ngram.predict(X_vector_test)))\n",
        "\n",
        "accuracy = accuracy_score(y_test, final_svm_ngram.predict(X_vector_test))\n",
        "recall = recall_score(y_test, final_svm_ngram.predict(X_vector_test),average='weighted')\n"
      ],
      "execution_count": 148,
      "outputs": [
        {
          "output_type": "stream",
          "text": [
            "/usr/local/lib/python3.6/dist-packages/sklearn/svm/_base.py:947: ConvergenceWarning: Liblinear failed to converge, increase the number of iterations.\n",
            "  \"the number of iterations.\", ConvergenceWarning)\n"
          ],
          "name": "stderr"
        }
      ]
    },
    {
      "cell_type": "code",
      "metadata": {
        "id": "_d3r-4IDRQbA",
        "colab_type": "code",
        "colab": {
          "base_uri": "https://localhost:8080/",
          "height": 111
        },
        "outputId": "22f65be8-4d6b-4fd1-c8f2-7a776b579e0c"
      },
      "source": [
        "#Store the accuracy results for each model in a dataframe for final comparison\n",
        "tempResultsDf = pd.DataFrame({'Method':['SVM'], 'Accuracy': [accuracy], 'Recall': [recall]})\n",
        "resultsDf = pd.concat([resultsDf, tempResultsDf])\n",
        "resultsDf"
      ],
      "execution_count": 149,
      "outputs": [
        {
          "output_type": "execute_result",
          "data": {
            "text/html": [
              "<div>\n",
              "<style scoped>\n",
              "    .dataframe tbody tr th:only-of-type {\n",
              "        vertical-align: middle;\n",
              "    }\n",
              "\n",
              "    .dataframe tbody tr th {\n",
              "        vertical-align: top;\n",
              "    }\n",
              "\n",
              "    .dataframe thead th {\n",
              "        text-align: right;\n",
              "    }\n",
              "</style>\n",
              "<table border=\"1\" class=\"dataframe\">\n",
              "  <thead>\n",
              "    <tr style=\"text-align: right;\">\n",
              "      <th></th>\n",
              "      <th>Method</th>\n",
              "      <th>Accuracy</th>\n",
              "      <th>Recall</th>\n",
              "    </tr>\n",
              "  </thead>\n",
              "  <tbody>\n",
              "    <tr>\n",
              "      <th>0</th>\n",
              "      <td>Logistic Regression</td>\n",
              "      <td>0.686005</td>\n",
              "      <td>0.686005</td>\n",
              "    </tr>\n",
              "    <tr>\n",
              "      <th>0</th>\n",
              "      <td>SVM</td>\n",
              "      <td>0.693780</td>\n",
              "      <td>0.693780</td>\n",
              "    </tr>\n",
              "  </tbody>\n",
              "</table>\n",
              "</div>"
            ],
            "text/plain": [
              "                Method  Accuracy    Recall\n",
              "0  Logistic Regression  0.686005  0.686005\n",
              "0                  SVM  0.693780  0.693780"
            ]
          },
          "metadata": {
            "tags": []
          },
          "execution_count": 149
        }
      ]
    },
    {
      "cell_type": "markdown",
      "metadata": {
        "id": "LVani4uuARlb",
        "colab_type": "text"
      },
      "source": [
        "**n-Grams Model**\n"
      ]
    },
    {
      "cell_type": "code",
      "metadata": {
        "id": "cAtBFKKYs8aF",
        "colab_type": "code",
        "colab": {}
      },
      "source": [
        "from sklearn.feature_extraction.text import CountVectorizer\n",
        "from sklearn.linear_model import LogisticRegression\n",
        "from sklearn.metrics import accuracy_score\n",
        "from sklearn.model_selection import train_test_split\n",
        "\n",
        "ngram_vectorizer = CountVectorizer(binary=True, ngram_range=(1, 2))\n",
        "ngram_vectorizer.fit(X_train)\n",
        "X_vector = ngram_vectorizer.transform(X_train)\n",
        "X_vector_test = ngram_vectorizer.transform(X_test)\n",
        "\n",
        "X_vector_train, X_val, y_vector_train, y_val = train_test_split(\n",
        "    X_vector, y_train, train_size = 0.75\n",
        ")\n",
        "\n",
        "\n",
        "    \n"
      ],
      "execution_count": 0,
      "outputs": []
    },
    {
      "cell_type": "code",
      "metadata": {
        "id": "WMnDBZ4nnECN",
        "colab_type": "code",
        "colab": {}
      },
      "source": [
        "for c in [0.01, 0.05, 0.25, 0.5, 1]:    \n",
        "    lr = LogisticRegression(C=c)\n",
        "    lr.fit(X_vector_train, y_vector_train)\n",
        "    print (\"Accuracy for C=%s: %s\" \n",
        "           % (c, accuracy_score(y_val, lr.predict(X_val))))\n",
        "    "
      ],
      "execution_count": 0,
      "outputs": []
    },
    {
      "cell_type": "code",
      "metadata": {
        "id": "g0LoXjXnRFQX",
        "colab_type": "code",
        "outputId": "994d5c3c-471e-4bd4-dfb2-e48ee955af6f",
        "colab": {
          "base_uri": "https://localhost:8080/",
          "height": 153
        }
      },
      "source": [
        "final_ngram = LogisticRegression(C=0.5)\n",
        "final_ngram.fit(X_vector, y_train)\n",
        "\n",
        "#print (\"Final Accuracy: %s\" \n",
        "#       % accuracy_score(y_test, final_ngram.predict(X_vector_test)))\n",
        "accuracy = accuracy_score(y_test, final_ngram.predict(X_vector_test))\n",
        "recall = recall_score(y_test, final_ngram.predict(X_vector_test),average='weighted')"
      ],
      "execution_count": 152,
      "outputs": [
        {
          "output_type": "stream",
          "text": [
            "/usr/local/lib/python3.6/dist-packages/sklearn/linear_model/_logistic.py:940: ConvergenceWarning: lbfgs failed to converge (status=1):\n",
            "STOP: TOTAL NO. of ITERATIONS REACHED LIMIT.\n",
            "\n",
            "Increase the number of iterations (max_iter) or scale the data as shown in:\n",
            "    https://scikit-learn.org/stable/modules/preprocessing.html\n",
            "Please also refer to the documentation for alternative solver options:\n",
            "    https://scikit-learn.org/stable/modules/linear_model.html#logistic-regression\n",
            "  extra_warning_msg=_LOGISTIC_SOLVER_CONVERGENCE_MSG)\n"
          ],
          "name": "stderr"
        }
      ]
    },
    {
      "cell_type": "code",
      "metadata": {
        "id": "-tYi6chPRMDG",
        "colab_type": "code",
        "colab": {
          "base_uri": "https://localhost:8080/",
          "height": 142
        },
        "outputId": "f2add12f-5b59-49eb-d7a6-66224e58479c"
      },
      "source": [
        "#Store the accuracy results for each model in a dataframe for final comparison\n",
        "tempResultsDf = pd.DataFrame({'Method':['N-Gram'], 'Accuracy': [accuracy], 'Recall': [recall]})\n",
        "resultsDf = pd.concat([resultsDf, tempResultsDf])\n",
        "resultsDf"
      ],
      "execution_count": 153,
      "outputs": [
        {
          "output_type": "execute_result",
          "data": {
            "text/html": [
              "<div>\n",
              "<style scoped>\n",
              "    .dataframe tbody tr th:only-of-type {\n",
              "        vertical-align: middle;\n",
              "    }\n",
              "\n",
              "    .dataframe tbody tr th {\n",
              "        vertical-align: top;\n",
              "    }\n",
              "\n",
              "    .dataframe thead th {\n",
              "        text-align: right;\n",
              "    }\n",
              "</style>\n",
              "<table border=\"1\" class=\"dataframe\">\n",
              "  <thead>\n",
              "    <tr style=\"text-align: right;\">\n",
              "      <th></th>\n",
              "      <th>Method</th>\n",
              "      <th>Accuracy</th>\n",
              "      <th>Recall</th>\n",
              "    </tr>\n",
              "  </thead>\n",
              "  <tbody>\n",
              "    <tr>\n",
              "      <th>0</th>\n",
              "      <td>Logistic Regression</td>\n",
              "      <td>0.686005</td>\n",
              "      <td>0.686005</td>\n",
              "    </tr>\n",
              "    <tr>\n",
              "      <th>0</th>\n",
              "      <td>SVM</td>\n",
              "      <td>0.693780</td>\n",
              "      <td>0.693780</td>\n",
              "    </tr>\n",
              "    <tr>\n",
              "      <th>0</th>\n",
              "      <td>N-Gram</td>\n",
              "      <td>0.682416</td>\n",
              "      <td>0.682416</td>\n",
              "    </tr>\n",
              "  </tbody>\n",
              "</table>\n",
              "</div>"
            ],
            "text/plain": [
              "                Method  Accuracy    Recall\n",
              "0  Logistic Regression  0.686005  0.686005\n",
              "0                  SVM  0.693780  0.693780\n",
              "0               N-Gram  0.682416  0.682416"
            ]
          },
          "metadata": {
            "tags": []
          },
          "execution_count": 153
        }
      ]
    },
    {
      "cell_type": "code",
      "metadata": {
        "id": "gjP7V0W0RPv4",
        "colab_type": "code",
        "colab": {}
      },
      "source": [
        "#Random Forest Classifier\n",
        "from sklearn.ensemble import RandomForestClassifier\n",
        "rfcl = RandomForestClassifier(n_estimators = 50)\n",
        "rfcl = rfcl.fit(X_vector, y_train)\n",
        "pred_RF = rfcl.predict(X_vector_test)\n",
        "accuracy = accuracy_score(y_test, pred_RF)\n",
        "recall = recall_score(y_test, pred_RF, average=\"weighted\")"
      ],
      "execution_count": 0,
      "outputs": []
    },
    {
      "cell_type": "code",
      "metadata": {
        "id": "v1a3ZXpIndxk",
        "colab_type": "code",
        "colab": {
          "base_uri": "https://localhost:8080/",
          "height": 173
        },
        "outputId": "48d94564-c98e-4716-9201-7737cdf85e95"
      },
      "source": [
        "#Store the accuracy results for each model in a dataframe for final comparison\n",
        "tempResultsDf = pd.DataFrame({'Method':['Random Forest'], 'Accuracy': [accuracy], 'Recall': [recall]})\n",
        "resultsDf = pd.concat([resultsDf, tempResultsDf])\n",
        "resultsDf"
      ],
      "execution_count": 156,
      "outputs": [
        {
          "output_type": "execute_result",
          "data": {
            "text/html": [
              "<div>\n",
              "<style scoped>\n",
              "    .dataframe tbody tr th:only-of-type {\n",
              "        vertical-align: middle;\n",
              "    }\n",
              "\n",
              "    .dataframe tbody tr th {\n",
              "        vertical-align: top;\n",
              "    }\n",
              "\n",
              "    .dataframe thead th {\n",
              "        text-align: right;\n",
              "    }\n",
              "</style>\n",
              "<table border=\"1\" class=\"dataframe\">\n",
              "  <thead>\n",
              "    <tr style=\"text-align: right;\">\n",
              "      <th></th>\n",
              "      <th>Method</th>\n",
              "      <th>Accuracy</th>\n",
              "      <th>Recall</th>\n",
              "    </tr>\n",
              "  </thead>\n",
              "  <tbody>\n",
              "    <tr>\n",
              "      <th>0</th>\n",
              "      <td>Logistic Regression</td>\n",
              "      <td>0.686005</td>\n",
              "      <td>0.686005</td>\n",
              "    </tr>\n",
              "    <tr>\n",
              "      <th>0</th>\n",
              "      <td>SVM</td>\n",
              "      <td>0.693780</td>\n",
              "      <td>0.693780</td>\n",
              "    </tr>\n",
              "    <tr>\n",
              "      <th>0</th>\n",
              "      <td>N-Gram</td>\n",
              "      <td>0.682416</td>\n",
              "      <td>0.682416</td>\n",
              "    </tr>\n",
              "    <tr>\n",
              "      <th>0</th>\n",
              "      <td>Random Forest</td>\n",
              "      <td>0.650120</td>\n",
              "      <td>0.650120</td>\n",
              "    </tr>\n",
              "  </tbody>\n",
              "</table>\n",
              "</div>"
            ],
            "text/plain": [
              "                Method  Accuracy    Recall\n",
              "0  Logistic Regression  0.686005  0.686005\n",
              "0                  SVM  0.693780  0.693780\n",
              "0               N-Gram  0.682416  0.682416\n",
              "0        Random Forest  0.650120  0.650120"
            ]
          },
          "metadata": {
            "tags": []
          },
          "execution_count": 156
        }
      ]
    },
    {
      "cell_type": "code",
      "metadata": {
        "id": "Wr-vuMZFnpOm",
        "colab_type": "code",
        "colab": {}
      },
      "source": [
        ""
      ],
      "execution_count": 0,
      "outputs": []
    },
    {
      "cell_type": "markdown",
      "metadata": {
        "id": "ZwnRxSkvqOK3",
        "colab_type": "text"
      },
      "source": [
        "**LSTM **"
      ]
    },
    {
      "cell_type": "code",
      "metadata": {
        "id": "_5H-AVHEqj61",
        "colab_type": "code",
        "colab": {}
      },
      "source": [
        "from keras.preprocessing.text import Tokenizer\n",
        "from keras.preprocessing.sequence import pad_sequences\n",
        "max_features = 10000\n"
      ],
      "execution_count": 0,
      "outputs": []
    },
    {
      "cell_type": "code",
      "metadata": {
        "id": "ekJ2GjHwq9LU",
        "colab_type": "code",
        "colab": {
          "base_uri": "https://localhost:8080/",
          "height": 34
        },
        "outputId": "5814df8c-4785-4f16-da56-83a0975aa4a9"
      },
      "source": [
        "maxlen = 0\n",
        "for row in df_clean['Description Stem']:\n",
        "  row_length = len(row)\n",
        "  if maxlen < row_length:\n",
        "    maxlen = row_length\n",
        "\n",
        "print (maxlen)"
      ],
      "execution_count": 160,
      "outputs": [
        {
          "output_type": "stream",
          "text": [
            "923\n"
          ],
          "name": "stdout"
        }
      ]
    },
    {
      "cell_type": "code",
      "metadata": {
        "id": "zZVDisO_qRzh",
        "colab_type": "code",
        "colab": {}
      },
      "source": [
        "\n",
        "tokenizer = Tokenizer(num_words=max_features)\n",
        "tokenizer.fit_on_texts(df_clean['Description Stem'].values)"
      ],
      "execution_count": 0,
      "outputs": []
    },
    {
      "cell_type": "code",
      "metadata": {
        "id": "GMnbV73YqhRt",
        "colab_type": "code",
        "colab": {
          "base_uri": "https://localhost:8080/",
          "height": 68
        },
        "outputId": "5abf9d3f-09b6-4715-8872-8fecf6b725d5"
      },
      "source": [
        "X = tokenizer.texts_to_sequences(df_clean['Description Stem'].values)\n",
        "X = pad_sequences(X, maxlen = maxlen)\n",
        "\n",
        "## Perform lable encoder... and convert to catagorical.. \n",
        "from sklearn import preprocessing\n",
        "le = preprocessing.LabelEncoder()\n",
        "le.fit(df_clean['Assignment group'])\n",
        "y_enc = le.transform(df_clean['Assignment group'])\n",
        "\n",
        "print(\"Number of Samples:\", len(X))\n",
        "#print(X[0])\n",
        "print(\"Number of Labels: \", len(y))\n",
        "print(y[0])"
      ],
      "execution_count": 169,
      "outputs": [
        {
          "output_type": "stream",
          "text": [
            "Number of Samples: 8360\n",
            "Number of Labels:  8360\n",
            "GRP_0\n"
          ],
          "name": "stdout"
        }
      ]
    },
    {
      "cell_type": "code",
      "metadata": {
        "id": "k36Af9w8rMF1",
        "colab_type": "code",
        "colab": {
          "base_uri": "https://localhost:8080/",
          "height": 34
        },
        "outputId": "03a66f8d-ac00-4feb-ab9c-a28ada81fcee"
      },
      "source": [
        "y_enc"
      ],
      "execution_count": 170,
      "outputs": [
        {
          "output_type": "execute_result",
          "data": {
            "text/plain": [
              "array([ 0,  0,  0, ...,  0, 42, 46])"
            ]
          },
          "metadata": {
            "tags": []
          },
          "execution_count": 170
        }
      ]
    },
    {
      "cell_type": "code",
      "metadata": {
        "id": "Uc_xivQardEX",
        "colab_type": "code",
        "colab": {
          "base_uri": "https://localhost:8080/",
          "height": 136
        },
        "outputId": "538a7414-f61b-42d3-aac1-c04f99897c1b"
      },
      "source": [
        "Y = pd.get_dummies(y_enc).values\n",
        "Y"
      ],
      "execution_count": 171,
      "outputs": [
        {
          "output_type": "execute_result",
          "data": {
            "text/plain": [
              "array([[1, 0, 0, ..., 0, 0, 0],\n",
              "       [1, 0, 0, ..., 0, 0, 0],\n",
              "       [1, 0, 0, ..., 0, 0, 0],\n",
              "       ...,\n",
              "       [1, 0, 0, ..., 0, 0, 0],\n",
              "       [0, 0, 0, ..., 0, 0, 0],\n",
              "       [0, 0, 0, ..., 0, 0, 1]], dtype=uint8)"
            ]
          },
          "metadata": {
            "tags": []
          },
          "execution_count": 171
        }
      ]
    },
    {
      "cell_type": "code",
      "metadata": {
        "id": "o_UznzZTriJ0",
        "colab_type": "code",
        "colab": {
          "base_uri": "https://localhost:8080/",
          "height": 34
        },
        "outputId": "eb6ce41d-4c24-4767-d0bb-3973f5089aeb"
      },
      "source": [
        "Y[0].shape"
      ],
      "execution_count": 173,
      "outputs": [
        {
          "output_type": "execute_result",
          "data": {
            "text/plain": [
              "(47,)"
            ]
          },
          "metadata": {
            "tags": []
          },
          "execution_count": 173
        }
      ]
    },
    {
      "cell_type": "code",
      "metadata": {
        "id": "7DG1zKSbrkqx",
        "colab_type": "code",
        "colab": {
          "base_uri": "https://localhost:8080/",
          "height": 51
        },
        "outputId": "420ddae2-50c7-4cc7-ad24-84eded217193"
      },
      "source": [
        "Y = pd.get_dummies(y_enc).values\n",
        "X_train, X_test, Y_train, Y_test = train_test_split(X,Y, test_size = 0.20, random_state = 42)\n",
        "print(X_train.shape,Y_train.shape)\n",
        "print(X_test.shape,Y_test.shape)"
      ],
      "execution_count": 174,
      "outputs": [
        {
          "output_type": "stream",
          "text": [
            "(6688, 923) (6688, 47)\n",
            "(1672, 923) (1672, 47)\n"
          ],
          "name": "stdout"
        }
      ]
    },
    {
      "cell_type": "code",
      "metadata": {
        "id": "IipZoZyGr4rx",
        "colab_type": "code",
        "colab": {
          "base_uri": "https://localhost:8080/",
          "height": 34
        },
        "outputId": "dd512757-5911-4544-946f-e2780533114b"
      },
      "source": [
        "len(tokenizer.word_index)"
      ],
      "execution_count": 175,
      "outputs": [
        {
          "output_type": "execute_result",
          "data": {
            "text/plain": [
              "16638"
            ]
          },
          "metadata": {
            "tags": []
          },
          "execution_count": 175
        }
      ]
    },
    {
      "cell_type": "code",
      "metadata": {
        "id": "pB9SxMWlsV5D",
        "colab_type": "code",
        "colab": {}
      },
      "source": [
        "from tensorflow.keras.layers import Dense, Input, LSTM, Embedding, Dropout, Activation, Flatten, Bidirectional, GlobalMaxPool1D, TimeDistributed\n",
        "from tensorflow.keras.models import Model, Sequential\n"
      ],
      "execution_count": 0,
      "outputs": []
    },
    {
      "cell_type": "code",
      "metadata": {
        "id": "I9SrJtKDsfCY",
        "colab_type": "code",
        "colab": {}
      },
      "source": [
        "num_words=len(tokenizer.word_index) + 1\n",
        "embedding_size = 200"
      ],
      "execution_count": 0,
      "outputs": []
    },
    {
      "cell_type": "code",
      "metadata": {
        "id": "DfFgg9VAsCJe",
        "colab_type": "code",
        "colab": {
          "base_uri": "https://localhost:8080/",
          "height": 391
        },
        "outputId": "53df9a93-a334-401b-d5b9-61a9fd3434a6"
      },
      "source": [
        "model = Sequential()\n",
        "model.add(Embedding(num_words,embedding_size,input_length=maxlen )) #10000 for vocab size, 8 for dimensionality of embedding\n",
        "model.add(Bidirectional(LSTM(64, return_sequences=True), input_shape=(5, 64)))\n",
        "model.add(TimeDistributed(Dense(100)))\n",
        "model.add(Flatten())\n",
        "model.add(Dropout(0.2))\n",
        "model.add(Dense(250, activation='relu'))\n",
        "model.add(Dense(47, activation='sigmoid'))\n",
        "model.compile(optimizer='adam', loss='categorical_crossentropy', metrics=['acc'])\n",
        "model.summary()"
      ],
      "execution_count": 194,
      "outputs": [
        {
          "output_type": "stream",
          "text": [
            "Model: \"sequential_8\"\n",
            "_________________________________________________________________\n",
            "Layer (type)                 Output Shape              Param #   \n",
            "=================================================================\n",
            "embedding_5 (Embedding)      (None, 923, 200)          3327800   \n",
            "_________________________________________________________________\n",
            "bidirectional_5 (Bidirection (None, 923, 128)          135680    \n",
            "_________________________________________________________________\n",
            "time_distributed_3 (TimeDist (None, 923, 100)          12900     \n",
            "_________________________________________________________________\n",
            "flatten_3 (Flatten)          (None, 92300)             0         \n",
            "_________________________________________________________________\n",
            "dropout_3 (Dropout)          (None, 92300)             0         \n",
            "_________________________________________________________________\n",
            "dense_10 (Dense)             (None, 250)               23075250  \n",
            "_________________________________________________________________\n",
            "dense_11 (Dense)             (None, 47)                11797     \n",
            "=================================================================\n",
            "Total params: 26,563,427\n",
            "Trainable params: 26,563,427\n",
            "Non-trainable params: 0\n",
            "_________________________________________________________________\n"
          ],
          "name": "stdout"
        }
      ]
    },
    {
      "cell_type": "code",
      "metadata": {
        "id": "pOwXrdSLsXKd",
        "colab_type": "code",
        "colab": {
          "base_uri": "https://localhost:8080/",
          "height": 221
        },
        "outputId": "8f5e7be1-652f-49d1-bcc6-f465b643a9e6"
      },
      "source": [
        "import time\n",
        "batch_size = 100\n",
        "epochs = 5\n",
        "print('Train...')\n",
        "start = time.clock()\n",
        "model.fit(X_train, Y_train, batch_size=batch_size, epochs=5, validation_data=[X_test, Y_test], validation_split=0.2, verbose=2)\n",
        "end = time.clock()\n",
        "print('Time spent:', end-start)"
      ],
      "execution_count": 195,
      "outputs": [
        {
          "output_type": "stream",
          "text": [
            "Train...\n",
            "Epoch 1/5\n",
            "54/54 - 231s - loss: 2.6279 - acc: 0.4585 - val_loss: 2.1633 - val_acc: 0.4529\n",
            "Epoch 2/5\n",
            "54/54 - 223s - loss: 1.7984 - acc: 0.4697 - val_loss: 1.8047 - val_acc: 0.4544\n",
            "Epoch 3/5\n",
            "54/54 - 223s - loss: 1.3683 - acc: 0.4703 - val_loss: 1.8182 - val_acc: 0.4529\n",
            "Epoch 4/5\n",
            "54/54 - 226s - loss: 1.0818 - acc: 0.4729 - val_loss: 1.8622 - val_acc: 0.4798\n",
            "Epoch 5/5\n",
            "54/54 - 222s - loss: 0.7637 - acc: 0.7163 - val_loss: 2.0619 - val_acc: 0.5725\n",
            "Time spent: 2222.338948\n"
          ],
          "name": "stdout"
        }
      ]
    },
    {
      "cell_type": "code",
      "metadata": {
        "id": "MMSVGUU6tfs7",
        "colab_type": "code",
        "colab": {
          "base_uri": "https://localhost:8080/",
          "height": 68
        },
        "outputId": "c81d33ae-5da3-447b-9878-f44ee214eb0b"
      },
      "source": [
        "score = model.evaluate(X_test, Y_test)\n",
        "print('\\nVaidation Acc: %.2f%%' %(score[1]*100))"
      ],
      "execution_count": 197,
      "outputs": [
        {
          "output_type": "stream",
          "text": [
            "53/53 [==============================] - 17s 328ms/step - loss: 1.8802 - acc: 0.6053\n",
            "\n",
            "Vaidation Acc: 60.53%\n"
          ],
          "name": "stdout"
        }
      ]
    },
    {
      "cell_type": "code",
      "metadata": {
        "id": "CiAHB2x_1Rtr",
        "colab_type": "code",
        "colab": {}
      },
      "source": [
        ""
      ],
      "execution_count": 0,
      "outputs": []
    }
  ]
}
