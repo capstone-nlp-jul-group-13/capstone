{
  "nbformat": 4,
  "nbformat_minor": 0,
  "metadata": {
    "colab": {
      "name": "Capstone-MJ.ipynb",
      "provenance": [],
      "collapsed_sections": []
    },
    "kernelspec": {
      "name": "python3",
      "display_name": "Python 3"
    }
  },
  "cells": [
    {
      "cell_type": "code",
      "metadata": {
        "id": "hppcTcqhoflG",
        "colab_type": "code",
        "outputId": "f9555cb6-f1c7-4d1e-de4d-15e71923de1d",
        "colab": {
          "base_uri": "https://localhost:8080/",
          "height": 122
        }
      },
      "source": [
        "from google.colab import drive\n",
        "drive.mount('/content/drive/')"
      ],
      "execution_count": 1,
      "outputs": [
        {
          "output_type": "stream",
          "text": [
            "Go to this URL in a browser: https://accounts.google.com/o/oauth2/auth?client_id=947318989803-6bn6qk8qdgf4n4g3pfee6491hc0brc4i.apps.googleusercontent.com&redirect_uri=urn%3aietf%3awg%3aoauth%3a2.0%3aoob&response_type=code&scope=email%20https%3a%2f%2fwww.googleapis.com%2fauth%2fdocs.test%20https%3a%2f%2fwww.googleapis.com%2fauth%2fdrive%20https%3a%2f%2fwww.googleapis.com%2fauth%2fdrive.photos.readonly%20https%3a%2f%2fwww.googleapis.com%2fauth%2fpeopleapi.readonly\n",
            "\n",
            "Enter your authorization code:\n",
            "··········\n",
            "Mounted at /content/drive/\n"
          ],
          "name": "stdout"
        }
      ]
    },
    {
      "cell_type": "code",
      "metadata": {
        "id": "f-thDcAXZmSZ",
        "colab_type": "code",
        "colab": {}
      },
      "source": [
        "import matplotlib.pyplot as plt"
      ],
      "execution_count": 0,
      "outputs": []
    },
    {
      "cell_type": "code",
      "metadata": {
        "id": "NF8fgmnFpByd",
        "colab_type": "code",
        "outputId": "eccbb5df-ecde-40ab-8365-b253feb96706",
        "colab": {
          "base_uri": "https://localhost:8080/",
          "height": 238
        }
      },
      "source": [
        "import os\n",
        "%cd drive/My\\ Drive\n",
        "!ls"
      ],
      "execution_count": 2,
      "outputs": [
        {
          "output_type": "stream",
          "text": [
            "/content/drive/My Drive\n",
            "'Colab Notebooks'\n",
            "'Getting started.pdf'\n",
            " glove.6B.100d.txt\n",
            " glove.6B.200d.txt\n",
            " glove.6B.300d.txt\n",
            " glove.6B.50d.txt\n",
            " glove.6B.zip\n",
            " input_data.xlsx\n",
            " Mahima-07-05-2020.wav\n",
            "'Mahima Sehgal Automation Deliverable - QA Test Writing.gsheet'\n",
            " Sarcasm_Headlines_Dataset.json\n",
            " testrail-import-trial_proj-2020-05-22.cfg\n"
          ],
          "name": "stdout"
        }
      ]
    },
    {
      "cell_type": "code",
      "metadata": {
        "id": "mkwN0e8bpQgE",
        "colab_type": "code",
        "outputId": "5813722d-619e-4b67-d3de-896fda44c8dd",
        "colab": {
          "base_uri": "https://localhost:8080/",
          "height": 255
        }
      },
      "source": [
        "import pandas as pd\n",
        "df = pd.read_excel (r'input_data.xlsx')\n",
        "print (df)"
      ],
      "execution_count": 3,
      "outputs": [
        {
          "output_type": "stream",
          "text": [
            "                                      Short description  ... Assignment group\n",
            "0                                           login issue  ...            GRP_0\n",
            "1                                               outlook  ...            GRP_0\n",
            "2                                    cant log in to vpn  ...            GRP_0\n",
            "3                         unable to access hr_tool page  ...            GRP_0\n",
            "4                                          skype error   ...            GRP_0\n",
            "...                                                 ...  ...              ...\n",
            "8495                  emails not coming in from zz mail  ...           GRP_29\n",
            "8496                           telephony_software issue  ...            GRP_0\n",
            "8497  vip2: windows password reset for tifpdchb pedx...  ...            GRP_0\n",
            "8498                     machine nÃ£o estÃ¡ funcionando  ...           GRP_62\n",
            "8499  an mehreren pc`s lassen sich verschiedene prgr...  ...           GRP_49\n",
            "\n",
            "[8500 rows x 4 columns]\n"
          ],
          "name": "stdout"
        }
      ]
    },
    {
      "cell_type": "code",
      "metadata": {
        "id": "5GACtZyZqbc2",
        "colab_type": "code",
        "outputId": "8fee0e6c-c005-480f-a070-f257eeba022c",
        "colab": {
          "base_uri": "https://localhost:8080/",
          "height": 34
        }
      },
      "source": [
        "df.shape"
      ],
      "execution_count": 4,
      "outputs": [
        {
          "output_type": "execute_result",
          "data": {
            "text/plain": [
              "(8500, 4)"
            ]
          },
          "metadata": {
            "tags": []
          },
          "execution_count": 4
        }
      ]
    },
    {
      "cell_type": "code",
      "metadata": {
        "id": "T-k2nqK4q9Cv",
        "colab_type": "code",
        "outputId": "0d889447-e5bd-44d4-cfb6-e772323eff0a",
        "colab": {
          "base_uri": "https://localhost:8080/",
          "height": 204
        }
      },
      "source": [
        "df.head()"
      ],
      "execution_count": 5,
      "outputs": [
        {
          "output_type": "execute_result",
          "data": {
            "text/html": [
              "<div>\n",
              "<style scoped>\n",
              "    .dataframe tbody tr th:only-of-type {\n",
              "        vertical-align: middle;\n",
              "    }\n",
              "\n",
              "    .dataframe tbody tr th {\n",
              "        vertical-align: top;\n",
              "    }\n",
              "\n",
              "    .dataframe thead th {\n",
              "        text-align: right;\n",
              "    }\n",
              "</style>\n",
              "<table border=\"1\" class=\"dataframe\">\n",
              "  <thead>\n",
              "    <tr style=\"text-align: right;\">\n",
              "      <th></th>\n",
              "      <th>Short description</th>\n",
              "      <th>Description</th>\n",
              "      <th>Caller</th>\n",
              "      <th>Assignment group</th>\n",
              "    </tr>\n",
              "  </thead>\n",
              "  <tbody>\n",
              "    <tr>\n",
              "      <th>0</th>\n",
              "      <td>login issue</td>\n",
              "      <td>-verified user details.(employee# &amp; manager na...</td>\n",
              "      <td>spxjnwir pjlcoqds</td>\n",
              "      <td>GRP_0</td>\n",
              "    </tr>\n",
              "    <tr>\n",
              "      <th>1</th>\n",
              "      <td>outlook</td>\n",
              "      <td>\\r\\n\\r\\nreceived from: hmjdrvpb.komuaywn@gmail...</td>\n",
              "      <td>hmjdrvpb komuaywn</td>\n",
              "      <td>GRP_0</td>\n",
              "    </tr>\n",
              "    <tr>\n",
              "      <th>2</th>\n",
              "      <td>cant log in to vpn</td>\n",
              "      <td>\\r\\n\\r\\nreceived from: eylqgodm.ybqkwiam@gmail...</td>\n",
              "      <td>eylqgodm ybqkwiam</td>\n",
              "      <td>GRP_0</td>\n",
              "    </tr>\n",
              "    <tr>\n",
              "      <th>3</th>\n",
              "      <td>unable to access hr_tool page</td>\n",
              "      <td>unable to access hr_tool page</td>\n",
              "      <td>xbkucsvz gcpydteq</td>\n",
              "      <td>GRP_0</td>\n",
              "    </tr>\n",
              "    <tr>\n",
              "      <th>4</th>\n",
              "      <td>skype error</td>\n",
              "      <td>skype error</td>\n",
              "      <td>owlgqjme qhcozdfx</td>\n",
              "      <td>GRP_0</td>\n",
              "    </tr>\n",
              "  </tbody>\n",
              "</table>\n",
              "</div>"
            ],
            "text/plain": [
              "               Short description  ... Assignment group\n",
              "0                    login issue  ...            GRP_0\n",
              "1                        outlook  ...            GRP_0\n",
              "2             cant log in to vpn  ...            GRP_0\n",
              "3  unable to access hr_tool page  ...            GRP_0\n",
              "4                   skype error   ...            GRP_0\n",
              "\n",
              "[5 rows x 4 columns]"
            ]
          },
          "metadata": {
            "tags": []
          },
          "execution_count": 5
        }
      ]
    },
    {
      "cell_type": "code",
      "metadata": {
        "id": "FOzO4ETrqc0Z",
        "colab_type": "code",
        "outputId": "f05438bc-fd78-401b-bc46-c24aab41dedc",
        "colab": {
          "base_uri": "https://localhost:8080/",
          "height": 221
        }
      },
      "source": [
        "df['Assignment group'].value_counts()"
      ],
      "execution_count": 6,
      "outputs": [
        {
          "output_type": "execute_result",
          "data": {
            "text/plain": [
              "GRP_0     3976\n",
              "GRP_8      661\n",
              "GRP_24     289\n",
              "GRP_12     257\n",
              "GRP_9      252\n",
              "          ... \n",
              "GRP_35       1\n",
              "GRP_67       1\n",
              "GRP_70       1\n",
              "GRP_64       1\n",
              "GRP_73       1\n",
              "Name: Assignment group, Length: 74, dtype: int64"
            ]
          },
          "metadata": {
            "tags": []
          },
          "execution_count": 6
        }
      ]
    },
    {
      "cell_type": "code",
      "metadata": {
        "id": "1899GmmQrEE5",
        "colab_type": "code",
        "outputId": "0f2d12d0-4c24-47d7-ee93-0039e5df1ba0",
        "colab": {
          "base_uri": "https://localhost:8080/",
          "height": 204
        }
      },
      "source": [
        "df.info()"
      ],
      "execution_count": 0,
      "outputs": [
        {
          "output_type": "stream",
          "text": [
            "<class 'pandas.core.frame.DataFrame'>\n",
            "RangeIndex: 8500 entries, 0 to 8499\n",
            "Data columns (total 4 columns):\n",
            " #   Column             Non-Null Count  Dtype \n",
            "---  ------             --------------  ----- \n",
            " 0   Short description  8492 non-null   object\n",
            " 1   Description        8499 non-null   object\n",
            " 2   Caller             8500 non-null   object\n",
            " 3   Assignment group   8500 non-null   object\n",
            "dtypes: object(4)\n",
            "memory usage: 265.8+ KB\n"
          ],
          "name": "stdout"
        }
      ]
    },
    {
      "cell_type": "markdown",
      "metadata": {
        "id": "v39-_fLcyWCG",
        "colab_type": "text"
      },
      "source": [
        "**PRE-PROCESSING STEPS**\n",
        "- Replacing Nan Values with Blank text string\n",
        "- Grouping The Groups with less than 20 Tickets to seperate group\n",
        "- Removing Duplicate Rows\n",
        "- Group Description, Short Description and Caller to one group\n",
        "- Text pre-processing on new text field"
      ]
    },
    {
      "cell_type": "code",
      "metadata": {
        "id": "8GE7zgU7zgcN",
        "colab_type": "code",
        "colab": {
          "base_uri": "https://localhost:8080/",
          "height": 173
        },
        "outputId": "8f941bd1-b450-4f27-fbad-f5c309613fc4"
      },
      "source": [
        "#Before Removing Nan\n",
        "df.describe().transpose()"
      ],
      "execution_count": 12,
      "outputs": [
        {
          "output_type": "execute_result",
          "data": {
            "text/html": [
              "<div>\n",
              "<style scoped>\n",
              "    .dataframe tbody tr th:only-of-type {\n",
              "        vertical-align: middle;\n",
              "    }\n",
              "\n",
              "    .dataframe tbody tr th {\n",
              "        vertical-align: top;\n",
              "    }\n",
              "\n",
              "    .dataframe thead th {\n",
              "        text-align: right;\n",
              "    }\n",
              "</style>\n",
              "<table border=\"1\" class=\"dataframe\">\n",
              "  <thead>\n",
              "    <tr style=\"text-align: right;\">\n",
              "      <th></th>\n",
              "      <th>count</th>\n",
              "      <th>unique</th>\n",
              "      <th>top</th>\n",
              "      <th>freq</th>\n",
              "    </tr>\n",
              "  </thead>\n",
              "  <tbody>\n",
              "    <tr>\n",
              "      <th>Short description</th>\n",
              "      <td>8492</td>\n",
              "      <td>7481</td>\n",
              "      <td>password reset</td>\n",
              "      <td>38</td>\n",
              "    </tr>\n",
              "    <tr>\n",
              "      <th>Description</th>\n",
              "      <td>8499</td>\n",
              "      <td>7817</td>\n",
              "      <td>the</td>\n",
              "      <td>56</td>\n",
              "    </tr>\n",
              "    <tr>\n",
              "      <th>Caller</th>\n",
              "      <td>8500</td>\n",
              "      <td>2950</td>\n",
              "      <td>bpctwhsn kzqsbmtp</td>\n",
              "      <td>810</td>\n",
              "    </tr>\n",
              "    <tr>\n",
              "      <th>Assignment group</th>\n",
              "      <td>8500</td>\n",
              "      <td>74</td>\n",
              "      <td>GRP_0</td>\n",
              "      <td>3976</td>\n",
              "    </tr>\n",
              "  </tbody>\n",
              "</table>\n",
              "</div>"
            ],
            "text/plain": [
              "                  count unique                top  freq\n",
              "Short description  8492   7481     password reset    38\n",
              "Description        8499   7817                the    56\n",
              "Caller             8500   2950  bpctwhsn kzqsbmtp   810\n",
              "Assignment group   8500     74              GRP_0  3976"
            ]
          },
          "metadata": {
            "tags": []
          },
          "execution_count": 12
        }
      ]
    },
    {
      "cell_type": "code",
      "metadata": {
        "id": "UdnZusAxsmDM",
        "colab_type": "code",
        "outputId": "1b1ce9e4-ac3c-459c-ef76-c8f6baa49889",
        "colab": {
          "base_uri": "https://localhost:8080/",
          "height": 328
        }
      },
      "source": [
        "df[df.isnull().any(axis=1)]"
      ],
      "execution_count": 13,
      "outputs": [
        {
          "output_type": "execute_result",
          "data": {
            "text/html": [
              "<div>\n",
              "<style scoped>\n",
              "    .dataframe tbody tr th:only-of-type {\n",
              "        vertical-align: middle;\n",
              "    }\n",
              "\n",
              "    .dataframe tbody tr th {\n",
              "        vertical-align: top;\n",
              "    }\n",
              "\n",
              "    .dataframe thead th {\n",
              "        text-align: right;\n",
              "    }\n",
              "</style>\n",
              "<table border=\"1\" class=\"dataframe\">\n",
              "  <thead>\n",
              "    <tr style=\"text-align: right;\">\n",
              "      <th></th>\n",
              "      <th>Short description</th>\n",
              "      <th>Description</th>\n",
              "      <th>Caller</th>\n",
              "      <th>Assignment group</th>\n",
              "    </tr>\n",
              "  </thead>\n",
              "  <tbody>\n",
              "    <tr>\n",
              "      <th>2604</th>\n",
              "      <td>NaN</td>\n",
              "      <td>\\r\\n\\r\\nreceived from: ohdrnswl.rezuibdt@gmail...</td>\n",
              "      <td>ohdrnswl rezuibdt</td>\n",
              "      <td>GRP_34</td>\n",
              "    </tr>\n",
              "    <tr>\n",
              "      <th>3383</th>\n",
              "      <td>NaN</td>\n",
              "      <td>\\r\\n-connected to the user system using teamvi...</td>\n",
              "      <td>qftpazns fxpnytmk</td>\n",
              "      <td>GRP_0</td>\n",
              "    </tr>\n",
              "    <tr>\n",
              "      <th>3906</th>\n",
              "      <td>NaN</td>\n",
              "      <td>-user unable  tologin to vpn.\\r\\n-connected to...</td>\n",
              "      <td>awpcmsey ctdiuqwe</td>\n",
              "      <td>GRP_0</td>\n",
              "    </tr>\n",
              "    <tr>\n",
              "      <th>3910</th>\n",
              "      <td>NaN</td>\n",
              "      <td>-user unable  tologin to vpn.\\r\\n-connected to...</td>\n",
              "      <td>rhwsmefo tvphyura</td>\n",
              "      <td>GRP_0</td>\n",
              "    </tr>\n",
              "    <tr>\n",
              "      <th>3915</th>\n",
              "      <td>NaN</td>\n",
              "      <td>-user unable  tologin to vpn.\\r\\n-connected to...</td>\n",
              "      <td>hxripljo efzounig</td>\n",
              "      <td>GRP_0</td>\n",
              "    </tr>\n",
              "    <tr>\n",
              "      <th>3921</th>\n",
              "      <td>NaN</td>\n",
              "      <td>-user unable  tologin to vpn.\\r\\n-connected to...</td>\n",
              "      <td>cziadygo veiosxby</td>\n",
              "      <td>GRP_0</td>\n",
              "    </tr>\n",
              "    <tr>\n",
              "      <th>3924</th>\n",
              "      <td>NaN</td>\n",
              "      <td>name:wvqgbdhm fwchqjor\\nlanguage:\\nbrowser:mic...</td>\n",
              "      <td>wvqgbdhm fwchqjor</td>\n",
              "      <td>GRP_0</td>\n",
              "    </tr>\n",
              "    <tr>\n",
              "      <th>4341</th>\n",
              "      <td>NaN</td>\n",
              "      <td>\\r\\n\\r\\nreceived from: eqmuniov.ehxkcbgj@gmail...</td>\n",
              "      <td>eqmuniov ehxkcbgj</td>\n",
              "      <td>GRP_0</td>\n",
              "    </tr>\n",
              "    <tr>\n",
              "      <th>4395</th>\n",
              "      <td>i am locked out of skype</td>\n",
              "      <td>NaN</td>\n",
              "      <td>viyglzfo ajtfzpkb</td>\n",
              "      <td>GRP_0</td>\n",
              "    </tr>\n",
              "  </tbody>\n",
              "</table>\n",
              "</div>"
            ],
            "text/plain": [
              "             Short description  ... Assignment group\n",
              "2604                       NaN  ...           GRP_34\n",
              "3383                       NaN  ...            GRP_0\n",
              "3906                       NaN  ...            GRP_0\n",
              "3910                       NaN  ...            GRP_0\n",
              "3915                       NaN  ...            GRP_0\n",
              "3921                       NaN  ...            GRP_0\n",
              "3924                       NaN  ...            GRP_0\n",
              "4341                       NaN  ...            GRP_0\n",
              "4395  i am locked out of skype  ...            GRP_0\n",
              "\n",
              "[9 rows x 4 columns]"
            ]
          },
          "metadata": {
            "tags": []
          },
          "execution_count": 13
        }
      ]
    },
    {
      "cell_type": "code",
      "metadata": {
        "id": "aWJoxqYj0o9N",
        "colab_type": "code",
        "colab": {}
      },
      "source": [
        "import numpy as np\n",
        "# Replace all Nan entries with empty string\n",
        "df = df.replace(np.nan, '', regex=True)"
      ],
      "execution_count": 0,
      "outputs": []
    },
    {
      "cell_type": "code",
      "metadata": {
        "id": "VrL5gWpMtMBW",
        "colab_type": "code",
        "outputId": "a9cfde96-fec3-4014-c7b6-c701b3646b68",
        "colab": {
          "base_uri": "https://localhost:8080/",
          "height": 173
        }
      },
      "source": [
        "#After Removing Nan\n",
        "df.describe().transpose()"
      ],
      "execution_count": 6,
      "outputs": [
        {
          "output_type": "execute_result",
          "data": {
            "text/html": [
              "<div>\n",
              "<style scoped>\n",
              "    .dataframe tbody tr th:only-of-type {\n",
              "        vertical-align: middle;\n",
              "    }\n",
              "\n",
              "    .dataframe tbody tr th {\n",
              "        vertical-align: top;\n",
              "    }\n",
              "\n",
              "    .dataframe thead th {\n",
              "        text-align: right;\n",
              "    }\n",
              "</style>\n",
              "<table border=\"1\" class=\"dataframe\">\n",
              "  <thead>\n",
              "    <tr style=\"text-align: right;\">\n",
              "      <th></th>\n",
              "      <th>count</th>\n",
              "      <th>unique</th>\n",
              "      <th>top</th>\n",
              "      <th>freq</th>\n",
              "    </tr>\n",
              "  </thead>\n",
              "  <tbody>\n",
              "    <tr>\n",
              "      <th>Short description</th>\n",
              "      <td>8500</td>\n",
              "      <td>7482</td>\n",
              "      <td>password reset</td>\n",
              "      <td>38</td>\n",
              "    </tr>\n",
              "    <tr>\n",
              "      <th>Description</th>\n",
              "      <td>8500</td>\n",
              "      <td>7818</td>\n",
              "      <td>the</td>\n",
              "      <td>56</td>\n",
              "    </tr>\n",
              "    <tr>\n",
              "      <th>Caller</th>\n",
              "      <td>8500</td>\n",
              "      <td>2950</td>\n",
              "      <td>bpctwhsn kzqsbmtp</td>\n",
              "      <td>810</td>\n",
              "    </tr>\n",
              "    <tr>\n",
              "      <th>Assignment group</th>\n",
              "      <td>8500</td>\n",
              "      <td>74</td>\n",
              "      <td>GRP_0</td>\n",
              "      <td>3976</td>\n",
              "    </tr>\n",
              "  </tbody>\n",
              "</table>\n",
              "</div>"
            ],
            "text/plain": [
              "                  count unique                top  freq\n",
              "Short description  8500   7482     password reset    38\n",
              "Description        8500   7818                the    56\n",
              "Caller             8500   2950  bpctwhsn kzqsbmtp   810\n",
              "Assignment group   8500     74              GRP_0  3976"
            ]
          },
          "metadata": {
            "tags": []
          },
          "execution_count": 6
        }
      ]
    },
    {
      "cell_type": "code",
      "metadata": {
        "id": "G1ivYQKetT86",
        "colab_type": "code",
        "colab": {
          "base_uri": "https://localhost:8080/",
          "height": 632
        },
        "outputId": "92c44e78-4a30-49fc-f077-a3ddb9243a2f"
      },
      "source": [
        "# Groupby by Group ID\n",
        "group_df = df.groupby(\"Assignment group\")\n",
        "\n",
        "plt.figure(figsize=(15,10))\n",
        "group_df.size().sort_values(ascending=False).plot.bar()\n",
        "plt.xticks(rotation=50)\n",
        "plt.xlabel(\"Group Names\")\n",
        "plt.ylabel(\"Count of Tickets\")\n",
        "plt.show()"
      ],
      "execution_count": 23,
      "outputs": [
        {
          "output_type": "display_data",
          "data": {
            "image/png": "[encoded data removed]",
            "text/plain": [
              "<Figure size 1080x720 with 1 Axes>"
            ]
          },
          "metadata": {
            "tags": [],
            "needs_background": "light"
          }
        }
      ]
    },
    {
      "cell_type": "code",
      "metadata": {
        "id": "jATp8CfEwfSl",
        "colab_type": "code",
        "outputId": "db55ae15-f692-4ab4-af53-d8409320e43c",
        "colab": {
          "base_uri": "https://localhost:8080/",
          "height": 173
        }
      },
      "source": [
        "#Combining Groups with less tickets\n",
        "small_df = df[df.groupby('Assignment group')['Assignment group'].transform('size') < 10]\n",
        "small_df.describe()\n"
      ],
      "execution_count": 8,
      "outputs": [
        {
          "output_type": "execute_result",
          "data": {
            "text/html": [
              "<div>\n",
              "<style scoped>\n",
              "    .dataframe tbody tr th:only-of-type {\n",
              "        vertical-align: middle;\n",
              "    }\n",
              "\n",
              "    .dataframe tbody tr th {\n",
              "        vertical-align: top;\n",
              "    }\n",
              "\n",
              "    .dataframe thead th {\n",
              "        text-align: right;\n",
              "    }\n",
              "</style>\n",
              "<table border=\"1\" class=\"dataframe\">\n",
              "  <thead>\n",
              "    <tr style=\"text-align: right;\">\n",
              "      <th></th>\n",
              "      <th>Short description</th>\n",
              "      <th>Description</th>\n",
              "      <th>Caller</th>\n",
              "      <th>Assignment group</th>\n",
              "    </tr>\n",
              "  </thead>\n",
              "  <tbody>\n",
              "    <tr>\n",
              "      <th>count</th>\n",
              "      <td>87</td>\n",
              "      <td>87</td>\n",
              "      <td>87</td>\n",
              "      <td>87</td>\n",
              "    </tr>\n",
              "    <tr>\n",
              "      <th>unique</th>\n",
              "      <td>86</td>\n",
              "      <td>86</td>\n",
              "      <td>73</td>\n",
              "      <td>25</td>\n",
              "    </tr>\n",
              "    <tr>\n",
              "      <th>top</th>\n",
              "      <td>product selector not working</td>\n",
              "      <td>update cutview to lauacyltoe hxgaycze version ...</td>\n",
              "      <td>lenxvcbq vwnhjtoi</td>\n",
              "      <td>GRP_52</td>\n",
              "    </tr>\n",
              "    <tr>\n",
              "      <th>freq</th>\n",
              "      <td>2</td>\n",
              "      <td>2</td>\n",
              "      <td>5</td>\n",
              "      <td>9</td>\n",
              "    </tr>\n",
              "  </tbody>\n",
              "</table>\n",
              "</div>"
            ],
            "text/plain": [
              "                   Short description  ... Assignment group\n",
              "count                             87  ...               87\n",
              "unique                            86  ...               25\n",
              "top     product selector not working  ...           GRP_52\n",
              "freq                               2  ...                9\n",
              "\n",
              "[4 rows x 4 columns]"
            ]
          },
          "metadata": {
            "tags": []
          },
          "execution_count": 8
        }
      ]
    },
    {
      "cell_type": "code",
      "metadata": {
        "id": "szDcQnp64UpV",
        "colab_type": "code",
        "colab": {}
      },
      "source": [
        "#Assigining these to a seperate group altogether\n",
        "df.loc[df.groupby('Assignment group')['Assignment group'].transform('size') < 10 , 'Assignment group'] =  'SUBGROUP-X'"
      ],
      "execution_count": 0,
      "outputs": []
    },
    {
      "cell_type": "code",
      "metadata": {
        "id": "1k7RAzvG2SbE",
        "colab_type": "code",
        "colab": {
          "base_uri": "https://localhost:8080/",
          "height": 652
        },
        "outputId": "2c8323c6-3278-41d5-d37b-b0942a9ec058"
      },
      "source": [
        "# Groupby by Group ID\n",
        "group_df = df.groupby(\"Assignment group\")\n",
        "plt.figure(figsize=(15,10))\n",
        "group_df.size().sort_values(ascending=False).plot.bar()\n",
        "plt.xticks(rotation=50)\n",
        "plt.xlabel(\"Group Names\")\n",
        "plt.ylabel(\"Count of Tickets\")\n",
        "plt.show()"
      ],
      "execution_count": 12,
      "outputs": [
        {
          "output_type": "display_data",
          "data": {
            "image/png": "[encoded data removed]",
            "text/plain": [
              "<Figure size 1080x720 with 1 Axes>"
            ]
          },
          "metadata": {
            "tags": [],
            "needs_background": "light"
          }
        }
      ]
    },
    {
      "cell_type": "code",
      "metadata": {
        "id": "AWKUWlJC2-Iw",
        "colab_type": "code",
        "colab": {}
      },
      "source": [
        "#Remove Duplicate Rows\n",
        "duplicateRowsDF = df[df.duplicated()]\n",
        "duplicateRowsDF.head()\n",
        "df.drop_duplicates(keep=False,inplace=True)"
      ],
      "execution_count": 0,
      "outputs": []
    },
    {
      "cell_type": "code",
      "metadata": {
        "id": "idlDdrAK3MBg",
        "colab_type": "code",
        "colab": {
          "base_uri": "https://localhost:8080/",
          "height": 173
        },
        "outputId": "a147fe81-c798-4149-c546-02ab144d2bc3"
      },
      "source": [
        "df.describe()"
      ],
      "execution_count": 14,
      "outputs": [
        {
          "output_type": "execute_result",
          "data": {
            "text/html": [
              "<div>\n",
              "<style scoped>\n",
              "    .dataframe tbody tr th:only-of-type {\n",
              "        vertical-align: middle;\n",
              "    }\n",
              "\n",
              "    .dataframe tbody tr th {\n",
              "        vertical-align: top;\n",
              "    }\n",
              "\n",
              "    .dataframe thead th {\n",
              "        text-align: right;\n",
              "    }\n",
              "</style>\n",
              "<table border=\"1\" class=\"dataframe\">\n",
              "  <thead>\n",
              "    <tr style=\"text-align: right;\">\n",
              "      <th></th>\n",
              "      <th>Short description</th>\n",
              "      <th>Description</th>\n",
              "      <th>Caller</th>\n",
              "      <th>Assignment group</th>\n",
              "    </tr>\n",
              "  </thead>\n",
              "  <tbody>\n",
              "    <tr>\n",
              "      <th>count</th>\n",
              "      <td>8360</td>\n",
              "      <td>8360</td>\n",
              "      <td>8360</td>\n",
              "      <td>8360</td>\n",
              "    </tr>\n",
              "    <tr>\n",
              "      <th>unique</th>\n",
              "      <td>7440</td>\n",
              "      <td>7783</td>\n",
              "      <td>2944</td>\n",
              "      <td>50</td>\n",
              "    </tr>\n",
              "    <tr>\n",
              "      <th>top</th>\n",
              "      <td>password reset</td>\n",
              "      <td>the</td>\n",
              "      <td>bpctwhsn kzqsbmtp</td>\n",
              "      <td>GRP_0</td>\n",
              "    </tr>\n",
              "    <tr>\n",
              "      <th>freq</th>\n",
              "      <td>38</td>\n",
              "      <td>34</td>\n",
              "      <td>771</td>\n",
              "      <td>3908</td>\n",
              "    </tr>\n",
              "  </tbody>\n",
              "</table>\n",
              "</div>"
            ],
            "text/plain": [
              "       Short description Description             Caller Assignment group\n",
              "count               8360        8360               8360             8360\n",
              "unique              7440        7783               2944               50\n",
              "top       password reset         the  bpctwhsn kzqsbmtp            GRP_0\n",
              "freq                  38          34                771             3908"
            ]
          },
          "metadata": {
            "tags": []
          },
          "execution_count": 14
        }
      ]
    },
    {
      "cell_type": "code",
      "metadata": {
        "id": "aQYtR_-V2qSw",
        "colab_type": "code",
        "colab": {}
      },
      "source": [
        "#Combine Text Fields\n",
        "df['Final Description'] = df['Short description'].str.cat(df['Description'],sep=\" \")\n",
        "df['Final Description'] = df['Final Description'].str.cat(df['Caller'],sep=\" \")"
      ],
      "execution_count": 0,
      "outputs": []
    },
    {
      "cell_type": "code",
      "metadata": {
        "id": "TUB-RmWh3umr",
        "colab_type": "code",
        "colab": {
          "base_uri": "https://localhost:8080/",
          "height": 119
        },
        "outputId": "f86fbb09-7c5a-4083-eeaf-0d972f0c7009"
      },
      "source": [
        "df['Final Description'].head()"
      ],
      "execution_count": 16,
      "outputs": [
        {
          "output_type": "execute_result",
          "data": {
            "text/plain": [
              "0    login issue -verified user details.(employee# ...\n",
              "1    outlook \\r\\n\\r\\nreceived from: hmjdrvpb.komuay...\n",
              "2    cant log in to vpn \\r\\n\\r\\nreceived from: eylq...\n",
              "3    unable to access hr_tool page unable to access...\n",
              "4          skype error  skype error  owlgqjme qhcozdfx\n",
              "Name: Final Description, dtype: object"
            ]
          },
          "metadata": {
            "tags": []
          },
          "execution_count": 16
        }
      ]
    },
    {
      "cell_type": "code",
      "metadata": {
        "id": "6pte8TMq7b7m",
        "colab_type": "code",
        "colab": {}
      },
      "source": [
        "## Decontract the words\n",
        "import re\n",
        "def decontract(text):\n",
        "    text = re.sub(r\"won\\'t\", \"will not\", text)\n",
        "    text = re.sub(r\"can\\'t\", \"can not\", text)\n",
        "    text = re.sub(r\"cant\", \"can not\", text)\n",
        "    text = re.sub(r\"n\\'t\", \" not\", text)\n",
        "    text = re.sub(r\"\\'re\", \" are\", text)\n",
        "    text = re.sub(r\"\\'s\", \" is\", text)\n",
        "    text = re.sub(r\"\\'d\", \" would\", text)\n",
        "    text = re.sub(r\"\\'ll\", \" will\", text)\n",
        "    text = re.sub(r\"\\'t\", \" not\", text)\n",
        "    text = re.sub(r\"\\'ve\", \" have\", text)\n",
        "    text = re.sub(r\"\\'m\", \" am\", text)\n",
        "    return text\n",
        "\n"
      ],
      "execution_count": 0,
      "outputs": []
    },
    {
      "cell_type": "code",
      "metadata": {
        "id": "0bLGI4qH7h_7",
        "colab_type": "code",
        "colab": {
          "base_uri": "https://localhost:8080/",
          "height": 204
        },
        "outputId": "0e715a58-8792-4380-a7c9-113fc76f9ffa"
      },
      "source": [
        "df['Final Description'] = df['Final Description'].apply(lambda x: decontract(x))\n",
        "df.head()"
      ],
      "execution_count": 18,
      "outputs": [
        {
          "output_type": "execute_result",
          "data": {
            "text/html": [
              "<div>\n",
              "<style scoped>\n",
              "    .dataframe tbody tr th:only-of-type {\n",
              "        vertical-align: middle;\n",
              "    }\n",
              "\n",
              "    .dataframe tbody tr th {\n",
              "        vertical-align: top;\n",
              "    }\n",
              "\n",
              "    .dataframe thead th {\n",
              "        text-align: right;\n",
              "    }\n",
              "</style>\n",
              "<table border=\"1\" class=\"dataframe\">\n",
              "  <thead>\n",
              "    <tr style=\"text-align: right;\">\n",
              "      <th></th>\n",
              "      <th>Short description</th>\n",
              "      <th>Description</th>\n",
              "      <th>Caller</th>\n",
              "      <th>Assignment group</th>\n",
              "      <th>Final Description</th>\n",
              "    </tr>\n",
              "  </thead>\n",
              "  <tbody>\n",
              "    <tr>\n",
              "      <th>0</th>\n",
              "      <td>login issue</td>\n",
              "      <td>-verified user details.(employee# &amp; manager na...</td>\n",
              "      <td>spxjnwir pjlcoqds</td>\n",
              "      <td>GRP_0</td>\n",
              "      <td>login issue -verified user details.(employee# ...</td>\n",
              "    </tr>\n",
              "    <tr>\n",
              "      <th>1</th>\n",
              "      <td>outlook</td>\n",
              "      <td>\\r\\n\\r\\nreceived from: hmjdrvpb.komuaywn@gmail...</td>\n",
              "      <td>hmjdrvpb komuaywn</td>\n",
              "      <td>GRP_0</td>\n",
              "      <td>outlook \\r\\n\\r\\nreceived from: hmjdrvpb.komuay...</td>\n",
              "    </tr>\n",
              "    <tr>\n",
              "      <th>2</th>\n",
              "      <td>cant log in to vpn</td>\n",
              "      <td>\\r\\n\\r\\nreceived from: eylqgodm.ybqkwiam@gmail...</td>\n",
              "      <td>eylqgodm ybqkwiam</td>\n",
              "      <td>GRP_0</td>\n",
              "      <td>can not log in to vpn \\r\\n\\r\\nreceived from: e...</td>\n",
              "    </tr>\n",
              "    <tr>\n",
              "      <th>3</th>\n",
              "      <td>unable to access hr_tool page</td>\n",
              "      <td>unable to access hr_tool page</td>\n",
              "      <td>xbkucsvz gcpydteq</td>\n",
              "      <td>GRP_0</td>\n",
              "      <td>unable to access hr_tool page unable to access...</td>\n",
              "    </tr>\n",
              "    <tr>\n",
              "      <th>4</th>\n",
              "      <td>skype error</td>\n",
              "      <td>skype error</td>\n",
              "      <td>owlgqjme qhcozdfx</td>\n",
              "      <td>GRP_0</td>\n",
              "      <td>skype error  skype error  owlgqjme qhcozdfx</td>\n",
              "    </tr>\n",
              "  </tbody>\n",
              "</table>\n",
              "</div>"
            ],
            "text/plain": [
              "               Short description  ...                                  Final Description\n",
              "0                    login issue  ...  login issue -verified user details.(employee# ...\n",
              "1                        outlook  ...  outlook \\r\\n\\r\\nreceived from: hmjdrvpb.komuay...\n",
              "2             cant log in to vpn  ...  can not log in to vpn \\r\\n\\r\\nreceived from: e...\n",
              "3  unable to access hr_tool page  ...  unable to access hr_tool page unable to access...\n",
              "4                   skype error   ...        skype error  skype error  owlgqjme qhcozdfx\n",
              "\n",
              "[5 rows x 5 columns]"
            ]
          },
          "metadata": {
            "tags": []
          },
          "execution_count": 18
        }
      ]
    },
    {
      "cell_type": "code",
      "metadata": {
        "id": "8nUjBjoZ5bgI",
        "colab_type": "code",
        "colab": {}
      },
      "source": [
        "# Data Normalization\n",
        "import re\n",
        "def  clean_text(df, text_field, new_text_field_name):\n",
        "    #convert to lower case\n",
        "    df[new_text_field_name] = df[text_field].str.lower()\n",
        "    df[new_text_field_name] = df[new_text_field_name].apply(lambda elem: re.sub(r\"(@[A-Za-z0-9]+)|([^0-9A-Za-z \\t])|(\\w+:\\/\\/\\S+)|^rt|http.+?\", \" \", elem))  \n",
        "    # remove numbers\n",
        "    df[new_text_field_name] = df[new_text_field_name].apply(lambda elem: re.sub(r\"\\d+\", \"\", elem))\n",
        "    #remove single letters\n",
        "    df[new_text_field_name] = df[new_text_field_name].apply(lambda elem: re.sub(r\"\\b[a-zA-Z]\\b\", \"\", elem))  \n",
        "    return df"
      ],
      "execution_count": 0,
      "outputs": []
    },
    {
      "cell_type": "code",
      "metadata": {
        "id": "DEvmMSh852Pe",
        "colab_type": "code",
        "outputId": "beb625dc-5356-4a47-f446-b31c99165187",
        "colab": {
          "base_uri": "https://localhost:8080/",
          "height": 606
        }
      },
      "source": [
        "df_clean = clean_text(df, 'Final Description', 'Description Clean')\n",
        "df_clean\n"
      ],
      "execution_count": 20,
      "outputs": [
        {
          "output_type": "execute_result",
          "data": {
            "text/html": [
              "<div>\n",
              "<style scoped>\n",
              "    .dataframe tbody tr th:only-of-type {\n",
              "        vertical-align: middle;\n",
              "    }\n",
              "\n",
              "    .dataframe tbody tr th {\n",
              "        vertical-align: top;\n",
              "    }\n",
              "\n",
              "    .dataframe thead th {\n",
              "        text-align: right;\n",
              "    }\n",
              "</style>\n",
              "<table border=\"1\" class=\"dataframe\">\n",
              "  <thead>\n",
              "    <tr style=\"text-align: right;\">\n",
              "      <th></th>\n",
              "      <th>Short description</th>\n",
              "      <th>Description</th>\n",
              "      <th>Caller</th>\n",
              "      <th>Assignment group</th>\n",
              "      <th>Final Description</th>\n",
              "      <th>Description Clean</th>\n",
              "    </tr>\n",
              "  </thead>\n",
              "  <tbody>\n",
              "    <tr>\n",
              "      <th>0</th>\n",
              "      <td>login issue</td>\n",
              "      <td>-verified user details.(employee# &amp; manager na...</td>\n",
              "      <td>spxjnwir pjlcoqds</td>\n",
              "      <td>GRP_0</td>\n",
              "      <td>login issue -verified user details.(employee# ...</td>\n",
              "      <td>login issue  verified user details  employee  ...</td>\n",
              "    </tr>\n",
              "    <tr>\n",
              "      <th>1</th>\n",
              "      <td>outlook</td>\n",
              "      <td>\\r\\n\\r\\nreceived from: hmjdrvpb.komuaywn@gmail...</td>\n",
              "      <td>hmjdrvpb komuaywn</td>\n",
              "      <td>GRP_0</td>\n",
              "      <td>outlook \\r\\n\\r\\nreceived from: hmjdrvpb.komuay...</td>\n",
              "      <td>outlook     received from  hmjdrvpb komuaywn  ...</td>\n",
              "    </tr>\n",
              "    <tr>\n",
              "      <th>2</th>\n",
              "      <td>cant log in to vpn</td>\n",
              "      <td>\\r\\n\\r\\nreceived from: eylqgodm.ybqkwiam@gmail...</td>\n",
              "      <td>eylqgodm ybqkwiam</td>\n",
              "      <td>GRP_0</td>\n",
              "      <td>can not log in to vpn \\r\\n\\r\\nreceived from: e...</td>\n",
              "      <td>can not log in to vpn     received from  eylqg...</td>\n",
              "    </tr>\n",
              "    <tr>\n",
              "      <th>3</th>\n",
              "      <td>unable to access hr_tool page</td>\n",
              "      <td>unable to access hr_tool page</td>\n",
              "      <td>xbkucsvz gcpydteq</td>\n",
              "      <td>GRP_0</td>\n",
              "      <td>unable to access hr_tool page unable to access...</td>\n",
              "      <td>unable to access hr tool page unable to access...</td>\n",
              "    </tr>\n",
              "    <tr>\n",
              "      <th>4</th>\n",
              "      <td>skype error</td>\n",
              "      <td>skype error</td>\n",
              "      <td>owlgqjme qhcozdfx</td>\n",
              "      <td>GRP_0</td>\n",
              "      <td>skype error  skype error  owlgqjme qhcozdfx</td>\n",
              "      <td>skype error  skype error  owlgqjme qhcozdfx</td>\n",
              "    </tr>\n",
              "    <tr>\n",
              "      <th>...</th>\n",
              "      <td>...</td>\n",
              "      <td>...</td>\n",
              "      <td>...</td>\n",
              "      <td>...</td>\n",
              "      <td>...</td>\n",
              "      <td>...</td>\n",
              "    </tr>\n",
              "    <tr>\n",
              "      <th>8495</th>\n",
              "      <td>emails not coming in from zz mail</td>\n",
              "      <td>\\r\\n\\r\\nreceived from: avglmrts.vhqmtiua@gmail...</td>\n",
              "      <td>avglmrts vhqmtiua</td>\n",
              "      <td>GRP_29</td>\n",
              "      <td>emails not coming in from zz mail \\r\\n\\r\\nrece...</td>\n",
              "      <td>emails not coming in from zz mail     received...</td>\n",
              "    </tr>\n",
              "    <tr>\n",
              "      <th>8496</th>\n",
              "      <td>telephony_software issue</td>\n",
              "      <td>telephony_software issue</td>\n",
              "      <td>rbozivdq gmlhrtvp</td>\n",
              "      <td>GRP_0</td>\n",
              "      <td>telephony_software issue telephony_software is...</td>\n",
              "      <td>telephony software issue telephony software is...</td>\n",
              "    </tr>\n",
              "    <tr>\n",
              "      <th>8497</th>\n",
              "      <td>vip2: windows password reset for tifpdchb pedx...</td>\n",
              "      <td>vip2: windows password reset for tifpdchb pedx...</td>\n",
              "      <td>oybwdsgx oxyhwrfz</td>\n",
              "      <td>GRP_0</td>\n",
              "      <td>vip2: windows password reset for tifpdchb pedx...</td>\n",
              "      <td>vip  windows password reset for tifpdchb pedxr...</td>\n",
              "    </tr>\n",
              "    <tr>\n",
              "      <th>8498</th>\n",
              "      <td>machine nÃ£o estÃ¡ funcionando</td>\n",
              "      <td>i am unable to access the machine utilities to...</td>\n",
              "      <td>ufawcgob aowhxjky</td>\n",
              "      <td>GRP_62</td>\n",
              "      <td>machine nÃ£o estÃ¡ funcionando i am unable to ...</td>\n",
              "      <td>machine    est   funcionando  am unable to acc...</td>\n",
              "    </tr>\n",
              "    <tr>\n",
              "      <th>8499</th>\n",
              "      <td>an mehreren pc`s lassen sich verschiedene prgr...</td>\n",
              "      <td>an mehreren pc`s lassen sich verschiedene prgr...</td>\n",
              "      <td>kqvbrspl jyzoklfx</td>\n",
              "      <td>SUBGROUP-X</td>\n",
              "      <td>an mehreren pc`s lassen sich verschiedene prgr...</td>\n",
              "      <td>an mehreren pc  lassen sich verschiedene prgra...</td>\n",
              "    </tr>\n",
              "  </tbody>\n",
              "</table>\n",
              "<p>8360 rows × 6 columns</p>\n",
              "</div>"
            ],
            "text/plain": [
              "                                      Short description  ...                                  Description Clean\n",
              "0                                           login issue  ...  login issue  verified user details  employee  ...\n",
              "1                                               outlook  ...  outlook     received from  hmjdrvpb komuaywn  ...\n",
              "2                                    cant log in to vpn  ...  can not log in to vpn     received from  eylqg...\n",
              "3                         unable to access hr_tool page  ...  unable to access hr tool page unable to access...\n",
              "4                                          skype error   ...        skype error  skype error  owlgqjme qhcozdfx\n",
              "...                                                 ...  ...                                                ...\n",
              "8495                  emails not coming in from zz mail  ...  emails not coming in from zz mail     received...\n",
              "8496                           telephony_software issue  ...  telephony software issue telephony software is...\n",
              "8497  vip2: windows password reset for tifpdchb pedx...  ...  vip  windows password reset for tifpdchb pedxr...\n",
              "8498                     machine nÃ£o estÃ¡ funcionando  ...  machine    est   funcionando  am unable to acc...\n",
              "8499  an mehreren pc`s lassen sich verschiedene prgr...  ...  an mehreren pc  lassen sich verschiedene prgra...\n",
              "\n",
              "[8360 rows x 6 columns]"
            ]
          },
          "metadata": {
            "tags": []
          },
          "execution_count": 20
        }
      ]
    },
    {
      "cell_type": "code",
      "metadata": {
        "id": "1QItutbB5T4X",
        "colab_type": "code",
        "colab": {
          "base_uri": "https://localhost:8080/",
          "height": 204
        },
        "outputId": "529db3a2-5533-49ea-f53a-e579eb8a5fe2"
      },
      "source": [
        "df_clean = df_clean.drop(['Short description', 'Description','Caller','Final Description'], axis=1)\n",
        "df_clean.head()"
      ],
      "execution_count": 21,
      "outputs": [
        {
          "output_type": "execute_result",
          "data": {
            "text/html": [
              "<div>\n",
              "<style scoped>\n",
              "    .dataframe tbody tr th:only-of-type {\n",
              "        vertical-align: middle;\n",
              "    }\n",
              "\n",
              "    .dataframe tbody tr th {\n",
              "        vertical-align: top;\n",
              "    }\n",
              "\n",
              "    .dataframe thead th {\n",
              "        text-align: right;\n",
              "    }\n",
              "</style>\n",
              "<table border=\"1\" class=\"dataframe\">\n",
              "  <thead>\n",
              "    <tr style=\"text-align: right;\">\n",
              "      <th></th>\n",
              "      <th>Assignment group</th>\n",
              "      <th>Description Clean</th>\n",
              "    </tr>\n",
              "  </thead>\n",
              "  <tbody>\n",
              "    <tr>\n",
              "      <th>0</th>\n",
              "      <td>GRP_0</td>\n",
              "      <td>login issue  verified user details  employee  ...</td>\n",
              "    </tr>\n",
              "    <tr>\n",
              "      <th>1</th>\n",
              "      <td>GRP_0</td>\n",
              "      <td>outlook     received from  hmjdrvpb komuaywn  ...</td>\n",
              "    </tr>\n",
              "    <tr>\n",
              "      <th>2</th>\n",
              "      <td>GRP_0</td>\n",
              "      <td>can not log in to vpn     received from  eylqg...</td>\n",
              "    </tr>\n",
              "    <tr>\n",
              "      <th>3</th>\n",
              "      <td>GRP_0</td>\n",
              "      <td>unable to access hr tool page unable to access...</td>\n",
              "    </tr>\n",
              "    <tr>\n",
              "      <th>4</th>\n",
              "      <td>GRP_0</td>\n",
              "      <td>skype error  skype error  owlgqjme qhcozdfx</td>\n",
              "    </tr>\n",
              "  </tbody>\n",
              "</table>\n",
              "</div>"
            ],
            "text/plain": [
              "  Assignment group                                  Description Clean\n",
              "0            GRP_0  login issue  verified user details  employee  ...\n",
              "1            GRP_0  outlook     received from  hmjdrvpb komuaywn  ...\n",
              "2            GRP_0  can not log in to vpn     received from  eylqg...\n",
              "3            GRP_0  unable to access hr tool page unable to access...\n",
              "4            GRP_0        skype error  skype error  owlgqjme qhcozdfx"
            ]
          },
          "metadata": {
            "tags": []
          },
          "execution_count": 21
        }
      ]
    },
    {
      "cell_type": "code",
      "metadata": {
        "id": "L9q_5nDn54eM",
        "colab_type": "code",
        "colab": {
          "base_uri": "https://localhost:8080/",
          "height": 215
        },
        "outputId": "75016208-020a-46b0-b2ff-e190d20a741f"
      },
      "source": [
        "#Showcase Word Cloud\n",
        "from PIL import Image\n",
        "from wordcloud import WordCloud, ImageColorGenerator\n",
        "\n",
        "\n",
        "text = \" \".join(review for review in df_clean['Description Clean'])\n",
        "print (\"There are {} words in the combination of all review.\".format(len(text)))\n",
        "# Generate a word cloud image\n",
        "wordcloud = WordCloud(background_color=\"white\").generate(text)\n",
        "\n",
        "# Display the generated image:\n",
        "# the matplotlib way:\n",
        "plt.imshow(wordcloud, interpolation='bilinear')\n",
        "plt.axis(\"off\")\n",
        "plt.show()"
      ],
      "execution_count": 22,
      "outputs": [
        {
          "output_type": "stream",
          "text": [
            "There are 2112476 words in the combination of all review.\n"
          ],
          "name": "stdout"
        },
        {
          "output_type": "display_data",
          "data": {
            "image/png": "[encoded data removed]",
            "text/plain": [
              "<Figure size 432x288 with 1 Axes>"
            ]
          },
          "metadata": {
            "tags": [],
            "needs_background": "light"
          }
        }
      ]
    },
    {
      "cell_type": "code",
      "metadata": {
        "id": "mls9inhj54zz",
        "colab_type": "code",
        "outputId": "8a002a6a-817a-48c4-9e91-a1e3704f28a7",
        "colab": {
          "base_uri": "https://localhost:8080/",
          "height": 238
        }
      },
      "source": [
        "# Data Cleaning -- Removing Stop words\n",
        "import nltk.corpus\n",
        "nltk.download('stopwords')\n",
        "from nltk.corpus import stopwords\n",
        "stop = stopwords.words('english')\n",
        "newStopWords = [\"na\",\"sid\",\"cid\",\"null\",\"hi\",\"png\",\"eu\",\"hello\"]\n",
        "stop.extend(newStopWords)\n",
        "\n",
        "df_clean['Description Clean'] = df_clean['Description Clean'].apply(lambda x: ' '.join([word for word in x.split() if word not in (stop)]))\n",
        "df_clean.head()"
      ],
      "execution_count": 23,
      "outputs": [
        {
          "output_type": "stream",
          "text": [
            "[nltk_data] Downloading package stopwords to /root/nltk_data...\n",
            "[nltk_data]   Unzipping corpora/stopwords.zip.\n"
          ],
          "name": "stdout"
        },
        {
          "output_type": "execute_result",
          "data": {
            "text/html": [
              "<div>\n",
              "<style scoped>\n",
              "    .dataframe tbody tr th:only-of-type {\n",
              "        vertical-align: middle;\n",
              "    }\n",
              "\n",
              "    .dataframe tbody tr th {\n",
              "        vertical-align: top;\n",
              "    }\n",
              "\n",
              "    .dataframe thead th {\n",
              "        text-align: right;\n",
              "    }\n",
              "</style>\n",
              "<table border=\"1\" class=\"dataframe\">\n",
              "  <thead>\n",
              "    <tr style=\"text-align: right;\">\n",
              "      <th></th>\n",
              "      <th>Assignment group</th>\n",
              "      <th>Description Clean</th>\n",
              "    </tr>\n",
              "  </thead>\n",
              "  <tbody>\n",
              "    <tr>\n",
              "      <th>0</th>\n",
              "      <td>GRP_0</td>\n",
              "      <td>login issue verified user details employee man...</td>\n",
              "    </tr>\n",
              "    <tr>\n",
              "      <th>1</th>\n",
              "      <td>GRP_0</td>\n",
              "      <td>outlook received hmjdrvpb komuaywn com team me...</td>\n",
              "    </tr>\n",
              "    <tr>\n",
              "      <th>2</th>\n",
              "      <td>GRP_0</td>\n",
              "      <td>log vpn received eylqgodm ybqkwiam com cannot ...</td>\n",
              "    </tr>\n",
              "    <tr>\n",
              "      <th>3</th>\n",
              "      <td>GRP_0</td>\n",
              "      <td>unable access hr tool page unable access hr to...</td>\n",
              "    </tr>\n",
              "    <tr>\n",
              "      <th>4</th>\n",
              "      <td>GRP_0</td>\n",
              "      <td>skype error skype error owlgqjme qhcozdfx</td>\n",
              "    </tr>\n",
              "  </tbody>\n",
              "</table>\n",
              "</div>"
            ],
            "text/plain": [
              "  Assignment group                                  Description Clean\n",
              "0            GRP_0  login issue verified user details employee man...\n",
              "1            GRP_0  outlook received hmjdrvpb komuaywn com team me...\n",
              "2            GRP_0  log vpn received eylqgodm ybqkwiam com cannot ...\n",
              "3            GRP_0  unable access hr tool page unable access hr to...\n",
              "4            GRP_0          skype error skype error owlgqjme qhcozdfx"
            ]
          },
          "metadata": {
            "tags": []
          },
          "execution_count": 23
        }
      ]
    },
    {
      "cell_type": "code",
      "metadata": {
        "id": "kSK0Tzi18w2X",
        "colab_type": "code",
        "outputId": "7f903e60-1aaa-4e46-9824-e0c261810662",
        "colab": {
          "base_uri": "https://localhost:8080/",
          "height": 215
        }
      },
      "source": [
        "text = \" \".join(review for review in df_clean['Description Clean'])\n",
        "print (\"There are {} words in the combination of all review.\".format(len(text)))\n",
        "# Generate a word cloud image\n",
        "wordcloud = WordCloud(background_color=\"white\").generate(text)\n",
        "\n",
        "# Display the generated image:\n",
        "# the matplotlib way:\n",
        "plt.imshow(wordcloud, interpolation='bilinear')\n",
        "plt.axis(\"off\")\n",
        "plt.show()"
      ],
      "execution_count": 24,
      "outputs": [
        {
          "output_type": "stream",
          "text": [
            "There are 1524494 words in the combination of all review.\n"
          ],
          "name": "stdout"
        },
        {
          "output_type": "display_data",
          "data": {
            "image/png": "[encoded data removed]",
            "text/plain": [
              "<Figure size 432x288 with 1 Axes>"
            ]
          },
          "metadata": {
            "tags": [],
            "needs_background": "light"
          }
        }
      ]
    },
    {
      "cell_type": "code",
      "metadata": {
        "id": "TSSb7EfK9Laf",
        "colab_type": "code",
        "outputId": "c9970f50-01ff-488a-b9ad-9450052f2ea8",
        "colab": {
          "base_uri": "https://localhost:8080/",
          "height": 238
        }
      },
      "source": [
        "# Getting Word Tokens\n",
        "import nltk \n",
        "nltk.download('punkt')\n",
        "from nltk.tokenize import sent_tokenize, word_tokenize\n",
        "df_clean['Description Clean Tokens'] = df_clean['Description Clean'].apply(lambda x: word_tokenize(x))\n",
        "df_clean.head()"
      ],
      "execution_count": 25,
      "outputs": [
        {
          "output_type": "stream",
          "text": [
            "[nltk_data] Downloading package punkt to /root/nltk_data...\n",
            "[nltk_data]   Unzipping tokenizers/punkt.zip.\n"
          ],
          "name": "stdout"
        },
        {
          "output_type": "execute_result",
          "data": {
            "text/html": [
              "<div>\n",
              "<style scoped>\n",
              "    .dataframe tbody tr th:only-of-type {\n",
              "        vertical-align: middle;\n",
              "    }\n",
              "\n",
              "    .dataframe tbody tr th {\n",
              "        vertical-align: top;\n",
              "    }\n",
              "\n",
              "    .dataframe thead th {\n",
              "        text-align: right;\n",
              "    }\n",
              "</style>\n",
              "<table border=\"1\" class=\"dataframe\">\n",
              "  <thead>\n",
              "    <tr style=\"text-align: right;\">\n",
              "      <th></th>\n",
              "      <th>Assignment group</th>\n",
              "      <th>Description Clean</th>\n",
              "      <th>Description Clean Tokens</th>\n",
              "    </tr>\n",
              "  </thead>\n",
              "  <tbody>\n",
              "    <tr>\n",
              "      <th>0</th>\n",
              "      <td>GRP_0</td>\n",
              "      <td>login issue verified user details employee man...</td>\n",
              "      <td>[login, issue, verified, user, details, employ...</td>\n",
              "    </tr>\n",
              "    <tr>\n",
              "      <th>1</th>\n",
              "      <td>GRP_0</td>\n",
              "      <td>outlook received hmjdrvpb komuaywn com team me...</td>\n",
              "      <td>[outlook, received, hmjdrvpb, komuaywn, com, t...</td>\n",
              "    </tr>\n",
              "    <tr>\n",
              "      <th>2</th>\n",
              "      <td>GRP_0</td>\n",
              "      <td>log vpn received eylqgodm ybqkwiam com cannot ...</td>\n",
              "      <td>[log, vpn, received, eylqgodm, ybqkwiam, com, ...</td>\n",
              "    </tr>\n",
              "    <tr>\n",
              "      <th>3</th>\n",
              "      <td>GRP_0</td>\n",
              "      <td>unable access hr tool page unable access hr to...</td>\n",
              "      <td>[unable, access, hr, tool, page, unable, acces...</td>\n",
              "    </tr>\n",
              "    <tr>\n",
              "      <th>4</th>\n",
              "      <td>GRP_0</td>\n",
              "      <td>skype error skype error owlgqjme qhcozdfx</td>\n",
              "      <td>[skype, error, skype, error, owlgqjme, qhcozdfx]</td>\n",
              "    </tr>\n",
              "  </tbody>\n",
              "</table>\n",
              "</div>"
            ],
            "text/plain": [
              "  Assignment group  ...                           Description Clean Tokens\n",
              "0            GRP_0  ...  [login, issue, verified, user, details, employ...\n",
              "1            GRP_0  ...  [outlook, received, hmjdrvpb, komuaywn, com, t...\n",
              "2            GRP_0  ...  [log, vpn, received, eylqgodm, ybqkwiam, com, ...\n",
              "3            GRP_0  ...  [unable, access, hr, tool, page, unable, acces...\n",
              "4            GRP_0  ...   [skype, error, skype, error, owlgqjme, qhcozdfx]\n",
              "\n",
              "[5 rows x 3 columns]"
            ]
          },
          "metadata": {
            "tags": []
          },
          "execution_count": 25
        }
      ]
    },
    {
      "cell_type": "code",
      "metadata": {
        "id": "URUdCQB59xoG",
        "colab_type": "code",
        "colab": {}
      },
      "source": [
        "#Stemming Fine word stems \n",
        "from nltk.stem import PorterStemmer\n",
        "def word_stemmer(text):\n",
        "    stem_text = [PorterStemmer().stem(i) for i in text]\n",
        "    return stem_text\n",
        "df_clean['Description Stem'] = df_clean['Description Clean Tokens'].apply(lambda x: word_stemmer(x))\n"
      ],
      "execution_count": 0,
      "outputs": []
    },
    {
      "cell_type": "code",
      "metadata": {
        "id": "_JdIp23k-oul",
        "colab_type": "code",
        "outputId": "eb70aa1e-5e69-46b0-c37b-e501d2863de9",
        "colab": {
          "base_uri": "https://localhost:8080/",
          "height": 51
        }
      },
      "source": [
        "#Lemmatization Find word Lemmas\n",
        "nltk.download('wordnet')\n",
        "from nltk.stem import WordNetLemmatizer\n",
        "def word_lemmatizer(text):\n",
        "    lem_text = [WordNetLemmatizer().lemmatize(i) for i in text]\n",
        "    return lem_text\n",
        "df_clean['Description lemma'] = df_clean['Description Stem'].apply(lambda x: word_lemmatizer(x))\n"
      ],
      "execution_count": 27,
      "outputs": [
        {
          "output_type": "stream",
          "text": [
            "[nltk_data] Downloading package wordnet to /root/nltk_data...\n",
            "[nltk_data]   Unzipping corpora/wordnet.zip.\n"
          ],
          "name": "stdout"
        }
      ]
    },
    {
      "cell_type": "code",
      "metadata": {
        "id": "sAUZzrBq_ORy",
        "colab_type": "code",
        "outputId": "34be94c2-ee77-400c-9103-973356973cda",
        "colab": {
          "base_uri": "https://localhost:8080/",
          "height": 357
        }
      },
      "source": [
        "#POS Tagging\n",
        "def word_pos_tagger(text):\n",
        "    pos_tagged_text = nltk.pos_tag(text)\n",
        "    return pos_tagged_text\n",
        "nltk.download('averaged_perceptron_tagger')\n",
        "df_clean['Description POS'] = df_clean['Description Clean Tokens'].apply(lambda x: word_pos_tagger(x))\n",
        "df_clean.head()"
      ],
      "execution_count": 28,
      "outputs": [
        {
          "output_type": "stream",
          "text": [
            "[nltk_data] Downloading package averaged_perceptron_tagger to\n",
            "[nltk_data]     /root/nltk_data...\n",
            "[nltk_data]   Unzipping taggers/averaged_perceptron_tagger.zip.\n"
          ],
          "name": "stdout"
        },
        {
          "output_type": "execute_result",
          "data": {
            "text/html": [
              "<div>\n",
              "<style scoped>\n",
              "    .dataframe tbody tr th:only-of-type {\n",
              "        vertical-align: middle;\n",
              "    }\n",
              "\n",
              "    .dataframe tbody tr th {\n",
              "        vertical-align: top;\n",
              "    }\n",
              "\n",
              "    .dataframe thead th {\n",
              "        text-align: right;\n",
              "    }\n",
              "</style>\n",
              "<table border=\"1\" class=\"dataframe\">\n",
              "  <thead>\n",
              "    <tr style=\"text-align: right;\">\n",
              "      <th></th>\n",
              "      <th>Assignment group</th>\n",
              "      <th>Description Clean</th>\n",
              "      <th>Description Clean Tokens</th>\n",
              "      <th>Description Stem</th>\n",
              "      <th>Description lemma</th>\n",
              "      <th>Description POS</th>\n",
              "    </tr>\n",
              "  </thead>\n",
              "  <tbody>\n",
              "    <tr>\n",
              "      <th>0</th>\n",
              "      <td>GRP_0</td>\n",
              "      <td>login issue verified user details employee man...</td>\n",
              "      <td>[login, issue, verified, user, details, employ...</td>\n",
              "      <td>[login, issu, verifi, user, detail, employe, m...</td>\n",
              "      <td>[login, issu, verifi, user, detail, employe, m...</td>\n",
              "      <td>[(login, JJ), (issue, NN), (verified, VBD), (u...</td>\n",
              "    </tr>\n",
              "    <tr>\n",
              "      <th>1</th>\n",
              "      <td>GRP_0</td>\n",
              "      <td>outlook received hmjdrvpb komuaywn com team me...</td>\n",
              "      <td>[outlook, received, hmjdrvpb, komuaywn, com, t...</td>\n",
              "      <td>[outlook, receiv, hmjdrvpb, komuaywn, com, tea...</td>\n",
              "      <td>[outlook, receiv, hmjdrvpb, komuaywn, com, tea...</td>\n",
              "      <td>[(outlook, NN), (received, VBD), (hmjdrvpb, JJ...</td>\n",
              "    </tr>\n",
              "    <tr>\n",
              "      <th>2</th>\n",
              "      <td>GRP_0</td>\n",
              "      <td>log vpn received eylqgodm ybqkwiam com cannot ...</td>\n",
              "      <td>[log, vpn, received, eylqgodm, ybqkwiam, com, ...</td>\n",
              "      <td>[log, vpn, receiv, eylqgodm, ybqkwiam, com, ca...</td>\n",
              "      <td>[log, vpn, receiv, eylqgodm, ybqkwiam, com, ca...</td>\n",
              "      <td>[(log, NN), (vpn, NN), (received, VBD), (eylqg...</td>\n",
              "    </tr>\n",
              "    <tr>\n",
              "      <th>3</th>\n",
              "      <td>GRP_0</td>\n",
              "      <td>unable access hr tool page unable access hr to...</td>\n",
              "      <td>[unable, access, hr, tool, page, unable, acces...</td>\n",
              "      <td>[unabl, access, hr, tool, page, unabl, access,...</td>\n",
              "      <td>[unabl, access, hr, tool, page, unabl, access,...</td>\n",
              "      <td>[(unable, JJ), (access, NN), (hr, NN), (tool, ...</td>\n",
              "    </tr>\n",
              "    <tr>\n",
              "      <th>4</th>\n",
              "      <td>GRP_0</td>\n",
              "      <td>skype error skype error owlgqjme qhcozdfx</td>\n",
              "      <td>[skype, error, skype, error, owlgqjme, qhcozdfx]</td>\n",
              "      <td>[skype, error, skype, error, owlgqjm, qhcozdfx]</td>\n",
              "      <td>[skype, error, skype, error, owlgqjm, qhcozdfx]</td>\n",
              "      <td>[(skype, JJ), (error, NN), (skype, NN), (error...</td>\n",
              "    </tr>\n",
              "  </tbody>\n",
              "</table>\n",
              "</div>"
            ],
            "text/plain": [
              "  Assignment group  ...                                    Description POS\n",
              "0            GRP_0  ...  [(login, JJ), (issue, NN), (verified, VBD), (u...\n",
              "1            GRP_0  ...  [(outlook, NN), (received, VBD), (hmjdrvpb, JJ...\n",
              "2            GRP_0  ...  [(log, NN), (vpn, NN), (received, VBD), (eylqg...\n",
              "3            GRP_0  ...  [(unable, JJ), (access, NN), (hr, NN), (tool, ...\n",
              "4            GRP_0  ...  [(skype, JJ), (error, NN), (skype, NN), (error...\n",
              "\n",
              "[5 rows x 6 columns]"
            ]
          },
          "metadata": {
            "tags": []
          },
          "execution_count": 28
        }
      ]
    },
    {
      "cell_type": "code",
      "metadata": {
        "id": "00ObhE9oBPnX",
        "colab_type": "code",
        "colab": {}
      },
      "source": [
        ""
      ],
      "execution_count": 0,
      "outputs": []
    },
    {
      "cell_type": "markdown",
      "metadata": {
        "id": "Se1tiwpSGsI8",
        "colab_type": "text"
      },
      "source": [
        "**Defining Train and Test Data**"
      ]
    },
    {
      "cell_type": "code",
      "metadata": {
        "id": "7fqvQHexzR1K",
        "colab_type": "code",
        "colab": {}
      },
      "source": [
        "from sklearn.model_selection import train_test_split\n",
        "X = df_clean['Description Clean']\n",
        "y = df['Assignment group']\n",
        "X_train, X_validation, y_train, y_validation = train_test_split(X,y, test_size = 0.2, random_state = 10)"
      ],
      "execution_count": 0,
      "outputs": []
    },
    {
      "cell_type": "markdown",
      "metadata": {
        "id": "HwpcJc223LS-",
        "colab_type": "text"
      },
      "source": [
        "**Using TFIDF for Model**"
      ]
    },
    {
      "cell_type": "code",
      "metadata": {
        "id": "omY7KSTDcQd9",
        "colab_type": "code",
        "colab": {}
      },
      "source": [
        "from sklearn.feature_extraction.text import TfidfVectorizer\n",
        "from sklearn.linear_model import LogisticRegression\n",
        "from sklearn.metrics import accuracy_score, recall_score\n",
        "\n",
        "tfidf_vectorizer = TfidfVectorizer()\n",
        "tfidf_vectorizer.fit(X_train)\n",
        "X_vector = tfidf_vectorizer.transform(X_train)\n",
        "X_vector_validation = tfidf_vectorizer.transform(X_validation)\n",
        "\n",
        "X_vector_train, X_vector_test, y_vector_train, y_test = train_test_split(\n",
        "    X_vector, y_train, train_size = 0.8\n",
        ")"
      ],
      "execution_count": 0,
      "outputs": []
    },
    {
      "cell_type": "code",
      "metadata": {
        "id": "kJhCKt8Wuif4",
        "colab_type": "code",
        "colab": {
          "base_uri": "https://localhost:8080/",
          "height": 1000
        },
        "outputId": "c40a81b7-2ffb-4e3b-d690-9b43ab6308e3"
      },
      "source": [
        "from sklearn.model_selection import GridSearchCV   \n",
        "# defining parameter range \n",
        "param_grid = {'C': [ 0.01, 0.25, 0.5, 1, 10, 100, 1000] }  \n",
        "lr = LogisticRegression()  \n",
        "grid = GridSearchCV(lr, param_grid, refit = True ) \n",
        "  \n",
        "# fitting the model for grid search \n",
        "grid.fit(X_vector_train, y_vector_train) "
      ],
      "execution_count": 50,
      "outputs": [
        {
          "output_type": "stream",
          "text": [
            "/usr/local/lib/python3.6/dist-packages/sklearn/linear_model/_logistic.py:940: ConvergenceWarning: lbfgs failed to converge (status=1):\n",
            "STOP: TOTAL NO. of ITERATIONS REACHED LIMIT.\n",
            "\n",
            "Increase the number of iterations (max_iter) or scale the data as shown in:\n",
            "    https://scikit-learn.org/stable/modules/preprocessing.html\n",
            "Please also refer to the documentation for alternative solver options:\n",
            "    https://scikit-learn.org/stable/modules/linear_model.html#logistic-regression\n",
            "  extra_warning_msg=_LOGISTIC_SOLVER_CONVERGENCE_MSG)\n",
            "/usr/local/lib/python3.6/dist-packages/sklearn/linear_model/_logistic.py:940: ConvergenceWarning: lbfgs failed to converge (status=1):\n",
            "STOP: TOTAL NO. of ITERATIONS REACHED LIMIT.\n",
            "\n",
            "Increase the number of iterations (max_iter) or scale the data as shown in:\n",
            "    https://scikit-learn.org/stable/modules/preprocessing.html\n",
            "Please also refer to the documentation for alternative solver options:\n",
            "    https://scikit-learn.org/stable/modules/linear_model.html#logistic-regression\n",
            "  extra_warning_msg=_LOGISTIC_SOLVER_CONVERGENCE_MSG)\n",
            "/usr/local/lib/python3.6/dist-packages/sklearn/linear_model/_logistic.py:940: ConvergenceWarning: lbfgs failed to converge (status=1):\n",
            "STOP: TOTAL NO. of ITERATIONS REACHED LIMIT.\n",
            "\n",
            "Increase the number of iterations (max_iter) or scale the data as shown in:\n",
            "    https://scikit-learn.org/stable/modules/preprocessing.html\n",
            "Please also refer to the documentation for alternative solver options:\n",
            "    https://scikit-learn.org/stable/modules/linear_model.html#logistic-regression\n",
            "  extra_warning_msg=_LOGISTIC_SOLVER_CONVERGENCE_MSG)\n",
            "/usr/local/lib/python3.6/dist-packages/sklearn/linear_model/_logistic.py:940: ConvergenceWarning: lbfgs failed to converge (status=1):\n",
            "STOP: TOTAL NO. of ITERATIONS REACHED LIMIT.\n",
            "\n",
            "Increase the number of iterations (max_iter) or scale the data as shown in:\n",
            "    https://scikit-learn.org/stable/modules/preprocessing.html\n",
            "Please also refer to the documentation for alternative solver options:\n",
            "    https://scikit-learn.org/stable/modules/linear_model.html#logistic-regression\n",
            "  extra_warning_msg=_LOGISTIC_SOLVER_CONVERGENCE_MSG)\n",
            "/usr/local/lib/python3.6/dist-packages/sklearn/linear_model/_logistic.py:940: ConvergenceWarning: lbfgs failed to converge (status=1):\n",
            "STOP: TOTAL NO. of ITERATIONS REACHED LIMIT.\n",
            "\n",
            "Increase the number of iterations (max_iter) or scale the data as shown in:\n",
            "    https://scikit-learn.org/stable/modules/preprocessing.html\n",
            "Please also refer to the documentation for alternative solver options:\n",
            "    https://scikit-learn.org/stable/modules/linear_model.html#logistic-regression\n",
            "  extra_warning_msg=_LOGISTIC_SOLVER_CONVERGENCE_MSG)\n",
            "/usr/local/lib/python3.6/dist-packages/sklearn/linear_model/_logistic.py:940: ConvergenceWarning: lbfgs failed to converge (status=1):\n",
            "STOP: TOTAL NO. of ITERATIONS REACHED LIMIT.\n",
            "\n",
            "Increase the number of iterations (max_iter) or scale the data as shown in:\n",
            "    https://scikit-learn.org/stable/modules/preprocessing.html\n",
            "Please also refer to the documentation for alternative solver options:\n",
            "    https://scikit-learn.org/stable/modules/linear_model.html#logistic-regression\n",
            "  extra_warning_msg=_LOGISTIC_SOLVER_CONVERGENCE_MSG)\n",
            "/usr/local/lib/python3.6/dist-packages/sklearn/linear_model/_logistic.py:940: ConvergenceWarning: lbfgs failed to converge (status=1):\n",
            "STOP: TOTAL NO. of ITERATIONS REACHED LIMIT.\n",
            "\n",
            "Increase the number of iterations (max_iter) or scale the data as shown in:\n",
            "    https://scikit-learn.org/stable/modules/preprocessing.html\n",
            "Please also refer to the documentation for alternative solver options:\n",
            "    https://scikit-learn.org/stable/modules/linear_model.html#logistic-regression\n",
            "  extra_warning_msg=_LOGISTIC_SOLVER_CONVERGENCE_MSG)\n",
            "/usr/local/lib/python3.6/dist-packages/sklearn/linear_model/_logistic.py:940: ConvergenceWarning: lbfgs failed to converge (status=1):\n",
            "STOP: TOTAL NO. of ITERATIONS REACHED LIMIT.\n",
            "\n",
            "Increase the number of iterations (max_iter) or scale the data as shown in:\n",
            "    https://scikit-learn.org/stable/modules/preprocessing.html\n",
            "Please also refer to the documentation for alternative solver options:\n",
            "    https://scikit-learn.org/stable/modules/linear_model.html#logistic-regression\n",
            "  extra_warning_msg=_LOGISTIC_SOLVER_CONVERGENCE_MSG)\n",
            "/usr/local/lib/python3.6/dist-packages/sklearn/linear_model/_logistic.py:940: ConvergenceWarning: lbfgs failed to converge (status=1):\n",
            "STOP: TOTAL NO. of ITERATIONS REACHED LIMIT.\n",
            "\n",
            "Increase the number of iterations (max_iter) or scale the data as shown in:\n",
            "    https://scikit-learn.org/stable/modules/preprocessing.html\n",
            "Please also refer to the documentation for alternative solver options:\n",
            "    https://scikit-learn.org/stable/modules/linear_model.html#logistic-regression\n",
            "  extra_warning_msg=_LOGISTIC_SOLVER_CONVERGENCE_MSG)\n",
            "/usr/local/lib/python3.6/dist-packages/sklearn/linear_model/_logistic.py:940: ConvergenceWarning: lbfgs failed to converge (status=1):\n",
            "STOP: TOTAL NO. of ITERATIONS REACHED LIMIT.\n",
            "\n",
            "Increase the number of iterations (max_iter) or scale the data as shown in:\n",
            "    https://scikit-learn.org/stable/modules/preprocessing.html\n",
            "Please also refer to the documentation for alternative solver options:\n",
            "    https://scikit-learn.org/stable/modules/linear_model.html#logistic-regression\n",
            "  extra_warning_msg=_LOGISTIC_SOLVER_CONVERGENCE_MSG)\n",
            "/usr/local/lib/python3.6/dist-packages/sklearn/linear_model/_logistic.py:940: ConvergenceWarning: lbfgs failed to converge (status=1):\n",
            "STOP: TOTAL NO. of ITERATIONS REACHED LIMIT.\n",
            "\n",
            "Increase the number of iterations (max_iter) or scale the data as shown in:\n",
            "    https://scikit-learn.org/stable/modules/preprocessing.html\n",
            "Please also refer to the documentation for alternative solver options:\n",
            "    https://scikit-learn.org/stable/modules/linear_model.html#logistic-regression\n",
            "  extra_warning_msg=_LOGISTIC_SOLVER_CONVERGENCE_MSG)\n",
            "/usr/local/lib/python3.6/dist-packages/sklearn/linear_model/_logistic.py:940: ConvergenceWarning: lbfgs failed to converge (status=1):\n",
            "STOP: TOTAL NO. of ITERATIONS REACHED LIMIT.\n",
            "\n",
            "Increase the number of iterations (max_iter) or scale the data as shown in:\n",
            "    https://scikit-learn.org/stable/modules/preprocessing.html\n",
            "Please also refer to the documentation for alternative solver options:\n",
            "    https://scikit-learn.org/stable/modules/linear_model.html#logistic-regression\n",
            "  extra_warning_msg=_LOGISTIC_SOLVER_CONVERGENCE_MSG)\n",
            "/usr/local/lib/python3.6/dist-packages/sklearn/linear_model/_logistic.py:940: ConvergenceWarning: lbfgs failed to converge (status=1):\n",
            "STOP: TOTAL NO. of ITERATIONS REACHED LIMIT.\n",
            "\n",
            "Increase the number of iterations (max_iter) or scale the data as shown in:\n",
            "    https://scikit-learn.org/stable/modules/preprocessing.html\n",
            "Please also refer to the documentation for alternative solver options:\n",
            "    https://scikit-learn.org/stable/modules/linear_model.html#logistic-regression\n",
            "  extra_warning_msg=_LOGISTIC_SOLVER_CONVERGENCE_MSG)\n",
            "/usr/local/lib/python3.6/dist-packages/sklearn/linear_model/_logistic.py:940: ConvergenceWarning: lbfgs failed to converge (status=1):\n",
            "STOP: TOTAL NO. of ITERATIONS REACHED LIMIT.\n",
            "\n",
            "Increase the number of iterations (max_iter) or scale the data as shown in:\n",
            "    https://scikit-learn.org/stable/modules/preprocessing.html\n",
            "Please also refer to the documentation for alternative solver options:\n",
            "    https://scikit-learn.org/stable/modules/linear_model.html#logistic-regression\n",
            "  extra_warning_msg=_LOGISTIC_SOLVER_CONVERGENCE_MSG)\n",
            "/usr/local/lib/python3.6/dist-packages/sklearn/linear_model/_logistic.py:940: ConvergenceWarning: lbfgs failed to converge (status=1):\n",
            "STOP: TOTAL NO. of ITERATIONS REACHED LIMIT.\n",
            "\n",
            "Increase the number of iterations (max_iter) or scale the data as shown in:\n",
            "    https://scikit-learn.org/stable/modules/preprocessing.html\n",
            "Please also refer to the documentation for alternative solver options:\n",
            "    https://scikit-learn.org/stable/modules/linear_model.html#logistic-regression\n",
            "  extra_warning_msg=_LOGISTIC_SOLVER_CONVERGENCE_MSG)\n",
            "/usr/local/lib/python3.6/dist-packages/sklearn/linear_model/_logistic.py:940: ConvergenceWarning: lbfgs failed to converge (status=1):\n",
            "STOP: TOTAL NO. of ITERATIONS REACHED LIMIT.\n",
            "\n",
            "Increase the number of iterations (max_iter) or scale the data as shown in:\n",
            "    https://scikit-learn.org/stable/modules/preprocessing.html\n",
            "Please also refer to the documentation for alternative solver options:\n",
            "    https://scikit-learn.org/stable/modules/linear_model.html#logistic-regression\n",
            "  extra_warning_msg=_LOGISTIC_SOLVER_CONVERGENCE_MSG)\n"
          ],
          "name": "stderr"
        },
        {
          "output_type": "execute_result",
          "data": {
            "text/plain": [
              "GridSearchCV(cv=None, error_score=nan,\n",
              "             estimator=LogisticRegression(C=1.0, class_weight=None, dual=False,\n",
              "                                          fit_intercept=True,\n",
              "                                          intercept_scaling=1, l1_ratio=None,\n",
              "                                          max_iter=100, multi_class='auto',\n",
              "                                          n_jobs=None, penalty='l2',\n",
              "                                          random_state=None, solver='lbfgs',\n",
              "                                          tol=0.0001, verbose=0,\n",
              "                                          warm_start=False),\n",
              "             iid='deprecated', n_jobs=None,\n",
              "             param_grid={'C': [0.01, 0.25, 0.5, 1, 10, 100, 1000]},\n",
              "             pre_dispatch='2*n_jobs', refit=True, return_train_score=False,\n",
              "             scoring=None, verbose=0)"
            ]
          },
          "metadata": {
            "tags": []
          },
          "execution_count": 50
        }
      ]
    },
    {
      "cell_type": "code",
      "metadata": {
        "id": "VRAtoM5dvCIM",
        "colab_type": "code",
        "colab": {
          "base_uri": "https://localhost:8080/",
          "height": 119
        },
        "outputId": "fc1ac8d6-ac9d-4082-8d10-98e1e9d2f3b3"
      },
      "source": [
        "# print best parameter after tuning \n",
        "print(grid.best_params_)   \n",
        "# print how our model looks after hyper-parameter tuning \n",
        "print(grid.best_estimator_) \n",
        "\n"
      ],
      "execution_count": 51,
      "outputs": [
        {
          "output_type": "stream",
          "text": [
            "{'C': 1000}\n",
            "LogisticRegression(C=1000, class_weight=None, dual=False, fit_intercept=True,\n",
            "                   intercept_scaling=1, l1_ratio=None, max_iter=100,\n",
            "                   multi_class='auto', n_jobs=None, penalty='l2',\n",
            "                   random_state=None, solver='lbfgs', tol=0.0001, verbose=0,\n",
            "                   warm_start=False)\n"
          ],
          "name": "stdout"
        }
      ]
    },
    {
      "cell_type": "code",
      "metadata": {
        "id": "ZmPrGSLjvDI4",
        "colab_type": "code",
        "colab": {
          "base_uri": "https://localhost:8080/",
          "height": 216
        },
        "outputId": "fd3ad3ac-28c7-4f2e-a21b-e856e07a4063"
      },
      "source": [
        "#Getting Accuracy and Recall for Train Data\n",
        "final_tfidf = LogisticRegression(C=1000)\n",
        "final_tfidf.fit(X_vector_train, y_vector_train)\n",
        "accuracy = accuracy_score(y_test, final_tfidf.predict(X_vector_test))\n",
        "recall = recall_score(y_test, final_tfidf.predict(X_vector_test),average='weighted')\n",
        "#print ('Accuracy: ',accuracy,\" Recall: \",recall)\n",
        "resultsDf = pd.DataFrame({'Method':['Logistic Regression'], 'Accuracy': accuracy, 'Recall': recall})\n",
        "resultsDf = resultsDf[['Method', 'Accuracy', 'Recall']]\n",
        "resultsDf"
      ],
      "execution_count": 52,
      "outputs": [
        {
          "output_type": "stream",
          "text": [
            "/usr/local/lib/python3.6/dist-packages/sklearn/linear_model/_logistic.py:940: ConvergenceWarning: lbfgs failed to converge (status=1):\n",
            "STOP: TOTAL NO. of ITERATIONS REACHED LIMIT.\n",
            "\n",
            "Increase the number of iterations (max_iter) or scale the data as shown in:\n",
            "    https://scikit-learn.org/stable/modules/preprocessing.html\n",
            "Please also refer to the documentation for alternative solver options:\n",
            "    https://scikit-learn.org/stable/modules/linear_model.html#logistic-regression\n",
            "  extra_warning_msg=_LOGISTIC_SOLVER_CONVERGENCE_MSG)\n"
          ],
          "name": "stderr"
        },
        {
          "output_type": "execute_result",
          "data": {
            "text/html": [
              "<div>\n",
              "<style scoped>\n",
              "    .dataframe tbody tr th:only-of-type {\n",
              "        vertical-align: middle;\n",
              "    }\n",
              "\n",
              "    .dataframe tbody tr th {\n",
              "        vertical-align: top;\n",
              "    }\n",
              "\n",
              "    .dataframe thead th {\n",
              "        text-align: right;\n",
              "    }\n",
              "</style>\n",
              "<table border=\"1\" class=\"dataframe\">\n",
              "  <thead>\n",
              "    <tr style=\"text-align: right;\">\n",
              "      <th></th>\n",
              "      <th>Method</th>\n",
              "      <th>Accuracy</th>\n",
              "      <th>Recall</th>\n",
              "    </tr>\n",
              "  </thead>\n",
              "  <tbody>\n",
              "    <tr>\n",
              "      <th>0</th>\n",
              "      <td>Logistic Regression</td>\n",
              "      <td>0.651719</td>\n",
              "      <td>0.651719</td>\n",
              "    </tr>\n",
              "  </tbody>\n",
              "</table>\n",
              "</div>"
            ],
            "text/plain": [
              "                Method  Accuracy    Recall\n",
              "0  Logistic Regression  0.651719  0.651719"
            ]
          },
          "metadata": {
            "tags": []
          },
          "execution_count": 52
        }
      ]
    },
    {
      "cell_type": "code",
      "metadata": {
        "id": "RFq5k82TvKzL",
        "colab_type": "code",
        "colab": {
          "base_uri": "https://localhost:8080/",
          "height": 1000
        },
        "outputId": "24fbc446-7743-4206-b968-7bcac17f7fa0"
      },
      "source": [
        "#Getting Classification Report for Validation Data\n",
        "from sklearn.metrics import classification_report\n",
        "grid_predictions = grid.predict(X_vector_validation) \n",
        "# print classification report \n",
        "print(classification_report(y_validation, grid_predictions)) "
      ],
      "execution_count": 54,
      "outputs": [
        {
          "output_type": "stream",
          "text": [
            "              precision    recall  f1-score   support\n",
            "\n",
            "       GRP_0       0.75      0.92      0.83       787\n",
            "       GRP_1       0.33      0.17      0.22         6\n",
            "      GRP_10       0.94      0.48      0.64        33\n",
            "      GRP_11       0.33      0.25      0.29         4\n",
            "      GRP_12       0.58      0.55      0.56        53\n",
            "      GRP_13       0.56      0.74      0.64        19\n",
            "      GRP_14       0.65      0.35      0.46        31\n",
            "      GRP_15       0.67      0.40      0.50         5\n",
            "      GRP_16       0.50      0.15      0.24        13\n",
            "      GRP_17       0.92      0.75      0.83        16\n",
            "      GRP_18       0.75      0.53      0.62        17\n",
            "      GRP_19       0.42      0.33      0.37        40\n",
            "       GRP_2       0.56      0.48      0.52        56\n",
            "      GRP_20       0.00      0.00      0.00        10\n",
            "      GRP_21       0.50      0.25      0.33         4\n",
            "      GRP_22       0.50      0.29      0.36         7\n",
            "      GRP_23       1.00      0.88      0.93         8\n",
            "      GRP_24       0.86      0.90      0.88        61\n",
            "      GRP_25       0.43      0.47      0.45        19\n",
            "      GRP_26       0.33      0.25      0.29        12\n",
            "      GRP_27       0.00      0.00      0.00         2\n",
            "      GRP_28       0.50      0.10      0.17        10\n",
            "      GRP_29       0.64      0.53      0.58        17\n",
            "       GRP_3       0.58      0.38      0.46        48\n",
            "      GRP_30       1.00      0.33      0.50         3\n",
            "      GRP_31       0.67      0.14      0.24        14\n",
            "      GRP_33       0.44      0.47      0.46        17\n",
            "      GRP_34       0.33      0.18      0.24        11\n",
            "      GRP_37       0.00      0.00      0.00         5\n",
            "      GRP_39       0.67      0.67      0.67         3\n",
            "       GRP_4       0.40      0.29      0.33        14\n",
            "      GRP_40       0.25      0.10      0.14        10\n",
            "      GRP_41       0.75      0.67      0.71         9\n",
            "      GRP_42       0.50      0.22      0.31         9\n",
            "      GRP_44       0.50      0.50      0.50         2\n",
            "      GRP_45       0.00      0.00      0.00         5\n",
            "      GRP_47       1.00      0.20      0.33         5\n",
            "      GRP_48       0.00      0.00      0.00         2\n",
            "       GRP_5       0.83      0.54      0.65        28\n",
            "      GRP_50       0.00      0.00      0.00         4\n",
            "      GRP_53       0.00      0.00      0.00         4\n",
            "       GRP_6       0.59      0.41      0.48        39\n",
            "      GRP_60       0.00      0.00      0.00         3\n",
            "      GRP_62       0.00      0.00      0.00         6\n",
            "      GRP_65       0.00      0.00      0.00         2\n",
            "       GRP_7       0.40      0.36      0.38        11\n",
            "       GRP_8       0.57      0.83      0.68       121\n",
            "       GRP_9       0.67      0.33      0.44        54\n",
            "  SUBGROUP-X       0.33      0.08      0.12        13\n",
            "\n",
            "    accuracy                           0.69      1672\n",
            "   macro avg       0.47      0.34      0.37      1672\n",
            "weighted avg       0.66      0.69      0.66      1672\n",
            "\n"
          ],
          "name": "stdout"
        },
        {
          "output_type": "stream",
          "text": [
            "/usr/local/lib/python3.6/dist-packages/sklearn/metrics/_classification.py:1272: UndefinedMetricWarning: Precision and F-score are ill-defined and being set to 0.0 in labels with no predicted samples. Use `zero_division` parameter to control this behavior.\n",
            "  _warn_prf(average, modifier, msg_start, len(result))\n"
          ],
          "name": "stderr"
        }
      ]
    },
    {
      "cell_type": "markdown",
      "metadata": {
        "id": "Rzy8eGsl3yRs",
        "colab_type": "text"
      },
      "source": [
        "**Using SVM For the Model**"
      ]
    },
    {
      "cell_type": "code",
      "metadata": {
        "id": "Vva7sTNfqTfW",
        "colab_type": "code",
        "colab": {}
      },
      "source": [
        "from sklearn.feature_extraction.text import CountVectorizer\n",
        "from sklearn.svm import LinearSVC\n",
        "from sklearn.metrics import accuracy_score\n",
        "from sklearn.model_selection import train_test_split\n",
        "\n",
        "ngram_vectorizer = CountVectorizer(binary=True, ngram_range=(1, 2))\n",
        "ngram_vectorizer.fit(X_train)\n",
        "X_vector = ngram_vectorizer.transform(X_train)\n",
        "X_vector_validation = ngram_vectorizer.transform(X_validation)\n",
        "\n",
        "X_vector_train, X_vector_test, y_vector_train, y_test = train_test_split(\n",
        "    X_vector, y_train, train_size = 0.8\n",
        ")"
      ],
      "execution_count": 0,
      "outputs": []
    },
    {
      "cell_type": "code",
      "metadata": {
        "id": "ArqPmK9b1qiI",
        "colab_type": "code",
        "colab": {
          "base_uri": "https://localhost:8080/",
          "height": 221
        },
        "outputId": "783f8544-b609-4cde-fa5a-937aa414c610"
      },
      "source": [
        "# defining parameter range \n",
        "param_grid = {'C': [ 0.01, 0.05, 0.25, 1, 10, 100] }  \n",
        "svm = LinearSVC()  \n",
        "grid = GridSearchCV(svm, param_grid, refit = True ) \n",
        "  \n",
        "# fitting the model for grid search \n",
        "grid.fit(X_vector_train, y_vector_train) "
      ],
      "execution_count": 57,
      "outputs": [
        {
          "output_type": "stream",
          "text": [
            "/usr/local/lib/python3.6/dist-packages/sklearn/svm/_base.py:947: ConvergenceWarning: Liblinear failed to converge, increase the number of iterations.\n",
            "  \"the number of iterations.\", ConvergenceWarning)\n"
          ],
          "name": "stderr"
        },
        {
          "output_type": "execute_result",
          "data": {
            "text/plain": [
              "GridSearchCV(cv=None, error_score=nan,\n",
              "             estimator=LinearSVC(C=1.0, class_weight=None, dual=True,\n",
              "                                 fit_intercept=True, intercept_scaling=1,\n",
              "                                 loss='squared_hinge', max_iter=1000,\n",
              "                                 multi_class='ovr', penalty='l2',\n",
              "                                 random_state=None, tol=0.0001, verbose=0),\n",
              "             iid='deprecated', n_jobs=None,\n",
              "             param_grid={'C': [0.01, 0.05, 0.25, 1, 10, 100]},\n",
              "             pre_dispatch='2*n_jobs', refit=True, return_train_score=False,\n",
              "             scoring=None, verbose=0)"
            ]
          },
          "metadata": {
            "tags": []
          },
          "execution_count": 57
        }
      ]
    },
    {
      "cell_type": "code",
      "metadata": {
        "id": "ZDAjsH0A1-JY",
        "colab_type": "code",
        "colab": {
          "base_uri": "https://localhost:8080/",
          "height": 102
        },
        "outputId": "b116db6d-f76a-4043-b745-4126e22a4624"
      },
      "source": [
        "# print best parameter after tuning \n",
        "print(grid.best_params_)   \n",
        "# print how our model looks after hyper-parameter tuning \n",
        "print(grid.best_estimator_) "
      ],
      "execution_count": 58,
      "outputs": [
        {
          "output_type": "stream",
          "text": [
            "{'C': 0.25}\n",
            "LinearSVC(C=0.25, class_weight=None, dual=True, fit_intercept=True,\n",
            "          intercept_scaling=1, loss='squared_hinge', max_iter=1000,\n",
            "          multi_class='ovr', penalty='l2', random_state=None, tol=0.0001,\n",
            "          verbose=0)\n"
          ],
          "name": "stdout"
        }
      ]
    },
    {
      "cell_type": "code",
      "metadata": {
        "id": "IVN77p9KrwrH",
        "colab_type": "code",
        "outputId": "bbed65a4-4ba0-4d3f-b6a0-ee4f55ffbb8e",
        "colab": {
          "base_uri": "https://localhost:8080/",
          "height": 51
        }
      },
      "source": [
        "final_svm_ngram = LinearSVC(C=0.25)\n",
        "final_svm_ngram.fit(X_vector, y_train)\n",
        "\n",
        "accuracy = accuracy_score(y_test, final_svm_ngram.predict(X_vector_test))\n",
        "recall = recall_score(y_test, final_svm_ngram.predict(X_vector_test),average='weighted')\n"
      ],
      "execution_count": 59,
      "outputs": [
        {
          "output_type": "stream",
          "text": [
            "/usr/local/lib/python3.6/dist-packages/sklearn/svm/_base.py:947: ConvergenceWarning: Liblinear failed to converge, increase the number of iterations.\n",
            "  \"the number of iterations.\", ConvergenceWarning)\n"
          ],
          "name": "stderr"
        }
      ]
    },
    {
      "cell_type": "code",
      "metadata": {
        "id": "_d3r-4IDRQbA",
        "colab_type": "code",
        "colab": {
          "base_uri": "https://localhost:8080/",
          "height": 111
        },
        "outputId": "db4f8c72-b2b7-4ee3-dfdc-e3e96f5f0a48"
      },
      "source": [
        "#Store the accuracy results for each model in a dataframe for final comparison\n",
        "tempResultsDf = pd.DataFrame({'Method':['SVM'], 'Accuracy': [accuracy], 'Recall': [recall]})\n",
        "resultsDf = pd.concat([resultsDf, tempResultsDf])\n",
        "resultsDf"
      ],
      "execution_count": 60,
      "outputs": [
        {
          "output_type": "execute_result",
          "data": {
            "text/html": [
              "<div>\n",
              "<style scoped>\n",
              "    .dataframe tbody tr th:only-of-type {\n",
              "        vertical-align: middle;\n",
              "    }\n",
              "\n",
              "    .dataframe tbody tr th {\n",
              "        vertical-align: top;\n",
              "    }\n",
              "\n",
              "    .dataframe thead th {\n",
              "        text-align: right;\n",
              "    }\n",
              "</style>\n",
              "<table border=\"1\" class=\"dataframe\">\n",
              "  <thead>\n",
              "    <tr style=\"text-align: right;\">\n",
              "      <th></th>\n",
              "      <th>Method</th>\n",
              "      <th>Accuracy</th>\n",
              "      <th>Recall</th>\n",
              "    </tr>\n",
              "  </thead>\n",
              "  <tbody>\n",
              "    <tr>\n",
              "      <th>0</th>\n",
              "      <td>Logistic Regression</td>\n",
              "      <td>0.651719</td>\n",
              "      <td>0.651719</td>\n",
              "    </tr>\n",
              "    <tr>\n",
              "      <th>0</th>\n",
              "      <td>SVM</td>\n",
              "      <td>0.949925</td>\n",
              "      <td>0.949925</td>\n",
              "    </tr>\n",
              "  </tbody>\n",
              "</table>\n",
              "</div>"
            ],
            "text/plain": [
              "                Method  Accuracy    Recall\n",
              "0  Logistic Regression  0.651719  0.651719\n",
              "0                  SVM  0.949925  0.949925"
            ]
          },
          "metadata": {
            "tags": []
          },
          "execution_count": 60
        }
      ]
    },
    {
      "cell_type": "code",
      "metadata": {
        "id": "7_LzmfSr2ElF",
        "colab_type": "code",
        "colab": {
          "base_uri": "https://localhost:8080/",
          "height": 1000
        },
        "outputId": "d69caedc-b368-4d50-d4e4-cdd17a1b616a"
      },
      "source": [
        "#Getting Classification Report for Validation Data\n",
        "from sklearn.metrics import classification_report\n",
        "grid_predictions = grid.predict(X_vector_validation) \n",
        "# print classification report \n",
        "print(classification_report(y_validation, grid_predictions)) "
      ],
      "execution_count": 61,
      "outputs": [
        {
          "output_type": "stream",
          "text": [
            "              precision    recall  f1-score   support\n",
            "\n",
            "       GRP_0       0.74      0.93      0.82       787\n",
            "       GRP_1       0.40      0.33      0.36         6\n",
            "      GRP_10       1.00      0.52      0.68        33\n",
            "      GRP_11       0.50      0.25      0.33         4\n",
            "      GRP_12       0.52      0.51      0.51        53\n",
            "      GRP_13       0.48      0.58      0.52        19\n",
            "      GRP_14       0.75      0.39      0.51        31\n",
            "      GRP_15       0.50      0.40      0.44         5\n",
            "      GRP_16       0.33      0.08      0.12        13\n",
            "      GRP_17       1.00      1.00      1.00        16\n",
            "      GRP_18       0.67      0.47      0.55        17\n",
            "      GRP_19       0.58      0.47      0.52        40\n",
            "       GRP_2       0.62      0.43      0.51        56\n",
            "      GRP_20       0.00      0.00      0.00        10\n",
            "      GRP_21       0.00      0.00      0.00         4\n",
            "      GRP_22       0.50      0.14      0.22         7\n",
            "      GRP_23       0.60      0.38      0.46         8\n",
            "      GRP_24       0.85      0.90      0.87        61\n",
            "      GRP_25       0.47      0.37      0.41        19\n",
            "      GRP_26       1.00      0.17      0.29        12\n",
            "      GRP_27       0.00      0.00      0.00         2\n",
            "      GRP_28       1.00      0.10      0.18        10\n",
            "      GRP_29       0.64      0.41      0.50        17\n",
            "       GRP_3       0.53      0.33      0.41        48\n",
            "      GRP_30       0.33      0.33      0.33         3\n",
            "      GRP_31       0.67      0.29      0.40        14\n",
            "      GRP_33       0.50      0.47      0.48        17\n",
            "      GRP_34       0.00      0.00      0.00        11\n",
            "      GRP_37       0.00      0.00      0.00         5\n",
            "      GRP_39       0.25      0.67      0.36         3\n",
            "       GRP_4       0.45      0.36      0.40        14\n",
            "      GRP_40       0.00      0.00      0.00        10\n",
            "      GRP_41       0.78      0.78      0.78         9\n",
            "      GRP_42       0.00      0.00      0.00         9\n",
            "      GRP_44       1.00      1.00      1.00         2\n",
            "      GRP_45       0.50      0.20      0.29         5\n",
            "      GRP_47       0.00      0.00      0.00         5\n",
            "      GRP_48       0.00      0.00      0.00         2\n",
            "       GRP_5       0.82      0.50      0.62        28\n",
            "      GRP_50       0.00      0.00      0.00         4\n",
            "      GRP_53       0.00      0.00      0.00         4\n",
            "       GRP_6       0.67      0.36      0.47        39\n",
            "      GRP_60       0.00      0.00      0.00         3\n",
            "      GRP_62       0.00      0.00      0.00         6\n",
            "      GRP_65       0.00      0.00      0.00         2\n",
            "       GRP_7       0.43      0.55      0.48        11\n",
            "       GRP_8       0.57      0.89      0.69       121\n",
            "       GRP_9       0.86      0.22      0.35        54\n",
            "  SUBGROUP-X       0.00      0.00      0.00        13\n",
            "\n",
            "    accuracy                           0.69      1672\n",
            "   macro avg       0.44      0.32      0.35      1672\n",
            "weighted avg       0.66      0.69      0.65      1672\n",
            "\n"
          ],
          "name": "stdout"
        },
        {
          "output_type": "stream",
          "text": [
            "/usr/local/lib/python3.6/dist-packages/sklearn/metrics/_classification.py:1272: UndefinedMetricWarning: Precision and F-score are ill-defined and being set to 0.0 in labels with no predicted samples. Use `zero_division` parameter to control this behavior.\n",
            "  _warn_prf(average, modifier, msg_start, len(result))\n"
          ],
          "name": "stderr"
        }
      ]
    },
    {
      "cell_type": "markdown",
      "metadata": {
        "id": "LVani4uuARlb",
        "colab_type": "text"
      },
      "source": [
        "**n-Grams Model**\n"
      ]
    },
    {
      "cell_type": "code",
      "metadata": {
        "id": "cAtBFKKYs8aF",
        "colab_type": "code",
        "colab": {}
      },
      "source": [
        "from sklearn.feature_extraction.text import CountVectorizer\n",
        "from sklearn.linear_model import LogisticRegression\n",
        "from sklearn.metrics import accuracy_score\n",
        "from sklearn.model_selection import train_test_split\n",
        "\n",
        "ngram_vectorizer = CountVectorizer(binary=True, ngram_range=(1, 2))\n",
        "ngram_vectorizer.fit(X_train)\n",
        "X_vector = ngram_vectorizer.transform(X_train)\n",
        "X_vector_validation = ngram_vectorizer.transform(X_validation)\n",
        "\n",
        "X_vector_train, X_vector_test, y_vector_train, y_test = train_test_split(\n",
        "    X_vector, y_train, train_size = 0.8\n",
        ")\n"
      ],
      "execution_count": 0,
      "outputs": []
    },
    {
      "cell_type": "code",
      "metadata": {
        "id": "XP7_rFi22pXl",
        "colab_type": "code",
        "colab": {
          "base_uri": "https://localhost:8080/",
          "height": 1000
        },
        "outputId": "5460714a-5130-4fa8-ffe9-8de8743e0677"
      },
      "source": [
        "# defining parameter range \n",
        "param_grid = {'C': [ 0.01, 0.5, 1, 10] }  \n",
        "lr = LogisticRegression()  \n",
        "grid = GridSearchCV(lr, param_grid ) \n",
        "  \n",
        "# fitting the model for grid search \n",
        "grid.fit(X_vector_train, y_vector_train) "
      ],
      "execution_count": 65,
      "outputs": [
        {
          "output_type": "stream",
          "text": [
            "/usr/local/lib/python3.6/dist-packages/sklearn/linear_model/_logistic.py:940: ConvergenceWarning: lbfgs failed to converge (status=1):\n",
            "STOP: TOTAL NO. of ITERATIONS REACHED LIMIT.\n",
            "\n",
            "Increase the number of iterations (max_iter) or scale the data as shown in:\n",
            "    https://scikit-learn.org/stable/modules/preprocessing.html\n",
            "Please also refer to the documentation for alternative solver options:\n",
            "    https://scikit-learn.org/stable/modules/linear_model.html#logistic-regression\n",
            "  extra_warning_msg=_LOGISTIC_SOLVER_CONVERGENCE_MSG)\n",
            "/usr/local/lib/python3.6/dist-packages/sklearn/linear_model/_logistic.py:940: ConvergenceWarning: lbfgs failed to converge (status=1):\n",
            "STOP: TOTAL NO. of ITERATIONS REACHED LIMIT.\n",
            "\n",
            "Increase the number of iterations (max_iter) or scale the data as shown in:\n",
            "    https://scikit-learn.org/stable/modules/preprocessing.html\n",
            "Please also refer to the documentation for alternative solver options:\n",
            "    https://scikit-learn.org/stable/modules/linear_model.html#logistic-regression\n",
            "  extra_warning_msg=_LOGISTIC_SOLVER_CONVERGENCE_MSG)\n",
            "/usr/local/lib/python3.6/dist-packages/sklearn/linear_model/_logistic.py:940: ConvergenceWarning: lbfgs failed to converge (status=1):\n",
            "STOP: TOTAL NO. of ITERATIONS REACHED LIMIT.\n",
            "\n",
            "Increase the number of iterations (max_iter) or scale the data as shown in:\n",
            "    https://scikit-learn.org/stable/modules/preprocessing.html\n",
            "Please also refer to the documentation for alternative solver options:\n",
            "    https://scikit-learn.org/stable/modules/linear_model.html#logistic-regression\n",
            "  extra_warning_msg=_LOGISTIC_SOLVER_CONVERGENCE_MSG)\n",
            "/usr/local/lib/python3.6/dist-packages/sklearn/linear_model/_logistic.py:940: ConvergenceWarning: lbfgs failed to converge (status=1):\n",
            "STOP: TOTAL NO. of ITERATIONS REACHED LIMIT.\n",
            "\n",
            "Increase the number of iterations (max_iter) or scale the data as shown in:\n",
            "    https://scikit-learn.org/stable/modules/preprocessing.html\n",
            "Please also refer to the documentation for alternative solver options:\n",
            "    https://scikit-learn.org/stable/modules/linear_model.html#logistic-regression\n",
            "  extra_warning_msg=_LOGISTIC_SOLVER_CONVERGENCE_MSG)\n",
            "/usr/local/lib/python3.6/dist-packages/sklearn/linear_model/_logistic.py:940: ConvergenceWarning: lbfgs failed to converge (status=1):\n",
            "STOP: TOTAL NO. of ITERATIONS REACHED LIMIT.\n",
            "\n",
            "Increase the number of iterations (max_iter) or scale the data as shown in:\n",
            "    https://scikit-learn.org/stable/modules/preprocessing.html\n",
            "Please also refer to the documentation for alternative solver options:\n",
            "    https://scikit-learn.org/stable/modules/linear_model.html#logistic-regression\n",
            "  extra_warning_msg=_LOGISTIC_SOLVER_CONVERGENCE_MSG)\n",
            "/usr/local/lib/python3.6/dist-packages/sklearn/linear_model/_logistic.py:940: ConvergenceWarning: lbfgs failed to converge (status=1):\n",
            "STOP: TOTAL NO. of ITERATIONS REACHED LIMIT.\n",
            "\n",
            "Increase the number of iterations (max_iter) or scale the data as shown in:\n",
            "    https://scikit-learn.org/stable/modules/preprocessing.html\n",
            "Please also refer to the documentation for alternative solver options:\n",
            "    https://scikit-learn.org/stable/modules/linear_model.html#logistic-regression\n",
            "  extra_warning_msg=_LOGISTIC_SOLVER_CONVERGENCE_MSG)\n",
            "/usr/local/lib/python3.6/dist-packages/sklearn/linear_model/_logistic.py:940: ConvergenceWarning: lbfgs failed to converge (status=1):\n",
            "STOP: TOTAL NO. of ITERATIONS REACHED LIMIT.\n",
            "\n",
            "Increase the number of iterations (max_iter) or scale the data as shown in:\n",
            "    https://scikit-learn.org/stable/modules/preprocessing.html\n",
            "Please also refer to the documentation for alternative solver options:\n",
            "    https://scikit-learn.org/stable/modules/linear_model.html#logistic-regression\n",
            "  extra_warning_msg=_LOGISTIC_SOLVER_CONVERGENCE_MSG)\n",
            "/usr/local/lib/python3.6/dist-packages/sklearn/linear_model/_logistic.py:940: ConvergenceWarning: lbfgs failed to converge (status=1):\n",
            "STOP: TOTAL NO. of ITERATIONS REACHED LIMIT.\n",
            "\n",
            "Increase the number of iterations (max_iter) or scale the data as shown in:\n",
            "    https://scikit-learn.org/stable/modules/preprocessing.html\n",
            "Please also refer to the documentation for alternative solver options:\n",
            "    https://scikit-learn.org/stable/modules/linear_model.html#logistic-regression\n",
            "  extra_warning_msg=_LOGISTIC_SOLVER_CONVERGENCE_MSG)\n",
            "/usr/local/lib/python3.6/dist-packages/sklearn/linear_model/_logistic.py:940: ConvergenceWarning: lbfgs failed to converge (status=1):\n",
            "STOP: TOTAL NO. of ITERATIONS REACHED LIMIT.\n",
            "\n",
            "Increase the number of iterations (max_iter) or scale the data as shown in:\n",
            "    https://scikit-learn.org/stable/modules/preprocessing.html\n",
            "Please also refer to the documentation for alternative solver options:\n",
            "    https://scikit-learn.org/stable/modules/linear_model.html#logistic-regression\n",
            "  extra_warning_msg=_LOGISTIC_SOLVER_CONVERGENCE_MSG)\n",
            "/usr/local/lib/python3.6/dist-packages/sklearn/linear_model/_logistic.py:940: ConvergenceWarning: lbfgs failed to converge (status=1):\n",
            "STOP: TOTAL NO. of ITERATIONS REACHED LIMIT.\n",
            "\n",
            "Increase the number of iterations (max_iter) or scale the data as shown in:\n",
            "    https://scikit-learn.org/stable/modules/preprocessing.html\n",
            "Please also refer to the documentation for alternative solver options:\n",
            "    https://scikit-learn.org/stable/modules/linear_model.html#logistic-regression\n",
            "  extra_warning_msg=_LOGISTIC_SOLVER_CONVERGENCE_MSG)\n",
            "/usr/local/lib/python3.6/dist-packages/sklearn/linear_model/_logistic.py:940: ConvergenceWarning: lbfgs failed to converge (status=1):\n",
            "STOP: TOTAL NO. of ITERATIONS REACHED LIMIT.\n",
            "\n",
            "Increase the number of iterations (max_iter) or scale the data as shown in:\n",
            "    https://scikit-learn.org/stable/modules/preprocessing.html\n",
            "Please also refer to the documentation for alternative solver options:\n",
            "    https://scikit-learn.org/stable/modules/linear_model.html#logistic-regression\n",
            "  extra_warning_msg=_LOGISTIC_SOLVER_CONVERGENCE_MSG)\n",
            "/usr/local/lib/python3.6/dist-packages/sklearn/linear_model/_logistic.py:940: ConvergenceWarning: lbfgs failed to converge (status=1):\n",
            "STOP: TOTAL NO. of ITERATIONS REACHED LIMIT.\n",
            "\n",
            "Increase the number of iterations (max_iter) or scale the data as shown in:\n",
            "    https://scikit-learn.org/stable/modules/preprocessing.html\n",
            "Please also refer to the documentation for alternative solver options:\n",
            "    https://scikit-learn.org/stable/modules/linear_model.html#logistic-regression\n",
            "  extra_warning_msg=_LOGISTIC_SOLVER_CONVERGENCE_MSG)\n",
            "/usr/local/lib/python3.6/dist-packages/sklearn/linear_model/_logistic.py:940: ConvergenceWarning: lbfgs failed to converge (status=1):\n",
            "STOP: TOTAL NO. of ITERATIONS REACHED LIMIT.\n",
            "\n",
            "Increase the number of iterations (max_iter) or scale the data as shown in:\n",
            "    https://scikit-learn.org/stable/modules/preprocessing.html\n",
            "Please also refer to the documentation for alternative solver options:\n",
            "    https://scikit-learn.org/stable/modules/linear_model.html#logistic-regression\n",
            "  extra_warning_msg=_LOGISTIC_SOLVER_CONVERGENCE_MSG)\n",
            "/usr/local/lib/python3.6/dist-packages/sklearn/linear_model/_logistic.py:940: ConvergenceWarning: lbfgs failed to converge (status=1):\n",
            "STOP: TOTAL NO. of ITERATIONS REACHED LIMIT.\n",
            "\n",
            "Increase the number of iterations (max_iter) or scale the data as shown in:\n",
            "    https://scikit-learn.org/stable/modules/preprocessing.html\n",
            "Please also refer to the documentation for alternative solver options:\n",
            "    https://scikit-learn.org/stable/modules/linear_model.html#logistic-regression\n",
            "  extra_warning_msg=_LOGISTIC_SOLVER_CONVERGENCE_MSG)\n",
            "/usr/local/lib/python3.6/dist-packages/sklearn/linear_model/_logistic.py:940: ConvergenceWarning: lbfgs failed to converge (status=1):\n",
            "STOP: TOTAL NO. of ITERATIONS REACHED LIMIT.\n",
            "\n",
            "Increase the number of iterations (max_iter) or scale the data as shown in:\n",
            "    https://scikit-learn.org/stable/modules/preprocessing.html\n",
            "Please also refer to the documentation for alternative solver options:\n",
            "    https://scikit-learn.org/stable/modules/linear_model.html#logistic-regression\n",
            "  extra_warning_msg=_LOGISTIC_SOLVER_CONVERGENCE_MSG)\n",
            "/usr/local/lib/python3.6/dist-packages/sklearn/linear_model/_logistic.py:940: ConvergenceWarning: lbfgs failed to converge (status=1):\n",
            "STOP: TOTAL NO. of ITERATIONS REACHED LIMIT.\n",
            "\n",
            "Increase the number of iterations (max_iter) or scale the data as shown in:\n",
            "    https://scikit-learn.org/stable/modules/preprocessing.html\n",
            "Please also refer to the documentation for alternative solver options:\n",
            "    https://scikit-learn.org/stable/modules/linear_model.html#logistic-regression\n",
            "  extra_warning_msg=_LOGISTIC_SOLVER_CONVERGENCE_MSG)\n"
          ],
          "name": "stderr"
        },
        {
          "output_type": "execute_result",
          "data": {
            "text/plain": [
              "GridSearchCV(cv=None, error_score=nan,\n",
              "             estimator=LogisticRegression(C=1.0, class_weight=None, dual=False,\n",
              "                                          fit_intercept=True,\n",
              "                                          intercept_scaling=1, l1_ratio=None,\n",
              "                                          max_iter=100, multi_class='auto',\n",
              "                                          n_jobs=None, penalty='l2',\n",
              "                                          random_state=None, solver='lbfgs',\n",
              "                                          tol=0.0001, verbose=0,\n",
              "                                          warm_start=False),\n",
              "             iid='deprecated', n_jobs=None,\n",
              "             param_grid={'C': [0.01, 0.5, 1, 10]}, pre_dispatch='2*n_jobs',\n",
              "             refit=True, return_train_score=False, scoring=None, verbose=0)"
            ]
          },
          "metadata": {
            "tags": []
          },
          "execution_count": 65
        }
      ]
    },
    {
      "cell_type": "code",
      "metadata": {
        "id": "rnO4PJBx3XJt",
        "colab_type": "code",
        "colab": {
          "base_uri": "https://localhost:8080/",
          "height": 119
        },
        "outputId": "f0d88db3-a716-4080-a797-abc7e0ef49ed"
      },
      "source": [
        "# print best parameter after tuning \n",
        "print(grid.best_params_)   \n",
        "# print how our model looks after hyper-parameter tuning \n",
        "print(grid.best_estimator_) "
      ],
      "execution_count": 66,
      "outputs": [
        {
          "output_type": "stream",
          "text": [
            "{'C': 10}\n",
            "LogisticRegression(C=10, class_weight=None, dual=False, fit_intercept=True,\n",
            "                   intercept_scaling=1, l1_ratio=None, max_iter=100,\n",
            "                   multi_class='auto', n_jobs=None, penalty='l2',\n",
            "                   random_state=None, solver='lbfgs', tol=0.0001, verbose=0,\n",
            "                   warm_start=False)\n"
          ],
          "name": "stdout"
        }
      ]
    },
    {
      "cell_type": "code",
      "metadata": {
        "id": "g0LoXjXnRFQX",
        "colab_type": "code",
        "outputId": "0afca3dc-e5a2-481d-b1e0-6e2cec51befa",
        "colab": {
          "base_uri": "https://localhost:8080/",
          "height": 153
        }
      },
      "source": [
        "final_ngram = LogisticRegression(C=10)\n",
        "final_ngram.fit(X_vector, y_train)\n",
        "\n",
        "accuracy = accuracy_score(y_test, final_ngram.predict(X_vector_test))\n",
        "recall = recall_score(y_test, final_ngram.predict(X_vector_test),average='weighted')"
      ],
      "execution_count": 67,
      "outputs": [
        {
          "output_type": "stream",
          "text": [
            "/usr/local/lib/python3.6/dist-packages/sklearn/linear_model/_logistic.py:940: ConvergenceWarning: lbfgs failed to converge (status=1):\n",
            "STOP: TOTAL NO. of ITERATIONS REACHED LIMIT.\n",
            "\n",
            "Increase the number of iterations (max_iter) or scale the data as shown in:\n",
            "    https://scikit-learn.org/stable/modules/preprocessing.html\n",
            "Please also refer to the documentation for alternative solver options:\n",
            "    https://scikit-learn.org/stable/modules/linear_model.html#logistic-regression\n",
            "  extra_warning_msg=_LOGISTIC_SOLVER_CONVERGENCE_MSG)\n"
          ],
          "name": "stderr"
        }
      ]
    },
    {
      "cell_type": "code",
      "metadata": {
        "id": "-tYi6chPRMDG",
        "colab_type": "code",
        "colab": {
          "base_uri": "https://localhost:8080/",
          "height": 142
        },
        "outputId": "516b5e3c-f7c9-4833-8425-8f6392727d8f"
      },
      "source": [
        "#Store the accuracy results for each model in a dataframe for final comparison\n",
        "tempResultsDf = pd.DataFrame({'Method':['N-Gram'], 'Accuracy': [accuracy], 'Recall': [recall]})\n",
        "resultsDf = pd.concat([resultsDf, tempResultsDf])\n",
        "resultsDf"
      ],
      "execution_count": 68,
      "outputs": [
        {
          "output_type": "execute_result",
          "data": {
            "text/html": [
              "<div>\n",
              "<style scoped>\n",
              "    .dataframe tbody tr th:only-of-type {\n",
              "        vertical-align: middle;\n",
              "    }\n",
              "\n",
              "    .dataframe tbody tr th {\n",
              "        vertical-align: top;\n",
              "    }\n",
              "\n",
              "    .dataframe thead th {\n",
              "        text-align: right;\n",
              "    }\n",
              "</style>\n",
              "<table border=\"1\" class=\"dataframe\">\n",
              "  <thead>\n",
              "    <tr style=\"text-align: right;\">\n",
              "      <th></th>\n",
              "      <th>Method</th>\n",
              "      <th>Accuracy</th>\n",
              "      <th>Recall</th>\n",
              "    </tr>\n",
              "  </thead>\n",
              "  <tbody>\n",
              "    <tr>\n",
              "      <th>0</th>\n",
              "      <td>Logistic Regression</td>\n",
              "      <td>0.651719</td>\n",
              "      <td>0.651719</td>\n",
              "    </tr>\n",
              "    <tr>\n",
              "      <th>0</th>\n",
              "      <td>SVM</td>\n",
              "      <td>0.949925</td>\n",
              "      <td>0.949925</td>\n",
              "    </tr>\n",
              "    <tr>\n",
              "      <th>0</th>\n",
              "      <td>N-Gram</td>\n",
              "      <td>0.956652</td>\n",
              "      <td>0.956652</td>\n",
              "    </tr>\n",
              "  </tbody>\n",
              "</table>\n",
              "</div>"
            ],
            "text/plain": [
              "                Method  Accuracy    Recall\n",
              "0  Logistic Regression  0.651719  0.651719\n",
              "0                  SVM  0.949925  0.949925\n",
              "0               N-Gram  0.956652  0.956652"
            ]
          },
          "metadata": {
            "tags": []
          },
          "execution_count": 68
        }
      ]
    },
    {
      "cell_type": "code",
      "metadata": {
        "id": "f7KHYQUr3hkz",
        "colab_type": "code",
        "colab": {
          "base_uri": "https://localhost:8080/",
          "height": 1000
        },
        "outputId": "4f9fa16a-1902-4c36-a0d4-9b5eb58afcc3"
      },
      "source": [
        "#Getting Classification Report for Validation Data\n",
        "from sklearn.metrics import classification_report\n",
        "grid_predictions = grid.predict(X_vector_validation) \n",
        "# print classification report \n",
        "print(classification_report(y_validation, grid_predictions)) "
      ],
      "execution_count": 69,
      "outputs": [
        {
          "output_type": "stream",
          "text": [
            "              precision    recall  f1-score   support\n",
            "\n",
            "       GRP_0       0.71      0.95      0.82       787\n",
            "       GRP_1       0.33      0.17      0.22         6\n",
            "      GRP_10       0.94      0.48      0.64        33\n",
            "      GRP_11       0.00      0.00      0.00         4\n",
            "      GRP_12       0.58      0.55      0.56        53\n",
            "      GRP_13       0.52      0.68      0.59        19\n",
            "      GRP_14       0.69      0.35      0.47        31\n",
            "      GRP_15       0.50      0.40      0.44         5\n",
            "      GRP_16       0.00      0.00      0.00        13\n",
            "      GRP_17       1.00      0.94      0.97        16\n",
            "      GRP_18       0.70      0.41      0.52        17\n",
            "      GRP_19       0.58      0.45      0.51        40\n",
            "       GRP_2       0.62      0.41      0.49        56\n",
            "      GRP_20       0.00      0.00      0.00        10\n",
            "      GRP_21       0.00      0.00      0.00         4\n",
            "      GRP_22       1.00      0.14      0.25         7\n",
            "      GRP_23       0.00      0.00      0.00         8\n",
            "      GRP_24       0.90      0.93      0.92        61\n",
            "      GRP_25       0.36      0.26      0.30        19\n",
            "      GRP_26       0.50      0.17      0.25        12\n",
            "      GRP_27       0.00      0.00      0.00         2\n",
            "      GRP_28       0.00      0.00      0.00        10\n",
            "      GRP_29       0.64      0.41      0.50        17\n",
            "       GRP_3       0.63      0.25      0.36        48\n",
            "      GRP_30       0.00      0.00      0.00         3\n",
            "      GRP_31       0.40      0.14      0.21        14\n",
            "      GRP_33       0.58      0.41      0.48        17\n",
            "      GRP_34       0.00      0.00      0.00        11\n",
            "      GRP_37       0.00      0.00      0.00         5\n",
            "      GRP_39       1.00      0.33      0.50         3\n",
            "       GRP_4       0.20      0.21      0.21        14\n",
            "      GRP_40       0.50      0.20      0.29        10\n",
            "      GRP_41       0.86      0.67      0.75         9\n",
            "      GRP_42       1.00      0.11      0.20         9\n",
            "      GRP_44       0.50      0.50      0.50         2\n",
            "      GRP_45       0.00      0.00      0.00         5\n",
            "      GRP_47       0.00      0.00      0.00         5\n",
            "      GRP_48       0.00      0.00      0.00         2\n",
            "       GRP_5       0.81      0.46      0.59        28\n",
            "      GRP_50       0.00      0.00      0.00         4\n",
            "      GRP_53       0.00      0.00      0.00         4\n",
            "       GRP_6       0.80      0.31      0.44        39\n",
            "      GRP_60       0.00      0.00      0.00         3\n",
            "      GRP_62       0.00      0.00      0.00         6\n",
            "      GRP_65       0.00      0.00      0.00         2\n",
            "       GRP_7       0.40      0.36      0.38        11\n",
            "       GRP_8       0.56      0.83      0.66       121\n",
            "       GRP_9       0.60      0.28      0.38        54\n",
            "  SUBGROUP-X       0.00      0.00      0.00        13\n",
            "\n",
            "    accuracy                           0.68      1672\n",
            "   macro avg       0.40      0.26      0.29      1672\n",
            "weighted avg       0.64      0.68      0.63      1672\n",
            "\n"
          ],
          "name": "stdout"
        },
        {
          "output_type": "stream",
          "text": [
            "/usr/local/lib/python3.6/dist-packages/sklearn/metrics/_classification.py:1272: UndefinedMetricWarning: Precision and F-score are ill-defined and being set to 0.0 in labels with no predicted samples. Use `zero_division` parameter to control this behavior.\n",
            "  _warn_prf(average, modifier, msg_start, len(result))\n"
          ],
          "name": "stderr"
        }
      ]
    },
    {
      "cell_type": "markdown",
      "metadata": {
        "id": "Sm1BU9Yd4JXv",
        "colab_type": "text"
      },
      "source": [
        "**Random Forest Classifier**"
      ]
    },
    {
      "cell_type": "code",
      "metadata": {
        "id": "XsZmz9zn6h4k",
        "colab_type": "code",
        "colab": {
          "base_uri": "https://localhost:8080/",
          "height": 357
        },
        "outputId": "653ab704-101a-4de6-eb11-a6936414d801"
      },
      "source": [
        "#Random Forest Classifier\n",
        "from sklearn.ensemble import RandomForestClassifier\n",
        "# defining parameter range \n",
        "param_grid = {'n_estimators': [ 10, 50, 100] }  \n",
        "rfcl = RandomForestClassifier() \n",
        "grid = GridSearchCV(rfcl, param_grid, refit = True ) \n",
        "# fitting the model for grid search \n",
        "grid.fit(X_vector_train, y_vector_train) "
      ],
      "execution_count": 71,
      "outputs": [
        {
          "output_type": "execute_result",
          "data": {
            "text/plain": [
              "GridSearchCV(cv=None, error_score=nan,\n",
              "             estimator=RandomForestClassifier(bootstrap=True, ccp_alpha=0.0,\n",
              "                                              class_weight=None,\n",
              "                                              criterion='gini', max_depth=None,\n",
              "                                              max_features='auto',\n",
              "                                              max_leaf_nodes=None,\n",
              "                                              max_samples=None,\n",
              "                                              min_impurity_decrease=0.0,\n",
              "                                              min_impurity_split=None,\n",
              "                                              min_samples_leaf=1,\n",
              "                                              min_samples_split=2,\n",
              "                                              min_weight_fraction_leaf=0.0,\n",
              "                                              n_estimators=100, n_jobs=None,\n",
              "                                              oob_score=False,\n",
              "                                              random_state=None, verbose=0,\n",
              "                                              warm_start=False),\n",
              "             iid='deprecated', n_jobs=None,\n",
              "             param_grid={'n_estimators': [10, 50, 100]},\n",
              "             pre_dispatch='2*n_jobs', refit=True, return_train_score=False,\n",
              "             scoring=None, verbose=0)"
            ]
          },
          "metadata": {
            "tags": []
          },
          "execution_count": 71
        }
      ]
    },
    {
      "cell_type": "code",
      "metadata": {
        "id": "Wfe74zqE6ycG",
        "colab_type": "code",
        "colab": {
          "base_uri": "https://localhost:8080/",
          "height": 170
        },
        "outputId": "16bde810-b17a-4517-bbfe-a2173cd3f9da"
      },
      "source": [
        "# print best parameter after tuning \n",
        "print(grid.best_params_)   \n",
        "# print how our model looks after hyper-parameter tuning \n",
        "print(grid.best_estimator_) "
      ],
      "execution_count": 72,
      "outputs": [
        {
          "output_type": "stream",
          "text": [
            "{'n_estimators': 50}\n",
            "RandomForestClassifier(bootstrap=True, ccp_alpha=0.0, class_weight=None,\n",
            "                       criterion='gini', max_depth=None, max_features='auto',\n",
            "                       max_leaf_nodes=None, max_samples=None,\n",
            "                       min_impurity_decrease=0.0, min_impurity_split=None,\n",
            "                       min_samples_leaf=1, min_samples_split=2,\n",
            "                       min_weight_fraction_leaf=0.0, n_estimators=50,\n",
            "                       n_jobs=None, oob_score=False, random_state=None,\n",
            "                       verbose=0, warm_start=False)\n"
          ],
          "name": "stdout"
        }
      ]
    },
    {
      "cell_type": "code",
      "metadata": {
        "id": "gjP7V0W0RPv4",
        "colab_type": "code",
        "colab": {}
      },
      "source": [
        "\n",
        "rfcl = RandomForestClassifier(n_estimators = 50)\n",
        "rfcl = rfcl.fit(X_vector, y_train)\n",
        "pred_RF = rfcl.predict(X_vector_test)\n",
        "accuracy = accuracy_score(y_test, pred_RF)\n",
        "recall = recall_score(y_test, pred_RF, average=\"weighted\")"
      ],
      "execution_count": 0,
      "outputs": []
    },
    {
      "cell_type": "code",
      "metadata": {
        "id": "v1a3ZXpIndxk",
        "colab_type": "code",
        "colab": {
          "base_uri": "https://localhost:8080/",
          "height": 173
        },
        "outputId": "a1423063-341f-4f2b-f519-9f6899c0a8db"
      },
      "source": [
        "#Store the accuracy results for each model in a dataframe for final comparison\n",
        "tempResultsDf = pd.DataFrame({'Method':['Random Forest'], 'Accuracy': [accuracy], 'Recall': [recall]})\n",
        "resultsDf = pd.concat([resultsDf, tempResultsDf])\n",
        "resultsDf"
      ],
      "execution_count": 74,
      "outputs": [
        {
          "output_type": "execute_result",
          "data": {
            "text/html": [
              "<div>\n",
              "<style scoped>\n",
              "    .dataframe tbody tr th:only-of-type {\n",
              "        vertical-align: middle;\n",
              "    }\n",
              "\n",
              "    .dataframe tbody tr th {\n",
              "        vertical-align: top;\n",
              "    }\n",
              "\n",
              "    .dataframe thead th {\n",
              "        text-align: right;\n",
              "    }\n",
              "</style>\n",
              "<table border=\"1\" class=\"dataframe\">\n",
              "  <thead>\n",
              "    <tr style=\"text-align: right;\">\n",
              "      <th></th>\n",
              "      <th>Method</th>\n",
              "      <th>Accuracy</th>\n",
              "      <th>Recall</th>\n",
              "    </tr>\n",
              "  </thead>\n",
              "  <tbody>\n",
              "    <tr>\n",
              "      <th>0</th>\n",
              "      <td>Logistic Regression</td>\n",
              "      <td>0.651719</td>\n",
              "      <td>0.651719</td>\n",
              "    </tr>\n",
              "    <tr>\n",
              "      <th>0</th>\n",
              "      <td>SVM</td>\n",
              "      <td>0.949925</td>\n",
              "      <td>0.949925</td>\n",
              "    </tr>\n",
              "    <tr>\n",
              "      <th>0</th>\n",
              "      <td>N-Gram</td>\n",
              "      <td>0.956652</td>\n",
              "      <td>0.956652</td>\n",
              "    </tr>\n",
              "    <tr>\n",
              "      <th>0</th>\n",
              "      <td>Random Forest</td>\n",
              "      <td>0.955904</td>\n",
              "      <td>0.955904</td>\n",
              "    </tr>\n",
              "  </tbody>\n",
              "</table>\n",
              "</div>"
            ],
            "text/plain": [
              "                Method  Accuracy    Recall\n",
              "0  Logistic Regression  0.651719  0.651719\n",
              "0                  SVM  0.949925  0.949925\n",
              "0               N-Gram  0.956652  0.956652\n",
              "0        Random Forest  0.955904  0.955904"
            ]
          },
          "metadata": {
            "tags": []
          },
          "execution_count": 74
        }
      ]
    },
    {
      "cell_type": "code",
      "metadata": {
        "id": "Wr-vuMZFnpOm",
        "colab_type": "code",
        "colab": {}
      },
      "source": [
        ""
      ],
      "execution_count": 0,
      "outputs": []
    },
    {
      "cell_type": "markdown",
      "metadata": {
        "id": "ZwnRxSkvqOK3",
        "colab_type": "text"
      },
      "source": [
        "**LSTM **"
      ]
    },
    {
      "cell_type": "code",
      "metadata": {
        "id": "_5H-AVHEqj61",
        "colab_type": "code",
        "colab": {
          "base_uri": "https://localhost:8080/",
          "height": 34
        },
        "outputId": "06389539-398d-4881-eb1b-31cd6c2935ac"
      },
      "source": [
        "from keras.preprocessing.text import Tokenizer\n",
        "from keras.preprocessing.sequence import pad_sequences\n",
        "max_features = 10000\n"
      ],
      "execution_count": 75,
      "outputs": [
        {
          "output_type": "stream",
          "text": [
            "Using TensorFlow backend.\n"
          ],
          "name": "stderr"
        }
      ]
    },
    {
      "cell_type": "code",
      "metadata": {
        "id": "ekJ2GjHwq9LU",
        "colab_type": "code",
        "colab": {
          "base_uri": "https://localhost:8080/",
          "height": 34
        },
        "outputId": "e4932f06-8945-44f2-a2d1-740930a4bdcf"
      },
      "source": [
        "maxlen = 0\n",
        "for row in df_clean['Description Stem']:\n",
        "  row_length = len(row)\n",
        "  if maxlen < row_length:\n",
        "    maxlen = row_length\n",
        "\n",
        "print (maxlen)"
      ],
      "execution_count": 76,
      "outputs": [
        {
          "output_type": "stream",
          "text": [
            "923\n"
          ],
          "name": "stdout"
        }
      ]
    },
    {
      "cell_type": "code",
      "metadata": {
        "id": "zZVDisO_qRzh",
        "colab_type": "code",
        "colab": {}
      },
      "source": [
        "\n",
        "tokenizer = Tokenizer(num_words=max_features)\n",
        "tokenizer.fit_on_texts(df_clean['Description Stem'].values)"
      ],
      "execution_count": 0,
      "outputs": []
    },
    {
      "cell_type": "code",
      "metadata": {
        "id": "GMnbV73YqhRt",
        "colab_type": "code",
        "colab": {
          "base_uri": "https://localhost:8080/",
          "height": 68
        },
        "outputId": "641df428-26e9-4c0f-f68e-a873b8539a74"
      },
      "source": [
        "X = tokenizer.texts_to_sequences(df_clean['Description Stem'].values)\n",
        "X = pad_sequences(X, maxlen = maxlen)\n",
        "\n",
        "## Perform lable encoder... and convert to catagorical.. \n",
        "from sklearn import preprocessing\n",
        "le = preprocessing.LabelEncoder()\n",
        "le.fit(df_clean['Assignment group'])\n",
        "y_enc = le.transform(df_clean['Assignment group'])\n",
        "\n",
        "print(\"Number of Samples:\", len(X))\n",
        "#print(X[0])\n",
        "print(\"Number of Labels: \", len(y))\n",
        "print(y[0])"
      ],
      "execution_count": 78,
      "outputs": [
        {
          "output_type": "stream",
          "text": [
            "Number of Samples: 8360\n",
            "Number of Labels:  8360\n",
            "GRP_0\n"
          ],
          "name": "stdout"
        }
      ]
    },
    {
      "cell_type": "code",
      "metadata": {
        "id": "k36Af9w8rMF1",
        "colab_type": "code",
        "colab": {
          "base_uri": "https://localhost:8080/",
          "height": 34
        },
        "outputId": "fec9235f-04a0-4d3d-ef55-41a21f32a045"
      },
      "source": [
        "y_enc"
      ],
      "execution_count": 79,
      "outputs": [
        {
          "output_type": "execute_result",
          "data": {
            "text/plain": [
              "array([ 0,  0,  0, ...,  0, 44, 49])"
            ]
          },
          "metadata": {
            "tags": []
          },
          "execution_count": 79
        }
      ]
    },
    {
      "cell_type": "code",
      "metadata": {
        "id": "Uc_xivQardEX",
        "colab_type": "code",
        "colab": {
          "base_uri": "https://localhost:8080/",
          "height": 136
        },
        "outputId": "95868689-e5ee-4e73-e316-1bf8c23371f0"
      },
      "source": [
        "Y = pd.get_dummies(y_enc).values\n",
        "Y"
      ],
      "execution_count": 80,
      "outputs": [
        {
          "output_type": "execute_result",
          "data": {
            "text/plain": [
              "array([[1, 0, 0, ..., 0, 0, 0],\n",
              "       [1, 0, 0, ..., 0, 0, 0],\n",
              "       [1, 0, 0, ..., 0, 0, 0],\n",
              "       ...,\n",
              "       [1, 0, 0, ..., 0, 0, 0],\n",
              "       [0, 0, 0, ..., 0, 0, 0],\n",
              "       [0, 0, 0, ..., 0, 0, 1]], dtype=uint8)"
            ]
          },
          "metadata": {
            "tags": []
          },
          "execution_count": 80
        }
      ]
    },
    {
      "cell_type": "code",
      "metadata": {
        "id": "o_UznzZTriJ0",
        "colab_type": "code",
        "colab": {
          "base_uri": "https://localhost:8080/",
          "height": 34
        },
        "outputId": "d150dbca-6e92-4186-d3d3-98d52fd4e170"
      },
      "source": [
        "Y[0].shape"
      ],
      "execution_count": 81,
      "outputs": [
        {
          "output_type": "execute_result",
          "data": {
            "text/plain": [
              "(50,)"
            ]
          },
          "metadata": {
            "tags": []
          },
          "execution_count": 81
        }
      ]
    },
    {
      "cell_type": "code",
      "metadata": {
        "id": "7DG1zKSbrkqx",
        "colab_type": "code",
        "colab": {
          "base_uri": "https://localhost:8080/",
          "height": 51
        },
        "outputId": "20acebc8-54ae-411c-9764-faee3b5d10f8"
      },
      "source": [
        "Y = pd.get_dummies(y_enc).values\n",
        "X_train, X_test, Y_train, Y_test = train_test_split(X,Y, test_size = 0.20, random_state = 42)\n",
        "print(X_train.shape,Y_train.shape)\n",
        "print(X_test.shape,Y_test.shape)"
      ],
      "execution_count": 82,
      "outputs": [
        {
          "output_type": "stream",
          "text": [
            "(6688, 923) (6688, 50)\n",
            "(1672, 923) (1672, 50)\n"
          ],
          "name": "stdout"
        }
      ]
    },
    {
      "cell_type": "code",
      "metadata": {
        "id": "IipZoZyGr4rx",
        "colab_type": "code",
        "colab": {
          "base_uri": "https://localhost:8080/",
          "height": 34
        },
        "outputId": "a6713a4e-6291-4388-be32-4bffbb41b84c"
      },
      "source": [
        "len(tokenizer.word_index)"
      ],
      "execution_count": 83,
      "outputs": [
        {
          "output_type": "execute_result",
          "data": {
            "text/plain": [
              "16638"
            ]
          },
          "metadata": {
            "tags": []
          },
          "execution_count": 83
        }
      ]
    },
    {
      "cell_type": "code",
      "metadata": {
        "id": "pB9SxMWlsV5D",
        "colab_type": "code",
        "colab": {}
      },
      "source": [
        "from tensorflow.keras.layers import Dense, Input, LSTM, Embedding, Dropout, Activation, Flatten, Bidirectional, GlobalMaxPool1D, TimeDistributed\n",
        "from tensorflow.keras.models import Model, Sequential\n"
      ],
      "execution_count": 0,
      "outputs": []
    },
    {
      "cell_type": "code",
      "metadata": {
        "id": "I9SrJtKDsfCY",
        "colab_type": "code",
        "colab": {}
      },
      "source": [
        "num_words=len(tokenizer.word_index) + 1\n",
        "embedding_size = 200"
      ],
      "execution_count": 0,
      "outputs": []
    },
    {
      "cell_type": "code",
      "metadata": {
        "id": "DfFgg9VAsCJe",
        "colab_type": "code",
        "colab": {
          "base_uri": "https://localhost:8080/",
          "height": 391
        },
        "outputId": "bbc6486c-8d3c-4fba-a797-2d18b27ba7ff"
      },
      "source": [
        "model = Sequential()\n",
        "model.add(Embedding(num_words,embedding_size,input_length=maxlen )) #10000 for vocab size, 8 for dimensionality of embedding\n",
        "model.add(Bidirectional(LSTM(64, return_sequences=True), input_shape=(5, 64)))\n",
        "model.add(TimeDistributed(Dense(100)))\n",
        "model.add(Flatten())\n",
        "model.add(Dropout(0.2))\n",
        "model.add(Dense(250, activation='relu'))\n",
        "model.add(Dense(50, activation='softmax'))\n",
        "model.compile(optimizer='adam', loss='categorical_crossentropy', metrics=['acc'])\n",
        "model.summary()"
      ],
      "execution_count": 86,
      "outputs": [
        {
          "output_type": "stream",
          "text": [
            "Model: \"sequential\"\n",
            "_________________________________________________________________\n",
            "Layer (type)                 Output Shape              Param #   \n",
            "=================================================================\n",
            "embedding (Embedding)        (None, 923, 200)          3327800   \n",
            "_________________________________________________________________\n",
            "bidirectional (Bidirectional (None, 923, 128)          135680    \n",
            "_________________________________________________________________\n",
            "time_distributed (TimeDistri (None, 923, 100)          12900     \n",
            "_________________________________________________________________\n",
            "flatten (Flatten)            (None, 92300)             0         \n",
            "_________________________________________________________________\n",
            "dropout (Dropout)            (None, 92300)             0         \n",
            "_________________________________________________________________\n",
            "dense_1 (Dense)              (None, 250)               23075250  \n",
            "_________________________________________________________________\n",
            "dense_2 (Dense)              (None, 50)                12550     \n",
            "=================================================================\n",
            "Total params: 26,564,180\n",
            "Trainable params: 26,564,180\n",
            "Non-trainable params: 0\n",
            "_________________________________________________________________\n"
          ],
          "name": "stdout"
        }
      ]
    },
    {
      "cell_type": "code",
      "metadata": {
        "id": "pOwXrdSLsXKd",
        "colab_type": "code",
        "colab": {
          "base_uri": "https://localhost:8080/",
          "height": 391
        },
        "outputId": "974f51de-83ae-4aad-8659-ac0a26894926"
      },
      "source": [
        "import time\n",
        "batch_size = 50\n",
        "epochs = 10\n",
        "print('Train...')\n",
        "start = time.clock()\n",
        "model.fit(X_train, Y_train, batch_size=batch_size, epochs=epochs, validation_data=[X_test, Y_test], validation_split=0.2, verbose=1)\n",
        "end = time.clock()\n",
        "print('Time spent:', end-start)"
      ],
      "execution_count": 89,
      "outputs": [
        {
          "output_type": "stream",
          "text": [
            "Train...\n",
            "Epoch 1/10\n",
            "107/107 [==============================] - 220s 2s/step - loss: 0.7985 - acc: 0.7817 - val_loss: 1.8368 - val_acc: 0.6360\n",
            "Epoch 2/10\n",
            "107/107 [==============================] - 223s 2s/step - loss: 0.5064 - acc: 0.8499 - val_loss: 2.1724 - val_acc: 0.5979\n",
            "Epoch 3/10\n",
            "107/107 [==============================] - 220s 2s/step - loss: 0.3531 - acc: 0.8890 - val_loss: 2.4037 - val_acc: 0.6039\n",
            "Epoch 4/10\n",
            "107/107 [==============================] - 220s 2s/step - loss: 0.2849 - acc: 0.9131 - val_loss: 2.6945 - val_acc: 0.5912\n",
            "Epoch 5/10\n",
            "107/107 [==============================] - 222s 2s/step - loss: 0.2243 - acc: 0.9273 - val_loss: 2.6528 - val_acc: 0.6091\n",
            "Epoch 6/10\n",
            "107/107 [==============================] - 220s 2s/step - loss: 0.1876 - acc: 0.9376 - val_loss: 3.2161 - val_acc: 0.6054\n",
            "Epoch 7/10\n",
            "107/107 [==============================] - 219s 2s/step - loss: 0.1835 - acc: 0.9389 - val_loss: 3.1530 - val_acc: 0.5845\n",
            "Epoch 8/10\n",
            "107/107 [==============================] - 222s 2s/step - loss: 0.1844 - acc: 0.9331 - val_loss: 3.3577 - val_acc: 0.5979\n",
            "Epoch 9/10\n",
            "107/107 [==============================] - 220s 2s/step - loss: 0.1634 - acc: 0.9436 - val_loss: 3.5135 - val_acc: 0.5964\n",
            "Epoch 10/10\n",
            "107/107 [==============================] - 222s 2s/step - loss: 0.1506 - acc: 0.9434 - val_loss: 3.6361 - val_acc: 0.5927\n",
            "Time spent: 4306.091066999999\n"
          ],
          "name": "stdout"
        }
      ]
    },
    {
      "cell_type": "code",
      "metadata": {
        "id": "MMSVGUU6tfs7",
        "colab_type": "code",
        "colab": {
          "base_uri": "https://localhost:8080/",
          "height": 119
        },
        "outputId": "b7874ca5-e246-4564-e9cd-00b2b0321a3b"
      },
      "source": [
        "print('\\nModel Performance: Log Loss and Accuracy on Test data')\n",
        "testLoss, testAcc = model.evaluate(X_test, Y_test, batch_size = 1)\n",
        "print('\\nTesting Scores:: loss: {}, acc: {}\\n'.format(testLoss, testAcc))"
      ],
      "execution_count": 90,
      "outputs": [
        {
          "output_type": "stream",
          "text": [
            "\n",
            "Model Performance: Log Loss and Accuracy on Test data\n",
            "1672/1672 [==============================] - 125s 75ms/step - loss: 3.3886 - acc: 0.6172\n",
            "\n",
            "Testing Scores:: loss: 3.3886070251464844, acc: 0.6172248721122742\n",
            "\n"
          ],
          "name": "stdout"
        }
      ]
    },
    {
      "cell_type": "code",
      "metadata": {
        "id": "CiAHB2x_1Rtr",
        "colab_type": "code",
        "colab": {
          "base_uri": "https://localhost:8080/",
          "height": 85
        },
        "outputId": "dee4e5ee-cbfe-4a8a-a7ee-ec657b193c12"
      },
      "source": [
        "\n",
        "\n",
        "trainLoss, trainAcc = model.evaluate(X_train, Y_train, batch_size = 10)\n",
        "print('\\nTraining Scores::  loss: {}, acc: {}\\n'.format(trainLoss, trainAcc))\n",
        "\n",
        "\n"
      ],
      "execution_count": 91,
      "outputs": [
        {
          "output_type": "stream",
          "text": [
            "669/669 [==============================] - 103s 154ms/step - loss: 0.8377 - acc: 0.8756\n",
            "\n",
            "Training Scores::  loss: 0.837704062461853, acc: 0.8755980730056763\n",
            "\n"
          ],
          "name": "stdout"
        }
      ]
    },
    {
      "cell_type": "code",
      "metadata": {
        "id": "ESjJ53AsTkNQ",
        "colab_type": "code",
        "colab": {
          "base_uri": "https://localhost:8080/",
          "height": 1000
        },
        "outputId": "e8fb4cf5-5e1f-48ca-c248-200577a794d1"
      },
      "source": [
        "from sklearn.metrics import classification_report, confusion_matrix\n",
        "import numpy as np\n",
        "rounded_labels=np.argmax(Y_test, axis=1)\n",
        "y_pred = model.predict_classes(X_test)\n",
        "report = classification_report(rounded_labels, y_pred, target_names=df['Assignment group'].unique() )\n",
        "print(report)\n",
        "\n"
      ],
      "execution_count": 92,
      "outputs": [
        {
          "output_type": "stream",
          "text": [
            "WARNING:tensorflow:From <ipython-input-92-de43559c41b3>:4: Sequential.predict_classes (from tensorflow.python.keras.engine.sequential) is deprecated and will be removed after 2021-01-01.\n",
            "Instructions for updating:\n",
            "Please use instead:* `np.argmax(model.predict(x), axis=-1)`,   if your model does multi-class classification   (e.g. if it uses a `softmax` last-layer activation).* `(model.predict(x) > 0.5).astype(\"int32\")`,   if your model does binary classification   (e.g. if it uses a `sigmoid` last-layer activation).\n",
            "              precision    recall  f1-score   support\n",
            "\n",
            "       GRP_0       0.82      0.82      0.82       800\n",
            "       GRP_1       0.33      0.12      0.18         8\n",
            "       GRP_3       0.64      0.59      0.62        27\n",
            "       GRP_4       0.00      0.00      0.00         2\n",
            "       GRP_5       0.42      0.51      0.46        39\n",
            "       GRP_6       0.31      0.36      0.33        28\n",
            "       GRP_7       0.39      0.32      0.35        22\n",
            "       GRP_8       0.25      0.20      0.22         5\n",
            "       GRP_9       0.50      0.18      0.26        17\n",
            "      GRP_10       0.56      0.90      0.69        10\n",
            "      GRP_11       0.17      0.17      0.17        18\n",
            "      GRP_12       0.43      0.26      0.32        39\n",
            "      GRP_13       0.36      0.35      0.35        40\n",
            "      GRP_14       0.40      0.29      0.33         7\n",
            "      GRP_15       0.29      0.29      0.29         7\n",
            "      GRP_16       0.75      0.38      0.50         8\n",
            "      GRP_17       0.17      0.33      0.22         6\n",
            "      GRP_18       0.98      0.68      0.80        65\n",
            "      GRP_19       0.11      0.08      0.09        25\n",
            "       GRP_2       0.30      0.21      0.25        14\n",
            "      GRP_20       0.00      0.00      0.00         3\n",
            "      GRP_21       0.60      0.38      0.46         8\n",
            "      GRP_22       0.59      0.48      0.53        27\n",
            "      GRP_23       0.37      0.25      0.30        44\n",
            "      GRP_24       0.40      0.29      0.33         7\n",
            "      GRP_25       0.42      0.62      0.50        13\n",
            "      GRP_26       0.50      0.33      0.40        30\n",
            "      GRP_27       0.12      0.17      0.14        12\n",
            "      GRP_28       0.00      0.00      0.00         2\n",
            "      GRP_29       0.17      0.50      0.25         2\n",
            "      GRP_30       0.33      0.33      0.33         3\n",
            "      GRP_31       0.38      0.25      0.30        12\n",
            "      GRP_33       0.30      0.60      0.40         5\n",
            "      GRP_34       0.50      0.57      0.53         7\n",
            "  SUBGROUP-X       0.00      0.00      0.00         7\n",
            "      GRP_36       0.25      1.00      0.40         2\n",
            "      GRP_37       0.10      0.12      0.11         8\n",
            "      GRP_39       0.50      0.17      0.25         6\n",
            "      GRP_40       0.06      0.50      0.11         2\n",
            "      GRP_41       0.57      0.54      0.55        24\n",
            "      GRP_42       0.00      0.00      0.00         1\n",
            "      GRP_44       0.00      0.00      0.00         0\n",
            "      GRP_45       0.50      0.42      0.46        26\n",
            "      GRP_47       0.00      0.00      0.00         2\n",
            "      GRP_48       0.00      0.00      0.00         4\n",
            "      GRP_50       0.33      0.33      0.33         3\n",
            "      GRP_53       0.67      0.86      0.75        14\n",
            "      GRP_60       0.72      0.55      0.62       131\n",
            "      GRP_62       0.34      0.84      0.49        55\n",
            "      GRP_65       0.17      0.12      0.14        25\n",
            "\n",
            "    accuracy                           0.62      1672\n",
            "   macro avg       0.34      0.34      0.32      1672\n",
            "weighted avg       0.64      0.62      0.62      1672\n",
            "\n"
          ],
          "name": "stdout"
        },
        {
          "output_type": "stream",
          "text": [
            "/usr/local/lib/python3.6/dist-packages/sklearn/metrics/_classification.py:1272: UndefinedMetricWarning: Precision and F-score are ill-defined and being set to 0.0 in labels with no predicted samples. Use `zero_division` parameter to control this behavior.\n",
            "  _warn_prf(average, modifier, msg_start, len(result))\n",
            "/usr/local/lib/python3.6/dist-packages/sklearn/metrics/_classification.py:1272: UndefinedMetricWarning: Recall and F-score are ill-defined and being set to 0.0 in labels with no true samples. Use `zero_division` parameter to control this behavior.\n",
            "  _warn_prf(average, modifier, msg_start, len(result))\n"
          ],
          "name": "stderr"
        }
      ]
    },
    {
      "cell_type": "code",
      "metadata": {
        "id": "gtiFy3ehT5ap",
        "colab_type": "code",
        "colab": {
          "base_uri": "https://localhost:8080/",
          "height": 136
        },
        "outputId": "4f7acdca-319c-4e60-9f2c-1da0e149851a"
      },
      "source": [
        "from sklearn.metrics import confusion_matrix\n",
        "cm = confusion_matrix(rounded_labels, y_pred)\n",
        "cm"
      ],
      "execution_count": 94,
      "outputs": [
        {
          "output_type": "execute_result",
          "data": {
            "text/plain": [
              "array([[656,   0,   3, ...,   2,   6,   2],\n",
              "       [  1,   1,   0, ...,   1,   0,   1],\n",
              "       [  0,   0,  16, ...,   0,   4,   0],\n",
              "       ...,\n",
              "       [  1,   2,   0, ...,  72,  45,   0],\n",
              "       [  3,   0,   0, ...,   0,  46,   0],\n",
              "       [ 10,   0,   1, ...,   1,   1,   3]])"
            ]
          },
          "metadata": {
            "tags": []
          },
          "execution_count": 94
        }
      ]
    }
  ]
}
