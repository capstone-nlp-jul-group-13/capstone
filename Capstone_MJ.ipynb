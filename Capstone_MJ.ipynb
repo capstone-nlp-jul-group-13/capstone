{
  "nbformat": 4,
  "nbformat_minor": 0,
  "metadata": {
    "colab": {
      "name": "Capstone-MJ.ipynb",
      "provenance": [],
      "collapsed_sections": []
    },
    "kernelspec": {
      "name": "python3",
      "display_name": "Python 3"
    }
  },
  "cells": [
    {
      "cell_type": "code",
      "metadata": {
        "id": "hppcTcqhoflG",
        "colab_type": "code",
        "colab": {
          "base_uri": "https://localhost:8080/",
          "height": 35
        },
        "outputId": "a38bd81a-ce68-411c-dfb5-05bdfd983062"
      },
      "source": [
        "from google.colab import drive\n",
        "drive.mount('/content/drive/')"
      ],
      "execution_count": 58,
      "outputs": [
        {
          "output_type": "stream",
          "text": [
            "Drive already mounted at /content/drive/; to attempt to forcibly remount, call drive.mount(\"/content/drive/\", force_remount=True).\n"
          ],
          "name": "stdout"
        }
      ]
    },
    {
      "cell_type": "code",
      "metadata": {
        "id": "f-thDcAXZmSZ",
        "colab_type": "code",
        "colab": {}
      },
      "source": [
        "import matplotlib.pyplot as plt"
      ],
      "execution_count": 59,
      "outputs": []
    },
    {
      "cell_type": "code",
      "metadata": {
        "id": "NF8fgmnFpByd",
        "colab_type": "code",
        "colab": {
          "base_uri": "https://localhost:8080/",
          "height": 272
        },
        "outputId": "71e1955b-97fb-40d3-b55a-6f3b68c8a2f5"
      },
      "source": [
        "import os\n",
        "%cd drive/My\\ Drive\n",
        "!ls"
      ],
      "execution_count": 60,
      "outputs": [
        {
          "output_type": "stream",
          "text": [
            "[Errno 2] No such file or directory: 'drive/My Drive'\n",
            "/content/drive/My Drive\n",
            "'Colab Notebooks'\n",
            "'Getting started.pdf'\n",
            " glove.6B.100d.txt\n",
            " glove.6B.200d.txt\n",
            " glove.6B.300d.txt\n",
            " glove.6B.50d.txt\n",
            " glove.6B.zip\n",
            " input_data.xlsx\n",
            " Mahima-07-05-2020.wav\n",
            "'Mahima Sehgal Automation Deliverable - QA Test Writing.gsheet'\n",
            " Sarcasm_Headlines_Dataset.json\n",
            " testrail-import-trial_proj-2020-05-22.cfg\n"
          ],
          "name": "stdout"
        }
      ]
    },
    {
      "cell_type": "code",
      "metadata": {
        "id": "mkwN0e8bpQgE",
        "colab_type": "code",
        "colab": {
          "base_uri": "https://localhost:8080/",
          "height": 272
        },
        "outputId": "1d8df3b1-d5be-4030-db4e-da5ddb191a23"
      },
      "source": [
        "import pandas as pd\n",
        "df = pd.read_excel (r'input_data.xlsx')\n",
        "print (df)"
      ],
      "execution_count": 61,
      "outputs": [
        {
          "output_type": "stream",
          "text": [
            "                                      Short description  ... Assignment group\n",
            "0                                           login issue  ...            GRP_0\n",
            "1                                               outlook  ...            GRP_0\n",
            "2                                    cant log in to vpn  ...            GRP_0\n",
            "3                         unable to access hr_tool page  ...            GRP_0\n",
            "4                                          skype error   ...            GRP_0\n",
            "...                                                 ...  ...              ...\n",
            "8495                  emails not coming in from zz mail  ...           GRP_29\n",
            "8496                           telephony_software issue  ...            GRP_0\n",
            "8497  vip2: windows password reset for tifpdchb pedx...  ...            GRP_0\n",
            "8498                     machine nÃ£o estÃ¡ funcionando  ...           GRP_62\n",
            "8499  an mehreren pc`s lassen sich verschiedene prgr...  ...           GRP_49\n",
            "\n",
            "[8500 rows x 4 columns]\n"
          ],
          "name": "stdout"
        }
      ]
    },
    {
      "cell_type": "code",
      "metadata": {
        "id": "5GACtZyZqbc2",
        "colab_type": "code",
        "colab": {
          "base_uri": "https://localhost:8080/",
          "height": 35
        },
        "outputId": "14da3432-d404-4200-d233-810ec82d73b0"
      },
      "source": [
        "df.shape"
      ],
      "execution_count": 62,
      "outputs": [
        {
          "output_type": "execute_result",
          "data": {
            "text/plain": [
              "(8500, 4)"
            ]
          },
          "metadata": {
            "tags": []
          },
          "execution_count": 62
        }
      ]
    },
    {
      "cell_type": "code",
      "metadata": {
        "id": "T-k2nqK4q9Cv",
        "colab_type": "code",
        "colab": {
          "base_uri": "https://localhost:8080/",
          "height": 204
        },
        "outputId": "2fd79f29-c506-4ab9-cace-f910c98da647"
      },
      "source": [
        "df.head()"
      ],
      "execution_count": 63,
      "outputs": [
        {
          "output_type": "execute_result",
          "data": {
            "text/html": [
              "<div>\n",
              "<style scoped>\n",
              "    .dataframe tbody tr th:only-of-type {\n",
              "        vertical-align: middle;\n",
              "    }\n",
              "\n",
              "    .dataframe tbody tr th {\n",
              "        vertical-align: top;\n",
              "    }\n",
              "\n",
              "    .dataframe thead th {\n",
              "        text-align: right;\n",
              "    }\n",
              "</style>\n",
              "<table border=\"1\" class=\"dataframe\">\n",
              "  <thead>\n",
              "    <tr style=\"text-align: right;\">\n",
              "      <th></th>\n",
              "      <th>Short description</th>\n",
              "      <th>Description</th>\n",
              "      <th>Caller</th>\n",
              "      <th>Assignment group</th>\n",
              "    </tr>\n",
              "  </thead>\n",
              "  <tbody>\n",
              "    <tr>\n",
              "      <th>0</th>\n",
              "      <td>login issue</td>\n",
              "      <td>-verified user details.(employee# &amp; manager na...</td>\n",
              "      <td>spxjnwir pjlcoqds</td>\n",
              "      <td>GRP_0</td>\n",
              "    </tr>\n",
              "    <tr>\n",
              "      <th>1</th>\n",
              "      <td>outlook</td>\n",
              "      <td>\\r\\n\\r\\nreceived from: hmjdrvpb.komuaywn@gmail...</td>\n",
              "      <td>hmjdrvpb komuaywn</td>\n",
              "      <td>GRP_0</td>\n",
              "    </tr>\n",
              "    <tr>\n",
              "      <th>2</th>\n",
              "      <td>cant log in to vpn</td>\n",
              "      <td>\\r\\n\\r\\nreceived from: eylqgodm.ybqkwiam@gmail...</td>\n",
              "      <td>eylqgodm ybqkwiam</td>\n",
              "      <td>GRP_0</td>\n",
              "    </tr>\n",
              "    <tr>\n",
              "      <th>3</th>\n",
              "      <td>unable to access hr_tool page</td>\n",
              "      <td>unable to access hr_tool page</td>\n",
              "      <td>xbkucsvz gcpydteq</td>\n",
              "      <td>GRP_0</td>\n",
              "    </tr>\n",
              "    <tr>\n",
              "      <th>4</th>\n",
              "      <td>skype error</td>\n",
              "      <td>skype error</td>\n",
              "      <td>owlgqjme qhcozdfx</td>\n",
              "      <td>GRP_0</td>\n",
              "    </tr>\n",
              "  </tbody>\n",
              "</table>\n",
              "</div>"
            ],
            "text/plain": [
              "               Short description  ... Assignment group\n",
              "0                    login issue  ...            GRP_0\n",
              "1                        outlook  ...            GRP_0\n",
              "2             cant log in to vpn  ...            GRP_0\n",
              "3  unable to access hr_tool page  ...            GRP_0\n",
              "4                   skype error   ...            GRP_0\n",
              "\n",
              "[5 rows x 4 columns]"
            ]
          },
          "metadata": {
            "tags": []
          },
          "execution_count": 63
        }
      ]
    },
    {
      "cell_type": "code",
      "metadata": {
        "id": "FOzO4ETrqc0Z",
        "colab_type": "code",
        "colab": {
          "base_uri": "https://localhost:8080/",
          "height": 235
        },
        "outputId": "fc59365e-c241-4eef-bb12-3d8a65782f50"
      },
      "source": [
        "df['Assignment group'].value_counts()"
      ],
      "execution_count": 64,
      "outputs": [
        {
          "output_type": "execute_result",
          "data": {
            "text/plain": [
              "GRP_0     3976\n",
              "GRP_8      661\n",
              "GRP_24     289\n",
              "GRP_12     257\n",
              "GRP_9      252\n",
              "          ... \n",
              "GRP_73       1\n",
              "GRP_61       1\n",
              "GRP_35       1\n",
              "GRP_64       1\n",
              "GRP_70       1\n",
              "Name: Assignment group, Length: 74, dtype: int64"
            ]
          },
          "metadata": {
            "tags": []
          },
          "execution_count": 64
        }
      ]
    },
    {
      "cell_type": "code",
      "metadata": {
        "id": "1899GmmQrEE5",
        "colab_type": "code",
        "colab": {
          "base_uri": "https://localhost:8080/",
          "height": 217
        },
        "outputId": "ea1fd0f5-5796-49b0-f489-48e0e9ea36e1"
      },
      "source": [
        "df.info()"
      ],
      "execution_count": 65,
      "outputs": [
        {
          "output_type": "stream",
          "text": [
            "<class 'pandas.core.frame.DataFrame'>\n",
            "RangeIndex: 8500 entries, 0 to 8499\n",
            "Data columns (total 4 columns):\n",
            " #   Column             Non-Null Count  Dtype \n",
            "---  ------             --------------  ----- \n",
            " 0   Short description  8492 non-null   object\n",
            " 1   Description        8499 non-null   object\n",
            " 2   Caller             8500 non-null   object\n",
            " 3   Assignment group   8500 non-null   object\n",
            "dtypes: object(4)\n",
            "memory usage: 265.8+ KB\n"
          ],
          "name": "stdout"
        }
      ]
    },
    {
      "cell_type": "markdown",
      "metadata": {
        "id": "v39-_fLcyWCG",
        "colab_type": "text"
      },
      "source": [
        "**PRE-PROCESSING STEPS**\n",
        "- Replacing Nan Values with Blank text string\n",
        "- Grouping The Groups with less than 20 Tickets to seperate group\n",
        "- Removing Duplicate Rows\n",
        "- Group Description, Short Description and Caller to one group\n",
        "- Text pre-processing on new text field"
      ]
    },
    {
      "cell_type": "code",
      "metadata": {
        "id": "8GE7zgU7zgcN",
        "colab_type": "code",
        "colab": {
          "base_uri": "https://localhost:8080/",
          "height": 168
        },
        "outputId": "062345e1-0b3e-4a31-9c65-b1c1ffafd2fd"
      },
      "source": [
        "#Before Removing Nan\n",
        "df.describe().transpose()"
      ],
      "execution_count": 66,
      "outputs": [
        {
          "output_type": "execute_result",
          "data": {
            "text/html": [
              "<div>\n",
              "<style scoped>\n",
              "    .dataframe tbody tr th:only-of-type {\n",
              "        vertical-align: middle;\n",
              "    }\n",
              "\n",
              "    .dataframe tbody tr th {\n",
              "        vertical-align: top;\n",
              "    }\n",
              "\n",
              "    .dataframe thead th {\n",
              "        text-align: right;\n",
              "    }\n",
              "</style>\n",
              "<table border=\"1\" class=\"dataframe\">\n",
              "  <thead>\n",
              "    <tr style=\"text-align: right;\">\n",
              "      <th></th>\n",
              "      <th>count</th>\n",
              "      <th>unique</th>\n",
              "      <th>top</th>\n",
              "      <th>freq</th>\n",
              "    </tr>\n",
              "  </thead>\n",
              "  <tbody>\n",
              "    <tr>\n",
              "      <th>Short description</th>\n",
              "      <td>8492</td>\n",
              "      <td>7481</td>\n",
              "      <td>password reset</td>\n",
              "      <td>38</td>\n",
              "    </tr>\n",
              "    <tr>\n",
              "      <th>Description</th>\n",
              "      <td>8499</td>\n",
              "      <td>7817</td>\n",
              "      <td>the</td>\n",
              "      <td>56</td>\n",
              "    </tr>\n",
              "    <tr>\n",
              "      <th>Caller</th>\n",
              "      <td>8500</td>\n",
              "      <td>2950</td>\n",
              "      <td>bpctwhsn kzqsbmtp</td>\n",
              "      <td>810</td>\n",
              "    </tr>\n",
              "    <tr>\n",
              "      <th>Assignment group</th>\n",
              "      <td>8500</td>\n",
              "      <td>74</td>\n",
              "      <td>GRP_0</td>\n",
              "      <td>3976</td>\n",
              "    </tr>\n",
              "  </tbody>\n",
              "</table>\n",
              "</div>"
            ],
            "text/plain": [
              "                  count unique                top  freq\n",
              "Short description  8492   7481     password reset    38\n",
              "Description        8499   7817                the    56\n",
              "Caller             8500   2950  bpctwhsn kzqsbmtp   810\n",
              "Assignment group   8500     74              GRP_0  3976"
            ]
          },
          "metadata": {
            "tags": []
          },
          "execution_count": 66
        }
      ]
    },
    {
      "cell_type": "code",
      "metadata": {
        "id": "UdnZusAxsmDM",
        "colab_type": "code",
        "colab": {
          "base_uri": "https://localhost:8080/",
          "height": 318
        },
        "outputId": "459865ba-1e8c-433e-955f-390a80b7dbe2"
      },
      "source": [
        "df[df.isnull().any(axis=1)]"
      ],
      "execution_count": 67,
      "outputs": [
        {
          "output_type": "execute_result",
          "data": {
            "text/html": [
              "<div>\n",
              "<style scoped>\n",
              "    .dataframe tbody tr th:only-of-type {\n",
              "        vertical-align: middle;\n",
              "    }\n",
              "\n",
              "    .dataframe tbody tr th {\n",
              "        vertical-align: top;\n",
              "    }\n",
              "\n",
              "    .dataframe thead th {\n",
              "        text-align: right;\n",
              "    }\n",
              "</style>\n",
              "<table border=\"1\" class=\"dataframe\">\n",
              "  <thead>\n",
              "    <tr style=\"text-align: right;\">\n",
              "      <th></th>\n",
              "      <th>Short description</th>\n",
              "      <th>Description</th>\n",
              "      <th>Caller</th>\n",
              "      <th>Assignment group</th>\n",
              "    </tr>\n",
              "  </thead>\n",
              "  <tbody>\n",
              "    <tr>\n",
              "      <th>2604</th>\n",
              "      <td>NaN</td>\n",
              "      <td>\\r\\n\\r\\nreceived from: ohdrnswl.rezuibdt@gmail...</td>\n",
              "      <td>ohdrnswl rezuibdt</td>\n",
              "      <td>GRP_34</td>\n",
              "    </tr>\n",
              "    <tr>\n",
              "      <th>3383</th>\n",
              "      <td>NaN</td>\n",
              "      <td>\\r\\n-connected to the user system using teamvi...</td>\n",
              "      <td>qftpazns fxpnytmk</td>\n",
              "      <td>GRP_0</td>\n",
              "    </tr>\n",
              "    <tr>\n",
              "      <th>3906</th>\n",
              "      <td>NaN</td>\n",
              "      <td>-user unable  tologin to vpn.\\r\\n-connected to...</td>\n",
              "      <td>awpcmsey ctdiuqwe</td>\n",
              "      <td>GRP_0</td>\n",
              "    </tr>\n",
              "    <tr>\n",
              "      <th>3910</th>\n",
              "      <td>NaN</td>\n",
              "      <td>-user unable  tologin to vpn.\\r\\n-connected to...</td>\n",
              "      <td>rhwsmefo tvphyura</td>\n",
              "      <td>GRP_0</td>\n",
              "    </tr>\n",
              "    <tr>\n",
              "      <th>3915</th>\n",
              "      <td>NaN</td>\n",
              "      <td>-user unable  tologin to vpn.\\r\\n-connected to...</td>\n",
              "      <td>hxripljo efzounig</td>\n",
              "      <td>GRP_0</td>\n",
              "    </tr>\n",
              "    <tr>\n",
              "      <th>3921</th>\n",
              "      <td>NaN</td>\n",
              "      <td>-user unable  tologin to vpn.\\r\\n-connected to...</td>\n",
              "      <td>cziadygo veiosxby</td>\n",
              "      <td>GRP_0</td>\n",
              "    </tr>\n",
              "    <tr>\n",
              "      <th>3924</th>\n",
              "      <td>NaN</td>\n",
              "      <td>name:wvqgbdhm fwchqjor\\nlanguage:\\nbrowser:mic...</td>\n",
              "      <td>wvqgbdhm fwchqjor</td>\n",
              "      <td>GRP_0</td>\n",
              "    </tr>\n",
              "    <tr>\n",
              "      <th>4341</th>\n",
              "      <td>NaN</td>\n",
              "      <td>\\r\\n\\r\\nreceived from: eqmuniov.ehxkcbgj@gmail...</td>\n",
              "      <td>eqmuniov ehxkcbgj</td>\n",
              "      <td>GRP_0</td>\n",
              "    </tr>\n",
              "    <tr>\n",
              "      <th>4395</th>\n",
              "      <td>i am locked out of skype</td>\n",
              "      <td>NaN</td>\n",
              "      <td>viyglzfo ajtfzpkb</td>\n",
              "      <td>GRP_0</td>\n",
              "    </tr>\n",
              "  </tbody>\n",
              "</table>\n",
              "</div>"
            ],
            "text/plain": [
              "             Short description  ... Assignment group\n",
              "2604                       NaN  ...           GRP_34\n",
              "3383                       NaN  ...            GRP_0\n",
              "3906                       NaN  ...            GRP_0\n",
              "3910                       NaN  ...            GRP_0\n",
              "3915                       NaN  ...            GRP_0\n",
              "3921                       NaN  ...            GRP_0\n",
              "3924                       NaN  ...            GRP_0\n",
              "4341                       NaN  ...            GRP_0\n",
              "4395  i am locked out of skype  ...            GRP_0\n",
              "\n",
              "[9 rows x 4 columns]"
            ]
          },
          "metadata": {
            "tags": []
          },
          "execution_count": 67
        }
      ]
    },
    {
      "cell_type": "code",
      "metadata": {
        "id": "aWJoxqYj0o9N",
        "colab_type": "code",
        "colab": {}
      },
      "source": [
        "import numpy as np\n",
        "# Replace all Nan entries with empty string\n",
        "df = df.replace(np.nan, '', regex=True)"
      ],
      "execution_count": 68,
      "outputs": []
    },
    {
      "cell_type": "code",
      "metadata": {
        "id": "VrL5gWpMtMBW",
        "colab_type": "code",
        "colab": {
          "base_uri": "https://localhost:8080/",
          "height": 168
        },
        "outputId": "3b69086e-0549-40e1-cacc-a5a4c216c011"
      },
      "source": [
        "#After Removing Nan\n",
        "df.describe().transpose()"
      ],
      "execution_count": 69,
      "outputs": [
        {
          "output_type": "execute_result",
          "data": {
            "text/html": [
              "<div>\n",
              "<style scoped>\n",
              "    .dataframe tbody tr th:only-of-type {\n",
              "        vertical-align: middle;\n",
              "    }\n",
              "\n",
              "    .dataframe tbody tr th {\n",
              "        vertical-align: top;\n",
              "    }\n",
              "\n",
              "    .dataframe thead th {\n",
              "        text-align: right;\n",
              "    }\n",
              "</style>\n",
              "<table border=\"1\" class=\"dataframe\">\n",
              "  <thead>\n",
              "    <tr style=\"text-align: right;\">\n",
              "      <th></th>\n",
              "      <th>count</th>\n",
              "      <th>unique</th>\n",
              "      <th>top</th>\n",
              "      <th>freq</th>\n",
              "    </tr>\n",
              "  </thead>\n",
              "  <tbody>\n",
              "    <tr>\n",
              "      <th>Short description</th>\n",
              "      <td>8500</td>\n",
              "      <td>7482</td>\n",
              "      <td>password reset</td>\n",
              "      <td>38</td>\n",
              "    </tr>\n",
              "    <tr>\n",
              "      <th>Description</th>\n",
              "      <td>8500</td>\n",
              "      <td>7818</td>\n",
              "      <td>the</td>\n",
              "      <td>56</td>\n",
              "    </tr>\n",
              "    <tr>\n",
              "      <th>Caller</th>\n",
              "      <td>8500</td>\n",
              "      <td>2950</td>\n",
              "      <td>bpctwhsn kzqsbmtp</td>\n",
              "      <td>810</td>\n",
              "    </tr>\n",
              "    <tr>\n",
              "      <th>Assignment group</th>\n",
              "      <td>8500</td>\n",
              "      <td>74</td>\n",
              "      <td>GRP_0</td>\n",
              "      <td>3976</td>\n",
              "    </tr>\n",
              "  </tbody>\n",
              "</table>\n",
              "</div>"
            ],
            "text/plain": [
              "                  count unique                top  freq\n",
              "Short description  8500   7482     password reset    38\n",
              "Description        8500   7818                the    56\n",
              "Caller             8500   2950  bpctwhsn kzqsbmtp   810\n",
              "Assignment group   8500     74              GRP_0  3976"
            ]
          },
          "metadata": {
            "tags": []
          },
          "execution_count": 69
        }
      ]
    },
    {
      "cell_type": "code",
      "metadata": {
        "id": "G1ivYQKetT86",
        "colab_type": "code",
        "colab": {
          "base_uri": "https://localhost:8080/",
          "height": 632
        },
        "outputId": "8dfa2432-121d-44f5-ee22-e68893c29fca"
      },
      "source": [
        "# Groupby by Group ID\n",
        "group_df = df.groupby(\"Assignment group\")\n",
        "\n",
        "plt.figure(figsize=(15,10))\n",
        "group_df.size().sort_values(ascending=False).plot.bar()\n",
        "plt.xticks(rotation=50)\n",
        "plt.xlabel(\"Group Names\")\n",
        "plt.ylabel(\"Count of Tickets\")\n",
        "plt.show()"
      ],
      "execution_count": 70,
      "outputs": [
        {
          "output_type": "display_data",
          "data": {
            "image/png": "[encoded data removed]",
            "text/plain": [
              "<Figure size 1080x720 with 1 Axes>"
            ]
          },
          "metadata": {
            "tags": [],
            "needs_background": "light"
          }
        }
      ]
    },
    {
      "cell_type": "code",
      "metadata": {
        "id": "jATp8CfEwfSl",
        "colab_type": "code",
        "colab": {
          "base_uri": "https://localhost:8080/",
          "height": 173
        },
        "outputId": "f80041a6-8b4c-4ab0-ce2e-10fb86887059"
      },
      "source": [
        "#Combining Groups with less tickets\n",
        "small_df = df[df.groupby('Assignment group')['Assignment group'].transform('size') < 50]\n",
        "small_df.describe()\n"
      ],
      "execution_count": 71,
      "outputs": [
        {
          "output_type": "execute_result",
          "data": {
            "text/html": [
              "<div>\n",
              "<style scoped>\n",
              "    .dataframe tbody tr th:only-of-type {\n",
              "        vertical-align: middle;\n",
              "    }\n",
              "\n",
              "    .dataframe tbody tr th {\n",
              "        vertical-align: top;\n",
              "    }\n",
              "\n",
              "    .dataframe thead th {\n",
              "        text-align: right;\n",
              "    }\n",
              "</style>\n",
              "<table border=\"1\" class=\"dataframe\">\n",
              "  <thead>\n",
              "    <tr style=\"text-align: right;\">\n",
              "      <th></th>\n",
              "      <th>Short description</th>\n",
              "      <th>Description</th>\n",
              "      <th>Caller</th>\n",
              "      <th>Assignment group</th>\n",
              "    </tr>\n",
              "  </thead>\n",
              "  <tbody>\n",
              "    <tr>\n",
              "      <th>count</th>\n",
              "      <td>764</td>\n",
              "      <td>764</td>\n",
              "      <td>764</td>\n",
              "      <td>764</td>\n",
              "    </tr>\n",
              "    <tr>\n",
              "      <th>unique</th>\n",
              "      <td>746</td>\n",
              "      <td>755</td>\n",
              "      <td>471</td>\n",
              "      <td>50</td>\n",
              "    </tr>\n",
              "    <tr>\n",
              "      <th>top</th>\n",
              "      <td>msd crm</td>\n",
              "      <td>received from: monitoring_tool@company.com\\r\\n...</td>\n",
              "      <td>bpctwhsn kzqsbmtp</td>\n",
              "      <td>GRP_40</td>\n",
              "    </tr>\n",
              "    <tr>\n",
              "      <th>freq</th>\n",
              "      <td>4</td>\n",
              "      <td>3</td>\n",
              "      <td>33</td>\n",
              "      <td>45</td>\n",
              "    </tr>\n",
              "  </tbody>\n",
              "</table>\n",
              "</div>"
            ],
            "text/plain": [
              "       Short description  ... Assignment group\n",
              "count                764  ...              764\n",
              "unique               746  ...               50\n",
              "top              msd crm  ...           GRP_40\n",
              "freq                   4  ...               45\n",
              "\n",
              "[4 rows x 4 columns]"
            ]
          },
          "metadata": {
            "tags": []
          },
          "execution_count": 71
        }
      ]
    },
    {
      "cell_type": "code",
      "metadata": {
        "id": "ueg8aFNkbjy6",
        "colab_type": "code",
        "colab": {}
      },
      "source": [
        "df = df[df.groupby('Assignment group')['Assignment group'].transform('size') > 50]"
      ],
      "execution_count": 72,
      "outputs": []
    },
    {
      "cell_type": "code",
      "metadata": {
        "id": "1k7RAzvG2SbE",
        "colab_type": "code",
        "colab": {
          "base_uri": "https://localhost:8080/",
          "height": 632
        },
        "outputId": "f49f0b54-f248-4f87-c5f0-eb4b83afd109"
      },
      "source": [
        "# Groupby by Group ID\n",
        "group_df = df.groupby(\"Assignment group\")\n",
        "plt.figure(figsize=(15,10))\n",
        "group_df.size().sort_values(ascending=False).plot.bar()\n",
        "plt.xticks(rotation=50)\n",
        "plt.xlabel(\"Group Names\")\n",
        "plt.ylabel(\"Count of Tickets\")\n",
        "plt.show()"
      ],
      "execution_count": 73,
      "outputs": [
        {
          "output_type": "display_data",
          "data": {
            "image/png": "[encoded data removed]",
            "text/plain": [
              "<Figure size 1080x720 with 1 Axes>"
            ]
          },
          "metadata": {
            "tags": [],
            "needs_background": "light"
          }
        }
      ]
    },
    {
      "cell_type": "code",
      "metadata": {
        "id": "AWKUWlJC2-Iw",
        "colab_type": "code",
        "colab": {}
      },
      "source": [
        "#Remove Duplicate Rows\n",
        "duplicateRowsDF = df[df.duplicated()]\n",
        "duplicateRowsDF.head()\n",
        "df.drop_duplicates(keep=False,inplace=True)"
      ],
      "execution_count": 74,
      "outputs": []
    },
    {
      "cell_type": "code",
      "metadata": {
        "id": "idlDdrAK3MBg",
        "colab_type": "code",
        "colab": {
          "base_uri": "https://localhost:8080/",
          "height": 173
        },
        "outputId": "90751251-38b6-456a-cf41-c10777968c83"
      },
      "source": [
        "df.describe()"
      ],
      "execution_count": 75,
      "outputs": [
        {
          "output_type": "execute_result",
          "data": {
            "text/html": [
              "<div>\n",
              "<style scoped>\n",
              "    .dataframe tbody tr th:only-of-type {\n",
              "        vertical-align: middle;\n",
              "    }\n",
              "\n",
              "    .dataframe tbody tr th {\n",
              "        vertical-align: top;\n",
              "    }\n",
              "\n",
              "    .dataframe thead th {\n",
              "        text-align: right;\n",
              "    }\n",
              "</style>\n",
              "<table border=\"1\" class=\"dataframe\">\n",
              "  <thead>\n",
              "    <tr style=\"text-align: right;\">\n",
              "      <th></th>\n",
              "      <th>Short description</th>\n",
              "      <th>Description</th>\n",
              "      <th>Caller</th>\n",
              "      <th>Assignment group</th>\n",
              "    </tr>\n",
              "  </thead>\n",
              "  <tbody>\n",
              "    <tr>\n",
              "      <th>count</th>\n",
              "      <td>7606</td>\n",
              "      <td>7606</td>\n",
              "      <td>7606</td>\n",
              "      <td>7606</td>\n",
              "    </tr>\n",
              "    <tr>\n",
              "      <th>unique</th>\n",
              "      <td>6731</td>\n",
              "      <td>7038</td>\n",
              "      <td>2785</td>\n",
              "      <td>24</td>\n",
              "    </tr>\n",
              "    <tr>\n",
              "      <th>top</th>\n",
              "      <td>password reset</td>\n",
              "      <td>the</td>\n",
              "      <td>bpctwhsn kzqsbmtp</td>\n",
              "      <td>GRP_0</td>\n",
              "    </tr>\n",
              "    <tr>\n",
              "      <th>freq</th>\n",
              "      <td>38</td>\n",
              "      <td>34</td>\n",
              "      <td>744</td>\n",
              "      <td>3908</td>\n",
              "    </tr>\n",
              "  </tbody>\n",
              "</table>\n",
              "</div>"
            ],
            "text/plain": [
              "       Short description Description             Caller Assignment group\n",
              "count               7606        7606               7606             7606\n",
              "unique              6731        7038               2785               24\n",
              "top       password reset         the  bpctwhsn kzqsbmtp            GRP_0\n",
              "freq                  38          34                744             3908"
            ]
          },
          "metadata": {
            "tags": []
          },
          "execution_count": 75
        }
      ]
    },
    {
      "cell_type": "code",
      "metadata": {
        "id": "p80yPzFVAb_K",
        "colab_type": "code",
        "colab": {
          "base_uri": "https://localhost:8080/",
          "height": 102
        },
        "outputId": "be7cb159-c402-4bbd-9045-21fe3d4b76a0"
      },
      "source": [
        "df.iloc[3]"
      ],
      "execution_count": 79,
      "outputs": [
        {
          "output_type": "execute_result",
          "data": {
            "text/plain": [
              "Short description    unable to access hr_tool page\n",
              "Description          unable to access hr_tool page\n",
              "Caller                           xbkucsvz gcpydteq\n",
              "Assignment group                             GRP_0\n",
              "Name: 3, dtype: object"
            ]
          },
          "metadata": {
            "tags": []
          },
          "execution_count": 79
        }
      ]
    },
    {
      "cell_type": "code",
      "metadata": {
        "id": "r0oEgPGrAFB7",
        "colab_type": "code",
        "colab": {}
      },
      "source": [
        "#Remove Short Description When Short Description == Description to remove redundant data for analysis\n",
        "df.loc[df['Description'] == df['Short description'], 'Short description'] = ''"
      ],
      "execution_count": 82,
      "outputs": []
    },
    {
      "cell_type": "code",
      "metadata": {
        "id": "a0yt5ZfWBYL9",
        "colab_type": "code",
        "colab": {
          "base_uri": "https://localhost:8080/",
          "height": 102
        },
        "outputId": "c3200867-0662-404f-c718-f494810854b3"
      },
      "source": [
        "df.iloc[3]"
      ],
      "execution_count": 83,
      "outputs": [
        {
          "output_type": "execute_result",
          "data": {
            "text/plain": [
              "Short description                                 \n",
              "Description          unable to access hr_tool page\n",
              "Caller                           xbkucsvz gcpydteq\n",
              "Assignment group                             GRP_0\n",
              "Name: 3, dtype: object"
            ]
          },
          "metadata": {
            "tags": []
          },
          "execution_count": 83
        }
      ]
    },
    {
      "cell_type": "code",
      "metadata": {
        "id": "aQYtR_-V2qSw",
        "colab_type": "code",
        "colab": {}
      },
      "source": [
        "#Combine Text Fields\n",
        "df['Final Description'] = df['Short description'].str.cat(df['Description'],sep=\" \")\n",
        "df['Final Description'] = df['Final Description'].str.cat(df['Caller'],sep=\" \")"
      ],
      "execution_count": 85,
      "outputs": []
    },
    {
      "cell_type": "code",
      "metadata": {
        "id": "TUB-RmWh3umr",
        "colab_type": "code",
        "colab": {
          "base_uri": "https://localhost:8080/",
          "height": 119
        },
        "outputId": "5c3cdecc-284d-4ddd-b7dd-10f03bd55735"
      },
      "source": [
        "df['Final Description'].head()"
      ],
      "execution_count": 86,
      "outputs": [
        {
          "output_type": "execute_result",
          "data": {
            "text/plain": [
              "0    login issue -verified user details.(employee# ...\n",
              "1    outlook \\r\\n\\r\\nreceived from: hmjdrvpb.komuay...\n",
              "2    cant log in to vpn \\r\\n\\r\\nreceived from: eylq...\n",
              "3      unable to access hr_tool page xbkucsvz gcpydteq\n",
              "4                       skype error  owlgqjme qhcozdfx\n",
              "Name: Final Description, dtype: object"
            ]
          },
          "metadata": {
            "tags": []
          },
          "execution_count": 86
        }
      ]
    },
    {
      "cell_type": "code",
      "metadata": {
        "id": "NBs5tqe5Cbia",
        "colab_type": "code",
        "colab": {
          "base_uri": "https://localhost:8080/",
          "height": 216
        },
        "outputId": "6f401fe1-f6c8-4c8f-eedd-1c468388b733"
      },
      "source": [
        "#Showcase Word Cloud\n",
        "from PIL import Image\n",
        "from wordcloud import WordCloud, ImageColorGenerator\n",
        "\n",
        "\n",
        "text = \" \".join(review for review in df['Final Description'])\n",
        "print (\"There are {} words in the combination of all review.\".format(len(text)))\n",
        "# Generate a word cloud image\n",
        "wordcloud = WordCloud(background_color=\"white\").generate(text)\n",
        "\n",
        "# Display the generated image:\n",
        "# the matplotlib way:\n",
        "plt.imshow(wordcloud, interpolation='bilinear')\n",
        "plt.axis(\"off\")\n",
        "plt.show()"
      ],
      "execution_count": 88,
      "outputs": [
        {
          "output_type": "stream",
          "text": [
            "There are 1913499 words in the combination of all review.\n"
          ],
          "name": "stdout"
        },
        {
          "output_type": "display_data",
          "data": {
            "image/png": "[encoded data removed]",
            "text/plain": [
              "<Figure size 432x288 with 1 Axes>"
            ]
          },
          "metadata": {
            "tags": [],
            "needs_background": "light"
          }
        }
      ]
    },
    {
      "cell_type": "code",
      "metadata": {
        "id": "6pte8TMq7b7m",
        "colab_type": "code",
        "colab": {}
      },
      "source": [
        "## Decontract the words\n",
        "import re\n",
        "def decontract(text):\n",
        "    text = re.sub(r\"won\\'t\", \"will not\", text)\n",
        "    text = re.sub(r\"can\\'t\", \"can not\", text)\n",
        "    text = re.sub(r\"cant\", \"can not\", text)\n",
        "    text = re.sub(r\"n\\'t\", \" not\", text)\n",
        "    text = re.sub(r\"\\'re\", \" are\", text)\n",
        "    text = re.sub(r\"\\'s\", \" is\", text)\n",
        "    text = re.sub(r\"\\'d\", \" would\", text)\n",
        "    text = re.sub(r\"\\'ll\", \" will\", text)\n",
        "    text = re.sub(r\"\\'t\", \" not\", text)\n",
        "    text = re.sub(r\"\\'ve\", \" have\", text)\n",
        "    text = re.sub(r\"\\'m\", \" am\", text)\n",
        "    return text\n",
        "\n"
      ],
      "execution_count": 89,
      "outputs": []
    },
    {
      "cell_type": "code",
      "metadata": {
        "id": "0bLGI4qH7h_7",
        "colab_type": "code",
        "colab": {
          "base_uri": "https://localhost:8080/",
          "height": 198
        },
        "outputId": "ab8868f6-085e-476b-f4b9-66830de20c09"
      },
      "source": [
        "df['Final Description'] = df['Final Description'].apply(lambda x: decontract(x))\n",
        "df.head()"
      ],
      "execution_count": 90,
      "outputs": [
        {
          "output_type": "execute_result",
          "data": {
            "text/html": [
              "<div>\n",
              "<style scoped>\n",
              "    .dataframe tbody tr th:only-of-type {\n",
              "        vertical-align: middle;\n",
              "    }\n",
              "\n",
              "    .dataframe tbody tr th {\n",
              "        vertical-align: top;\n",
              "    }\n",
              "\n",
              "    .dataframe thead th {\n",
              "        text-align: right;\n",
              "    }\n",
              "</style>\n",
              "<table border=\"1\" class=\"dataframe\">\n",
              "  <thead>\n",
              "    <tr style=\"text-align: right;\">\n",
              "      <th></th>\n",
              "      <th>Short description</th>\n",
              "      <th>Description</th>\n",
              "      <th>Caller</th>\n",
              "      <th>Assignment group</th>\n",
              "      <th>Final Description</th>\n",
              "    </tr>\n",
              "  </thead>\n",
              "  <tbody>\n",
              "    <tr>\n",
              "      <th>0</th>\n",
              "      <td>login issue</td>\n",
              "      <td>-verified user details.(employee# &amp; manager na...</td>\n",
              "      <td>spxjnwir pjlcoqds</td>\n",
              "      <td>GRP_0</td>\n",
              "      <td>login issue -verified user details.(employee# ...</td>\n",
              "    </tr>\n",
              "    <tr>\n",
              "      <th>1</th>\n",
              "      <td>outlook</td>\n",
              "      <td>\\r\\n\\r\\nreceived from: hmjdrvpb.komuaywn@gmail...</td>\n",
              "      <td>hmjdrvpb komuaywn</td>\n",
              "      <td>GRP_0</td>\n",
              "      <td>outlook \\r\\n\\r\\nreceived from: hmjdrvpb.komuay...</td>\n",
              "    </tr>\n",
              "    <tr>\n",
              "      <th>2</th>\n",
              "      <td>cant log in to vpn</td>\n",
              "      <td>\\r\\n\\r\\nreceived from: eylqgodm.ybqkwiam@gmail...</td>\n",
              "      <td>eylqgodm ybqkwiam</td>\n",
              "      <td>GRP_0</td>\n",
              "      <td>can not log in to vpn \\r\\n\\r\\nreceived from: e...</td>\n",
              "    </tr>\n",
              "    <tr>\n",
              "      <th>3</th>\n",
              "      <td></td>\n",
              "      <td>unable to access hr_tool page</td>\n",
              "      <td>xbkucsvz gcpydteq</td>\n",
              "      <td>GRP_0</td>\n",
              "      <td>unable to access hr_tool page xbkucsvz gcpydteq</td>\n",
              "    </tr>\n",
              "    <tr>\n",
              "      <th>4</th>\n",
              "      <td></td>\n",
              "      <td>skype error</td>\n",
              "      <td>owlgqjme qhcozdfx</td>\n",
              "      <td>GRP_0</td>\n",
              "      <td>skype error  owlgqjme qhcozdfx</td>\n",
              "    </tr>\n",
              "  </tbody>\n",
              "</table>\n",
              "</div>"
            ],
            "text/plain": [
              "    Short description  ...                                  Final Description\n",
              "0         login issue  ...  login issue -verified user details.(employee# ...\n",
              "1             outlook  ...  outlook \\r\\n\\r\\nreceived from: hmjdrvpb.komuay...\n",
              "2  cant log in to vpn  ...  can not log in to vpn \\r\\n\\r\\nreceived from: e...\n",
              "3                      ...    unable to access hr_tool page xbkucsvz gcpydteq\n",
              "4                      ...                     skype error  owlgqjme qhcozdfx\n",
              "\n",
              "[5 rows x 5 columns]"
            ]
          },
          "metadata": {
            "tags": []
          },
          "execution_count": 90
        }
      ]
    },
    {
      "cell_type": "code",
      "metadata": {
        "id": "8nUjBjoZ5bgI",
        "colab_type": "code",
        "colab": {}
      },
      "source": [
        "# Data Normalization\n",
        "import re\n",
        "def  clean_text(df, text_field, new_text_field_name):\n",
        "    #convert to lower case\n",
        "    df[new_text_field_name] = df[text_field].str.lower()\n",
        "    df[new_text_field_name] = df[new_text_field_name].apply(lambda elem: re.sub(r\"(@[A-Za-z0-9]+)|([^0-9A-Za-z \\t])|(\\w+:\\/\\/\\S+)|^rt|http.+?\", \" \", elem))  \n",
        "    # remove numbers\n",
        "    df[new_text_field_name] = df[new_text_field_name].apply(lambda elem: re.sub(r\"\\d+\", \"\", elem))\n",
        "    #remove single letters\n",
        "    df[new_text_field_name] = df[new_text_field_name].apply(lambda elem: re.sub(r\"\\b[a-zA-Z]\\b\", \"\", elem))  \n",
        "    return df"
      ],
      "execution_count": 91,
      "outputs": []
    },
    {
      "cell_type": "code",
      "metadata": {
        "id": "DEvmMSh852Pe",
        "colab_type": "code",
        "colab": {
          "base_uri": "https://localhost:8080/",
          "height": 597
        },
        "outputId": "59abb312-c122-41db-8120-74c25fd22647"
      },
      "source": [
        "df_clean = clean_text(df, 'Final Description', 'Description Clean')\n",
        "df_clean\n"
      ],
      "execution_count": 92,
      "outputs": [
        {
          "output_type": "execute_result",
          "data": {
            "text/html": [
              "<div>\n",
              "<style scoped>\n",
              "    .dataframe tbody tr th:only-of-type {\n",
              "        vertical-align: middle;\n",
              "    }\n",
              "\n",
              "    .dataframe tbody tr th {\n",
              "        vertical-align: top;\n",
              "    }\n",
              "\n",
              "    .dataframe thead th {\n",
              "        text-align: right;\n",
              "    }\n",
              "</style>\n",
              "<table border=\"1\" class=\"dataframe\">\n",
              "  <thead>\n",
              "    <tr style=\"text-align: right;\">\n",
              "      <th></th>\n",
              "      <th>Short description</th>\n",
              "      <th>Description</th>\n",
              "      <th>Caller</th>\n",
              "      <th>Assignment group</th>\n",
              "      <th>Final Description</th>\n",
              "      <th>Description Clean</th>\n",
              "    </tr>\n",
              "  </thead>\n",
              "  <tbody>\n",
              "    <tr>\n",
              "      <th>0</th>\n",
              "      <td>login issue</td>\n",
              "      <td>-verified user details.(employee# &amp; manager na...</td>\n",
              "      <td>spxjnwir pjlcoqds</td>\n",
              "      <td>GRP_0</td>\n",
              "      <td>login issue -verified user details.(employee# ...</td>\n",
              "      <td>login issue  verified user details  employee  ...</td>\n",
              "    </tr>\n",
              "    <tr>\n",
              "      <th>1</th>\n",
              "      <td>outlook</td>\n",
              "      <td>\\r\\n\\r\\nreceived from: hmjdrvpb.komuaywn@gmail...</td>\n",
              "      <td>hmjdrvpb komuaywn</td>\n",
              "      <td>GRP_0</td>\n",
              "      <td>outlook \\r\\n\\r\\nreceived from: hmjdrvpb.komuay...</td>\n",
              "      <td>outlook     received from  hmjdrvpb komuaywn  ...</td>\n",
              "    </tr>\n",
              "    <tr>\n",
              "      <th>2</th>\n",
              "      <td>cant log in to vpn</td>\n",
              "      <td>\\r\\n\\r\\nreceived from: eylqgodm.ybqkwiam@gmail...</td>\n",
              "      <td>eylqgodm ybqkwiam</td>\n",
              "      <td>GRP_0</td>\n",
              "      <td>can not log in to vpn \\r\\n\\r\\nreceived from: e...</td>\n",
              "      <td>can not log in to vpn     received from  eylqg...</td>\n",
              "    </tr>\n",
              "    <tr>\n",
              "      <th>3</th>\n",
              "      <td></td>\n",
              "      <td>unable to access hr_tool page</td>\n",
              "      <td>xbkucsvz gcpydteq</td>\n",
              "      <td>GRP_0</td>\n",
              "      <td>unable to access hr_tool page xbkucsvz gcpydteq</td>\n",
              "      <td>unable to access hr tool page xbkucsvz gcpydteq</td>\n",
              "    </tr>\n",
              "    <tr>\n",
              "      <th>4</th>\n",
              "      <td></td>\n",
              "      <td>skype error</td>\n",
              "      <td>owlgqjme qhcozdfx</td>\n",
              "      <td>GRP_0</td>\n",
              "      <td>skype error  owlgqjme qhcozdfx</td>\n",
              "      <td>skype error  owlgqjme qhcozdfx</td>\n",
              "    </tr>\n",
              "    <tr>\n",
              "      <th>...</th>\n",
              "      <td>...</td>\n",
              "      <td>...</td>\n",
              "      <td>...</td>\n",
              "      <td>...</td>\n",
              "      <td>...</td>\n",
              "      <td>...</td>\n",
              "    </tr>\n",
              "    <tr>\n",
              "      <th>8493</th>\n",
              "      <td>erp fi  - ob09, two accounts to be added</td>\n",
              "      <td>i am sorry, i have another two accounts that n...</td>\n",
              "      <td>ipwjorsc uboapexr</td>\n",
              "      <td>GRP_10</td>\n",
              "      <td>erp fi  - ob09, two accounts to be added i am ...</td>\n",
              "      <td>erp fi    ob  two accounts to be added  am sor...</td>\n",
              "    </tr>\n",
              "    <tr>\n",
              "      <th>8494</th>\n",
              "      <td></td>\n",
              "      <td>tablet needs reimaged due to multiple issues w...</td>\n",
              "      <td>cpmaidhj elbaqmtp</td>\n",
              "      <td>GRP_3</td>\n",
              "      <td>tablet needs reimaged due to multiple issues ...</td>\n",
              "      <td>tablet needs reimaged due to multiple issues ...</td>\n",
              "    </tr>\n",
              "    <tr>\n",
              "      <th>8495</th>\n",
              "      <td>emails not coming in from zz mail</td>\n",
              "      <td>\\r\\n\\r\\nreceived from: avglmrts.vhqmtiua@gmail...</td>\n",
              "      <td>avglmrts vhqmtiua</td>\n",
              "      <td>GRP_29</td>\n",
              "      <td>emails not coming in from zz mail \\r\\n\\r\\nrece...</td>\n",
              "      <td>emails not coming in from zz mail     received...</td>\n",
              "    </tr>\n",
              "    <tr>\n",
              "      <th>8496</th>\n",
              "      <td></td>\n",
              "      <td>telephony_software issue</td>\n",
              "      <td>rbozivdq gmlhrtvp</td>\n",
              "      <td>GRP_0</td>\n",
              "      <td>telephony_software issue rbozivdq gmlhrtvp</td>\n",
              "      <td>telephony software issue rbozivdq gmlhrtvp</td>\n",
              "    </tr>\n",
              "    <tr>\n",
              "      <th>8497</th>\n",
              "      <td></td>\n",
              "      <td>vip2: windows password reset for tifpdchb pedx...</td>\n",
              "      <td>oybwdsgx oxyhwrfz</td>\n",
              "      <td>GRP_0</td>\n",
              "      <td>vip2: windows password reset for tifpdchb ped...</td>\n",
              "      <td>vip  windows password reset for tifpdchb pedx...</td>\n",
              "    </tr>\n",
              "  </tbody>\n",
              "</table>\n",
              "<p>7606 rows × 6 columns</p>\n",
              "</div>"
            ],
            "text/plain": [
              "                             Short description  ...                                  Description Clean\n",
              "0                                  login issue  ...  login issue  verified user details  employee  ...\n",
              "1                                      outlook  ...  outlook     received from  hmjdrvpb komuaywn  ...\n",
              "2                           cant log in to vpn  ...  can not log in to vpn     received from  eylqg...\n",
              "3                                               ...    unable to access hr tool page xbkucsvz gcpydteq\n",
              "4                                               ...                     skype error  owlgqjme qhcozdfx\n",
              "...                                        ...  ...                                                ...\n",
              "8493  erp fi  - ob09, two accounts to be added  ...  erp fi    ob  two accounts to be added  am sor...\n",
              "8494                                            ...   tablet needs reimaged due to multiple issues ...\n",
              "8495         emails not coming in from zz mail  ...  emails not coming in from zz mail     received...\n",
              "8496                                            ...         telephony software issue rbozivdq gmlhrtvp\n",
              "8497                                            ...   vip  windows password reset for tifpdchb pedx...\n",
              "\n",
              "[7606 rows x 6 columns]"
            ]
          },
          "metadata": {
            "tags": []
          },
          "execution_count": 92
        }
      ]
    },
    {
      "cell_type": "code",
      "metadata": {
        "id": "1QItutbB5T4X",
        "colab_type": "code",
        "colab": {
          "base_uri": "https://localhost:8080/",
          "height": 198
        },
        "outputId": "12bfdaa6-3d16-4429-8e88-d1142014c49f"
      },
      "source": [
        "df_clean = df_clean.drop(['Short description', 'Description','Caller','Final Description'], axis=1)\n",
        "df_clean.head()"
      ],
      "execution_count": 93,
      "outputs": [
        {
          "output_type": "execute_result",
          "data": {
            "text/html": [
              "<div>\n",
              "<style scoped>\n",
              "    .dataframe tbody tr th:only-of-type {\n",
              "        vertical-align: middle;\n",
              "    }\n",
              "\n",
              "    .dataframe tbody tr th {\n",
              "        vertical-align: top;\n",
              "    }\n",
              "\n",
              "    .dataframe thead th {\n",
              "        text-align: right;\n",
              "    }\n",
              "</style>\n",
              "<table border=\"1\" class=\"dataframe\">\n",
              "  <thead>\n",
              "    <tr style=\"text-align: right;\">\n",
              "      <th></th>\n",
              "      <th>Assignment group</th>\n",
              "      <th>Description Clean</th>\n",
              "    </tr>\n",
              "  </thead>\n",
              "  <tbody>\n",
              "    <tr>\n",
              "      <th>0</th>\n",
              "      <td>GRP_0</td>\n",
              "      <td>login issue  verified user details  employee  ...</td>\n",
              "    </tr>\n",
              "    <tr>\n",
              "      <th>1</th>\n",
              "      <td>GRP_0</td>\n",
              "      <td>outlook     received from  hmjdrvpb komuaywn  ...</td>\n",
              "    </tr>\n",
              "    <tr>\n",
              "      <th>2</th>\n",
              "      <td>GRP_0</td>\n",
              "      <td>can not log in to vpn     received from  eylqg...</td>\n",
              "    </tr>\n",
              "    <tr>\n",
              "      <th>3</th>\n",
              "      <td>GRP_0</td>\n",
              "      <td>unable to access hr tool page xbkucsvz gcpydteq</td>\n",
              "    </tr>\n",
              "    <tr>\n",
              "      <th>4</th>\n",
              "      <td>GRP_0</td>\n",
              "      <td>skype error  owlgqjme qhcozdfx</td>\n",
              "    </tr>\n",
              "  </tbody>\n",
              "</table>\n",
              "</div>"
            ],
            "text/plain": [
              "  Assignment group                                  Description Clean\n",
              "0            GRP_0  login issue  verified user details  employee  ...\n",
              "1            GRP_0  outlook     received from  hmjdrvpb komuaywn  ...\n",
              "2            GRP_0  can not log in to vpn     received from  eylqg...\n",
              "3            GRP_0    unable to access hr tool page xbkucsvz gcpydteq\n",
              "4            GRP_0                     skype error  owlgqjme qhcozdfx"
            ]
          },
          "metadata": {
            "tags": []
          },
          "execution_count": 93
        }
      ]
    },
    {
      "cell_type": "code",
      "metadata": {
        "id": "L9q_5nDn54eM",
        "colab_type": "code",
        "colab": {
          "base_uri": "https://localhost:8080/",
          "height": 215
        },
        "outputId": "777805e3-5f56-4d20-a7fd-09178e6524bc"
      },
      "source": [
        "#Showcase Word Cloud\n",
        "from PIL import Image\n",
        "from wordcloud import WordCloud, ImageColorGenerator\n",
        "\n",
        "\n",
        "text = \" \".join(review for review in df_clean['Description Clean'])\n",
        "print (\"There are {} words in the combination of all review.\".format(len(text)))\n",
        "# Generate a word cloud image\n",
        "wordcloud = WordCloud(background_color=\"white\").generate(text)\n",
        "\n",
        "# Display the generated image:\n",
        "# the matplotlib way:\n",
        "plt.imshow(wordcloud, interpolation='bilinear')\n",
        "plt.axis(\"off\")\n",
        "plt.show()"
      ],
      "execution_count": 94,
      "outputs": [
        {
          "output_type": "stream",
          "text": [
            "There are 1765816 words in the combination of all review.\n"
          ],
          "name": "stdout"
        },
        {
          "output_type": "display_data",
          "data": {
            "image/png": "[encoded data removed]",
            "text/plain": [
              "<Figure size 432x288 with 1 Axes>"
            ]
          },
          "metadata": {
            "tags": [],
            "needs_background": "light"
          }
        }
      ]
    },
    {
      "cell_type": "code",
      "metadata": {
        "id": "mls9inhj54zz",
        "colab_type": "code",
        "colab": {
          "base_uri": "https://localhost:8080/",
          "height": 238
        },
        "outputId": "c3dc889d-509a-4874-d235-813a0241831e"
      },
      "source": [
        "# Data Cleaning -- Removing Stop words\n",
        "import nltk.corpus\n",
        "nltk.download('stopwords')\n",
        "from nltk.corpus import stopwords\n",
        "stop = stopwords.words('english')\n",
        "newStopWords = [\"na\",\"sid\",\"cid\",\"null\",\"hi\",\"png\",\"eu\",\"hello\"]\n",
        "stop.extend(newStopWords)\n",
        "\n",
        "df_clean['Description Clean'] = df_clean['Description Clean'].apply(lambda x: ' '.join([word for word in x.split() if word not in (stop)]))\n",
        "df_clean.head()"
      ],
      "execution_count": 95,
      "outputs": [
        {
          "output_type": "stream",
          "text": [
            "[nltk_data] Downloading package stopwords to /root/nltk_data...\n",
            "[nltk_data]   Package stopwords is already up-to-date!\n"
          ],
          "name": "stdout"
        },
        {
          "output_type": "execute_result",
          "data": {
            "text/html": [
              "<div>\n",
              "<style scoped>\n",
              "    .dataframe tbody tr th:only-of-type {\n",
              "        vertical-align: middle;\n",
              "    }\n",
              "\n",
              "    .dataframe tbody tr th {\n",
              "        vertical-align: top;\n",
              "    }\n",
              "\n",
              "    .dataframe thead th {\n",
              "        text-align: right;\n",
              "    }\n",
              "</style>\n",
              "<table border=\"1\" class=\"dataframe\">\n",
              "  <thead>\n",
              "    <tr style=\"text-align: right;\">\n",
              "      <th></th>\n",
              "      <th>Assignment group</th>\n",
              "      <th>Description Clean</th>\n",
              "    </tr>\n",
              "  </thead>\n",
              "  <tbody>\n",
              "    <tr>\n",
              "      <th>0</th>\n",
              "      <td>GRP_0</td>\n",
              "      <td>login issue verified user details employee man...</td>\n",
              "    </tr>\n",
              "    <tr>\n",
              "      <th>1</th>\n",
              "      <td>GRP_0</td>\n",
              "      <td>outlook received hmjdrvpb komuaywn com team me...</td>\n",
              "    </tr>\n",
              "    <tr>\n",
              "      <th>2</th>\n",
              "      <td>GRP_0</td>\n",
              "      <td>log vpn received eylqgodm ybqkwiam com cannot ...</td>\n",
              "    </tr>\n",
              "    <tr>\n",
              "      <th>3</th>\n",
              "      <td>GRP_0</td>\n",
              "      <td>unable access hr tool page xbkucsvz gcpydteq</td>\n",
              "    </tr>\n",
              "    <tr>\n",
              "      <th>4</th>\n",
              "      <td>GRP_0</td>\n",
              "      <td>skype error owlgqjme qhcozdfx</td>\n",
              "    </tr>\n",
              "  </tbody>\n",
              "</table>\n",
              "</div>"
            ],
            "text/plain": [
              "  Assignment group                                  Description Clean\n",
              "0            GRP_0  login issue verified user details employee man...\n",
              "1            GRP_0  outlook received hmjdrvpb komuaywn com team me...\n",
              "2            GRP_0  log vpn received eylqgodm ybqkwiam com cannot ...\n",
              "3            GRP_0       unable access hr tool page xbkucsvz gcpydteq\n",
              "4            GRP_0                      skype error owlgqjme qhcozdfx"
            ]
          },
          "metadata": {
            "tags": []
          },
          "execution_count": 95
        }
      ]
    },
    {
      "cell_type": "code",
      "metadata": {
        "id": "kSK0Tzi18w2X",
        "colab_type": "code",
        "colab": {
          "base_uri": "https://localhost:8080/",
          "height": 215
        },
        "outputId": "3dcf9c98-fd94-45a6-ed35-0a11102e9f3a"
      },
      "source": [
        "text = \" \".join(review for review in df_clean['Description Clean'])\n",
        "print (\"There are {} words in the combination of all review.\".format(len(text)))\n",
        "# Generate a word cloud image\n",
        "wordcloud = WordCloud(background_color=\"white\").generate(text)\n",
        "\n",
        "# Display the generated image:\n",
        "# the matplotlib way:\n",
        "plt.imshow(wordcloud, interpolation='bilinear')\n",
        "plt.axis(\"off\")\n",
        "plt.show()"
      ],
      "execution_count": 96,
      "outputs": [
        {
          "output_type": "stream",
          "text": [
            "There are 1264195 words in the combination of all review.\n"
          ],
          "name": "stdout"
        },
        {
          "output_type": "display_data",
          "data": {
            "image/png": "[encoded data removed]",
            "text/plain": [
              "<Figure size 432x288 with 1 Axes>"
            ]
          },
          "metadata": {
            "tags": [],
            "needs_background": "light"
          }
        }
      ]
    },
    {
      "cell_type": "code",
      "metadata": {
        "id": "TSSb7EfK9Laf",
        "colab_type": "code",
        "colab": {
          "base_uri": "https://localhost:8080/",
          "height": 238
        },
        "outputId": "949dd5a0-9caa-4a06-97c9-bea762935cf2"
      },
      "source": [
        "# Getting Word Tokens\n",
        "import nltk \n",
        "nltk.download('punkt')\n",
        "from nltk.tokenize import sent_tokenize, word_tokenize\n",
        "df_clean['Description Clean Tokens'] = df_clean['Description Clean'].apply(lambda x: word_tokenize(x))\n",
        "df_clean.head()"
      ],
      "execution_count": 97,
      "outputs": [
        {
          "output_type": "stream",
          "text": [
            "[nltk_data] Downloading package punkt to /root/nltk_data...\n",
            "[nltk_data]   Package punkt is already up-to-date!\n"
          ],
          "name": "stdout"
        },
        {
          "output_type": "execute_result",
          "data": {
            "text/html": [
              "<div>\n",
              "<style scoped>\n",
              "    .dataframe tbody tr th:only-of-type {\n",
              "        vertical-align: middle;\n",
              "    }\n",
              "\n",
              "    .dataframe tbody tr th {\n",
              "        vertical-align: top;\n",
              "    }\n",
              "\n",
              "    .dataframe thead th {\n",
              "        text-align: right;\n",
              "    }\n",
              "</style>\n",
              "<table border=\"1\" class=\"dataframe\">\n",
              "  <thead>\n",
              "    <tr style=\"text-align: right;\">\n",
              "      <th></th>\n",
              "      <th>Assignment group</th>\n",
              "      <th>Description Clean</th>\n",
              "      <th>Description Clean Tokens</th>\n",
              "    </tr>\n",
              "  </thead>\n",
              "  <tbody>\n",
              "    <tr>\n",
              "      <th>0</th>\n",
              "      <td>GRP_0</td>\n",
              "      <td>login issue verified user details employee man...</td>\n",
              "      <td>[login, issue, verified, user, details, employ...</td>\n",
              "    </tr>\n",
              "    <tr>\n",
              "      <th>1</th>\n",
              "      <td>GRP_0</td>\n",
              "      <td>outlook received hmjdrvpb komuaywn com team me...</td>\n",
              "      <td>[outlook, received, hmjdrvpb, komuaywn, com, t...</td>\n",
              "    </tr>\n",
              "    <tr>\n",
              "      <th>2</th>\n",
              "      <td>GRP_0</td>\n",
              "      <td>log vpn received eylqgodm ybqkwiam com cannot ...</td>\n",
              "      <td>[log, vpn, received, eylqgodm, ybqkwiam, com, ...</td>\n",
              "    </tr>\n",
              "    <tr>\n",
              "      <th>3</th>\n",
              "      <td>GRP_0</td>\n",
              "      <td>unable access hr tool page xbkucsvz gcpydteq</td>\n",
              "      <td>[unable, access, hr, tool, page, xbkucsvz, gcp...</td>\n",
              "    </tr>\n",
              "    <tr>\n",
              "      <th>4</th>\n",
              "      <td>GRP_0</td>\n",
              "      <td>skype error owlgqjme qhcozdfx</td>\n",
              "      <td>[skype, error, owlgqjme, qhcozdfx]</td>\n",
              "    </tr>\n",
              "  </tbody>\n",
              "</table>\n",
              "</div>"
            ],
            "text/plain": [
              "  Assignment group  ...                           Description Clean Tokens\n",
              "0            GRP_0  ...  [login, issue, verified, user, details, employ...\n",
              "1            GRP_0  ...  [outlook, received, hmjdrvpb, komuaywn, com, t...\n",
              "2            GRP_0  ...  [log, vpn, received, eylqgodm, ybqkwiam, com, ...\n",
              "3            GRP_0  ...  [unable, access, hr, tool, page, xbkucsvz, gcp...\n",
              "4            GRP_0  ...                 [skype, error, owlgqjme, qhcozdfx]\n",
              "\n",
              "[5 rows x 3 columns]"
            ]
          },
          "metadata": {
            "tags": []
          },
          "execution_count": 97
        }
      ]
    },
    {
      "cell_type": "code",
      "metadata": {
        "id": "URUdCQB59xoG",
        "colab_type": "code",
        "colab": {}
      },
      "source": [
        "#Stemming Fine word stems \n",
        "from nltk.stem import PorterStemmer\n",
        "def word_stemmer(text):\n",
        "    stem_text = [PorterStemmer().stem(i) for i in text]\n",
        "    return stem_text\n",
        "df_clean['Description Stem'] = df_clean['Description Clean Tokens'].apply(lambda x: word_stemmer(x))\n"
      ],
      "execution_count": 98,
      "outputs": []
    },
    {
      "cell_type": "code",
      "metadata": {
        "id": "_JdIp23k-oul",
        "colab_type": "code",
        "colab": {
          "base_uri": "https://localhost:8080/",
          "height": 51
        },
        "outputId": "986c3301-d9c5-4abf-e334-516cadd2faaf"
      },
      "source": [
        "#Lemmatization Find word Lemmas\n",
        "nltk.download('wordnet')\n",
        "from nltk.stem import WordNetLemmatizer\n",
        "def word_lemmatizer(text):\n",
        "    lem_text = [WordNetLemmatizer().lemmatize(i) for i in text]\n",
        "    return lem_text\n",
        "df_clean['Description lemma'] = df_clean['Description Stem'].apply(lambda x: word_lemmatizer(x))\n"
      ],
      "execution_count": 99,
      "outputs": [
        {
          "output_type": "stream",
          "text": [
            "[nltk_data] Downloading package wordnet to /root/nltk_data...\n",
            "[nltk_data]   Package wordnet is already up-to-date!\n"
          ],
          "name": "stdout"
        }
      ]
    },
    {
      "cell_type": "code",
      "metadata": {
        "id": "sAUZzrBq_ORy",
        "colab_type": "code",
        "colab": {
          "base_uri": "https://localhost:8080/",
          "height": 375
        },
        "outputId": "baa4d154-1de4-4f3d-d32b-a1afdcabccc2"
      },
      "source": [
        "#POS Tagging\n",
        "def word_pos_tagger(text):\n",
        "    pos_tagged_text = nltk.pos_tag(text)\n",
        "    return pos_tagged_text\n",
        "nltk.download('averaged_perceptron_tagger')\n",
        "df_clean['Description POS'] = df_clean['Description Clean Tokens'].apply(lambda x: word_pos_tagger(x))\n",
        "df_clean.head()"
      ],
      "execution_count": 100,
      "outputs": [
        {
          "output_type": "stream",
          "text": [
            "[nltk_data] Downloading package averaged_perceptron_tagger to\n",
            "[nltk_data]     /root/nltk_data...\n",
            "[nltk_data]   Package averaged_perceptron_tagger is already up-to-\n",
            "[nltk_data]       date!\n"
          ],
          "name": "stdout"
        },
        {
          "output_type": "execute_result",
          "data": {
            "text/html": [
              "<div>\n",
              "<style scoped>\n",
              "    .dataframe tbody tr th:only-of-type {\n",
              "        vertical-align: middle;\n",
              "    }\n",
              "\n",
              "    .dataframe tbody tr th {\n",
              "        vertical-align: top;\n",
              "    }\n",
              "\n",
              "    .dataframe thead th {\n",
              "        text-align: right;\n",
              "    }\n",
              "</style>\n",
              "<table border=\"1\" class=\"dataframe\">\n",
              "  <thead>\n",
              "    <tr style=\"text-align: right;\">\n",
              "      <th></th>\n",
              "      <th>Assignment group</th>\n",
              "      <th>Description Clean</th>\n",
              "      <th>Description Clean Tokens</th>\n",
              "      <th>Description Stem</th>\n",
              "      <th>Description lemma</th>\n",
              "      <th>Description POS</th>\n",
              "    </tr>\n",
              "  </thead>\n",
              "  <tbody>\n",
              "    <tr>\n",
              "      <th>0</th>\n",
              "      <td>GRP_0</td>\n",
              "      <td>login issue verified user details employee man...</td>\n",
              "      <td>[login, issue, verified, user, details, employ...</td>\n",
              "      <td>[login, issu, verifi, user, detail, employe, m...</td>\n",
              "      <td>[login, issu, verifi, user, detail, employe, m...</td>\n",
              "      <td>[(login, JJ), (issue, NN), (verified, VBD), (u...</td>\n",
              "    </tr>\n",
              "    <tr>\n",
              "      <th>1</th>\n",
              "      <td>GRP_0</td>\n",
              "      <td>outlook received hmjdrvpb komuaywn com team me...</td>\n",
              "      <td>[outlook, received, hmjdrvpb, komuaywn, com, t...</td>\n",
              "      <td>[outlook, receiv, hmjdrvpb, komuaywn, com, tea...</td>\n",
              "      <td>[outlook, receiv, hmjdrvpb, komuaywn, com, tea...</td>\n",
              "      <td>[(outlook, NN), (received, VBD), (hmjdrvpb, JJ...</td>\n",
              "    </tr>\n",
              "    <tr>\n",
              "      <th>2</th>\n",
              "      <td>GRP_0</td>\n",
              "      <td>log vpn received eylqgodm ybqkwiam com cannot ...</td>\n",
              "      <td>[log, vpn, received, eylqgodm, ybqkwiam, com, ...</td>\n",
              "      <td>[log, vpn, receiv, eylqgodm, ybqkwiam, com, ca...</td>\n",
              "      <td>[log, vpn, receiv, eylqgodm, ybqkwiam, com, ca...</td>\n",
              "      <td>[(log, NN), (vpn, NN), (received, VBD), (eylqg...</td>\n",
              "    </tr>\n",
              "    <tr>\n",
              "      <th>3</th>\n",
              "      <td>GRP_0</td>\n",
              "      <td>unable access hr tool page xbkucsvz gcpydteq</td>\n",
              "      <td>[unable, access, hr, tool, page, xbkucsvz, gcp...</td>\n",
              "      <td>[unabl, access, hr, tool, page, xbkucsvz, gcpy...</td>\n",
              "      <td>[unabl, access, hr, tool, page, xbkucsvz, gcpy...</td>\n",
              "      <td>[(unable, JJ), (access, NN), (hr, NN), (tool, ...</td>\n",
              "    </tr>\n",
              "    <tr>\n",
              "      <th>4</th>\n",
              "      <td>GRP_0</td>\n",
              "      <td>skype error owlgqjme qhcozdfx</td>\n",
              "      <td>[skype, error, owlgqjme, qhcozdfx]</td>\n",
              "      <td>[skype, error, owlgqjm, qhcozdfx]</td>\n",
              "      <td>[skype, error, owlgqjm, qhcozdfx]</td>\n",
              "      <td>[(skype, JJ), (error, NN), (owlgqjme, NN), (qh...</td>\n",
              "    </tr>\n",
              "  </tbody>\n",
              "</table>\n",
              "</div>"
            ],
            "text/plain": [
              "  Assignment group  ...                                    Description POS\n",
              "0            GRP_0  ...  [(login, JJ), (issue, NN), (verified, VBD), (u...\n",
              "1            GRP_0  ...  [(outlook, NN), (received, VBD), (hmjdrvpb, JJ...\n",
              "2            GRP_0  ...  [(log, NN), (vpn, NN), (received, VBD), (eylqg...\n",
              "3            GRP_0  ...  [(unable, JJ), (access, NN), (hr, NN), (tool, ...\n",
              "4            GRP_0  ...  [(skype, JJ), (error, NN), (owlgqjme, NN), (qh...\n",
              "\n",
              "[5 rows x 6 columns]"
            ]
          },
          "metadata": {
            "tags": []
          },
          "execution_count": 100
        }
      ]
    },
    {
      "cell_type": "code",
      "metadata": {
        "id": "00ObhE9oBPnX",
        "colab_type": "code",
        "colab": {}
      },
      "source": [
        ""
      ],
      "execution_count": 49,
      "outputs": []
    },
    {
      "cell_type": "markdown",
      "metadata": {
        "id": "Se1tiwpSGsI8",
        "colab_type": "text"
      },
      "source": [
        "**Defining Train and Test Data**"
      ]
    },
    {
      "cell_type": "code",
      "metadata": {
        "id": "7fqvQHexzR1K",
        "colab_type": "code",
        "colab": {}
      },
      "source": [
        "from sklearn.model_selection import train_test_split\n",
        "X = df_clean['Description Clean']\n",
        "y = df['Assignment group']\n",
        "X_train, X_validation, y_train, y_validation = train_test_split(X,y, test_size = 0.2, random_state = 10)"
      ],
      "execution_count": 117,
      "outputs": []
    },
    {
      "cell_type": "code",
      "metadata": {
        "id": "1ZNMHeSxE1fv",
        "colab_type": "code",
        "colab": {
          "base_uri": "https://localhost:8080/",
          "height": 136
        },
        "outputId": "afc6cb87-4d7c-42b1-f857-188b2fbf27b4"
      },
      "source": [
        "from sklearn.feature_extraction.text import TfidfVectorizer\n",
        "from sklearn.linear_model import LogisticRegression\n",
        "from sklearn.metrics import accuracy_score, recall_score, precision_recall_fscore_support\n",
        "\n",
        "tfidf_vectorizer = TfidfVectorizer()\n",
        "tfidf_vectorizer.fit(X_train)"
      ],
      "execution_count": 118,
      "outputs": [
        {
          "output_type": "execute_result",
          "data": {
            "text/plain": [
              "TfidfVectorizer(analyzer='word', binary=False, decode_error='strict',\n",
              "                dtype=<class 'numpy.float64'>, encoding='utf-8',\n",
              "                input='content', lowercase=True, max_df=1.0, max_features=None,\n",
              "                min_df=1, ngram_range=(1, 1), norm='l2', preprocessor=None,\n",
              "                smooth_idf=True, stop_words=None, strip_accents=None,\n",
              "                sublinear_tf=False, token_pattern='(?u)\\\\b\\\\w\\\\w+\\\\b',\n",
              "                tokenizer=None, use_idf=True, vocabulary=None)"
            ]
          },
          "metadata": {
            "tags": []
          },
          "execution_count": 118
        }
      ]
    },
    {
      "cell_type": "code",
      "metadata": {
        "id": "mo-kuvhlE9IY",
        "colab_type": "code",
        "colab": {
          "base_uri": "https://localhost:8080/",
          "height": 85
        },
        "outputId": "f3430e96-d271-4abf-c563-c1193fe6bc98"
      },
      "source": [
        "from sklearn.feature_selection import SelectKBest\n",
        "df_t = tfidf_vectorizer.fit_transform(X_train)\n",
        "print (df_t.shape)\n",
        "df_t_reduced = SelectKBest(k=1000).fit_transform(df_t, X_train)\n",
        "print (df_t_reduced.shape)\n"
      ],
      "execution_count": 104,
      "outputs": [
        {
          "output_type": "stream",
          "text": [
            "(6084, 15272)\n"
          ],
          "name": "stdout"
        },
        {
          "output_type": "stream",
          "text": [
            "/usr/local/lib/python3.6/dist-packages/sklearn/feature_selection/_univariate_selection.py:115: RuntimeWarning: divide by zero encountered in true_divide\n",
            "  f = msb / msw\n"
          ],
          "name": "stderr"
        },
        {
          "output_type": "stream",
          "text": [
            "(6084, 1000)\n"
          ],
          "name": "stdout"
        }
      ]
    },
    {
      "cell_type": "markdown",
      "metadata": {
        "id": "HwpcJc223LS-",
        "colab_type": "text"
      },
      "source": [
        "**Using TFIDF for Model**"
      ]
    },
    {
      "cell_type": "code",
      "metadata": {
        "id": "ZqlYrmhGE5LC",
        "colab_type": "code",
        "colab": {}
      },
      "source": [
        "from sklearn.metrics import accuracy_score, recall_score, precision_recall_fscore_support\n",
        "from sklearn.feature_selection import SelectKBest, chi2"
      ],
      "execution_count": 108,
      "outputs": []
    },
    {
      "cell_type": "code",
      "metadata": {
        "id": "omY7KSTDcQd9",
        "colab_type": "code",
        "colab": {
          "base_uri": "https://localhost:8080/",
          "height": 54
        },
        "outputId": "e23af1b0-01f1-40c3-96dc-96d06528c633"
      },
      "source": [
        "X_vector = tfidf_vectorizer.fit_transform(X_train)\n",
        "X_vector =  SelectKBest(chi2, k=1000).fit_transform(X_vector, y_train)\n",
        "print (\"X_vector.shape\", X_vector.shape)\n",
        "\n",
        "X_vector_validation = tfidf_vectorizer.fit_transform(X_validation)\n",
        "X_vector_validation = SelectKBest(k=1000).fit_transform(X_vector_validation, y_validation)\n",
        "print (\"X_vector_validation.shape\", X_vector_validation.shape)\n",
        "\n",
        "X_vector_train, X_vector_test, y_vector_train, y_test = train_test_split(\n",
        "    X_vector, y_train, train_size = 0.8\n",
        ")"
      ],
      "execution_count": 135,
      "outputs": [
        {
          "output_type": "stream",
          "text": [
            "X_vector.shape (6084, 1000)\n",
            "X_vector_validation.shape (1522, 1000)\n"
          ],
          "name": "stdout"
        }
      ]
    },
    {
      "cell_type": "code",
      "metadata": {
        "id": "kJhCKt8Wuif4",
        "colab_type": "code",
        "colab": {
          "base_uri": "https://localhost:8080/",
          "height": 1000
        },
        "outputId": "94be8d71-ba04-4531-8215-0b442b4e54db"
      },
      "source": [
        "from sklearn.model_selection import GridSearchCV   \n",
        "# defining parameter range \n",
        "param_grid = {'C': [ 0.01, 0.5, 1, 10, 100, 1000] }  \n",
        "lr = LogisticRegression()  \n",
        "grid = GridSearchCV(lr, param_grid, refit = True ) \n",
        "  \n",
        "# fitting the model for grid search \n",
        "grid.fit(X_vector_train, y_vector_train) "
      ],
      "execution_count": 136,
      "outputs": [
        {
          "output_type": "stream",
          "text": [
            "/usr/local/lib/python3.6/dist-packages/sklearn/linear_model/_logistic.py:940: ConvergenceWarning: lbfgs failed to converge (status=1):\n",
            "STOP: TOTAL NO. of ITERATIONS REACHED LIMIT.\n",
            "\n",
            "Increase the number of iterations (max_iter) or scale the data as shown in:\n",
            "    https://scikit-learn.org/stable/modules/preprocessing.html\n",
            "Please also refer to the documentation for alternative solver options:\n",
            "    https://scikit-learn.org/stable/modules/linear_model.html#logistic-regression\n",
            "  extra_warning_msg=_LOGISTIC_SOLVER_CONVERGENCE_MSG)\n",
            "/usr/local/lib/python3.6/dist-packages/sklearn/linear_model/_logistic.py:940: ConvergenceWarning: lbfgs failed to converge (status=1):\n",
            "STOP: TOTAL NO. of ITERATIONS REACHED LIMIT.\n",
            "\n",
            "Increase the number of iterations (max_iter) or scale the data as shown in:\n",
            "    https://scikit-learn.org/stable/modules/preprocessing.html\n",
            "Please also refer to the documentation for alternative solver options:\n",
            "    https://scikit-learn.org/stable/modules/linear_model.html#logistic-regression\n",
            "  extra_warning_msg=_LOGISTIC_SOLVER_CONVERGENCE_MSG)\n",
            "/usr/local/lib/python3.6/dist-packages/sklearn/linear_model/_logistic.py:940: ConvergenceWarning: lbfgs failed to converge (status=1):\n",
            "STOP: TOTAL NO. of ITERATIONS REACHED LIMIT.\n",
            "\n",
            "Increase the number of iterations (max_iter) or scale the data as shown in:\n",
            "    https://scikit-learn.org/stable/modules/preprocessing.html\n",
            "Please also refer to the documentation for alternative solver options:\n",
            "    https://scikit-learn.org/stable/modules/linear_model.html#logistic-regression\n",
            "  extra_warning_msg=_LOGISTIC_SOLVER_CONVERGENCE_MSG)\n",
            "/usr/local/lib/python3.6/dist-packages/sklearn/linear_model/_logistic.py:940: ConvergenceWarning: lbfgs failed to converge (status=1):\n",
            "STOP: TOTAL NO. of ITERATIONS REACHED LIMIT.\n",
            "\n",
            "Increase the number of iterations (max_iter) or scale the data as shown in:\n",
            "    https://scikit-learn.org/stable/modules/preprocessing.html\n",
            "Please also refer to the documentation for alternative solver options:\n",
            "    https://scikit-learn.org/stable/modules/linear_model.html#logistic-regression\n",
            "  extra_warning_msg=_LOGISTIC_SOLVER_CONVERGENCE_MSG)\n",
            "/usr/local/lib/python3.6/dist-packages/sklearn/linear_model/_logistic.py:940: ConvergenceWarning: lbfgs failed to converge (status=1):\n",
            "STOP: TOTAL NO. of ITERATIONS REACHED LIMIT.\n",
            "\n",
            "Increase the number of iterations (max_iter) or scale the data as shown in:\n",
            "    https://scikit-learn.org/stable/modules/preprocessing.html\n",
            "Please also refer to the documentation for alternative solver options:\n",
            "    https://scikit-learn.org/stable/modules/linear_model.html#logistic-regression\n",
            "  extra_warning_msg=_LOGISTIC_SOLVER_CONVERGENCE_MSG)\n",
            "/usr/local/lib/python3.6/dist-packages/sklearn/linear_model/_logistic.py:940: ConvergenceWarning: lbfgs failed to converge (status=1):\n",
            "STOP: TOTAL NO. of ITERATIONS REACHED LIMIT.\n",
            "\n",
            "Increase the number of iterations (max_iter) or scale the data as shown in:\n",
            "    https://scikit-learn.org/stable/modules/preprocessing.html\n",
            "Please also refer to the documentation for alternative solver options:\n",
            "    https://scikit-learn.org/stable/modules/linear_model.html#logistic-regression\n",
            "  extra_warning_msg=_LOGISTIC_SOLVER_CONVERGENCE_MSG)\n",
            "/usr/local/lib/python3.6/dist-packages/sklearn/linear_model/_logistic.py:940: ConvergenceWarning: lbfgs failed to converge (status=1):\n",
            "STOP: TOTAL NO. of ITERATIONS REACHED LIMIT.\n",
            "\n",
            "Increase the number of iterations (max_iter) or scale the data as shown in:\n",
            "    https://scikit-learn.org/stable/modules/preprocessing.html\n",
            "Please also refer to the documentation for alternative solver options:\n",
            "    https://scikit-learn.org/stable/modules/linear_model.html#logistic-regression\n",
            "  extra_warning_msg=_LOGISTIC_SOLVER_CONVERGENCE_MSG)\n",
            "/usr/local/lib/python3.6/dist-packages/sklearn/linear_model/_logistic.py:940: ConvergenceWarning: lbfgs failed to converge (status=1):\n",
            "STOP: TOTAL NO. of ITERATIONS REACHED LIMIT.\n",
            "\n",
            "Increase the number of iterations (max_iter) or scale the data as shown in:\n",
            "    https://scikit-learn.org/stable/modules/preprocessing.html\n",
            "Please also refer to the documentation for alternative solver options:\n",
            "    https://scikit-learn.org/stable/modules/linear_model.html#logistic-regression\n",
            "  extra_warning_msg=_LOGISTIC_SOLVER_CONVERGENCE_MSG)\n",
            "/usr/local/lib/python3.6/dist-packages/sklearn/linear_model/_logistic.py:940: ConvergenceWarning: lbfgs failed to converge (status=1):\n",
            "STOP: TOTAL NO. of ITERATIONS REACHED LIMIT.\n",
            "\n",
            "Increase the number of iterations (max_iter) or scale the data as shown in:\n",
            "    https://scikit-learn.org/stable/modules/preprocessing.html\n",
            "Please also refer to the documentation for alternative solver options:\n",
            "    https://scikit-learn.org/stable/modules/linear_model.html#logistic-regression\n",
            "  extra_warning_msg=_LOGISTIC_SOLVER_CONVERGENCE_MSG)\n",
            "/usr/local/lib/python3.6/dist-packages/sklearn/linear_model/_logistic.py:940: ConvergenceWarning: lbfgs failed to converge (status=1):\n",
            "STOP: TOTAL NO. of ITERATIONS REACHED LIMIT.\n",
            "\n",
            "Increase the number of iterations (max_iter) or scale the data as shown in:\n",
            "    https://scikit-learn.org/stable/modules/preprocessing.html\n",
            "Please also refer to the documentation for alternative solver options:\n",
            "    https://scikit-learn.org/stable/modules/linear_model.html#logistic-regression\n",
            "  extra_warning_msg=_LOGISTIC_SOLVER_CONVERGENCE_MSG)\n",
            "/usr/local/lib/python3.6/dist-packages/sklearn/linear_model/_logistic.py:940: ConvergenceWarning: lbfgs failed to converge (status=1):\n",
            "STOP: TOTAL NO. of ITERATIONS REACHED LIMIT.\n",
            "\n",
            "Increase the number of iterations (max_iter) or scale the data as shown in:\n",
            "    https://scikit-learn.org/stable/modules/preprocessing.html\n",
            "Please also refer to the documentation for alternative solver options:\n",
            "    https://scikit-learn.org/stable/modules/linear_model.html#logistic-regression\n",
            "  extra_warning_msg=_LOGISTIC_SOLVER_CONVERGENCE_MSG)\n",
            "/usr/local/lib/python3.6/dist-packages/sklearn/linear_model/_logistic.py:940: ConvergenceWarning: lbfgs failed to converge (status=1):\n",
            "STOP: TOTAL NO. of ITERATIONS REACHED LIMIT.\n",
            "\n",
            "Increase the number of iterations (max_iter) or scale the data as shown in:\n",
            "    https://scikit-learn.org/stable/modules/preprocessing.html\n",
            "Please also refer to the documentation for alternative solver options:\n",
            "    https://scikit-learn.org/stable/modules/linear_model.html#logistic-regression\n",
            "  extra_warning_msg=_LOGISTIC_SOLVER_CONVERGENCE_MSG)\n",
            "/usr/local/lib/python3.6/dist-packages/sklearn/linear_model/_logistic.py:940: ConvergenceWarning: lbfgs failed to converge (status=1):\n",
            "STOP: TOTAL NO. of ITERATIONS REACHED LIMIT.\n",
            "\n",
            "Increase the number of iterations (max_iter) or scale the data as shown in:\n",
            "    https://scikit-learn.org/stable/modules/preprocessing.html\n",
            "Please also refer to the documentation for alternative solver options:\n",
            "    https://scikit-learn.org/stable/modules/linear_model.html#logistic-regression\n",
            "  extra_warning_msg=_LOGISTIC_SOLVER_CONVERGENCE_MSG)\n",
            "/usr/local/lib/python3.6/dist-packages/sklearn/linear_model/_logistic.py:940: ConvergenceWarning: lbfgs failed to converge (status=1):\n",
            "STOP: TOTAL NO. of ITERATIONS REACHED LIMIT.\n",
            "\n",
            "Increase the number of iterations (max_iter) or scale the data as shown in:\n",
            "    https://scikit-learn.org/stable/modules/preprocessing.html\n",
            "Please also refer to the documentation for alternative solver options:\n",
            "    https://scikit-learn.org/stable/modules/linear_model.html#logistic-regression\n",
            "  extra_warning_msg=_LOGISTIC_SOLVER_CONVERGENCE_MSG)\n",
            "/usr/local/lib/python3.6/dist-packages/sklearn/linear_model/_logistic.py:940: ConvergenceWarning: lbfgs failed to converge (status=1):\n",
            "STOP: TOTAL NO. of ITERATIONS REACHED LIMIT.\n",
            "\n",
            "Increase the number of iterations (max_iter) or scale the data as shown in:\n",
            "    https://scikit-learn.org/stable/modules/preprocessing.html\n",
            "Please also refer to the documentation for alternative solver options:\n",
            "    https://scikit-learn.org/stable/modules/linear_model.html#logistic-regression\n",
            "  extra_warning_msg=_LOGISTIC_SOLVER_CONVERGENCE_MSG)\n",
            "/usr/local/lib/python3.6/dist-packages/sklearn/linear_model/_logistic.py:940: ConvergenceWarning: lbfgs failed to converge (status=1):\n",
            "STOP: TOTAL NO. of ITERATIONS REACHED LIMIT.\n",
            "\n",
            "Increase the number of iterations (max_iter) or scale the data as shown in:\n",
            "    https://scikit-learn.org/stable/modules/preprocessing.html\n",
            "Please also refer to the documentation for alternative solver options:\n",
            "    https://scikit-learn.org/stable/modules/linear_model.html#logistic-regression\n",
            "  extra_warning_msg=_LOGISTIC_SOLVER_CONVERGENCE_MSG)\n"
          ],
          "name": "stderr"
        },
        {
          "output_type": "execute_result",
          "data": {
            "text/plain": [
              "GridSearchCV(cv=None, error_score=nan,\n",
              "             estimator=LogisticRegression(C=1.0, class_weight=None, dual=False,\n",
              "                                          fit_intercept=True,\n",
              "                                          intercept_scaling=1, l1_ratio=None,\n",
              "                                          max_iter=100, multi_class='auto',\n",
              "                                          n_jobs=None, penalty='l2',\n",
              "                                          random_state=None, solver='lbfgs',\n",
              "                                          tol=0.0001, verbose=0,\n",
              "                                          warm_start=False),\n",
              "             iid='deprecated', n_jobs=None,\n",
              "             param_grid={'C': [0.01, 0.5, 1, 10, 100, 1000]},\n",
              "             pre_dispatch='2*n_jobs', refit=True, return_train_score=False,\n",
              "             scoring=None, verbose=0)"
            ]
          },
          "metadata": {
            "tags": []
          },
          "execution_count": 136
        }
      ]
    },
    {
      "cell_type": "code",
      "metadata": {
        "id": "VRAtoM5dvCIM",
        "colab_type": "code",
        "colab": {
          "base_uri": "https://localhost:8080/",
          "height": 126
        },
        "outputId": "cf8cfc3e-c841-4b06-f27c-93b55bc7b824"
      },
      "source": [
        "# print best parameter after tuning \n",
        "print(grid.best_params_)   \n",
        "# print how our model looks after hyper-parameter tuning \n",
        "print(grid.best_estimator_) \n",
        "\n"
      ],
      "execution_count": 137,
      "outputs": [
        {
          "output_type": "stream",
          "text": [
            "{'C': 100}\n",
            "LogisticRegression(C=100, class_weight=None, dual=False, fit_intercept=True,\n",
            "                   intercept_scaling=1, l1_ratio=None, max_iter=100,\n",
            "                   multi_class='auto', n_jobs=None, penalty='l2',\n",
            "                   random_state=None, solver='lbfgs', tol=0.0001, verbose=0,\n",
            "                   warm_start=False)\n"
          ],
          "name": "stdout"
        }
      ]
    },
    {
      "cell_type": "code",
      "metadata": {
        "id": "J-wsDO4GHd7w",
        "colab_type": "code",
        "colab": {
          "base_uri": "https://localhost:8080/",
          "height": 181
        },
        "outputId": "a6377218-6b25-4d25-e95c-a036fcef7d1e"
      },
      "source": [
        "#Getting Accuracy and Recall for Train Data\n",
        "final_tfidf = LogisticRegression(C=100)\n",
        "final_tfidf.fit(X_vector_train, y_vector_train)\n",
        "accuracy = accuracy_score(y_test, final_tfidf.predict(X_vector_test))\n",
        "recall = recall_score(y_test, final_tfidf.predict(X_vector_test),average='weighted')\n",
        "precision = precision_recall_fscore_support(y_test, final_tfidf.predict(X_vector_test), average='weighted')[0]\n",
        "print ('Accuracy: ',accuracy,\" Recall: \",recall, \" Precision: \",precision)"
      ],
      "execution_count": 141,
      "outputs": [
        {
          "output_type": "stream",
          "text": [
            "Accuracy:  0.733771569433032  Recall:  0.733771569433032  Precision:  0.726222994755625\n"
          ],
          "name": "stdout"
        },
        {
          "output_type": "stream",
          "text": [
            "/usr/local/lib/python3.6/dist-packages/sklearn/linear_model/_logistic.py:940: ConvergenceWarning: lbfgs failed to converge (status=1):\n",
            "STOP: TOTAL NO. of ITERATIONS REACHED LIMIT.\n",
            "\n",
            "Increase the number of iterations (max_iter) or scale the data as shown in:\n",
            "    https://scikit-learn.org/stable/modules/preprocessing.html\n",
            "Please also refer to the documentation for alternative solver options:\n",
            "    https://scikit-learn.org/stable/modules/linear_model.html#logistic-regression\n",
            "  extra_warning_msg=_LOGISTIC_SOLVER_CONVERGENCE_MSG)\n"
          ],
          "name": "stderr"
        }
      ]
    },
    {
      "cell_type": "code",
      "metadata": {
        "id": "ZmPrGSLjvDI4",
        "colab_type": "code",
        "colab": {
          "base_uri": "https://localhost:8080/",
          "height": 78
        },
        "outputId": "80b4e9bc-c297-4202-efa8-0a03294aae5e"
      },
      "source": [
        "resultsDf = pd.DataFrame({'Method':['Logistic Regression'], 'Accuracy': accuracy, 'Recall': recall, 'Precision': precision})\n",
        "resultsDf = resultsDf[['Method', 'Accuracy', 'Recall','Precision']]\n",
        "resultsDf"
      ],
      "execution_count": 142,
      "outputs": [
        {
          "output_type": "execute_result",
          "data": {
            "text/html": [
              "<div>\n",
              "<style scoped>\n",
              "    .dataframe tbody tr th:only-of-type {\n",
              "        vertical-align: middle;\n",
              "    }\n",
              "\n",
              "    .dataframe tbody tr th {\n",
              "        vertical-align: top;\n",
              "    }\n",
              "\n",
              "    .dataframe thead th {\n",
              "        text-align: right;\n",
              "    }\n",
              "</style>\n",
              "<table border=\"1\" class=\"dataframe\">\n",
              "  <thead>\n",
              "    <tr style=\"text-align: right;\">\n",
              "      <th></th>\n",
              "      <th>Method</th>\n",
              "      <th>Accuracy</th>\n",
              "      <th>Recall</th>\n",
              "      <th>Precision</th>\n",
              "    </tr>\n",
              "  </thead>\n",
              "  <tbody>\n",
              "    <tr>\n",
              "      <th>0</th>\n",
              "      <td>Logistic Regression</td>\n",
              "      <td>0.733772</td>\n",
              "      <td>0.733772</td>\n",
              "      <td>0.726223</td>\n",
              "    </tr>\n",
              "  </tbody>\n",
              "</table>\n",
              "</div>"
            ],
            "text/plain": [
              "                Method  Accuracy    Recall  Precision\n",
              "0  Logistic Regression  0.733772  0.733772   0.726223"
            ]
          },
          "metadata": {
            "tags": []
          },
          "execution_count": 142
        }
      ]
    },
    {
      "cell_type": "code",
      "metadata": {
        "id": "RFq5k82TvKzL",
        "colab_type": "code",
        "colab": {
          "base_uri": "https://localhost:8080/",
          "height": 637
        },
        "outputId": "f313033f-16d6-48a4-a8e2-8d434b2fddab"
      },
      "source": [
        "#Getting Classification Report for Validation Data\n",
        "from sklearn.metrics import classification_report\n",
        "grid_predictions = grid.predict(X_vector_validation) \n",
        "# print classification report \n",
        "print(classification_report(y_validation, grid_predictions)) "
      ],
      "execution_count": 143,
      "outputs": [
        {
          "output_type": "stream",
          "text": [
            "              precision    recall  f1-score   support\n",
            "\n",
            "       GRP_0       0.68      0.86      0.76       789\n",
            "      GRP_10       0.00      0.00      0.00        24\n",
            "      GRP_12       0.00      0.00      0.00        56\n",
            "      GRP_13       0.04      0.04      0.04        28\n",
            "      GRP_14       0.00      0.00      0.00        28\n",
            "      GRP_16       0.12      0.05      0.07        21\n",
            "      GRP_17       0.00      0.00      0.00        10\n",
            "      GRP_18       0.00      0.00      0.00        12\n",
            "      GRP_19       0.02      0.03      0.02        36\n",
            "       GRP_2       0.00      0.00      0.00        51\n",
            "      GRP_24       0.00      0.00      0.00        61\n",
            "      GRP_25       0.00      0.00      0.00        29\n",
            "      GRP_26       0.00      0.00      0.00        10\n",
            "      GRP_29       0.03      0.06      0.04        17\n",
            "       GRP_3       0.00      0.00      0.00        40\n",
            "      GRP_31       0.00      0.00      0.00        12\n",
            "      GRP_33       0.00      0.00      0.00        21\n",
            "      GRP_34       0.07      0.08      0.08        12\n",
            "       GRP_4       0.10      0.14      0.11        22\n",
            "       GRP_5       0.00      0.00      0.00        18\n",
            "       GRP_6       0.00      0.00      0.00        37\n",
            "       GRP_7       0.00      0.00      0.00        14\n",
            "       GRP_8       0.00      0.00      0.00       129\n",
            "       GRP_9       0.00      0.00      0.00        45\n",
            "\n",
            "    accuracy                           0.45      1522\n",
            "   macro avg       0.04      0.05      0.05      1522\n",
            "weighted avg       0.36      0.45      0.40      1522\n",
            "\n"
          ],
          "name": "stdout"
        },
        {
          "output_type": "stream",
          "text": [
            "/usr/local/lib/python3.6/dist-packages/sklearn/metrics/_classification.py:1272: UndefinedMetricWarning: Precision and F-score are ill-defined and being set to 0.0 in labels with no predicted samples. Use `zero_division` parameter to control this behavior.\n",
            "  _warn_prf(average, modifier, msg_start, len(result))\n"
          ],
          "name": "stderr"
        }
      ]
    },
    {
      "cell_type": "markdown",
      "metadata": {
        "id": "Rzy8eGsl3yRs",
        "colab_type": "text"
      },
      "source": [
        "**Using SVM For the Model**"
      ]
    },
    {
      "cell_type": "code",
      "metadata": {
        "id": "Vva7sTNfqTfW",
        "colab_type": "code",
        "colab": {}
      },
      "source": [
        "from sklearn.feature_extraction.text import CountVectorizer\n",
        "from sklearn.svm import LinearSVC\n",
        "from sklearn.metrics import accuracy_score,precision_recall_fscore_support\n",
        "from sklearn.model_selection import train_test_split\n",
        "\n",
        "ngram_vectorizer = CountVectorizer(binary=True, ngram_range=(1, 2))\n",
        "ngram_vectorizer.fit(X_train)\n",
        "X_vector = ngram_vectorizer.transform(X_train)\n",
        "X_vector_validation = ngram_vectorizer.transform(X_validation)\n",
        "\n",
        "X_vector_train, X_vector_test, y_vector_train, y_test = train_test_split(\n",
        "    X_vector, y_train, train_size = 0.8\n",
        ")"
      ],
      "execution_count": 144,
      "outputs": []
    },
    {
      "cell_type": "code",
      "metadata": {
        "id": "ArqPmK9b1qiI",
        "colab_type": "code",
        "colab": {
          "base_uri": "https://localhost:8080/",
          "height": 255
        },
        "outputId": "a00c229a-d489-4890-d063-1c956ef17714"
      },
      "source": [
        "# defining parameter range \n",
        "param_grid = {'C': [ 0.01, 0.05, 0.25, 1, 10, 100] }  \n",
        "svm = LinearSVC()  \n",
        "grid = GridSearchCV(svm, param_grid, refit = True ) \n",
        "  \n",
        "# fitting the model for grid search \n",
        "grid.fit(X_vector_train, y_vector_train) "
      ],
      "execution_count": 145,
      "outputs": [
        {
          "output_type": "stream",
          "text": [
            "/usr/local/lib/python3.6/dist-packages/sklearn/svm/_base.py:947: ConvergenceWarning: Liblinear failed to converge, increase the number of iterations.\n",
            "  \"the number of iterations.\", ConvergenceWarning)\n"
          ],
          "name": "stderr"
        },
        {
          "output_type": "execute_result",
          "data": {
            "text/plain": [
              "GridSearchCV(cv=None, error_score=nan,\n",
              "             estimator=LinearSVC(C=1.0, class_weight=None, dual=True,\n",
              "                                 fit_intercept=True, intercept_scaling=1,\n",
              "                                 loss='squared_hinge', max_iter=1000,\n",
              "                                 multi_class='ovr', penalty='l2',\n",
              "                                 random_state=None, tol=0.0001, verbose=0),\n",
              "             iid='deprecated', n_jobs=None,\n",
              "             param_grid={'C': [0.01, 0.05, 0.25, 1, 10, 100]},\n",
              "             pre_dispatch='2*n_jobs', refit=True, return_train_score=False,\n",
              "             scoring=None, verbose=0)"
            ]
          },
          "metadata": {
            "tags": []
          },
          "execution_count": 145
        }
      ]
    },
    {
      "cell_type": "code",
      "metadata": {
        "id": "ZDAjsH0A1-JY",
        "colab_type": "code",
        "colab": {
          "base_uri": "https://localhost:8080/",
          "height": 108
        },
        "outputId": "1785c4be-f504-4ffa-9e60-a3bad5af3dbf"
      },
      "source": [
        "# print best parameter after tuning \n",
        "print(grid.best_params_)   \n",
        "# print how our model looks after hyper-parameter tuning \n",
        "print(grid.best_estimator_) "
      ],
      "execution_count": 146,
      "outputs": [
        {
          "output_type": "stream",
          "text": [
            "{'C': 10}\n",
            "LinearSVC(C=10, class_weight=None, dual=True, fit_intercept=True,\n",
            "          intercept_scaling=1, loss='squared_hinge', max_iter=1000,\n",
            "          multi_class='ovr', penalty='l2', random_state=None, tol=0.0001,\n",
            "          verbose=0)\n"
          ],
          "name": "stdout"
        }
      ]
    },
    {
      "cell_type": "code",
      "metadata": {
        "id": "IVN77p9KrwrH",
        "colab_type": "code",
        "colab": {
          "base_uri": "https://localhost:8080/",
          "height": 74
        },
        "outputId": "8a673d78-297c-4f39-8fd4-dc59aa36f6ab"
      },
      "source": [
        "final_svm_ngram = LinearSVC(C=10)\n",
        "final_svm_ngram.fit(X_vector, y_train)\n",
        "\n",
        "accuracy = accuracy_score(y_test, final_svm_ngram.predict(X_vector_test))\n",
        "recall = recall_score(y_test, final_svm_ngram.predict(X_vector_test),average='weighted')\n",
        "precision = precision_recall_fscore_support(y_test, final_svm_ngram.predict(X_vector_test), average='weighted')[0]\n"
      ],
      "execution_count": 147,
      "outputs": [
        {
          "output_type": "stream",
          "text": [
            "/usr/local/lib/python3.6/dist-packages/sklearn/svm/_base.py:947: ConvergenceWarning: Liblinear failed to converge, increase the number of iterations.\n",
            "  \"the number of iterations.\", ConvergenceWarning)\n"
          ],
          "name": "stderr"
        }
      ]
    },
    {
      "cell_type": "code",
      "metadata": {
        "id": "_d3r-4IDRQbA",
        "colab_type": "code",
        "colab": {
          "base_uri": "https://localhost:8080/",
          "height": 111
        },
        "outputId": "afc5389b-a8b5-44b5-9021-8658b0988ea8"
      },
      "source": [
        "#Store the accuracy results for each model in a dataframe for final comparison\n",
        "tempResultsDf = pd.DataFrame({'Method':['SVM'], 'Accuracy': [accuracy], 'Recall': [recall], 'Precision': precision})\n",
        "resultsDf = pd.concat([resultsDf, tempResultsDf])\n",
        "resultsDf"
      ],
      "execution_count": 148,
      "outputs": [
        {
          "output_type": "execute_result",
          "data": {
            "text/html": [
              "<div>\n",
              "<style scoped>\n",
              "    .dataframe tbody tr th:only-of-type {\n",
              "        vertical-align: middle;\n",
              "    }\n",
              "\n",
              "    .dataframe tbody tr th {\n",
              "        vertical-align: top;\n",
              "    }\n",
              "\n",
              "    .dataframe thead th {\n",
              "        text-align: right;\n",
              "    }\n",
              "</style>\n",
              "<table border=\"1\" class=\"dataframe\">\n",
              "  <thead>\n",
              "    <tr style=\"text-align: right;\">\n",
              "      <th></th>\n",
              "      <th>Method</th>\n",
              "      <th>Accuracy</th>\n",
              "      <th>Recall</th>\n",
              "      <th>Precision</th>\n",
              "    </tr>\n",
              "  </thead>\n",
              "  <tbody>\n",
              "    <tr>\n",
              "      <th>0</th>\n",
              "      <td>Logistic Regression</td>\n",
              "      <td>0.733772</td>\n",
              "      <td>0.733772</td>\n",
              "      <td>0.726223</td>\n",
              "    </tr>\n",
              "    <tr>\n",
              "      <th>0</th>\n",
              "      <td>SVM</td>\n",
              "      <td>0.959737</td>\n",
              "      <td>0.959737</td>\n",
              "      <td>0.971365</td>\n",
              "    </tr>\n",
              "  </tbody>\n",
              "</table>\n",
              "</div>"
            ],
            "text/plain": [
              "                Method  Accuracy    Recall  Precision\n",
              "0  Logistic Regression  0.733772  0.733772   0.726223\n",
              "0                  SVM  0.959737  0.959737   0.971365"
            ]
          },
          "metadata": {
            "tags": []
          },
          "execution_count": 148
        }
      ]
    },
    {
      "cell_type": "code",
      "metadata": {
        "id": "7_LzmfSr2ElF",
        "colab_type": "code",
        "colab": {
          "base_uri": "https://localhost:8080/",
          "height": 581
        },
        "outputId": "67b39eb1-1041-4724-e78b-5a3324d4fd02"
      },
      "source": [
        "#Getting Classification Report for Validation Data\n",
        "from sklearn.metrics import classification_report\n",
        "grid_predictions = grid.predict(X_vector_validation) \n",
        "# print classification report \n",
        "print(classification_report(y_validation, grid_predictions)) "
      ],
      "execution_count": 149,
      "outputs": [
        {
          "output_type": "stream",
          "text": [
            "              precision    recall  f1-score   support\n",
            "\n",
            "       GRP_0       0.79      0.96      0.86       789\n",
            "      GRP_10       0.75      0.50      0.60        24\n",
            "      GRP_12       0.72      0.55      0.63        56\n",
            "      GRP_13       0.81      0.46      0.59        28\n",
            "      GRP_14       0.76      0.46      0.58        28\n",
            "      GRP_16       0.00      0.00      0.00        21\n",
            "      GRP_17       1.00      1.00      1.00        10\n",
            "      GRP_18       0.67      0.33      0.44        12\n",
            "      GRP_19       0.46      0.31      0.37        36\n",
            "       GRP_2       0.63      0.37      0.47        51\n",
            "      GRP_24       0.93      0.90      0.92        61\n",
            "      GRP_25       0.93      0.45      0.60        29\n",
            "      GRP_26       0.00      0.00      0.00        10\n",
            "      GRP_29       0.77      0.59      0.67        17\n",
            "       GRP_3       0.82      0.45      0.58        40\n",
            "      GRP_31       0.75      0.25      0.38        12\n",
            "      GRP_33       0.69      0.43      0.53        21\n",
            "      GRP_34       0.25      0.17      0.20        12\n",
            "       GRP_4       0.56      0.23      0.32        22\n",
            "       GRP_5       0.64      0.39      0.48        18\n",
            "       GRP_6       0.54      0.35      0.43        37\n",
            "       GRP_7       0.75      0.43      0.55        14\n",
            "       GRP_8       0.77      0.59      0.67       129\n",
            "       GRP_9       0.32      0.80      0.46        45\n",
            "\n",
            "    accuracy                           0.74      1522\n",
            "   macro avg       0.64      0.46      0.51      1522\n",
            "weighted avg       0.73      0.74      0.71      1522\n",
            "\n"
          ],
          "name": "stdout"
        }
      ]
    },
    {
      "cell_type": "markdown",
      "metadata": {
        "id": "LVani4uuARlb",
        "colab_type": "text"
      },
      "source": [
        "**n-Grams Model**\n"
      ]
    },
    {
      "cell_type": "code",
      "metadata": {
        "id": "cAtBFKKYs8aF",
        "colab_type": "code",
        "colab": {}
      },
      "source": [
        "from sklearn.feature_extraction.text import CountVectorizer\n",
        "from sklearn.linear_model import LogisticRegression\n",
        "from sklearn.metrics import accuracy_score\n",
        "from sklearn.model_selection import train_test_split\n",
        "\n",
        "ngram_vectorizer = CountVectorizer(binary=True, ngram_range=(1, 2))\n",
        "ngram_vectorizer.fit(X_train)\n",
        "X_vector = ngram_vectorizer.transform(X_train)\n",
        "X_vector_validation = ngram_vectorizer.transform(X_validation)\n",
        "\n",
        "X_vector_train, X_vector_test, y_vector_train, y_test = train_test_split(\n",
        "    X_vector, y_train, train_size = 0.8\n",
        ")\n"
      ],
      "execution_count": 150,
      "outputs": []
    },
    {
      "cell_type": "code",
      "metadata": {
        "id": "XP7_rFi22pXl",
        "colab_type": "code",
        "colab": {
          "base_uri": "https://localhost:8080/",
          "height": 1000
        },
        "outputId": "974250a3-518b-4f40-c6ed-e08547bc8082"
      },
      "source": [
        "# defining parameter range \n",
        "param_grid = {'C': [ 0.01, 0.5, 1, 10] }  \n",
        "lr = LogisticRegression()  \n",
        "grid = GridSearchCV(lr, param_grid ) \n",
        "  \n",
        "# fitting the model for grid search \n",
        "grid.fit(X_vector_train, y_vector_train) "
      ],
      "execution_count": 151,
      "outputs": [
        {
          "output_type": "stream",
          "text": [
            "/usr/local/lib/python3.6/dist-packages/sklearn/linear_model/_logistic.py:940: ConvergenceWarning: lbfgs failed to converge (status=1):\n",
            "STOP: TOTAL NO. of ITERATIONS REACHED LIMIT.\n",
            "\n",
            "Increase the number of iterations (max_iter) or scale the data as shown in:\n",
            "    https://scikit-learn.org/stable/modules/preprocessing.html\n",
            "Please also refer to the documentation for alternative solver options:\n",
            "    https://scikit-learn.org/stable/modules/linear_model.html#logistic-regression\n",
            "  extra_warning_msg=_LOGISTIC_SOLVER_CONVERGENCE_MSG)\n",
            "/usr/local/lib/python3.6/dist-packages/sklearn/linear_model/_logistic.py:940: ConvergenceWarning: lbfgs failed to converge (status=1):\n",
            "STOP: TOTAL NO. of ITERATIONS REACHED LIMIT.\n",
            "\n",
            "Increase the number of iterations (max_iter) or scale the data as shown in:\n",
            "    https://scikit-learn.org/stable/modules/preprocessing.html\n",
            "Please also refer to the documentation for alternative solver options:\n",
            "    https://scikit-learn.org/stable/modules/linear_model.html#logistic-regression\n",
            "  extra_warning_msg=_LOGISTIC_SOLVER_CONVERGENCE_MSG)\n",
            "/usr/local/lib/python3.6/dist-packages/sklearn/linear_model/_logistic.py:940: ConvergenceWarning: lbfgs failed to converge (status=1):\n",
            "STOP: TOTAL NO. of ITERATIONS REACHED LIMIT.\n",
            "\n",
            "Increase the number of iterations (max_iter) or scale the data as shown in:\n",
            "    https://scikit-learn.org/stable/modules/preprocessing.html\n",
            "Please also refer to the documentation for alternative solver options:\n",
            "    https://scikit-learn.org/stable/modules/linear_model.html#logistic-regression\n",
            "  extra_warning_msg=_LOGISTIC_SOLVER_CONVERGENCE_MSG)\n",
            "/usr/local/lib/python3.6/dist-packages/sklearn/linear_model/_logistic.py:940: ConvergenceWarning: lbfgs failed to converge (status=1):\n",
            "STOP: TOTAL NO. of ITERATIONS REACHED LIMIT.\n",
            "\n",
            "Increase the number of iterations (max_iter) or scale the data as shown in:\n",
            "    https://scikit-learn.org/stable/modules/preprocessing.html\n",
            "Please also refer to the documentation for alternative solver options:\n",
            "    https://scikit-learn.org/stable/modules/linear_model.html#logistic-regression\n",
            "  extra_warning_msg=_LOGISTIC_SOLVER_CONVERGENCE_MSG)\n",
            "/usr/local/lib/python3.6/dist-packages/sklearn/linear_model/_logistic.py:940: ConvergenceWarning: lbfgs failed to converge (status=1):\n",
            "STOP: TOTAL NO. of ITERATIONS REACHED LIMIT.\n",
            "\n",
            "Increase the number of iterations (max_iter) or scale the data as shown in:\n",
            "    https://scikit-learn.org/stable/modules/preprocessing.html\n",
            "Please also refer to the documentation for alternative solver options:\n",
            "    https://scikit-learn.org/stable/modules/linear_model.html#logistic-regression\n",
            "  extra_warning_msg=_LOGISTIC_SOLVER_CONVERGENCE_MSG)\n",
            "/usr/local/lib/python3.6/dist-packages/sklearn/linear_model/_logistic.py:940: ConvergenceWarning: lbfgs failed to converge (status=1):\n",
            "STOP: TOTAL NO. of ITERATIONS REACHED LIMIT.\n",
            "\n",
            "Increase the number of iterations (max_iter) or scale the data as shown in:\n",
            "    https://scikit-learn.org/stable/modules/preprocessing.html\n",
            "Please also refer to the documentation for alternative solver options:\n",
            "    https://scikit-learn.org/stable/modules/linear_model.html#logistic-regression\n",
            "  extra_warning_msg=_LOGISTIC_SOLVER_CONVERGENCE_MSG)\n",
            "/usr/local/lib/python3.6/dist-packages/sklearn/linear_model/_logistic.py:940: ConvergenceWarning: lbfgs failed to converge (status=1):\n",
            "STOP: TOTAL NO. of ITERATIONS REACHED LIMIT.\n",
            "\n",
            "Increase the number of iterations (max_iter) or scale the data as shown in:\n",
            "    https://scikit-learn.org/stable/modules/preprocessing.html\n",
            "Please also refer to the documentation for alternative solver options:\n",
            "    https://scikit-learn.org/stable/modules/linear_model.html#logistic-regression\n",
            "  extra_warning_msg=_LOGISTIC_SOLVER_CONVERGENCE_MSG)\n",
            "/usr/local/lib/python3.6/dist-packages/sklearn/linear_model/_logistic.py:940: ConvergenceWarning: lbfgs failed to converge (status=1):\n",
            "STOP: TOTAL NO. of ITERATIONS REACHED LIMIT.\n",
            "\n",
            "Increase the number of iterations (max_iter) or scale the data as shown in:\n",
            "    https://scikit-learn.org/stable/modules/preprocessing.html\n",
            "Please also refer to the documentation for alternative solver options:\n",
            "    https://scikit-learn.org/stable/modules/linear_model.html#logistic-regression\n",
            "  extra_warning_msg=_LOGISTIC_SOLVER_CONVERGENCE_MSG)\n",
            "/usr/local/lib/python3.6/dist-packages/sklearn/linear_model/_logistic.py:940: ConvergenceWarning: lbfgs failed to converge (status=1):\n",
            "STOP: TOTAL NO. of ITERATIONS REACHED LIMIT.\n",
            "\n",
            "Increase the number of iterations (max_iter) or scale the data as shown in:\n",
            "    https://scikit-learn.org/stable/modules/preprocessing.html\n",
            "Please also refer to the documentation for alternative solver options:\n",
            "    https://scikit-learn.org/stable/modules/linear_model.html#logistic-regression\n",
            "  extra_warning_msg=_LOGISTIC_SOLVER_CONVERGENCE_MSG)\n",
            "/usr/local/lib/python3.6/dist-packages/sklearn/linear_model/_logistic.py:940: ConvergenceWarning: lbfgs failed to converge (status=1):\n",
            "STOP: TOTAL NO. of ITERATIONS REACHED LIMIT.\n",
            "\n",
            "Increase the number of iterations (max_iter) or scale the data as shown in:\n",
            "    https://scikit-learn.org/stable/modules/preprocessing.html\n",
            "Please also refer to the documentation for alternative solver options:\n",
            "    https://scikit-learn.org/stable/modules/linear_model.html#logistic-regression\n",
            "  extra_warning_msg=_LOGISTIC_SOLVER_CONVERGENCE_MSG)\n",
            "/usr/local/lib/python3.6/dist-packages/sklearn/linear_model/_logistic.py:940: ConvergenceWarning: lbfgs failed to converge (status=1):\n",
            "STOP: TOTAL NO. of ITERATIONS REACHED LIMIT.\n",
            "\n",
            "Increase the number of iterations (max_iter) or scale the data as shown in:\n",
            "    https://scikit-learn.org/stable/modules/preprocessing.html\n",
            "Please also refer to the documentation for alternative solver options:\n",
            "    https://scikit-learn.org/stable/modules/linear_model.html#logistic-regression\n",
            "  extra_warning_msg=_LOGISTIC_SOLVER_CONVERGENCE_MSG)\n",
            "/usr/local/lib/python3.6/dist-packages/sklearn/linear_model/_logistic.py:940: ConvergenceWarning: lbfgs failed to converge (status=1):\n",
            "STOP: TOTAL NO. of ITERATIONS REACHED LIMIT.\n",
            "\n",
            "Increase the number of iterations (max_iter) or scale the data as shown in:\n",
            "    https://scikit-learn.org/stable/modules/preprocessing.html\n",
            "Please also refer to the documentation for alternative solver options:\n",
            "    https://scikit-learn.org/stable/modules/linear_model.html#logistic-regression\n",
            "  extra_warning_msg=_LOGISTIC_SOLVER_CONVERGENCE_MSG)\n",
            "/usr/local/lib/python3.6/dist-packages/sklearn/linear_model/_logistic.py:940: ConvergenceWarning: lbfgs failed to converge (status=1):\n",
            "STOP: TOTAL NO. of ITERATIONS REACHED LIMIT.\n",
            "\n",
            "Increase the number of iterations (max_iter) or scale the data as shown in:\n",
            "    https://scikit-learn.org/stable/modules/preprocessing.html\n",
            "Please also refer to the documentation for alternative solver options:\n",
            "    https://scikit-learn.org/stable/modules/linear_model.html#logistic-regression\n",
            "  extra_warning_msg=_LOGISTIC_SOLVER_CONVERGENCE_MSG)\n",
            "/usr/local/lib/python3.6/dist-packages/sklearn/linear_model/_logistic.py:940: ConvergenceWarning: lbfgs failed to converge (status=1):\n",
            "STOP: TOTAL NO. of ITERATIONS REACHED LIMIT.\n",
            "\n",
            "Increase the number of iterations (max_iter) or scale the data as shown in:\n",
            "    https://scikit-learn.org/stable/modules/preprocessing.html\n",
            "Please also refer to the documentation for alternative solver options:\n",
            "    https://scikit-learn.org/stable/modules/linear_model.html#logistic-regression\n",
            "  extra_warning_msg=_LOGISTIC_SOLVER_CONVERGENCE_MSG)\n",
            "/usr/local/lib/python3.6/dist-packages/sklearn/linear_model/_logistic.py:940: ConvergenceWarning: lbfgs failed to converge (status=1):\n",
            "STOP: TOTAL NO. of ITERATIONS REACHED LIMIT.\n",
            "\n",
            "Increase the number of iterations (max_iter) or scale the data as shown in:\n",
            "    https://scikit-learn.org/stable/modules/preprocessing.html\n",
            "Please also refer to the documentation for alternative solver options:\n",
            "    https://scikit-learn.org/stable/modules/linear_model.html#logistic-regression\n",
            "  extra_warning_msg=_LOGISTIC_SOLVER_CONVERGENCE_MSG)\n",
            "/usr/local/lib/python3.6/dist-packages/sklearn/linear_model/_logistic.py:940: ConvergenceWarning: lbfgs failed to converge (status=1):\n",
            "STOP: TOTAL NO. of ITERATIONS REACHED LIMIT.\n",
            "\n",
            "Increase the number of iterations (max_iter) or scale the data as shown in:\n",
            "    https://scikit-learn.org/stable/modules/preprocessing.html\n",
            "Please also refer to the documentation for alternative solver options:\n",
            "    https://scikit-learn.org/stable/modules/linear_model.html#logistic-regression\n",
            "  extra_warning_msg=_LOGISTIC_SOLVER_CONVERGENCE_MSG)\n"
          ],
          "name": "stderr"
        },
        {
          "output_type": "execute_result",
          "data": {
            "text/plain": [
              "GridSearchCV(cv=None, error_score=nan,\n",
              "             estimator=LogisticRegression(C=1.0, class_weight=None, dual=False,\n",
              "                                          fit_intercept=True,\n",
              "                                          intercept_scaling=1, l1_ratio=None,\n",
              "                                          max_iter=100, multi_class='auto',\n",
              "                                          n_jobs=None, penalty='l2',\n",
              "                                          random_state=None, solver='lbfgs',\n",
              "                                          tol=0.0001, verbose=0,\n",
              "                                          warm_start=False),\n",
              "             iid='deprecated', n_jobs=None,\n",
              "             param_grid={'C': [0.01, 0.5, 1, 10]}, pre_dispatch='2*n_jobs',\n",
              "             refit=True, return_train_score=False, scoring=None, verbose=0)"
            ]
          },
          "metadata": {
            "tags": []
          },
          "execution_count": 151
        }
      ]
    },
    {
      "cell_type": "code",
      "metadata": {
        "id": "rnO4PJBx3XJt",
        "colab_type": "code",
        "colab": {
          "base_uri": "https://localhost:8080/",
          "height": 126
        },
        "outputId": "6d5be405-dbcc-4599-f5ae-a8d7b332f656"
      },
      "source": [
        "# print best parameter after tuning \n",
        "print(grid.best_params_)   \n",
        "# print how our model looks after hyper-parameter tuning \n",
        "print(grid.best_estimator_) "
      ],
      "execution_count": 152,
      "outputs": [
        {
          "output_type": "stream",
          "text": [
            "{'C': 10}\n",
            "LogisticRegression(C=10, class_weight=None, dual=False, fit_intercept=True,\n",
            "                   intercept_scaling=1, l1_ratio=None, max_iter=100,\n",
            "                   multi_class='auto', n_jobs=None, penalty='l2',\n",
            "                   random_state=None, solver='lbfgs', tol=0.0001, verbose=0,\n",
            "                   warm_start=False)\n"
          ],
          "name": "stdout"
        }
      ]
    },
    {
      "cell_type": "code",
      "metadata": {
        "id": "g0LoXjXnRFQX",
        "colab_type": "code",
        "colab": {
          "base_uri": "https://localhost:8080/",
          "height": 163
        },
        "outputId": "87a2f3c7-07c3-4b7e-92ca-36e86787c05d"
      },
      "source": [
        "final_ngram = LogisticRegression(C=10)\n",
        "final_ngram.fit(X_vector, y_train)\n",
        "y_pred = final_ngram.predict(X_vector_test)\n",
        "accuracy = accuracy_score(y_test, y_pred)\n",
        "recall = recall_score(y_test, y_pred,average='weighted')\n",
        "precision = precision_recall_fscore_support(y_test,  y_pred , average='weighted')[0]"
      ],
      "execution_count": 154,
      "outputs": [
        {
          "output_type": "stream",
          "text": [
            "/usr/local/lib/python3.6/dist-packages/sklearn/linear_model/_logistic.py:940: ConvergenceWarning: lbfgs failed to converge (status=1):\n",
            "STOP: TOTAL NO. of ITERATIONS REACHED LIMIT.\n",
            "\n",
            "Increase the number of iterations (max_iter) or scale the data as shown in:\n",
            "    https://scikit-learn.org/stable/modules/preprocessing.html\n",
            "Please also refer to the documentation for alternative solver options:\n",
            "    https://scikit-learn.org/stable/modules/linear_model.html#logistic-regression\n",
            "  extra_warning_msg=_LOGISTIC_SOLVER_CONVERGENCE_MSG)\n"
          ],
          "name": "stderr"
        }
      ]
    },
    {
      "cell_type": "code",
      "metadata": {
        "id": "-tYi6chPRMDG",
        "colab_type": "code",
        "colab": {
          "base_uri": "https://localhost:8080/",
          "height": 138
        },
        "outputId": "83df0e93-26ff-4022-8acb-8216e5f3e40e"
      },
      "source": [
        "#Store the accuracy results for each model in a dataframe for final comparison\n",
        "tempResultsDf = pd.DataFrame({'Method':['N-Gram'], 'Accuracy': [accuracy], 'Recall': [recall], 'Precision': precision})\n",
        "resultsDf = pd.concat([resultsDf, tempResultsDf])\n",
        "resultsDf"
      ],
      "execution_count": 155,
      "outputs": [
        {
          "output_type": "execute_result",
          "data": {
            "text/html": [
              "<div>\n",
              "<style scoped>\n",
              "    .dataframe tbody tr th:only-of-type {\n",
              "        vertical-align: middle;\n",
              "    }\n",
              "\n",
              "    .dataframe tbody tr th {\n",
              "        vertical-align: top;\n",
              "    }\n",
              "\n",
              "    .dataframe thead th {\n",
              "        text-align: right;\n",
              "    }\n",
              "</style>\n",
              "<table border=\"1\" class=\"dataframe\">\n",
              "  <thead>\n",
              "    <tr style=\"text-align: right;\">\n",
              "      <th></th>\n",
              "      <th>Method</th>\n",
              "      <th>Accuracy</th>\n",
              "      <th>Recall</th>\n",
              "      <th>Precision</th>\n",
              "    </tr>\n",
              "  </thead>\n",
              "  <tbody>\n",
              "    <tr>\n",
              "      <th>0</th>\n",
              "      <td>Logistic Regression</td>\n",
              "      <td>0.733772</td>\n",
              "      <td>0.733772</td>\n",
              "      <td>0.726223</td>\n",
              "    </tr>\n",
              "    <tr>\n",
              "      <th>0</th>\n",
              "      <td>SVM</td>\n",
              "      <td>0.959737</td>\n",
              "      <td>0.959737</td>\n",
              "      <td>0.971365</td>\n",
              "    </tr>\n",
              "    <tr>\n",
              "      <th>0</th>\n",
              "      <td>N-Gram</td>\n",
              "      <td>0.953164</td>\n",
              "      <td>0.953164</td>\n",
              "      <td>0.961597</td>\n",
              "    </tr>\n",
              "  </tbody>\n",
              "</table>\n",
              "</div>"
            ],
            "text/plain": [
              "                Method  Accuracy    Recall  Precision\n",
              "0  Logistic Regression  0.733772  0.733772   0.726223\n",
              "0                  SVM  0.959737  0.959737   0.971365\n",
              "0               N-Gram  0.953164  0.953164   0.961597"
            ]
          },
          "metadata": {
            "tags": []
          },
          "execution_count": 155
        }
      ]
    },
    {
      "cell_type": "code",
      "metadata": {
        "id": "f7KHYQUr3hkz",
        "colab_type": "code",
        "colab": {
          "base_uri": "https://localhost:8080/",
          "height": 637
        },
        "outputId": "a18f0e4e-50b2-4192-e799-45fa38eee330"
      },
      "source": [
        "#Getting Classification Report for Validation Data\n",
        "from sklearn.metrics import classification_report\n",
        "grid_predictions = grid.predict(X_vector_validation) \n",
        "# print classification report \n",
        "print(classification_report(y_validation, grid_predictions)) "
      ],
      "execution_count": 156,
      "outputs": [
        {
          "output_type": "stream",
          "text": [
            "              precision    recall  f1-score   support\n",
            "\n",
            "       GRP_0       0.77      0.97      0.86       789\n",
            "      GRP_10       0.90      0.38      0.53        24\n",
            "      GRP_12       0.72      0.61      0.66        56\n",
            "      GRP_13       0.71      0.54      0.61        28\n",
            "      GRP_14       0.83      0.36      0.50        28\n",
            "      GRP_16       0.00      0.00      0.00        21\n",
            "      GRP_17       1.00      0.90      0.95        10\n",
            "      GRP_18       0.45      0.42      0.43        12\n",
            "      GRP_19       0.50      0.31      0.38        36\n",
            "       GRP_2       0.62      0.35      0.45        51\n",
            "      GRP_24       0.97      0.92      0.94        61\n",
            "      GRP_25       0.92      0.38      0.54        29\n",
            "      GRP_26       1.00      0.10      0.18        10\n",
            "      GRP_29       0.90      0.53      0.67        17\n",
            "       GRP_3       0.93      0.35      0.51        40\n",
            "      GRP_31       1.00      0.25      0.40        12\n",
            "      GRP_33       0.64      0.33      0.44        21\n",
            "      GRP_34       1.00      0.08      0.15        12\n",
            "       GRP_4       0.50      0.18      0.27        22\n",
            "       GRP_5       0.78      0.39      0.52        18\n",
            "       GRP_6       0.55      0.30      0.39        37\n",
            "       GRP_7       0.78      0.50      0.61        14\n",
            "       GRP_8       0.60      0.91      0.72       129\n",
            "       GRP_9       0.91      0.22      0.36        45\n",
            "\n",
            "    accuracy                           0.75      1522\n",
            "   macro avg       0.75      0.43      0.50      1522\n",
            "weighted avg       0.75      0.75      0.71      1522\n",
            "\n"
          ],
          "name": "stdout"
        },
        {
          "output_type": "stream",
          "text": [
            "/usr/local/lib/python3.6/dist-packages/sklearn/metrics/_classification.py:1272: UndefinedMetricWarning: Precision and F-score are ill-defined and being set to 0.0 in labels with no predicted samples. Use `zero_division` parameter to control this behavior.\n",
            "  _warn_prf(average, modifier, msg_start, len(result))\n"
          ],
          "name": "stderr"
        }
      ]
    },
    {
      "cell_type": "markdown",
      "metadata": {
        "id": "Sm1BU9Yd4JXv",
        "colab_type": "text"
      },
      "source": [
        "**Random Forest Classifier**"
      ]
    },
    {
      "cell_type": "code",
      "metadata": {
        "id": "XsZmz9zn6h4k",
        "colab_type": "code",
        "colab": {
          "base_uri": "https://localhost:8080/",
          "height": 381
        },
        "outputId": "9e21dfdb-163b-4971-99eb-dc935a8df73d"
      },
      "source": [
        "#Random Forest Classifier\n",
        "from sklearn.ensemble import RandomForestClassifier\n",
        "# defining parameter range \n",
        "param_grid = {'n_estimators': [ 10, 50, 100] }  \n",
        "rfcl = RandomForestClassifier() \n",
        "grid = GridSearchCV(rfcl, param_grid, refit = True ) \n",
        "# fitting the model for grid search \n",
        "grid.fit(X_vector_train, y_vector_train) "
      ],
      "execution_count": 157,
      "outputs": [
        {
          "output_type": "execute_result",
          "data": {
            "text/plain": [
              "GridSearchCV(cv=None, error_score=nan,\n",
              "             estimator=RandomForestClassifier(bootstrap=True, ccp_alpha=0.0,\n",
              "                                              class_weight=None,\n",
              "                                              criterion='gini', max_depth=None,\n",
              "                                              max_features='auto',\n",
              "                                              max_leaf_nodes=None,\n",
              "                                              max_samples=None,\n",
              "                                              min_impurity_decrease=0.0,\n",
              "                                              min_impurity_split=None,\n",
              "                                              min_samples_leaf=1,\n",
              "                                              min_samples_split=2,\n",
              "                                              min_weight_fraction_leaf=0.0,\n",
              "                                              n_estimators=100, n_jobs=None,\n",
              "                                              oob_score=False,\n",
              "                                              random_state=None, verbose=0,\n",
              "                                              warm_start=False),\n",
              "             iid='deprecated', n_jobs=None,\n",
              "             param_grid={'n_estimators': [10, 50, 100]},\n",
              "             pre_dispatch='2*n_jobs', refit=True, return_train_score=False,\n",
              "             scoring=None, verbose=0)"
            ]
          },
          "metadata": {
            "tags": []
          },
          "execution_count": 157
        }
      ]
    },
    {
      "cell_type": "code",
      "metadata": {
        "id": "Wfe74zqE6ycG",
        "colab_type": "code",
        "colab": {
          "base_uri": "https://localhost:8080/",
          "height": 181
        },
        "outputId": "9804a92b-98a0-4ce8-df50-f21f2910d6b5"
      },
      "source": [
        "# print best parameter after tuning \n",
        "print(grid.best_params_)   \n",
        "# print how our model looks after hyper-parameter tuning \n",
        "print(grid.best_estimator_) "
      ],
      "execution_count": 158,
      "outputs": [
        {
          "output_type": "stream",
          "text": [
            "{'n_estimators': 100}\n",
            "RandomForestClassifier(bootstrap=True, ccp_alpha=0.0, class_weight=None,\n",
            "                       criterion='gini', max_depth=None, max_features='auto',\n",
            "                       max_leaf_nodes=None, max_samples=None,\n",
            "                       min_impurity_decrease=0.0, min_impurity_split=None,\n",
            "                       min_samples_leaf=1, min_samples_split=2,\n",
            "                       min_weight_fraction_leaf=0.0, n_estimators=100,\n",
            "                       n_jobs=None, oob_score=False, random_state=None,\n",
            "                       verbose=0, warm_start=False)\n"
          ],
          "name": "stdout"
        }
      ]
    },
    {
      "cell_type": "code",
      "metadata": {
        "id": "gjP7V0W0RPv4",
        "colab_type": "code",
        "colab": {}
      },
      "source": [
        "\n",
        "rfcl = RandomForestClassifier(n_estimators = 100)\n",
        "rfcl = rfcl.fit(X_vector, y_train)\n",
        "pred_RF = rfcl.predict(X_vector_test)\n",
        "accuracy = accuracy_score(y_test, pred_RF)\n",
        "recall = recall_score(y_test, pred_RF, average=\"weighted\")\n",
        "precision = precision_recall_fscore_support(y_test,  pred_RF , average='weighted')[0]"
      ],
      "execution_count": 159,
      "outputs": []
    },
    {
      "cell_type": "code",
      "metadata": {
        "id": "v1a3ZXpIndxk",
        "colab_type": "code",
        "colab": {
          "base_uri": "https://localhost:8080/",
          "height": 168
        },
        "outputId": "80c024db-5612-4f13-e473-02fcace7c74b"
      },
      "source": [
        "#Store the accuracy results for each model in a dataframe for final comparison\n",
        "tempResultsDf = pd.DataFrame({'Method':['Random Forest'], 'Accuracy': [accuracy], 'Recall': [recall], 'Precision': precision})\n",
        "resultsDf = pd.concat([resultsDf, tempResultsDf])\n",
        "resultsDf"
      ],
      "execution_count": 160,
      "outputs": [
        {
          "output_type": "execute_result",
          "data": {
            "text/html": [
              "<div>\n",
              "<style scoped>\n",
              "    .dataframe tbody tr th:only-of-type {\n",
              "        vertical-align: middle;\n",
              "    }\n",
              "\n",
              "    .dataframe tbody tr th {\n",
              "        vertical-align: top;\n",
              "    }\n",
              "\n",
              "    .dataframe thead th {\n",
              "        text-align: right;\n",
              "    }\n",
              "</style>\n",
              "<table border=\"1\" class=\"dataframe\">\n",
              "  <thead>\n",
              "    <tr style=\"text-align: right;\">\n",
              "      <th></th>\n",
              "      <th>Method</th>\n",
              "      <th>Accuracy</th>\n",
              "      <th>Recall</th>\n",
              "      <th>Precision</th>\n",
              "    </tr>\n",
              "  </thead>\n",
              "  <tbody>\n",
              "    <tr>\n",
              "      <th>0</th>\n",
              "      <td>Logistic Regression</td>\n",
              "      <td>0.733772</td>\n",
              "      <td>0.733772</td>\n",
              "      <td>0.726223</td>\n",
              "    </tr>\n",
              "    <tr>\n",
              "      <th>0</th>\n",
              "      <td>SVM</td>\n",
              "      <td>0.959737</td>\n",
              "      <td>0.959737</td>\n",
              "      <td>0.971365</td>\n",
              "    </tr>\n",
              "    <tr>\n",
              "      <th>0</th>\n",
              "      <td>N-Gram</td>\n",
              "      <td>0.953164</td>\n",
              "      <td>0.953164</td>\n",
              "      <td>0.961597</td>\n",
              "    </tr>\n",
              "    <tr>\n",
              "      <th>0</th>\n",
              "      <td>Random Forest</td>\n",
              "      <td>0.953164</td>\n",
              "      <td>0.953164</td>\n",
              "      <td>0.961597</td>\n",
              "    </tr>\n",
              "  </tbody>\n",
              "</table>\n",
              "</div>"
            ],
            "text/plain": [
              "                Method  Accuracy    Recall  Precision\n",
              "0  Logistic Regression  0.733772  0.733772   0.726223\n",
              "0                  SVM  0.959737  0.959737   0.971365\n",
              "0               N-Gram  0.953164  0.953164   0.961597\n",
              "0        Random Forest  0.953164  0.953164   0.961597"
            ]
          },
          "metadata": {
            "tags": []
          },
          "execution_count": 160
        }
      ]
    },
    {
      "cell_type": "code",
      "metadata": {
        "id": "Wr-vuMZFnpOm",
        "colab_type": "code",
        "colab": {}
      },
      "source": [
        ""
      ],
      "execution_count": null,
      "outputs": []
    },
    {
      "cell_type": "markdown",
      "metadata": {
        "id": "ZwnRxSkvqOK3",
        "colab_type": "text"
      },
      "source": [
        "**LSTM **"
      ]
    },
    {
      "cell_type": "code",
      "metadata": {
        "id": "_5H-AVHEqj61",
        "colab_type": "code",
        "colab": {
          "base_uri": "https://localhost:8080/",
          "height": 35
        },
        "outputId": "ea3a546a-ae52-43da-ddc2-9192e85df6ee"
      },
      "source": [
        "from keras.preprocessing.text import Tokenizer\n",
        "from keras.preprocessing.sequence import pad_sequences\n",
        "max_features = 10000\n"
      ],
      "execution_count": 161,
      "outputs": [
        {
          "output_type": "stream",
          "text": [
            "Using TensorFlow backend.\n"
          ],
          "name": "stderr"
        }
      ]
    },
    {
      "cell_type": "code",
      "metadata": {
        "id": "ekJ2GjHwq9LU",
        "colab_type": "code",
        "colab": {
          "base_uri": "https://localhost:8080/",
          "height": 35
        },
        "outputId": "ac78f05d-f334-42ac-e647-14f8c1d6f2c9"
      },
      "source": [
        "maxlen = 0\n",
        "for row in df_clean['Description Stem']:\n",
        "  row_length = len(row)\n",
        "  if maxlen < row_length:\n",
        "    maxlen = row_length\n",
        "\n",
        "print (maxlen)"
      ],
      "execution_count": 162,
      "outputs": [
        {
          "output_type": "stream",
          "text": [
            "923\n"
          ],
          "name": "stdout"
        }
      ]
    },
    {
      "cell_type": "code",
      "metadata": {
        "id": "zZVDisO_qRzh",
        "colab_type": "code",
        "colab": {}
      },
      "source": [
        "\n",
        "tokenizer = Tokenizer(num_words=max_features)\n",
        "tokenizer.fit_on_texts(df_clean['Description Stem'].values)"
      ],
      "execution_count": 163,
      "outputs": []
    },
    {
      "cell_type": "code",
      "metadata": {
        "id": "GMnbV73YqhRt",
        "colab_type": "code",
        "colab": {
          "base_uri": "https://localhost:8080/",
          "height": 72
        },
        "outputId": "ccd3069d-78b1-4af6-fb53-ced0f5c679fb"
      },
      "source": [
        "X = tokenizer.texts_to_sequences(df_clean['Description Stem'].values)\n",
        "X = pad_sequences(X, maxlen = maxlen)\n",
        "\n",
        "## Perform lable encoder... and convert to catagorical.. \n",
        "from sklearn import preprocessing\n",
        "le = preprocessing.LabelEncoder()\n",
        "le.fit(df_clean['Assignment group'])\n",
        "y_enc = le.transform(df_clean['Assignment group'])\n",
        "\n",
        "print(\"Number of Samples:\", len(X))\n",
        "#print(X[0])\n",
        "print(\"Number of Labels: \", len(y))\n",
        "print(y[0])"
      ],
      "execution_count": 164,
      "outputs": [
        {
          "output_type": "stream",
          "text": [
            "Number of Samples: 7606\n",
            "Number of Labels:  7606\n",
            "GRP_0\n"
          ],
          "name": "stdout"
        }
      ]
    },
    {
      "cell_type": "code",
      "metadata": {
        "id": "k36Af9w8rMF1",
        "colab_type": "code",
        "colab": {
          "base_uri": "https://localhost:8080/",
          "height": 35
        },
        "outputId": "5e92d174-54ce-4c70-e4d1-052320749b45"
      },
      "source": [
        "y_enc"
      ],
      "execution_count": 165,
      "outputs": [
        {
          "output_type": "execute_result",
          "data": {
            "text/plain": [
              "array([ 0,  0,  0, ..., 13,  0,  0])"
            ]
          },
          "metadata": {
            "tags": []
          },
          "execution_count": 165
        }
      ]
    },
    {
      "cell_type": "code",
      "metadata": {
        "id": "Uc_xivQardEX",
        "colab_type": "code",
        "colab": {
          "base_uri": "https://localhost:8080/",
          "height": 145
        },
        "outputId": "b68da169-2f7d-41f9-c49b-f7f8c1fbf92a"
      },
      "source": [
        "Y = pd.get_dummies(y_enc).values\n",
        "Y"
      ],
      "execution_count": 166,
      "outputs": [
        {
          "output_type": "execute_result",
          "data": {
            "text/plain": [
              "array([[1, 0, 0, ..., 0, 0, 0],\n",
              "       [1, 0, 0, ..., 0, 0, 0],\n",
              "       [1, 0, 0, ..., 0, 0, 0],\n",
              "       ...,\n",
              "       [0, 0, 0, ..., 0, 0, 0],\n",
              "       [1, 0, 0, ..., 0, 0, 0],\n",
              "       [1, 0, 0, ..., 0, 0, 0]], dtype=uint8)"
            ]
          },
          "metadata": {
            "tags": []
          },
          "execution_count": 166
        }
      ]
    },
    {
      "cell_type": "code",
      "metadata": {
        "id": "o_UznzZTriJ0",
        "colab_type": "code",
        "colab": {
          "base_uri": "https://localhost:8080/",
          "height": 35
        },
        "outputId": "40d22a75-3a0b-417d-e17c-cfcbe65dc271"
      },
      "source": [
        "Y[0].shape"
      ],
      "execution_count": 167,
      "outputs": [
        {
          "output_type": "execute_result",
          "data": {
            "text/plain": [
              "(24,)"
            ]
          },
          "metadata": {
            "tags": []
          },
          "execution_count": 167
        }
      ]
    },
    {
      "cell_type": "code",
      "metadata": {
        "id": "7DG1zKSbrkqx",
        "colab_type": "code",
        "colab": {
          "base_uri": "https://localhost:8080/",
          "height": 54
        },
        "outputId": "4d550c12-be2e-41db-9fec-0fe1cdf27a67"
      },
      "source": [
        "Y = pd.get_dummies(y_enc).values\n",
        "X_train, X_test, Y_train, Y_test = train_test_split(X,Y, test_size = 0.20, random_state = 42)\n",
        "print(X_train.shape,Y_train.shape)\n",
        "print(X_test.shape,Y_test.shape)"
      ],
      "execution_count": 168,
      "outputs": [
        {
          "output_type": "stream",
          "text": [
            "(6084, 923) (6084, 24)\n",
            "(1522, 923) (1522, 24)\n"
          ],
          "name": "stdout"
        }
      ]
    },
    {
      "cell_type": "code",
      "metadata": {
        "id": "IipZoZyGr4rx",
        "colab_type": "code",
        "colab": {
          "base_uri": "https://localhost:8080/",
          "height": 35
        },
        "outputId": "b7a53170-3ebc-4dcc-ca97-dfe6db5186b1"
      },
      "source": [
        "len(tokenizer.word_index)"
      ],
      "execution_count": 169,
      "outputs": [
        {
          "output_type": "execute_result",
          "data": {
            "text/plain": [
              "15351"
            ]
          },
          "metadata": {
            "tags": []
          },
          "execution_count": 169
        }
      ]
    },
    {
      "cell_type": "code",
      "metadata": {
        "id": "pB9SxMWlsV5D",
        "colab_type": "code",
        "colab": {}
      },
      "source": [
        "from tensorflow.keras.layers import Dense, Input, LSTM, Embedding, Dropout, Activation, Flatten, Bidirectional, GlobalMaxPool1D, TimeDistributed\n",
        "from tensorflow.keras.models import Model, Sequential\n"
      ],
      "execution_count": 170,
      "outputs": []
    },
    {
      "cell_type": "code",
      "metadata": {
        "id": "I9SrJtKDsfCY",
        "colab_type": "code",
        "colab": {}
      },
      "source": [
        "num_words=len(tokenizer.word_index) + 1\n",
        "embedding_size = 200"
      ],
      "execution_count": 171,
      "outputs": []
    },
    {
      "cell_type": "code",
      "metadata": {
        "id": "DfFgg9VAsCJe",
        "colab_type": "code",
        "colab": {
          "base_uri": "https://localhost:8080/",
          "height": 417
        },
        "outputId": "bbe4172d-0c84-49ae-f70f-e0d5e6f2af75"
      },
      "source": [
        "model = Sequential()\n",
        "model.add(Embedding(num_words,embedding_size,input_length=maxlen )) #10000 for vocab size, 8 for dimensionality of embedding\n",
        "model.add(Bidirectional(LSTM(64, return_sequences=True), input_shape=(5, 64)))\n",
        "model.add(TimeDistributed(Dense(100)))\n",
        "model.add(Flatten())\n",
        "model.add(Dropout(0.2))\n",
        "model.add(Dense(250, activation='relu'))\n",
        "model.add(Dense(24, activation='softmax'))\n",
        "model.compile(optimizer='adam', loss='categorical_crossentropy', metrics=['acc'])\n",
        "model.summary()"
      ],
      "execution_count": 175,
      "outputs": [
        {
          "output_type": "stream",
          "text": [
            "Model: \"sequential_1\"\n",
            "_________________________________________________________________\n",
            "Layer (type)                 Output Shape              Param #   \n",
            "=================================================================\n",
            "embedding_1 (Embedding)      (None, 923, 200)          3070400   \n",
            "_________________________________________________________________\n",
            "bidirectional_1 (Bidirection (None, 923, 128)          135680    \n",
            "_________________________________________________________________\n",
            "time_distributed_1 (TimeDist (None, 923, 100)          12900     \n",
            "_________________________________________________________________\n",
            "flatten_1 (Flatten)          (None, 92300)             0         \n",
            "_________________________________________________________________\n",
            "dropout_1 (Dropout)          (None, 92300)             0         \n",
            "_________________________________________________________________\n",
            "dense_4 (Dense)              (None, 250)               23075250  \n",
            "_________________________________________________________________\n",
            "dense_5 (Dense)              (None, 24)                6024      \n",
            "=================================================================\n",
            "Total params: 26,300,254\n",
            "Trainable params: 26,300,254\n",
            "Non-trainable params: 0\n",
            "_________________________________________________________________\n"
          ],
          "name": "stdout"
        }
      ]
    },
    {
      "cell_type": "code",
      "metadata": {
        "id": "pOwXrdSLsXKd",
        "colab_type": "code",
        "colab": {
          "base_uri": "https://localhost:8080/",
          "height": 417
        },
        "outputId": "9a706102-009a-477e-fc4c-9ed991e48b05"
      },
      "source": [
        "import time\n",
        "batch_size = 50\n",
        "epochs = 10\n",
        "print('Train...')\n",
        "start = time.clock()\n",
        "model.fit(X_train, Y_train, batch_size=batch_size, epochs=epochs, validation_data=[X_test, Y_test], validation_split=0.2, verbose=1)\n",
        "end = time.clock()\n",
        "print('Time spent:', end-start)"
      ],
      "execution_count": 176,
      "outputs": [
        {
          "output_type": "stream",
          "text": [
            "Train...\n",
            "Epoch 1/10\n",
            "98/98 [==============================] - 224s 2s/step - loss: 1.9488 - acc: 0.5634 - val_loss: 1.5962 - val_acc: 0.5892\n",
            "Epoch 2/10\n",
            "98/98 [==============================] - 227s 2s/step - loss: 1.2370 - acc: 0.6558 - val_loss: 1.4001 - val_acc: 0.6212\n",
            "Epoch 3/10\n",
            "98/98 [==============================] - 223s 2s/step - loss: 0.8159 - acc: 0.7442 - val_loss: 1.3512 - val_acc: 0.6639\n",
            "Epoch 4/10\n",
            "98/98 [==============================] - 223s 2s/step - loss: 0.5094 - acc: 0.8399 - val_loss: 1.5798 - val_acc: 0.6253\n",
            "Epoch 5/10\n",
            "98/98 [==============================] - 226s 2s/step - loss: 0.3218 - acc: 0.8989 - val_loss: 1.6867 - val_acc: 0.6565\n",
            "Epoch 6/10\n",
            "98/98 [==============================] - 222s 2s/step - loss: 0.2667 - acc: 0.9188 - val_loss: 1.7923 - val_acc: 0.6598\n",
            "Epoch 7/10\n",
            "98/98 [==============================] - 224s 2s/step - loss: 0.2049 - acc: 0.9308 - val_loss: 2.0939 - val_acc: 0.6705\n",
            "Epoch 8/10\n",
            "98/98 [==============================] - 227s 2s/step - loss: 0.1830 - acc: 0.9375 - val_loss: 2.0693 - val_acc: 0.6738\n",
            "Epoch 9/10\n",
            "98/98 [==============================] - 223s 2s/step - loss: 0.1664 - acc: 0.9453 - val_loss: 2.1297 - val_acc: 0.6565\n",
            "Epoch 10/10\n",
            "98/98 [==============================] - 226s 2s/step - loss: 0.1476 - acc: 0.9466 - val_loss: 2.4222 - val_acc: 0.6656\n",
            "Time spent: 4379.534011\n"
          ],
          "name": "stdout"
        }
      ]
    },
    {
      "cell_type": "code",
      "metadata": {
        "id": "MMSVGUU6tfs7",
        "colab_type": "code",
        "colab": {
          "base_uri": "https://localhost:8080/",
          "height": 126
        },
        "outputId": "1eb062b1-a87c-47e9-8cff-ef21603e673a"
      },
      "source": [
        "print('\\nModel Performance: Log Loss and Accuracy on Test data')\n",
        "testLoss, testAcc = model.evaluate(X_test, Y_test, batch_size = 1)\n",
        "print('\\nTesting Scores:: loss: {}, acc: {}\\n'.format(testLoss, testAcc))"
      ],
      "execution_count": 177,
      "outputs": [
        {
          "output_type": "stream",
          "text": [
            "\n",
            "Model Performance: Log Loss and Accuracy on Test data\n",
            "1522/1522 [==============================] - 121s 79ms/step - loss: 2.1868 - acc: 0.6787\n",
            "\n",
            "Testing Scores:: loss: 2.1868247985839844, acc: 0.6787122488021851\n",
            "\n"
          ],
          "name": "stdout"
        }
      ]
    },
    {
      "cell_type": "code",
      "metadata": {
        "id": "CiAHB2x_1Rtr",
        "colab_type": "code",
        "colab": {
          "base_uri": "https://localhost:8080/",
          "height": 90
        },
        "outputId": "f3541f98-fe44-472d-a70c-f25f531cc3d9"
      },
      "source": [
        "\n",
        "\n",
        "trainLoss, trainAcc = model.evaluate(X_train, Y_train, batch_size = 10)\n",
        "print('\\nTraining Scores::  loss: {}, acc: {}\\n'.format(trainLoss, trainAcc))\n",
        "\n",
        "\n"
      ],
      "execution_count": 178,
      "outputs": [
        {
          "output_type": "stream",
          "text": [
            "609/609 [==============================] - 97s 159ms/step - loss: 0.5905 - acc: 0.8946\n",
            "\n",
            "Training Scores::  loss: 0.590472400188446, acc: 0.8946416974067688\n",
            "\n"
          ],
          "name": "stdout"
        }
      ]
    },
    {
      "cell_type": "code",
      "metadata": {
        "id": "ESjJ53AsTkNQ",
        "colab_type": "code",
        "colab": {
          "base_uri": "https://localhost:8080/",
          "height": 581
        },
        "outputId": "69b6a84e-5e5a-43e6-f96a-57bb1364ff90"
      },
      "source": [
        "from sklearn.metrics import classification_report, confusion_matrix\n",
        "import numpy as np\n",
        "rounded_labels=np.argmax(Y_test, axis=1)\n",
        "y_pred = model.predict_classes(X_test)\n",
        "report = classification_report(rounded_labels, y_pred, target_names=df['Assignment group'].unique() )\n",
        "print(report)\n",
        "\n"
      ],
      "execution_count": 179,
      "outputs": [
        {
          "output_type": "stream",
          "text": [
            "              precision    recall  f1-score   support\n",
            "\n",
            "       GRP_0       0.83      0.88      0.85       784\n",
            "       GRP_3       0.75      0.60      0.67        25\n",
            "       GRP_4       0.64      0.58      0.61        52\n",
            "       GRP_5       0.32      0.32      0.32        25\n",
            "       GRP_6       0.18      0.25      0.21        16\n",
            "       GRP_7       0.43      0.17      0.24        18\n",
            "       GRP_8       0.50      0.36      0.42        14\n",
            "       GRP_9       0.24      0.45      0.31        11\n",
            "      GRP_10       0.22      0.31      0.26        42\n",
            "      GRP_12       0.47      0.38      0.42        48\n",
            "      GRP_13       0.90      0.76      0.83        59\n",
            "      GRP_14       0.43      0.30      0.35        20\n",
            "      GRP_16       0.00      0.00      0.00        14\n",
            "      GRP_17       0.33      0.22      0.26        23\n",
            "      GRP_18       0.30      0.31      0.30        36\n",
            "      GRP_19       0.40      0.36      0.38        11\n",
            "       GRP_2       0.50      0.63      0.56        19\n",
            "      GRP_24       0.25      0.10      0.14        10\n",
            "      GRP_25       0.57      0.33      0.42        24\n",
            "      GRP_26       0.80      0.38      0.51        32\n",
            "      GRP_29       0.67      0.35      0.46        46\n",
            "      GRP_31       0.25      0.23      0.24        13\n",
            "      GRP_33       0.56      0.90      0.69       125\n",
            "      GRP_34       0.55      0.20      0.29        55\n",
            "\n",
            "    accuracy                           0.68      1522\n",
            "   macro avg       0.46      0.39      0.41      1522\n",
            "weighted avg       0.68      0.68      0.67      1522\n",
            "\n"
          ],
          "name": "stdout"
        }
      ]
    },
    {
      "cell_type": "code",
      "metadata": {
        "id": "gtiFy3ehT5ap",
        "colab_type": "code",
        "colab": {
          "base_uri": "https://localhost:8080/",
          "height": 890
        },
        "outputId": "c60cd27c-1614-4887-eb29-fab9415edda8"
      },
      "source": [
        "from sklearn.metrics import confusion_matrix\n",
        "cm = confusion_matrix(rounded_labels, y_pred)\n",
        "cm"
      ],
      "execution_count": 180,
      "outputs": [
        {
          "output_type": "execute_result",
          "data": {
            "text/plain": [
              "array([[686,   1,   3,   2,   4,   4,   3,   3,  26,   7,   1,   4,   2,\n",
              "          1,  12,   5,   4,   1,   3,   0,   1,   7,   0,   4],\n",
              "       [  5,  15,   0,   2,   0,   0,   0,   0,   0,   0,   0,   0,   0,\n",
              "          0,   0,   0,   0,   0,   0,   0,   0,   0,   2,   1],\n",
              "       [  6,   0,  30,   0,   2,   0,   0,   0,   2,   2,   2,   0,   0,\n",
              "          0,   1,   0,   1,   1,   1,   0,   0,   0,   4,   0],\n",
              "       [  5,   2,   1,   8,   0,   0,   0,   3,   0,   0,   0,   1,   1,\n",
              "          1,   0,   0,   0,   0,   0,   0,   2,   0,   0,   1],\n",
              "       [  4,   0,   2,   0,   4,   0,   0,   0,   0,   1,   0,   1,   0,\n",
              "          0,   0,   0,   0,   0,   0,   0,   0,   0,   2,   2],\n",
              "       [ 12,   0,   2,   0,   0,   3,   0,   0,   0,   1,   0,   0,   0,\n",
              "          0,   0,   0,   0,   0,   0,   0,   0,   0,   0,   0],\n",
              "       [  9,   0,   0,   0,   0,   0,   5,   0,   0,   0,   0,   0,   0,\n",
              "          0,   0,   0,   0,   0,   0,   0,   0,   0,   0,   0],\n",
              "       [  2,   0,   0,   0,   0,   0,   0,   5,   1,   0,   0,   0,   0,\n",
              "          0,   0,   0,   0,   0,   0,   0,   1,   0,   1,   1],\n",
              "       [ 17,   0,   0,   0,   4,   0,   0,   0,  13,   1,   0,   0,   0,\n",
              "          0,   6,   0,   1,   0,   0,   0,   0,   0,   0,   0],\n",
              "       [ 22,   0,   0,   3,   1,   0,   1,   0,   0,  18,   0,   1,   0,\n",
              "          1,   0,   0,   0,   0,   0,   0,   0,   1,   0,   0],\n",
              "       [  4,   0,   2,   0,   0,   0,   0,   0,   4,   0,  45,   0,   0,\n",
              "          0,   1,   0,   3,   0,   0,   0,   0,   0,   0,   0],\n",
              "       [  4,   1,   0,   1,   2,   0,   0,   0,   1,   1,   1,   6,   1,\n",
              "          1,   0,   0,   1,   0,   0,   0,   0,   0,   0,   0],\n",
              "       [  8,   0,   0,   1,   0,   0,   0,   1,   2,   0,   0,   0,   0,\n",
              "          0,   2,   0,   0,   0,   0,   0,   0,   0,   0,   0],\n",
              "       [  5,   0,   0,   4,   2,   0,   0,   1,   0,   2,   0,   0,   1,\n",
              "          5,   1,   0,   0,   0,   0,   0,   2,   0,   0,   0],\n",
              "       [ 10,   0,   0,   0,   0,   0,   0,   1,   6,   3,   0,   0,   0,\n",
              "          0,  11,   1,   2,   1,   0,   0,   0,   1,   0,   0],\n",
              "       [  6,   0,   0,   0,   0,   0,   0,   0,   1,   0,   0,   0,   0,\n",
              "          0,   0,   4,   0,   0,   0,   0,   0,   0,   0,   0],\n",
              "       [  6,   0,   0,   0,   0,   0,   0,   0,   0,   0,   1,   0,   0,\n",
              "          0,   0,   0,  12,   0,   0,   0,   0,   0,   0,   0],\n",
              "       [  7,   0,   1,   0,   0,   0,   0,   0,   0,   0,   0,   0,   0,\n",
              "          0,   1,   0,   0,   1,   0,   0,   0,   0,   0,   0],\n",
              "       [  4,   0,   1,   0,   1,   0,   0,   1,   1,   0,   0,   0,   0,\n",
              "          0,   1,   0,   0,   0,   8,   1,   0,   0,   6,   0],\n",
              "       [  1,   0,   0,   0,   0,   0,   0,   0,   0,   0,   0,   0,   0,\n",
              "          0,   0,   0,   0,   0,   0,  12,   0,   0,  19,   0],\n",
              "       [  1,   0,   0,   3,   0,   0,   0,   5,   0,   0,   0,   0,   0,\n",
              "          6,   0,   0,   0,   0,   0,   0,  16,   0,  15,   0],\n",
              "       [  5,   0,   0,   0,   1,   0,   1,   0,   1,   1,   0,   0,   0,\n",
              "          0,   1,   0,   0,   0,   0,   0,   0,   3,   0,   0],\n",
              "       [  0,   0,   4,   1,   1,   0,   0,   1,   0,   0,   0,   0,   0,\n",
              "          0,   0,   0,   0,   0,   2,   2,   2,   0, 112,   0],\n",
              "       [  1,   1,   1,   0,   0,   0,   0,   0,   1,   1,   0,   1,   0,\n",
              "          0,   0,   0,   0,   0,   0,   0,   0,   0,  38,  11]])"
            ]
          },
          "metadata": {
            "tags": []
          },
          "execution_count": 180
        }
      ]
    },
    {
      "cell_type": "code",
      "metadata": {
        "id": "mfLNFwEhSBUy",
        "colab_type": "code",
        "colab": {}
      },
      "source": [
        ""
      ],
      "execution_count": 180,
      "outputs": []
    }
  ]
}
